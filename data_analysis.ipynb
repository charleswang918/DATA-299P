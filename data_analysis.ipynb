{
 "cells": [
  {
   "cell_type": "code",
   "execution_count": 1,
   "id": "eef214b0-b05a-4029-923a-a93f27cec2b6",
   "metadata": {},
   "outputs": [],
   "source": [
    "import pandas as pd\n",
    "import os\n",
    "import numpy as np"
   ]
  },
  {
   "cell_type": "code",
   "execution_count": 2,
   "id": "4bc39252-8a91-4c39-8b8c-fee7c4679959",
   "metadata": {},
   "outputs": [
    {
     "data": {
      "text/plain": [
       "'/Users/chuqiwang/Desktop/NSQIP'"
      ]
     },
     "execution_count": 2,
     "metadata": {},
     "output_type": "execute_result"
    }
   ],
   "source": [
    "os.getcwd()"
   ]
  },
  {
   "cell_type": "markdown",
   "id": "9a697ba3-4f4c-467d-bb90-83954286aa77",
   "metadata": {},
   "source": [
    "# Data cleaning"
   ]
  },
  {
   "cell_type": "code",
   "execution_count": 3,
   "id": "2dc6be58-6c48-4e33-8662-ffe8330fe8a8",
   "metadata": {},
   "outputs": [],
   "source": [
    "df_2019 = pd.read_csv('2019/nsqip_2019.csv', index_col=0)"
   ]
  },
  {
   "cell_type": "code",
   "execution_count": 4,
   "id": "3711f8cf-f7e7-491e-b7e4-84aff9ccc7b7",
   "metadata": {},
   "outputs": [],
   "source": [
    "df_2020 = pd.read_csv('2020/nsqip_2020.csv', index_col=0)"
   ]
  },
  {
   "cell_type": "code",
   "execution_count": 5,
   "id": "fb696f3a-312f-46f5-b577-22d8d95b16f6",
   "metadata": {},
   "outputs": [],
   "source": [
    "df_2021 = pd.read_csv('2021/nsqip_2021.csv', index_col=0)"
   ]
  },
  {
   "cell_type": "code",
   "execution_count": 6,
   "id": "8b5b66ee-a4b4-48b4-bf54-d3d554175b27",
   "metadata": {},
   "outputs": [],
   "source": [
    "df_2022 = pd.read_csv('2022/nsqip_2022.csv', index_col=0)"
   ]
  },
  {
   "cell_type": "code",
   "execution_count": 7,
   "id": "f07fc7e8-e8e5-46e9-8d9a-dd2812bf1065",
   "metadata": {},
   "outputs": [
    {
     "data": {
      "text/plain": [
       "(91, 274)"
      ]
     },
     "execution_count": 7,
     "metadata": {},
     "output_type": "execute_result"
    }
   ],
   "source": [
    "df_2019.shape"
   ]
  },
  {
   "cell_type": "code",
   "execution_count": 8,
   "id": "19618fd9-db59-4b73-a02d-7bd10cced6fd",
   "metadata": {},
   "outputs": [
    {
     "data": {
      "text/plain": [
       "(63, 276)"
      ]
     },
     "execution_count": 8,
     "metadata": {},
     "output_type": "execute_result"
    }
   ],
   "source": [
    "df_2020.shape"
   ]
  },
  {
   "cell_type": "code",
   "execution_count": 9,
   "id": "8e2969e6-e3d3-4361-afbc-ec93b225c95b",
   "metadata": {},
   "outputs": [
    {
     "data": {
      "text/plain": [
       "(125, 260)"
      ]
     },
     "execution_count": 9,
     "metadata": {},
     "output_type": "execute_result"
    }
   ],
   "source": [
    "df_2021.shape"
   ]
  },
  {
   "cell_type": "code",
   "execution_count": 10,
   "id": "78452992-8584-4ca3-84d4-ff2333e3e02b",
   "metadata": {},
   "outputs": [
    {
     "data": {
      "text/plain": [
       "(134, 270)"
      ]
     },
     "execution_count": 10,
     "metadata": {},
     "output_type": "execute_result"
    }
   ],
   "source": [
    "df_2022.shape"
   ]
  },
  {
   "cell_type": "code",
   "execution_count": 11,
   "id": "368e7019-fb1c-4dfc-b929-11787f754160",
   "metadata": {},
   "outputs": [],
   "source": [
    "df_2022.columns = df_2022.columns.str.upper()\n",
    "df_2021.columns = df_2021.columns.str.upper()\n",
    "df_2020.columns = df_2020.columns.str.upper()\n",
    "df_2019.columns = df_2019.columns.str.upper()"
   ]
  },
  {
   "cell_type": "code",
   "execution_count": 12,
   "id": "b0eed961-1678-4d27-8044-5fc77e4ccd2c",
   "metadata": {},
   "outputs": [],
   "source": [
    "df = pd.concat([df_2019, df_2020, df_2021, df_2022])"
   ]
  },
  {
   "cell_type": "code",
   "execution_count": 13,
   "id": "2111b458-9365-4519-afee-7437b1f9435b",
   "metadata": {},
   "outputs": [],
   "source": [
    "df.index = range(0, len(df))"
   ]
  },
  {
   "cell_type": "code",
   "execution_count": 14,
   "id": "90fdf692-9fd2-4137-92db-628e9eeb811d",
   "metadata": {},
   "outputs": [
    {
     "data": {
      "text/html": [
       "<div>\n",
       "<style scoped>\n",
       "    .dataframe tbody tr th:only-of-type {\n",
       "        vertical-align: middle;\n",
       "    }\n",
       "\n",
       "    .dataframe tbody tr th {\n",
       "        vertical-align: top;\n",
       "    }\n",
       "\n",
       "    .dataframe thead th {\n",
       "        text-align: right;\n",
       "    }\n",
       "</style>\n",
       "<table border=\"1\" class=\"dataframe\">\n",
       "  <thead>\n",
       "    <tr style=\"text-align: right;\">\n",
       "      <th></th>\n",
       "      <th>PUFYEAR</th>\n",
       "      <th>CASEID</th>\n",
       "      <th>SEX</th>\n",
       "      <th>RACE_NEW</th>\n",
       "      <th>ETHNICITY_HISPANIC</th>\n",
       "      <th>PRNCPTX</th>\n",
       "      <th>CPT</th>\n",
       "      <th>WORKRVU</th>\n",
       "      <th>INOUT</th>\n",
       "      <th>TRANST</th>\n",
       "      <th>...</th>\n",
       "      <th>HXDEMENTIA</th>\n",
       "      <th>DELIRIUM</th>\n",
       "      <th>DISHOMESVC</th>\n",
       "      <th>DISFXNSTAT</th>\n",
       "      <th>PREOP_CREAT_MSINCR</th>\n",
       "      <th>POSTOP_CREAT_MSINCR</th>\n",
       "      <th>OP_APPROACH</th>\n",
       "      <th>ROBOT_USED</th>\n",
       "      <th>UNPLANNED_CONV_OPEN</th>\n",
       "      <th>HAND_OPEN_ASSIST</th>\n",
       "    </tr>\n",
       "  </thead>\n",
       "  <tbody>\n",
       "    <tr>\n",
       "      <th>0</th>\n",
       "      <td>2019</td>\n",
       "      <td>10180079</td>\n",
       "      <td>female</td>\n",
       "      <td>White</td>\n",
       "      <td>No</td>\n",
       "      <td>VAGINOPLASTY INTERSEX STATE</td>\n",
       "      <td>57335</td>\n",
       "      <td>20.02</td>\n",
       "      <td>Inpatient</td>\n",
       "      <td>Not transferred (admitted from home)</td>\n",
       "      <td>...</td>\n",
       "      <td>NaN</td>\n",
       "      <td>NaN</td>\n",
       "      <td>NaN</td>\n",
       "      <td>NaN</td>\n",
       "      <td>NaN</td>\n",
       "      <td>NaN</td>\n",
       "      <td>NaN</td>\n",
       "      <td>NaN</td>\n",
       "      <td>NaN</td>\n",
       "      <td>NaN</td>\n",
       "    </tr>\n",
       "    <tr>\n",
       "      <th>1</th>\n",
       "      <td>2019</td>\n",
       "      <td>9966012</td>\n",
       "      <td>female</td>\n",
       "      <td>White</td>\n",
       "      <td>No</td>\n",
       "      <td>VAGINOPLASTY INTERSEX STATE</td>\n",
       "      <td>57335</td>\n",
       "      <td>20.02</td>\n",
       "      <td>Outpatient</td>\n",
       "      <td>Not transferred (admitted from home)</td>\n",
       "      <td>...</td>\n",
       "      <td>NaN</td>\n",
       "      <td>NaN</td>\n",
       "      <td>NaN</td>\n",
       "      <td>NaN</td>\n",
       "      <td>NaN</td>\n",
       "      <td>NaN</td>\n",
       "      <td>NaN</td>\n",
       "      <td>NaN</td>\n",
       "      <td>NaN</td>\n",
       "      <td>NaN</td>\n",
       "    </tr>\n",
       "    <tr>\n",
       "      <th>2</th>\n",
       "      <td>2019</td>\n",
       "      <td>10077186</td>\n",
       "      <td>male</td>\n",
       "      <td>White</td>\n",
       "      <td>No</td>\n",
       "      <td>VAGINOPLASTY INTERSEX STATE</td>\n",
       "      <td>57335</td>\n",
       "      <td>20.02</td>\n",
       "      <td>Inpatient</td>\n",
       "      <td>Not transferred (admitted from home)</td>\n",
       "      <td>...</td>\n",
       "      <td>NaN</td>\n",
       "      <td>NaN</td>\n",
       "      <td>NaN</td>\n",
       "      <td>NaN</td>\n",
       "      <td>NaN</td>\n",
       "      <td>NaN</td>\n",
       "      <td>NaN</td>\n",
       "      <td>NaN</td>\n",
       "      <td>NaN</td>\n",
       "      <td>NaN</td>\n",
       "    </tr>\n",
       "    <tr>\n",
       "      <th>3</th>\n",
       "      <td>2019</td>\n",
       "      <td>9693012</td>\n",
       "      <td>female</td>\n",
       "      <td>White</td>\n",
       "      <td>No</td>\n",
       "      <td>VAGINOPLASTY INTERSEX STATE</td>\n",
       "      <td>57335</td>\n",
       "      <td>20.02</td>\n",
       "      <td>Inpatient</td>\n",
       "      <td>Not transferred (admitted from home)</td>\n",
       "      <td>...</td>\n",
       "      <td>NaN</td>\n",
       "      <td>NaN</td>\n",
       "      <td>NaN</td>\n",
       "      <td>NaN</td>\n",
       "      <td>NaN</td>\n",
       "      <td>NaN</td>\n",
       "      <td>NaN</td>\n",
       "      <td>NaN</td>\n",
       "      <td>NaN</td>\n",
       "      <td>NaN</td>\n",
       "    </tr>\n",
       "    <tr>\n",
       "      <th>4</th>\n",
       "      <td>2019</td>\n",
       "      <td>9669598</td>\n",
       "      <td>female</td>\n",
       "      <td>White</td>\n",
       "      <td>No</td>\n",
       "      <td>VAGINOPLASTY INTERSEX STATE</td>\n",
       "      <td>57335</td>\n",
       "      <td>20.02</td>\n",
       "      <td>Outpatient</td>\n",
       "      <td>Not transferred (admitted from home)</td>\n",
       "      <td>...</td>\n",
       "      <td>NaN</td>\n",
       "      <td>NaN</td>\n",
       "      <td>NaN</td>\n",
       "      <td>NaN</td>\n",
       "      <td>NaN</td>\n",
       "      <td>NaN</td>\n",
       "      <td>NaN</td>\n",
       "      <td>NaN</td>\n",
       "      <td>NaN</td>\n",
       "      <td>NaN</td>\n",
       "    </tr>\n",
       "    <tr>\n",
       "      <th>...</th>\n",
       "      <td>...</td>\n",
       "      <td>...</td>\n",
       "      <td>...</td>\n",
       "      <td>...</td>\n",
       "      <td>...</td>\n",
       "      <td>...</td>\n",
       "      <td>...</td>\n",
       "      <td>...</td>\n",
       "      <td>...</td>\n",
       "      <td>...</td>\n",
       "      <td>...</td>\n",
       "      <td>...</td>\n",
       "      <td>...</td>\n",
       "      <td>...</td>\n",
       "      <td>...</td>\n",
       "      <td>...</td>\n",
       "      <td>...</td>\n",
       "      <td>...</td>\n",
       "      <td>...</td>\n",
       "      <td>...</td>\n",
       "      <td>...</td>\n",
       "    </tr>\n",
       "    <tr>\n",
       "      <th>408</th>\n",
       "      <td>2022</td>\n",
       "      <td>13017610</td>\n",
       "      <td>female</td>\n",
       "      <td>White</td>\n",
       "      <td>No</td>\n",
       "      <td>VAGINOPLASTY INTERSEX STATE</td>\n",
       "      <td>57335</td>\n",
       "      <td>20.02</td>\n",
       "      <td>Inpatient</td>\n",
       "      <td>Home/Permanent residence</td>\n",
       "      <td>...</td>\n",
       "      <td>NaN</td>\n",
       "      <td>NaN</td>\n",
       "      <td>NaN</td>\n",
       "      <td>NaN</td>\n",
       "      <td>NaN</td>\n",
       "      <td>NaN</td>\n",
       "      <td>Open</td>\n",
       "      <td>No</td>\n",
       "      <td>No</td>\n",
       "      <td>NaN</td>\n",
       "    </tr>\n",
       "    <tr>\n",
       "      <th>409</th>\n",
       "      <td>2022</td>\n",
       "      <td>13017444</td>\n",
       "      <td>non-binary</td>\n",
       "      <td>Unknown/Not Reported</td>\n",
       "      <td>No</td>\n",
       "      <td>VAGINOPLASTY INTERSEX STATE</td>\n",
       "      <td>57335</td>\n",
       "      <td>20.02</td>\n",
       "      <td>Inpatient</td>\n",
       "      <td>Home/Permanent residence</td>\n",
       "      <td>...</td>\n",
       "      <td>NaN</td>\n",
       "      <td>NaN</td>\n",
       "      <td>NaN</td>\n",
       "      <td>NaN</td>\n",
       "      <td>NaN</td>\n",
       "      <td>NaN</td>\n",
       "      <td>Open</td>\n",
       "      <td>No</td>\n",
       "      <td>No</td>\n",
       "      <td>NaN</td>\n",
       "    </tr>\n",
       "    <tr>\n",
       "      <th>410</th>\n",
       "      <td>2022</td>\n",
       "      <td>13181013</td>\n",
       "      <td>non-binary</td>\n",
       "      <td>Unknown/Not Reported</td>\n",
       "      <td>No</td>\n",
       "      <td>INTERSEX SURG MALE FEMALE</td>\n",
       "      <td>55970</td>\n",
       "      <td>0.00</td>\n",
       "      <td>Inpatient</td>\n",
       "      <td>Home/Permanent residence</td>\n",
       "      <td>...</td>\n",
       "      <td>NaN</td>\n",
       "      <td>NaN</td>\n",
       "      <td>NaN</td>\n",
       "      <td>NaN</td>\n",
       "      <td>NaN</td>\n",
       "      <td>NaN</td>\n",
       "      <td>Open</td>\n",
       "      <td>No</td>\n",
       "      <td>No</td>\n",
       "      <td>NaN</td>\n",
       "    </tr>\n",
       "    <tr>\n",
       "      <th>411</th>\n",
       "      <td>2022</td>\n",
       "      <td>13353838</td>\n",
       "      <td>male</td>\n",
       "      <td>Unknown/Not Reported</td>\n",
       "      <td>No</td>\n",
       "      <td>INTERSEX SURG MALE FEMALE</td>\n",
       "      <td>55970</td>\n",
       "      <td>0.00</td>\n",
       "      <td>Outpatient</td>\n",
       "      <td>Home/Permanent residence</td>\n",
       "      <td>...</td>\n",
       "      <td>NaN</td>\n",
       "      <td>NaN</td>\n",
       "      <td>NaN</td>\n",
       "      <td>NaN</td>\n",
       "      <td>NaN</td>\n",
       "      <td>NaN</td>\n",
       "      <td>Open</td>\n",
       "      <td>No</td>\n",
       "      <td>No</td>\n",
       "      <td>NaN</td>\n",
       "    </tr>\n",
       "    <tr>\n",
       "      <th>412</th>\n",
       "      <td>2022</td>\n",
       "      <td>13385918</td>\n",
       "      <td>female</td>\n",
       "      <td>White</td>\n",
       "      <td>No</td>\n",
       "      <td>VAGINOPLASTY INTERSEX STATE</td>\n",
       "      <td>57335</td>\n",
       "      <td>20.02</td>\n",
       "      <td>Inpatient</td>\n",
       "      <td>Home/Permanent residence</td>\n",
       "      <td>...</td>\n",
       "      <td>NaN</td>\n",
       "      <td>NaN</td>\n",
       "      <td>NaN</td>\n",
       "      <td>NaN</td>\n",
       "      <td>NaN</td>\n",
       "      <td>NaN</td>\n",
       "      <td>Open</td>\n",
       "      <td>No</td>\n",
       "      <td>No</td>\n",
       "      <td>NaN</td>\n",
       "    </tr>\n",
       "  </tbody>\n",
       "</table>\n",
       "<p>413 rows × 294 columns</p>\n",
       "</div>"
      ],
      "text/plain": [
       "     PUFYEAR    CASEID         SEX              RACE_NEW ETHNICITY_HISPANIC  \\\n",
       "0       2019  10180079      female                 White                 No   \n",
       "1       2019   9966012      female                 White                 No   \n",
       "2       2019  10077186        male                 White                 No   \n",
       "3       2019   9693012      female                 White                 No   \n",
       "4       2019   9669598      female                 White                 No   \n",
       "..       ...       ...         ...                   ...                ...   \n",
       "408     2022  13017610      female                 White                 No   \n",
       "409     2022  13017444  non-binary  Unknown/Not Reported                 No   \n",
       "410     2022  13181013  non-binary  Unknown/Not Reported                 No   \n",
       "411     2022  13353838        male  Unknown/Not Reported                 No   \n",
       "412     2022  13385918      female                 White                 No   \n",
       "\n",
       "                         PRNCPTX    CPT  WORKRVU       INOUT  \\\n",
       "0    VAGINOPLASTY INTERSEX STATE  57335    20.02   Inpatient   \n",
       "1    VAGINOPLASTY INTERSEX STATE  57335    20.02  Outpatient   \n",
       "2    VAGINOPLASTY INTERSEX STATE  57335    20.02   Inpatient   \n",
       "3    VAGINOPLASTY INTERSEX STATE  57335    20.02   Inpatient   \n",
       "4    VAGINOPLASTY INTERSEX STATE  57335    20.02  Outpatient   \n",
       "..                           ...    ...      ...         ...   \n",
       "408  VAGINOPLASTY INTERSEX STATE  57335    20.02   Inpatient   \n",
       "409  VAGINOPLASTY INTERSEX STATE  57335    20.02   Inpatient   \n",
       "410    INTERSEX SURG MALE FEMALE  55970     0.00   Inpatient   \n",
       "411    INTERSEX SURG MALE FEMALE  55970     0.00  Outpatient   \n",
       "412  VAGINOPLASTY INTERSEX STATE  57335    20.02   Inpatient   \n",
       "\n",
       "                                   TRANST  ...  HXDEMENTIA  DELIRIUM  \\\n",
       "0    Not transferred (admitted from home)  ...         NaN       NaN   \n",
       "1    Not transferred (admitted from home)  ...         NaN       NaN   \n",
       "2    Not transferred (admitted from home)  ...         NaN       NaN   \n",
       "3    Not transferred (admitted from home)  ...         NaN       NaN   \n",
       "4    Not transferred (admitted from home)  ...         NaN       NaN   \n",
       "..                                    ...  ...         ...       ...   \n",
       "408              Home/Permanent residence  ...         NaN       NaN   \n",
       "409              Home/Permanent residence  ...         NaN       NaN   \n",
       "410              Home/Permanent residence  ...         NaN       NaN   \n",
       "411              Home/Permanent residence  ...         NaN       NaN   \n",
       "412              Home/Permanent residence  ...         NaN       NaN   \n",
       "\n",
       "     DISHOMESVC DISFXNSTAT PREOP_CREAT_MSINCR POSTOP_CREAT_MSINCR OP_APPROACH  \\\n",
       "0           NaN        NaN                NaN                 NaN         NaN   \n",
       "1           NaN        NaN                NaN                 NaN         NaN   \n",
       "2           NaN        NaN                NaN                 NaN         NaN   \n",
       "3           NaN        NaN                NaN                 NaN         NaN   \n",
       "4           NaN        NaN                NaN                 NaN         NaN   \n",
       "..          ...        ...                ...                 ...         ...   \n",
       "408         NaN        NaN                NaN                 NaN        Open   \n",
       "409         NaN        NaN                NaN                 NaN        Open   \n",
       "410         NaN        NaN                NaN                 NaN        Open   \n",
       "411         NaN        NaN                NaN                 NaN        Open   \n",
       "412         NaN        NaN                NaN                 NaN        Open   \n",
       "\n",
       "     ROBOT_USED  UNPLANNED_CONV_OPEN HAND_OPEN_ASSIST  \n",
       "0           NaN                  NaN              NaN  \n",
       "1           NaN                  NaN              NaN  \n",
       "2           NaN                  NaN              NaN  \n",
       "3           NaN                  NaN              NaN  \n",
       "4           NaN                  NaN              NaN  \n",
       "..          ...                  ...              ...  \n",
       "408          No                   No              NaN  \n",
       "409          No                   No              NaN  \n",
       "410          No                   No              NaN  \n",
       "411          No                   No              NaN  \n",
       "412          No                   No              NaN  \n",
       "\n",
       "[413 rows x 294 columns]"
      ]
     },
     "execution_count": 14,
     "metadata": {},
     "output_type": "execute_result"
    }
   ],
   "source": [
    "df"
   ]
  },
  {
   "cell_type": "code",
   "execution_count": 15,
   "id": "77803956-debc-49d6-aa94-69675539a35b",
   "metadata": {},
   "outputs": [],
   "source": [
    "#df.to_csv('nsqip.csv')"
   ]
  },
  {
   "cell_type": "code",
   "execution_count": 16,
   "id": "ae75da7e-2b0c-4077-8c9d-7a79001da90d",
   "metadata": {},
   "outputs": [],
   "source": [
    "df = df.replace(-99, np.nan)"
   ]
  },
  {
   "cell_type": "code",
   "execution_count": 17,
   "id": "cc84a212-bcf9-4a11-ad38-2b9cc3680019",
   "metadata": {},
   "outputs": [
    {
     "data": {
      "text/plain": [
       "Index(['PRNCPTX', 'CPT', 'OTHERCPT1', 'OTHERCPT2', 'OTHERCPT3', 'OTHERCPT4',\n",
       "       'OTHERCPT5', 'OTHERCPT6', 'OTHERCPT7', 'OTHERCPT8', 'OTHERCPT9',\n",
       "       'OTHERCPT10', 'CONCPT1', 'CONCPT2', 'CONCPT3', 'CONCPT4', 'CONCPT5',\n",
       "       'CONCPT6', 'CONCPT7', 'CONCPT8', 'CONCPT9', 'CONCPT10', 'REOPORCPT1',\n",
       "       'REOPOR2CPT1'],\n",
       "      dtype='object')"
      ]
     },
     "execution_count": 17,
     "metadata": {},
     "output_type": "execute_result"
    }
   ],
   "source": [
    "df.filter(regex='(?i)CPT').columns"
   ]
  },
  {
   "cell_type": "code",
   "execution_count": 18,
   "id": "7bb4bb40-c523-4b8a-af3d-db592e3288fe",
   "metadata": {},
   "outputs": [],
   "source": [
    "columns_to_check = [\n",
    "    'CPT', 'OTHERCPT1', 'OTHERCPT2', 'OTHERCPT3', 'OTHERCPT4',\n",
    "    'OTHERCPT5', 'OTHERCPT6', 'OTHERCPT7', 'OTHERCPT8', 'OTHERCPT9',\n",
    "    'OTHERCPT10', 'CONCPT1', 'CONCPT2', 'CONCPT3', 'CONCPT4', 'CONCPT5',\n",
    "    'CONCPT6', 'CONCPT7', 'CONCPT8', 'CONCPT9', 'CONCPT10', 'REOPORCPT1',\n",
    "    'REOPOR2CPT1'\n",
    "]"
   ]
  },
  {
   "cell_type": "code",
   "execution_count": 19,
   "id": "db85d7f6-978e-4be4-9f9a-54e9a3a94953",
   "metadata": {},
   "outputs": [],
   "source": [
    "df_with57425 = df[df[columns_to_check].isin([57425]).any(axis=1)]"
   ]
  },
  {
   "cell_type": "code",
   "execution_count": 20,
   "id": "3351a766-3a7f-432a-823e-0ad37e9328f9",
   "metadata": {},
   "outputs": [
    {
     "data": {
      "text/html": [
       "<div>\n",
       "<style scoped>\n",
       "    .dataframe tbody tr th:only-of-type {\n",
       "        vertical-align: middle;\n",
       "    }\n",
       "\n",
       "    .dataframe tbody tr th {\n",
       "        vertical-align: top;\n",
       "    }\n",
       "\n",
       "    .dataframe thead th {\n",
       "        text-align: right;\n",
       "    }\n",
       "</style>\n",
       "<table border=\"1\" class=\"dataframe\">\n",
       "  <thead>\n",
       "    <tr style=\"text-align: right;\">\n",
       "      <th></th>\n",
       "      <th>PUFYEAR</th>\n",
       "      <th>CASEID</th>\n",
       "      <th>SEX</th>\n",
       "      <th>RACE_NEW</th>\n",
       "      <th>ETHNICITY_HISPANIC</th>\n",
       "      <th>PRNCPTX</th>\n",
       "      <th>CPT</th>\n",
       "      <th>WORKRVU</th>\n",
       "      <th>INOUT</th>\n",
       "      <th>TRANST</th>\n",
       "      <th>...</th>\n",
       "      <th>HXDEMENTIA</th>\n",
       "      <th>DELIRIUM</th>\n",
       "      <th>DISHOMESVC</th>\n",
       "      <th>DISFXNSTAT</th>\n",
       "      <th>PREOP_CREAT_MSINCR</th>\n",
       "      <th>POSTOP_CREAT_MSINCR</th>\n",
       "      <th>OP_APPROACH</th>\n",
       "      <th>ROBOT_USED</th>\n",
       "      <th>UNPLANNED_CONV_OPEN</th>\n",
       "      <th>HAND_OPEN_ASSIST</th>\n",
       "    </tr>\n",
       "  </thead>\n",
       "  <tbody>\n",
       "    <tr>\n",
       "      <th>339</th>\n",
       "      <td>2022</td>\n",
       "      <td>12451017</td>\n",
       "      <td>female</td>\n",
       "      <td>White</td>\n",
       "      <td>No</td>\n",
       "      <td>VAGINOPLASTY INTERSEX STATE</td>\n",
       "      <td>57335</td>\n",
       "      <td>20.02</td>\n",
       "      <td>Inpatient</td>\n",
       "      <td>Home/Permanent residence</td>\n",
       "      <td>...</td>\n",
       "      <td>NaN</td>\n",
       "      <td>NaN</td>\n",
       "      <td>NaN</td>\n",
       "      <td>NaN</td>\n",
       "      <td>NaN</td>\n",
       "      <td>NaN</td>\n",
       "      <td>Laparoscopic</td>\n",
       "      <td>Yes</td>\n",
       "      <td>No</td>\n",
       "      <td>No</td>\n",
       "    </tr>\n",
       "  </tbody>\n",
       "</table>\n",
       "<p>1 rows × 294 columns</p>\n",
       "</div>"
      ],
      "text/plain": [
       "     PUFYEAR    CASEID     SEX RACE_NEW ETHNICITY_HISPANIC  \\\n",
       "339     2022  12451017  female    White                 No   \n",
       "\n",
       "                         PRNCPTX    CPT  WORKRVU      INOUT  \\\n",
       "339  VAGINOPLASTY INTERSEX STATE  57335    20.02  Inpatient   \n",
       "\n",
       "                       TRANST  ...  HXDEMENTIA  DELIRIUM  DISHOMESVC  \\\n",
       "339  Home/Permanent residence  ...         NaN       NaN         NaN   \n",
       "\n",
       "    DISFXNSTAT PREOP_CREAT_MSINCR POSTOP_CREAT_MSINCR   OP_APPROACH  \\\n",
       "339        NaN                NaN                 NaN  Laparoscopic   \n",
       "\n",
       "     ROBOT_USED  UNPLANNED_CONV_OPEN HAND_OPEN_ASSIST  \n",
       "339         Yes                   No               No  \n",
       "\n",
       "[1 rows x 294 columns]"
      ]
     },
     "execution_count": 20,
     "metadata": {},
     "output_type": "execute_result"
    }
   ],
   "source": [
    "df_with57425"
   ]
  },
  {
   "cell_type": "code",
   "execution_count": 21,
   "id": "26094063-832e-4783-9957-dc4d3fc09f1a",
   "metadata": {},
   "outputs": [],
   "source": [
    "df_no57425 = df.drop([339], axis=0)"
   ]
  },
  {
   "cell_type": "code",
   "execution_count": 22,
   "id": "a70dbd5f-f0cd-461c-bbdc-835beecc4b26",
   "metadata": {},
   "outputs": [
    {
     "data": {
      "text/html": [
       "<div>\n",
       "<style scoped>\n",
       "    .dataframe tbody tr th:only-of-type {\n",
       "        vertical-align: middle;\n",
       "    }\n",
       "\n",
       "    .dataframe tbody tr th {\n",
       "        vertical-align: top;\n",
       "    }\n",
       "\n",
       "    .dataframe thead th {\n",
       "        text-align: right;\n",
       "    }\n",
       "</style>\n",
       "<table border=\"1\" class=\"dataframe\">\n",
       "  <thead>\n",
       "    <tr style=\"text-align: right;\">\n",
       "      <th></th>\n",
       "      <th>PUFYEAR</th>\n",
       "      <th>CASEID</th>\n",
       "      <th>SEX</th>\n",
       "      <th>RACE_NEW</th>\n",
       "      <th>ETHNICITY_HISPANIC</th>\n",
       "      <th>PRNCPTX</th>\n",
       "      <th>CPT</th>\n",
       "      <th>WORKRVU</th>\n",
       "      <th>INOUT</th>\n",
       "      <th>TRANST</th>\n",
       "      <th>...</th>\n",
       "      <th>HXDEMENTIA</th>\n",
       "      <th>DELIRIUM</th>\n",
       "      <th>DISHOMESVC</th>\n",
       "      <th>DISFXNSTAT</th>\n",
       "      <th>PREOP_CREAT_MSINCR</th>\n",
       "      <th>POSTOP_CREAT_MSINCR</th>\n",
       "      <th>OP_APPROACH</th>\n",
       "      <th>ROBOT_USED</th>\n",
       "      <th>UNPLANNED_CONV_OPEN</th>\n",
       "      <th>HAND_OPEN_ASSIST</th>\n",
       "    </tr>\n",
       "  </thead>\n",
       "  <tbody>\n",
       "    <tr>\n",
       "      <th>0</th>\n",
       "      <td>2019</td>\n",
       "      <td>10180079</td>\n",
       "      <td>female</td>\n",
       "      <td>White</td>\n",
       "      <td>No</td>\n",
       "      <td>VAGINOPLASTY INTERSEX STATE</td>\n",
       "      <td>57335</td>\n",
       "      <td>20.02</td>\n",
       "      <td>Inpatient</td>\n",
       "      <td>Not transferred (admitted from home)</td>\n",
       "      <td>...</td>\n",
       "      <td>NaN</td>\n",
       "      <td>NaN</td>\n",
       "      <td>NaN</td>\n",
       "      <td>NaN</td>\n",
       "      <td>NaN</td>\n",
       "      <td>NaN</td>\n",
       "      <td>NaN</td>\n",
       "      <td>NaN</td>\n",
       "      <td>NaN</td>\n",
       "      <td>NaN</td>\n",
       "    </tr>\n",
       "    <tr>\n",
       "      <th>1</th>\n",
       "      <td>2019</td>\n",
       "      <td>9966012</td>\n",
       "      <td>female</td>\n",
       "      <td>White</td>\n",
       "      <td>No</td>\n",
       "      <td>VAGINOPLASTY INTERSEX STATE</td>\n",
       "      <td>57335</td>\n",
       "      <td>20.02</td>\n",
       "      <td>Outpatient</td>\n",
       "      <td>Not transferred (admitted from home)</td>\n",
       "      <td>...</td>\n",
       "      <td>NaN</td>\n",
       "      <td>NaN</td>\n",
       "      <td>NaN</td>\n",
       "      <td>NaN</td>\n",
       "      <td>NaN</td>\n",
       "      <td>NaN</td>\n",
       "      <td>NaN</td>\n",
       "      <td>NaN</td>\n",
       "      <td>NaN</td>\n",
       "      <td>NaN</td>\n",
       "    </tr>\n",
       "    <tr>\n",
       "      <th>2</th>\n",
       "      <td>2019</td>\n",
       "      <td>10077186</td>\n",
       "      <td>male</td>\n",
       "      <td>White</td>\n",
       "      <td>No</td>\n",
       "      <td>VAGINOPLASTY INTERSEX STATE</td>\n",
       "      <td>57335</td>\n",
       "      <td>20.02</td>\n",
       "      <td>Inpatient</td>\n",
       "      <td>Not transferred (admitted from home)</td>\n",
       "      <td>...</td>\n",
       "      <td>NaN</td>\n",
       "      <td>NaN</td>\n",
       "      <td>NaN</td>\n",
       "      <td>NaN</td>\n",
       "      <td>NaN</td>\n",
       "      <td>NaN</td>\n",
       "      <td>NaN</td>\n",
       "      <td>NaN</td>\n",
       "      <td>NaN</td>\n",
       "      <td>NaN</td>\n",
       "    </tr>\n",
       "    <tr>\n",
       "      <th>3</th>\n",
       "      <td>2019</td>\n",
       "      <td>9693012</td>\n",
       "      <td>female</td>\n",
       "      <td>White</td>\n",
       "      <td>No</td>\n",
       "      <td>VAGINOPLASTY INTERSEX STATE</td>\n",
       "      <td>57335</td>\n",
       "      <td>20.02</td>\n",
       "      <td>Inpatient</td>\n",
       "      <td>Not transferred (admitted from home)</td>\n",
       "      <td>...</td>\n",
       "      <td>NaN</td>\n",
       "      <td>NaN</td>\n",
       "      <td>NaN</td>\n",
       "      <td>NaN</td>\n",
       "      <td>NaN</td>\n",
       "      <td>NaN</td>\n",
       "      <td>NaN</td>\n",
       "      <td>NaN</td>\n",
       "      <td>NaN</td>\n",
       "      <td>NaN</td>\n",
       "    </tr>\n",
       "    <tr>\n",
       "      <th>4</th>\n",
       "      <td>2019</td>\n",
       "      <td>9669598</td>\n",
       "      <td>female</td>\n",
       "      <td>White</td>\n",
       "      <td>No</td>\n",
       "      <td>VAGINOPLASTY INTERSEX STATE</td>\n",
       "      <td>57335</td>\n",
       "      <td>20.02</td>\n",
       "      <td>Outpatient</td>\n",
       "      <td>Not transferred (admitted from home)</td>\n",
       "      <td>...</td>\n",
       "      <td>NaN</td>\n",
       "      <td>NaN</td>\n",
       "      <td>NaN</td>\n",
       "      <td>NaN</td>\n",
       "      <td>NaN</td>\n",
       "      <td>NaN</td>\n",
       "      <td>NaN</td>\n",
       "      <td>NaN</td>\n",
       "      <td>NaN</td>\n",
       "      <td>NaN</td>\n",
       "    </tr>\n",
       "    <tr>\n",
       "      <th>...</th>\n",
       "      <td>...</td>\n",
       "      <td>...</td>\n",
       "      <td>...</td>\n",
       "      <td>...</td>\n",
       "      <td>...</td>\n",
       "      <td>...</td>\n",
       "      <td>...</td>\n",
       "      <td>...</td>\n",
       "      <td>...</td>\n",
       "      <td>...</td>\n",
       "      <td>...</td>\n",
       "      <td>...</td>\n",
       "      <td>...</td>\n",
       "      <td>...</td>\n",
       "      <td>...</td>\n",
       "      <td>...</td>\n",
       "      <td>...</td>\n",
       "      <td>...</td>\n",
       "      <td>...</td>\n",
       "      <td>...</td>\n",
       "      <td>...</td>\n",
       "    </tr>\n",
       "    <tr>\n",
       "      <th>408</th>\n",
       "      <td>2022</td>\n",
       "      <td>13017610</td>\n",
       "      <td>female</td>\n",
       "      <td>White</td>\n",
       "      <td>No</td>\n",
       "      <td>VAGINOPLASTY INTERSEX STATE</td>\n",
       "      <td>57335</td>\n",
       "      <td>20.02</td>\n",
       "      <td>Inpatient</td>\n",
       "      <td>Home/Permanent residence</td>\n",
       "      <td>...</td>\n",
       "      <td>NaN</td>\n",
       "      <td>NaN</td>\n",
       "      <td>NaN</td>\n",
       "      <td>NaN</td>\n",
       "      <td>NaN</td>\n",
       "      <td>NaN</td>\n",
       "      <td>Open</td>\n",
       "      <td>No</td>\n",
       "      <td>No</td>\n",
       "      <td>NaN</td>\n",
       "    </tr>\n",
       "    <tr>\n",
       "      <th>409</th>\n",
       "      <td>2022</td>\n",
       "      <td>13017444</td>\n",
       "      <td>non-binary</td>\n",
       "      <td>Unknown/Not Reported</td>\n",
       "      <td>No</td>\n",
       "      <td>VAGINOPLASTY INTERSEX STATE</td>\n",
       "      <td>57335</td>\n",
       "      <td>20.02</td>\n",
       "      <td>Inpatient</td>\n",
       "      <td>Home/Permanent residence</td>\n",
       "      <td>...</td>\n",
       "      <td>NaN</td>\n",
       "      <td>NaN</td>\n",
       "      <td>NaN</td>\n",
       "      <td>NaN</td>\n",
       "      <td>NaN</td>\n",
       "      <td>NaN</td>\n",
       "      <td>Open</td>\n",
       "      <td>No</td>\n",
       "      <td>No</td>\n",
       "      <td>NaN</td>\n",
       "    </tr>\n",
       "    <tr>\n",
       "      <th>410</th>\n",
       "      <td>2022</td>\n",
       "      <td>13181013</td>\n",
       "      <td>non-binary</td>\n",
       "      <td>Unknown/Not Reported</td>\n",
       "      <td>No</td>\n",
       "      <td>INTERSEX SURG MALE FEMALE</td>\n",
       "      <td>55970</td>\n",
       "      <td>0.00</td>\n",
       "      <td>Inpatient</td>\n",
       "      <td>Home/Permanent residence</td>\n",
       "      <td>...</td>\n",
       "      <td>NaN</td>\n",
       "      <td>NaN</td>\n",
       "      <td>NaN</td>\n",
       "      <td>NaN</td>\n",
       "      <td>NaN</td>\n",
       "      <td>NaN</td>\n",
       "      <td>Open</td>\n",
       "      <td>No</td>\n",
       "      <td>No</td>\n",
       "      <td>NaN</td>\n",
       "    </tr>\n",
       "    <tr>\n",
       "      <th>411</th>\n",
       "      <td>2022</td>\n",
       "      <td>13353838</td>\n",
       "      <td>male</td>\n",
       "      <td>Unknown/Not Reported</td>\n",
       "      <td>No</td>\n",
       "      <td>INTERSEX SURG MALE FEMALE</td>\n",
       "      <td>55970</td>\n",
       "      <td>0.00</td>\n",
       "      <td>Outpatient</td>\n",
       "      <td>Home/Permanent residence</td>\n",
       "      <td>...</td>\n",
       "      <td>NaN</td>\n",
       "      <td>NaN</td>\n",
       "      <td>NaN</td>\n",
       "      <td>NaN</td>\n",
       "      <td>NaN</td>\n",
       "      <td>NaN</td>\n",
       "      <td>Open</td>\n",
       "      <td>No</td>\n",
       "      <td>No</td>\n",
       "      <td>NaN</td>\n",
       "    </tr>\n",
       "    <tr>\n",
       "      <th>412</th>\n",
       "      <td>2022</td>\n",
       "      <td>13385918</td>\n",
       "      <td>female</td>\n",
       "      <td>White</td>\n",
       "      <td>No</td>\n",
       "      <td>VAGINOPLASTY INTERSEX STATE</td>\n",
       "      <td>57335</td>\n",
       "      <td>20.02</td>\n",
       "      <td>Inpatient</td>\n",
       "      <td>Home/Permanent residence</td>\n",
       "      <td>...</td>\n",
       "      <td>NaN</td>\n",
       "      <td>NaN</td>\n",
       "      <td>NaN</td>\n",
       "      <td>NaN</td>\n",
       "      <td>NaN</td>\n",
       "      <td>NaN</td>\n",
       "      <td>Open</td>\n",
       "      <td>No</td>\n",
       "      <td>No</td>\n",
       "      <td>NaN</td>\n",
       "    </tr>\n",
       "  </tbody>\n",
       "</table>\n",
       "<p>412 rows × 294 columns</p>\n",
       "</div>"
      ],
      "text/plain": [
       "     PUFYEAR    CASEID         SEX              RACE_NEW ETHNICITY_HISPANIC  \\\n",
       "0       2019  10180079      female                 White                 No   \n",
       "1       2019   9966012      female                 White                 No   \n",
       "2       2019  10077186        male                 White                 No   \n",
       "3       2019   9693012      female                 White                 No   \n",
       "4       2019   9669598      female                 White                 No   \n",
       "..       ...       ...         ...                   ...                ...   \n",
       "408     2022  13017610      female                 White                 No   \n",
       "409     2022  13017444  non-binary  Unknown/Not Reported                 No   \n",
       "410     2022  13181013  non-binary  Unknown/Not Reported                 No   \n",
       "411     2022  13353838        male  Unknown/Not Reported                 No   \n",
       "412     2022  13385918      female                 White                 No   \n",
       "\n",
       "                         PRNCPTX    CPT  WORKRVU       INOUT  \\\n",
       "0    VAGINOPLASTY INTERSEX STATE  57335    20.02   Inpatient   \n",
       "1    VAGINOPLASTY INTERSEX STATE  57335    20.02  Outpatient   \n",
       "2    VAGINOPLASTY INTERSEX STATE  57335    20.02   Inpatient   \n",
       "3    VAGINOPLASTY INTERSEX STATE  57335    20.02   Inpatient   \n",
       "4    VAGINOPLASTY INTERSEX STATE  57335    20.02  Outpatient   \n",
       "..                           ...    ...      ...         ...   \n",
       "408  VAGINOPLASTY INTERSEX STATE  57335    20.02   Inpatient   \n",
       "409  VAGINOPLASTY INTERSEX STATE  57335    20.02   Inpatient   \n",
       "410    INTERSEX SURG MALE FEMALE  55970     0.00   Inpatient   \n",
       "411    INTERSEX SURG MALE FEMALE  55970     0.00  Outpatient   \n",
       "412  VAGINOPLASTY INTERSEX STATE  57335    20.02   Inpatient   \n",
       "\n",
       "                                   TRANST  ...  HXDEMENTIA  DELIRIUM  \\\n",
       "0    Not transferred (admitted from home)  ...         NaN       NaN   \n",
       "1    Not transferred (admitted from home)  ...         NaN       NaN   \n",
       "2    Not transferred (admitted from home)  ...         NaN       NaN   \n",
       "3    Not transferred (admitted from home)  ...         NaN       NaN   \n",
       "4    Not transferred (admitted from home)  ...         NaN       NaN   \n",
       "..                                    ...  ...         ...       ...   \n",
       "408              Home/Permanent residence  ...         NaN       NaN   \n",
       "409              Home/Permanent residence  ...         NaN       NaN   \n",
       "410              Home/Permanent residence  ...         NaN       NaN   \n",
       "411              Home/Permanent residence  ...         NaN       NaN   \n",
       "412              Home/Permanent residence  ...         NaN       NaN   \n",
       "\n",
       "     DISHOMESVC DISFXNSTAT PREOP_CREAT_MSINCR POSTOP_CREAT_MSINCR OP_APPROACH  \\\n",
       "0           NaN        NaN                NaN                 NaN         NaN   \n",
       "1           NaN        NaN                NaN                 NaN         NaN   \n",
       "2           NaN        NaN                NaN                 NaN         NaN   \n",
       "3           NaN        NaN                NaN                 NaN         NaN   \n",
       "4           NaN        NaN                NaN                 NaN         NaN   \n",
       "..          ...        ...                ...                 ...         ...   \n",
       "408         NaN        NaN                NaN                 NaN        Open   \n",
       "409         NaN        NaN                NaN                 NaN        Open   \n",
       "410         NaN        NaN                NaN                 NaN        Open   \n",
       "411         NaN        NaN                NaN                 NaN        Open   \n",
       "412         NaN        NaN                NaN                 NaN        Open   \n",
       "\n",
       "     ROBOT_USED  UNPLANNED_CONV_OPEN HAND_OPEN_ASSIST  \n",
       "0           NaN                  NaN              NaN  \n",
       "1           NaN                  NaN              NaN  \n",
       "2           NaN                  NaN              NaN  \n",
       "3           NaN                  NaN              NaN  \n",
       "4           NaN                  NaN              NaN  \n",
       "..          ...                  ...              ...  \n",
       "408          No                   No              NaN  \n",
       "409          No                   No              NaN  \n",
       "410          No                   No              NaN  \n",
       "411          No                   No              NaN  \n",
       "412          No                   No              NaN  \n",
       "\n",
       "[412 rows x 294 columns]"
      ]
     },
     "execution_count": 22,
     "metadata": {},
     "output_type": "execute_result"
    }
   ],
   "source": [
    "df_no57425"
   ]
  },
  {
   "cell_type": "markdown",
   "id": "f7861e2b-99f9-4e52-8af9-910569486505",
   "metadata": {},
   "source": [
    "# Patient demographics"
   ]
  },
  {
   "cell_type": "code",
   "execution_count": 23,
   "id": "440ce81c-dc7d-4b33-8978-a88f12914926",
   "metadata": {},
   "outputs": [
    {
     "data": {
      "text/html": [
       "<div>\n",
       "<style scoped>\n",
       "    .dataframe tbody tr th:only-of-type {\n",
       "        vertical-align: middle;\n",
       "    }\n",
       "\n",
       "    .dataframe tbody tr th {\n",
       "        vertical-align: top;\n",
       "    }\n",
       "\n",
       "    .dataframe thead th {\n",
       "        text-align: right;\n",
       "    }\n",
       "</style>\n",
       "<table border=\"1\" class=\"dataframe\">\n",
       "  <thead>\n",
       "    <tr style=\"text-align: right;\">\n",
       "      <th></th>\n",
       "      <th>RACE_NEW</th>\n",
       "      <th>counts</th>\n",
       "      <th>percentage</th>\n",
       "    </tr>\n",
       "  </thead>\n",
       "  <tbody>\n",
       "    <tr>\n",
       "      <th>0</th>\n",
       "      <td>Asian</td>\n",
       "      <td>15</td>\n",
       "      <td>3.63</td>\n",
       "    </tr>\n",
       "    <tr>\n",
       "      <th>1</th>\n",
       "      <td>Black or African American</td>\n",
       "      <td>31</td>\n",
       "      <td>7.51</td>\n",
       "    </tr>\n",
       "    <tr>\n",
       "      <th>2</th>\n",
       "      <td>Race combinations with low frequency</td>\n",
       "      <td>1</td>\n",
       "      <td>0.24</td>\n",
       "    </tr>\n",
       "    <tr>\n",
       "      <th>3</th>\n",
       "      <td>Some Other Race</td>\n",
       "      <td>12</td>\n",
       "      <td>2.91</td>\n",
       "    </tr>\n",
       "    <tr>\n",
       "      <th>4</th>\n",
       "      <td>Unknown/Not Reported</td>\n",
       "      <td>19</td>\n",
       "      <td>4.60</td>\n",
       "    </tr>\n",
       "    <tr>\n",
       "      <th>5</th>\n",
       "      <td>White</td>\n",
       "      <td>334</td>\n",
       "      <td>80.87</td>\n",
       "    </tr>\n",
       "    <tr>\n",
       "      <th>6</th>\n",
       "      <td>White,American Indian or Alaska Native</td>\n",
       "      <td>1</td>\n",
       "      <td>0.24</td>\n",
       "    </tr>\n",
       "  </tbody>\n",
       "</table>\n",
       "</div>"
      ],
      "text/plain": [
       "                                 RACE_NEW  counts  percentage\n",
       "0                                   Asian      15        3.63\n",
       "1               Black or African American      31        7.51\n",
       "2    Race combinations with low frequency       1        0.24\n",
       "3                         Some Other Race      12        2.91\n",
       "4                    Unknown/Not Reported      19        4.60\n",
       "5                                   White     334       80.87\n",
       "6  White,American Indian or Alaska Native       1        0.24"
      ]
     },
     "execution_count": 23,
     "metadata": {},
     "output_type": "execute_result"
    }
   ],
   "source": [
    "df.groupby('RACE_NEW').size().reset_index(name='counts').assign(percentage=lambda x: (x['counts'] / df['RACE_NEW'].count()) * 100).round(2)"
   ]
  },
  {
   "cell_type": "code",
   "execution_count": 24,
   "id": "95098882-1c09-426c-94f8-ed0ece974695",
   "metadata": {},
   "outputs": [
    {
     "data": {
      "text/html": [
       "<div>\n",
       "<style scoped>\n",
       "    .dataframe tbody tr th:only-of-type {\n",
       "        vertical-align: middle;\n",
       "    }\n",
       "\n",
       "    .dataframe tbody tr th {\n",
       "        vertical-align: top;\n",
       "    }\n",
       "\n",
       "    .dataframe thead th {\n",
       "        text-align: right;\n",
       "    }\n",
       "</style>\n",
       "<table border=\"1\" class=\"dataframe\">\n",
       "  <thead>\n",
       "    <tr style=\"text-align: right;\">\n",
       "      <th></th>\n",
       "      <th>RACE_NEW</th>\n",
       "      <th>counts</th>\n",
       "      <th>percentage</th>\n",
       "    </tr>\n",
       "  </thead>\n",
       "  <tbody>\n",
       "    <tr>\n",
       "      <th>0</th>\n",
       "      <td>White</td>\n",
       "      <td>1</td>\n",
       "      <td>100.0</td>\n",
       "    </tr>\n",
       "  </tbody>\n",
       "</table>\n",
       "</div>"
      ],
      "text/plain": [
       "  RACE_NEW  counts  percentage\n",
       "0    White       1       100.0"
      ]
     },
     "execution_count": 24,
     "metadata": {},
     "output_type": "execute_result"
    }
   ],
   "source": [
    "df_with57425.groupby('RACE_NEW').size().reset_index(name='counts').assign(percentage=lambda x: (x['counts'] / df_with57425['RACE_NEW'].count()) * 100).round(2)"
   ]
  },
  {
   "cell_type": "code",
   "execution_count": 25,
   "id": "432c2de3-2d47-411a-9014-16b9bf38b02e",
   "metadata": {},
   "outputs": [
    {
     "data": {
      "text/html": [
       "<div>\n",
       "<style scoped>\n",
       "    .dataframe tbody tr th:only-of-type {\n",
       "        vertical-align: middle;\n",
       "    }\n",
       "\n",
       "    .dataframe tbody tr th {\n",
       "        vertical-align: top;\n",
       "    }\n",
       "\n",
       "    .dataframe thead th {\n",
       "        text-align: right;\n",
       "    }\n",
       "</style>\n",
       "<table border=\"1\" class=\"dataframe\">\n",
       "  <thead>\n",
       "    <tr style=\"text-align: right;\">\n",
       "      <th></th>\n",
       "      <th>RACE_NEW</th>\n",
       "      <th>counts</th>\n",
       "      <th>percentage</th>\n",
       "    </tr>\n",
       "  </thead>\n",
       "  <tbody>\n",
       "    <tr>\n",
       "      <th>0</th>\n",
       "      <td>Asian</td>\n",
       "      <td>15</td>\n",
       "      <td>3.64</td>\n",
       "    </tr>\n",
       "    <tr>\n",
       "      <th>1</th>\n",
       "      <td>Black or African American</td>\n",
       "      <td>31</td>\n",
       "      <td>7.52</td>\n",
       "    </tr>\n",
       "    <tr>\n",
       "      <th>2</th>\n",
       "      <td>Race combinations with low frequency</td>\n",
       "      <td>1</td>\n",
       "      <td>0.24</td>\n",
       "    </tr>\n",
       "    <tr>\n",
       "      <th>3</th>\n",
       "      <td>Some Other Race</td>\n",
       "      <td>12</td>\n",
       "      <td>2.91</td>\n",
       "    </tr>\n",
       "    <tr>\n",
       "      <th>4</th>\n",
       "      <td>Unknown/Not Reported</td>\n",
       "      <td>19</td>\n",
       "      <td>4.61</td>\n",
       "    </tr>\n",
       "    <tr>\n",
       "      <th>5</th>\n",
       "      <td>White</td>\n",
       "      <td>333</td>\n",
       "      <td>80.83</td>\n",
       "    </tr>\n",
       "    <tr>\n",
       "      <th>6</th>\n",
       "      <td>White,American Indian or Alaska Native</td>\n",
       "      <td>1</td>\n",
       "      <td>0.24</td>\n",
       "    </tr>\n",
       "  </tbody>\n",
       "</table>\n",
       "</div>"
      ],
      "text/plain": [
       "                                 RACE_NEW  counts  percentage\n",
       "0                                   Asian      15        3.64\n",
       "1               Black or African American      31        7.52\n",
       "2    Race combinations with low frequency       1        0.24\n",
       "3                         Some Other Race      12        2.91\n",
       "4                    Unknown/Not Reported      19        4.61\n",
       "5                                   White     333       80.83\n",
       "6  White,American Indian or Alaska Native       1        0.24"
      ]
     },
     "execution_count": 25,
     "metadata": {},
     "output_type": "execute_result"
    }
   ],
   "source": [
    "df_no57425.groupby('RACE_NEW').size().reset_index(name='counts').assign(percentage=lambda x: (x['counts'] / df_no57425['RACE_NEW'].count()) * 100).round(2)"
   ]
  },
  {
   "cell_type": "code",
   "execution_count": 26,
   "id": "cd11cbd5-b665-4199-9f5c-d5379e8ab493",
   "metadata": {},
   "outputs": [
    {
     "data": {
      "text/html": [
       "<div>\n",
       "<style scoped>\n",
       "    .dataframe tbody tr th:only-of-type {\n",
       "        vertical-align: middle;\n",
       "    }\n",
       "\n",
       "    .dataframe tbody tr th {\n",
       "        vertical-align: top;\n",
       "    }\n",
       "\n",
       "    .dataframe thead th {\n",
       "        text-align: right;\n",
       "    }\n",
       "</style>\n",
       "<table border=\"1\" class=\"dataframe\">\n",
       "  <thead>\n",
       "    <tr style=\"text-align: right;\">\n",
       "      <th></th>\n",
       "      <th>SEX</th>\n",
       "      <th>counts</th>\n",
       "      <th>percentage</th>\n",
       "    </tr>\n",
       "  </thead>\n",
       "  <tbody>\n",
       "    <tr>\n",
       "      <th>0</th>\n",
       "      <td>female</td>\n",
       "      <td>317</td>\n",
       "      <td>76.76</td>\n",
       "    </tr>\n",
       "    <tr>\n",
       "      <th>1</th>\n",
       "      <td>male</td>\n",
       "      <td>88</td>\n",
       "      <td>21.31</td>\n",
       "    </tr>\n",
       "    <tr>\n",
       "      <th>2</th>\n",
       "      <td>non-binary</td>\n",
       "      <td>8</td>\n",
       "      <td>1.94</td>\n",
       "    </tr>\n",
       "  </tbody>\n",
       "</table>\n",
       "</div>"
      ],
      "text/plain": [
       "          SEX  counts  percentage\n",
       "0      female     317       76.76\n",
       "1        male      88       21.31\n",
       "2  non-binary       8        1.94"
      ]
     },
     "execution_count": 26,
     "metadata": {},
     "output_type": "execute_result"
    }
   ],
   "source": [
    "df.groupby('SEX').size().reset_index(name='counts').assign(percentage=lambda x: (x['counts'] / df['SEX'].count()) * 100).round(2)"
   ]
  },
  {
   "cell_type": "code",
   "execution_count": 27,
   "id": "104fb738-2a18-4307-8043-019eb278bd89",
   "metadata": {},
   "outputs": [
    {
     "data": {
      "text/html": [
       "<div>\n",
       "<style scoped>\n",
       "    .dataframe tbody tr th:only-of-type {\n",
       "        vertical-align: middle;\n",
       "    }\n",
       "\n",
       "    .dataframe tbody tr th {\n",
       "        vertical-align: top;\n",
       "    }\n",
       "\n",
       "    .dataframe thead th {\n",
       "        text-align: right;\n",
       "    }\n",
       "</style>\n",
       "<table border=\"1\" class=\"dataframe\">\n",
       "  <thead>\n",
       "    <tr style=\"text-align: right;\">\n",
       "      <th></th>\n",
       "      <th>SEX</th>\n",
       "      <th>counts</th>\n",
       "      <th>percentage</th>\n",
       "    </tr>\n",
       "  </thead>\n",
       "  <tbody>\n",
       "    <tr>\n",
       "      <th>0</th>\n",
       "      <td>female</td>\n",
       "      <td>1</td>\n",
       "      <td>100.0</td>\n",
       "    </tr>\n",
       "  </tbody>\n",
       "</table>\n",
       "</div>"
      ],
      "text/plain": [
       "      SEX  counts  percentage\n",
       "0  female       1       100.0"
      ]
     },
     "execution_count": 27,
     "metadata": {},
     "output_type": "execute_result"
    }
   ],
   "source": [
    "df_with57425.groupby('SEX').size().reset_index(name='counts').assign(percentage=lambda x: (x['counts'] / df_with57425['SEX'].count()) * 100).round(2)"
   ]
  },
  {
   "cell_type": "code",
   "execution_count": 28,
   "id": "04164088-15c4-443d-8569-6451ef375416",
   "metadata": {},
   "outputs": [
    {
     "data": {
      "text/html": [
       "<div>\n",
       "<style scoped>\n",
       "    .dataframe tbody tr th:only-of-type {\n",
       "        vertical-align: middle;\n",
       "    }\n",
       "\n",
       "    .dataframe tbody tr th {\n",
       "        vertical-align: top;\n",
       "    }\n",
       "\n",
       "    .dataframe thead th {\n",
       "        text-align: right;\n",
       "    }\n",
       "</style>\n",
       "<table border=\"1\" class=\"dataframe\">\n",
       "  <thead>\n",
       "    <tr style=\"text-align: right;\">\n",
       "      <th></th>\n",
       "      <th>SEX</th>\n",
       "      <th>counts</th>\n",
       "      <th>percentage</th>\n",
       "    </tr>\n",
       "  </thead>\n",
       "  <tbody>\n",
       "    <tr>\n",
       "      <th>0</th>\n",
       "      <td>female</td>\n",
       "      <td>316</td>\n",
       "      <td>76.70</td>\n",
       "    </tr>\n",
       "    <tr>\n",
       "      <th>1</th>\n",
       "      <td>male</td>\n",
       "      <td>88</td>\n",
       "      <td>21.36</td>\n",
       "    </tr>\n",
       "    <tr>\n",
       "      <th>2</th>\n",
       "      <td>non-binary</td>\n",
       "      <td>8</td>\n",
       "      <td>1.94</td>\n",
       "    </tr>\n",
       "  </tbody>\n",
       "</table>\n",
       "</div>"
      ],
      "text/plain": [
       "          SEX  counts  percentage\n",
       "0      female     316       76.70\n",
       "1        male      88       21.36\n",
       "2  non-binary       8        1.94"
      ]
     },
     "execution_count": 28,
     "metadata": {},
     "output_type": "execute_result"
    }
   ],
   "source": [
    "df_no57425.groupby('SEX').size().reset_index(name='counts').assign(percentage=lambda x: (x['counts'] / df_no57425['SEX'].count()) * 100).round(2)"
   ]
  },
  {
   "cell_type": "code",
   "execution_count": 29,
   "id": "9e13f355-33a3-4e01-9cbd-d57a8bc595fc",
   "metadata": {},
   "outputs": [
    {
     "data": {
      "text/html": [
       "<div>\n",
       "<style scoped>\n",
       "    .dataframe tbody tr th:only-of-type {\n",
       "        vertical-align: middle;\n",
       "    }\n",
       "\n",
       "    .dataframe tbody tr th {\n",
       "        vertical-align: top;\n",
       "    }\n",
       "\n",
       "    .dataframe thead th {\n",
       "        text-align: right;\n",
       "    }\n",
       "</style>\n",
       "<table border=\"1\" class=\"dataframe\">\n",
       "  <thead>\n",
       "    <tr style=\"text-align: right;\">\n",
       "      <th></th>\n",
       "      <th>ETHNICITY_HISPANIC</th>\n",
       "      <th>counts</th>\n",
       "      <th>percentage</th>\n",
       "    </tr>\n",
       "  </thead>\n",
       "  <tbody>\n",
       "    <tr>\n",
       "      <th>0</th>\n",
       "      <td>No</td>\n",
       "      <td>374</td>\n",
       "      <td>90.56</td>\n",
       "    </tr>\n",
       "    <tr>\n",
       "      <th>1</th>\n",
       "      <td>Unknown</td>\n",
       "      <td>4</td>\n",
       "      <td>0.97</td>\n",
       "    </tr>\n",
       "    <tr>\n",
       "      <th>2</th>\n",
       "      <td>Yes</td>\n",
       "      <td>35</td>\n",
       "      <td>8.47</td>\n",
       "    </tr>\n",
       "  </tbody>\n",
       "</table>\n",
       "</div>"
      ],
      "text/plain": [
       "  ETHNICITY_HISPANIC  counts  percentage\n",
       "0                 No     374       90.56\n",
       "1            Unknown       4        0.97\n",
       "2                Yes      35        8.47"
      ]
     },
     "execution_count": 29,
     "metadata": {},
     "output_type": "execute_result"
    }
   ],
   "source": [
    "df.groupby('ETHNICITY_HISPANIC').size().reset_index(name='counts').assign(percentage=lambda x: (x['counts'] / df['ETHNICITY_HISPANIC'].count()) * 100).round(2)"
   ]
  },
  {
   "cell_type": "code",
   "execution_count": 30,
   "id": "023a3422-2f5a-4fda-8679-a82a6eab6e70",
   "metadata": {},
   "outputs": [
    {
     "data": {
      "text/html": [
       "<div>\n",
       "<style scoped>\n",
       "    .dataframe tbody tr th:only-of-type {\n",
       "        vertical-align: middle;\n",
       "    }\n",
       "\n",
       "    .dataframe tbody tr th {\n",
       "        vertical-align: top;\n",
       "    }\n",
       "\n",
       "    .dataframe thead th {\n",
       "        text-align: right;\n",
       "    }\n",
       "</style>\n",
       "<table border=\"1\" class=\"dataframe\">\n",
       "  <thead>\n",
       "    <tr style=\"text-align: right;\">\n",
       "      <th></th>\n",
       "      <th>ETHNICITY_HISPANIC</th>\n",
       "      <th>counts</th>\n",
       "      <th>percentage</th>\n",
       "    </tr>\n",
       "  </thead>\n",
       "  <tbody>\n",
       "    <tr>\n",
       "      <th>0</th>\n",
       "      <td>No</td>\n",
       "      <td>1</td>\n",
       "      <td>100.0</td>\n",
       "    </tr>\n",
       "  </tbody>\n",
       "</table>\n",
       "</div>"
      ],
      "text/plain": [
       "  ETHNICITY_HISPANIC  counts  percentage\n",
       "0                 No       1       100.0"
      ]
     },
     "execution_count": 30,
     "metadata": {},
     "output_type": "execute_result"
    }
   ],
   "source": [
    "df_with57425.groupby('ETHNICITY_HISPANIC').size().reset_index(name='counts').assign(percentage=lambda x: (x['counts'] / df_with57425['ETHNICITY_HISPANIC'].count()) * 100).round(2)"
   ]
  },
  {
   "cell_type": "code",
   "execution_count": 31,
   "id": "fa6fbaf7-5a19-4d94-a94a-962f79691356",
   "metadata": {},
   "outputs": [
    {
     "data": {
      "text/html": [
       "<div>\n",
       "<style scoped>\n",
       "    .dataframe tbody tr th:only-of-type {\n",
       "        vertical-align: middle;\n",
       "    }\n",
       "\n",
       "    .dataframe tbody tr th {\n",
       "        vertical-align: top;\n",
       "    }\n",
       "\n",
       "    .dataframe thead th {\n",
       "        text-align: right;\n",
       "    }\n",
       "</style>\n",
       "<table border=\"1\" class=\"dataframe\">\n",
       "  <thead>\n",
       "    <tr style=\"text-align: right;\">\n",
       "      <th></th>\n",
       "      <th>ETHNICITY_HISPANIC</th>\n",
       "      <th>counts</th>\n",
       "      <th>percentage</th>\n",
       "    </tr>\n",
       "  </thead>\n",
       "  <tbody>\n",
       "    <tr>\n",
       "      <th>0</th>\n",
       "      <td>No</td>\n",
       "      <td>373</td>\n",
       "      <td>90.53</td>\n",
       "    </tr>\n",
       "    <tr>\n",
       "      <th>1</th>\n",
       "      <td>Unknown</td>\n",
       "      <td>4</td>\n",
       "      <td>0.97</td>\n",
       "    </tr>\n",
       "    <tr>\n",
       "      <th>2</th>\n",
       "      <td>Yes</td>\n",
       "      <td>35</td>\n",
       "      <td>8.50</td>\n",
       "    </tr>\n",
       "  </tbody>\n",
       "</table>\n",
       "</div>"
      ],
      "text/plain": [
       "  ETHNICITY_HISPANIC  counts  percentage\n",
       "0                 No     373       90.53\n",
       "1            Unknown       4        0.97\n",
       "2                Yes      35        8.50"
      ]
     },
     "execution_count": 31,
     "metadata": {},
     "output_type": "execute_result"
    }
   ],
   "source": [
    "df_no57425.groupby('ETHNICITY_HISPANIC').size().reset_index(name='counts').assign(percentage=lambda x: (x['counts'] / df_no57425['ETHNICITY_HISPANIC'].count()) * 100).round(2)"
   ]
  },
  {
   "cell_type": "code",
   "execution_count": 32,
   "id": "5668c694-b3d6-4310-a373-6bc8f2a071bc",
   "metadata": {},
   "outputs": [
    {
     "data": {
      "text/html": [
       "<div>\n",
       "<style scoped>\n",
       "    .dataframe tbody tr th:only-of-type {\n",
       "        vertical-align: middle;\n",
       "    }\n",
       "\n",
       "    .dataframe tbody tr th {\n",
       "        vertical-align: top;\n",
       "    }\n",
       "\n",
       "    .dataframe thead th {\n",
       "        text-align: right;\n",
       "    }\n",
       "</style>\n",
       "<table border=\"1\" class=\"dataframe\">\n",
       "  <thead>\n",
       "    <tr style=\"text-align: right;\">\n",
       "      <th></th>\n",
       "      <th>INOUT</th>\n",
       "      <th>counts</th>\n",
       "      <th>percentage</th>\n",
       "    </tr>\n",
       "  </thead>\n",
       "  <tbody>\n",
       "    <tr>\n",
       "      <th>0</th>\n",
       "      <td>Inpatient</td>\n",
       "      <td>382</td>\n",
       "      <td>92.49</td>\n",
       "    </tr>\n",
       "    <tr>\n",
       "      <th>1</th>\n",
       "      <td>Outpatient</td>\n",
       "      <td>31</td>\n",
       "      <td>7.51</td>\n",
       "    </tr>\n",
       "  </tbody>\n",
       "</table>\n",
       "</div>"
      ],
      "text/plain": [
       "        INOUT  counts  percentage\n",
       "0   Inpatient     382       92.49\n",
       "1  Outpatient      31        7.51"
      ]
     },
     "execution_count": 32,
     "metadata": {},
     "output_type": "execute_result"
    }
   ],
   "source": [
    "df.groupby('INOUT').size().reset_index(name='counts').assign(percentage=lambda x: (x['counts'] / df['INOUT'].count()) * 100).round(2)"
   ]
  },
  {
   "cell_type": "code",
   "execution_count": 33,
   "id": "fdc652e4-b807-462b-964a-9a9d04061b04",
   "metadata": {},
   "outputs": [
    {
     "data": {
      "text/html": [
       "<div>\n",
       "<style scoped>\n",
       "    .dataframe tbody tr th:only-of-type {\n",
       "        vertical-align: middle;\n",
       "    }\n",
       "\n",
       "    .dataframe tbody tr th {\n",
       "        vertical-align: top;\n",
       "    }\n",
       "\n",
       "    .dataframe thead th {\n",
       "        text-align: right;\n",
       "    }\n",
       "</style>\n",
       "<table border=\"1\" class=\"dataframe\">\n",
       "  <thead>\n",
       "    <tr style=\"text-align: right;\">\n",
       "      <th></th>\n",
       "      <th>INOUT</th>\n",
       "      <th>counts</th>\n",
       "      <th>percentage</th>\n",
       "    </tr>\n",
       "  </thead>\n",
       "  <tbody>\n",
       "    <tr>\n",
       "      <th>0</th>\n",
       "      <td>Inpatient</td>\n",
       "      <td>1</td>\n",
       "      <td>100.0</td>\n",
       "    </tr>\n",
       "  </tbody>\n",
       "</table>\n",
       "</div>"
      ],
      "text/plain": [
       "       INOUT  counts  percentage\n",
       "0  Inpatient       1       100.0"
      ]
     },
     "execution_count": 33,
     "metadata": {},
     "output_type": "execute_result"
    }
   ],
   "source": [
    "df_with57425.groupby('INOUT').size().reset_index(name='counts').assign(percentage=lambda x: (x['counts'] / df_with57425['INOUT'].count()) * 100).round(2)"
   ]
  },
  {
   "cell_type": "code",
   "execution_count": 34,
   "id": "feed80c8-7cb2-4680-b5c4-8ee1aec530a3",
   "metadata": {},
   "outputs": [
    {
     "data": {
      "text/html": [
       "<div>\n",
       "<style scoped>\n",
       "    .dataframe tbody tr th:only-of-type {\n",
       "        vertical-align: middle;\n",
       "    }\n",
       "\n",
       "    .dataframe tbody tr th {\n",
       "        vertical-align: top;\n",
       "    }\n",
       "\n",
       "    .dataframe thead th {\n",
       "        text-align: right;\n",
       "    }\n",
       "</style>\n",
       "<table border=\"1\" class=\"dataframe\">\n",
       "  <thead>\n",
       "    <tr style=\"text-align: right;\">\n",
       "      <th></th>\n",
       "      <th>INOUT</th>\n",
       "      <th>counts</th>\n",
       "      <th>percentage</th>\n",
       "    </tr>\n",
       "  </thead>\n",
       "  <tbody>\n",
       "    <tr>\n",
       "      <th>0</th>\n",
       "      <td>Inpatient</td>\n",
       "      <td>381</td>\n",
       "      <td>92.48</td>\n",
       "    </tr>\n",
       "    <tr>\n",
       "      <th>1</th>\n",
       "      <td>Outpatient</td>\n",
       "      <td>31</td>\n",
       "      <td>7.52</td>\n",
       "    </tr>\n",
       "  </tbody>\n",
       "</table>\n",
       "</div>"
      ],
      "text/plain": [
       "        INOUT  counts  percentage\n",
       "0   Inpatient     381       92.48\n",
       "1  Outpatient      31        7.52"
      ]
     },
     "execution_count": 34,
     "metadata": {},
     "output_type": "execute_result"
    }
   ],
   "source": [
    "df_no57425.groupby('INOUT').size().reset_index(name='counts').assign(percentage=lambda x: (x['counts'] / df_no57425['INOUT'].count()) * 100).round(2)"
   ]
  },
  {
   "cell_type": "code",
   "execution_count": 35,
   "id": "2ee0b6d2-6e14-4ca4-90ae-32f6be818097",
   "metadata": {},
   "outputs": [
    {
     "data": {
      "text/html": [
       "<div>\n",
       "<style scoped>\n",
       "    .dataframe tbody tr th:only-of-type {\n",
       "        vertical-align: middle;\n",
       "    }\n",
       "\n",
       "    .dataframe tbody tr th {\n",
       "        vertical-align: top;\n",
       "    }\n",
       "\n",
       "    .dataframe thead th {\n",
       "        text-align: right;\n",
       "    }\n",
       "</style>\n",
       "<table border=\"1\" class=\"dataframe\">\n",
       "  <thead>\n",
       "    <tr style=\"text-align: right;\">\n",
       "      <th></th>\n",
       "      <th>AGE</th>\n",
       "      <th>counts</th>\n",
       "    </tr>\n",
       "  </thead>\n",
       "  <tbody>\n",
       "    <tr>\n",
       "      <th>0</th>\n",
       "      <td>18</td>\n",
       "      <td>7</td>\n",
       "    </tr>\n",
       "    <tr>\n",
       "      <th>1</th>\n",
       "      <td>19</td>\n",
       "      <td>6</td>\n",
       "    </tr>\n",
       "    <tr>\n",
       "      <th>2</th>\n",
       "      <td>20</td>\n",
       "      <td>9</td>\n",
       "    </tr>\n",
       "    <tr>\n",
       "      <th>3</th>\n",
       "      <td>21</td>\n",
       "      <td>9</td>\n",
       "    </tr>\n",
       "    <tr>\n",
       "      <th>4</th>\n",
       "      <td>22</td>\n",
       "      <td>6</td>\n",
       "    </tr>\n",
       "    <tr>\n",
       "      <th>5</th>\n",
       "      <td>23</td>\n",
       "      <td>12</td>\n",
       "    </tr>\n",
       "    <tr>\n",
       "      <th>6</th>\n",
       "      <td>24</td>\n",
       "      <td>13</td>\n",
       "    </tr>\n",
       "    <tr>\n",
       "      <th>7</th>\n",
       "      <td>25</td>\n",
       "      <td>25</td>\n",
       "    </tr>\n",
       "    <tr>\n",
       "      <th>8</th>\n",
       "      <td>26</td>\n",
       "      <td>14</td>\n",
       "    </tr>\n",
       "    <tr>\n",
       "      <th>9</th>\n",
       "      <td>27</td>\n",
       "      <td>20</td>\n",
       "    </tr>\n",
       "    <tr>\n",
       "      <th>10</th>\n",
       "      <td>28</td>\n",
       "      <td>12</td>\n",
       "    </tr>\n",
       "    <tr>\n",
       "      <th>11</th>\n",
       "      <td>29</td>\n",
       "      <td>20</td>\n",
       "    </tr>\n",
       "    <tr>\n",
       "      <th>12</th>\n",
       "      <td>30</td>\n",
       "      <td>12</td>\n",
       "    </tr>\n",
       "    <tr>\n",
       "      <th>13</th>\n",
       "      <td>31</td>\n",
       "      <td>19</td>\n",
       "    </tr>\n",
       "    <tr>\n",
       "      <th>14</th>\n",
       "      <td>32</td>\n",
       "      <td>15</td>\n",
       "    </tr>\n",
       "    <tr>\n",
       "      <th>15</th>\n",
       "      <td>33</td>\n",
       "      <td>16</td>\n",
       "    </tr>\n",
       "    <tr>\n",
       "      <th>16</th>\n",
       "      <td>34</td>\n",
       "      <td>7</td>\n",
       "    </tr>\n",
       "    <tr>\n",
       "      <th>17</th>\n",
       "      <td>35</td>\n",
       "      <td>16</td>\n",
       "    </tr>\n",
       "    <tr>\n",
       "      <th>18</th>\n",
       "      <td>36</td>\n",
       "      <td>10</td>\n",
       "    </tr>\n",
       "    <tr>\n",
       "      <th>19</th>\n",
       "      <td>37</td>\n",
       "      <td>12</td>\n",
       "    </tr>\n",
       "    <tr>\n",
       "      <th>20</th>\n",
       "      <td>38</td>\n",
       "      <td>9</td>\n",
       "    </tr>\n",
       "    <tr>\n",
       "      <th>21</th>\n",
       "      <td>39</td>\n",
       "      <td>7</td>\n",
       "    </tr>\n",
       "    <tr>\n",
       "      <th>22</th>\n",
       "      <td>40</td>\n",
       "      <td>14</td>\n",
       "    </tr>\n",
       "    <tr>\n",
       "      <th>23</th>\n",
       "      <td>41</td>\n",
       "      <td>4</td>\n",
       "    </tr>\n",
       "    <tr>\n",
       "      <th>24</th>\n",
       "      <td>42</td>\n",
       "      <td>9</td>\n",
       "    </tr>\n",
       "    <tr>\n",
       "      <th>25</th>\n",
       "      <td>43</td>\n",
       "      <td>7</td>\n",
       "    </tr>\n",
       "    <tr>\n",
       "      <th>26</th>\n",
       "      <td>44</td>\n",
       "      <td>5</td>\n",
       "    </tr>\n",
       "    <tr>\n",
       "      <th>27</th>\n",
       "      <td>45</td>\n",
       "      <td>8</td>\n",
       "    </tr>\n",
       "    <tr>\n",
       "      <th>28</th>\n",
       "      <td>46</td>\n",
       "      <td>1</td>\n",
       "    </tr>\n",
       "    <tr>\n",
       "      <th>29</th>\n",
       "      <td>47</td>\n",
       "      <td>9</td>\n",
       "    </tr>\n",
       "    <tr>\n",
       "      <th>30</th>\n",
       "      <td>48</td>\n",
       "      <td>7</td>\n",
       "    </tr>\n",
       "    <tr>\n",
       "      <th>31</th>\n",
       "      <td>49</td>\n",
       "      <td>7</td>\n",
       "    </tr>\n",
       "    <tr>\n",
       "      <th>32</th>\n",
       "      <td>50</td>\n",
       "      <td>8</td>\n",
       "    </tr>\n",
       "    <tr>\n",
       "      <th>33</th>\n",
       "      <td>51</td>\n",
       "      <td>7</td>\n",
       "    </tr>\n",
       "    <tr>\n",
       "      <th>34</th>\n",
       "      <td>52</td>\n",
       "      <td>4</td>\n",
       "    </tr>\n",
       "    <tr>\n",
       "      <th>35</th>\n",
       "      <td>53</td>\n",
       "      <td>4</td>\n",
       "    </tr>\n",
       "    <tr>\n",
       "      <th>36</th>\n",
       "      <td>54</td>\n",
       "      <td>5</td>\n",
       "    </tr>\n",
       "    <tr>\n",
       "      <th>37</th>\n",
       "      <td>55</td>\n",
       "      <td>1</td>\n",
       "    </tr>\n",
       "    <tr>\n",
       "      <th>38</th>\n",
       "      <td>56</td>\n",
       "      <td>1</td>\n",
       "    </tr>\n",
       "    <tr>\n",
       "      <th>39</th>\n",
       "      <td>57</td>\n",
       "      <td>3</td>\n",
       "    </tr>\n",
       "    <tr>\n",
       "      <th>40</th>\n",
       "      <td>58</td>\n",
       "      <td>1</td>\n",
       "    </tr>\n",
       "    <tr>\n",
       "      <th>41</th>\n",
       "      <td>59</td>\n",
       "      <td>3</td>\n",
       "    </tr>\n",
       "    <tr>\n",
       "      <th>42</th>\n",
       "      <td>60</td>\n",
       "      <td>1</td>\n",
       "    </tr>\n",
       "    <tr>\n",
       "      <th>43</th>\n",
       "      <td>61</td>\n",
       "      <td>4</td>\n",
       "    </tr>\n",
       "    <tr>\n",
       "      <th>44</th>\n",
       "      <td>62</td>\n",
       "      <td>2</td>\n",
       "    </tr>\n",
       "    <tr>\n",
       "      <th>45</th>\n",
       "      <td>63</td>\n",
       "      <td>3</td>\n",
       "    </tr>\n",
       "    <tr>\n",
       "      <th>46</th>\n",
       "      <td>64</td>\n",
       "      <td>2</td>\n",
       "    </tr>\n",
       "    <tr>\n",
       "      <th>47</th>\n",
       "      <td>65</td>\n",
       "      <td>5</td>\n",
       "    </tr>\n",
       "    <tr>\n",
       "      <th>48</th>\n",
       "      <td>66</td>\n",
       "      <td>1</td>\n",
       "    </tr>\n",
       "    <tr>\n",
       "      <th>49</th>\n",
       "      <td>67</td>\n",
       "      <td>3</td>\n",
       "    </tr>\n",
       "    <tr>\n",
       "      <th>50</th>\n",
       "      <td>68</td>\n",
       "      <td>1</td>\n",
       "    </tr>\n",
       "    <tr>\n",
       "      <th>51</th>\n",
       "      <td>69</td>\n",
       "      <td>4</td>\n",
       "    </tr>\n",
       "    <tr>\n",
       "      <th>52</th>\n",
       "      <td>71</td>\n",
       "      <td>1</td>\n",
       "    </tr>\n",
       "    <tr>\n",
       "      <th>53</th>\n",
       "      <td>73</td>\n",
       "      <td>1</td>\n",
       "    </tr>\n",
       "    <tr>\n",
       "      <th>54</th>\n",
       "      <td>75</td>\n",
       "      <td>1</td>\n",
       "    </tr>\n",
       "  </tbody>\n",
       "</table>\n",
       "</div>"
      ],
      "text/plain": [
       "    AGE  counts\n",
       "0    18       7\n",
       "1    19       6\n",
       "2    20       9\n",
       "3    21       9\n",
       "4    22       6\n",
       "5    23      12\n",
       "6    24      13\n",
       "7    25      25\n",
       "8    26      14\n",
       "9    27      20\n",
       "10   28      12\n",
       "11   29      20\n",
       "12   30      12\n",
       "13   31      19\n",
       "14   32      15\n",
       "15   33      16\n",
       "16   34       7\n",
       "17   35      16\n",
       "18   36      10\n",
       "19   37      12\n",
       "20   38       9\n",
       "21   39       7\n",
       "22   40      14\n",
       "23   41       4\n",
       "24   42       9\n",
       "25   43       7\n",
       "26   44       5\n",
       "27   45       8\n",
       "28   46       1\n",
       "29   47       9\n",
       "30   48       7\n",
       "31   49       7\n",
       "32   50       8\n",
       "33   51       7\n",
       "34   52       4\n",
       "35   53       4\n",
       "36   54       5\n",
       "37   55       1\n",
       "38   56       1\n",
       "39   57       3\n",
       "40   58       1\n",
       "41   59       3\n",
       "42   60       1\n",
       "43   61       4\n",
       "44   62       2\n",
       "45   63       3\n",
       "46   64       2\n",
       "47   65       5\n",
       "48   66       1\n",
       "49   67       3\n",
       "50   68       1\n",
       "51   69       4\n",
       "52   71       1\n",
       "53   73       1\n",
       "54   75       1"
      ]
     },
     "execution_count": 35,
     "metadata": {},
     "output_type": "execute_result"
    }
   ],
   "source": [
    "df.groupby('AGE').size().reset_index(name='counts')"
   ]
  },
  {
   "cell_type": "code",
   "execution_count": 36,
   "id": "df692e7a-aa2a-487e-8301-9505e05b5bf1",
   "metadata": {},
   "outputs": [
    {
     "data": {
      "text/plain": [
       "np.float64(36.181598062953995)"
      ]
     },
     "execution_count": 36,
     "metadata": {},
     "output_type": "execute_result"
    }
   ],
   "source": [
    "df['AGE'].mean()"
   ]
  },
  {
   "cell_type": "code",
   "execution_count": 37,
   "id": "1df731dd-777b-4826-a8ec-4ccd955143db",
   "metadata": {},
   "outputs": [
    {
     "data": {
      "text/plain": [
       "np.float64(12.534939532781229)"
      ]
     },
     "execution_count": 37,
     "metadata": {},
     "output_type": "execute_result"
    }
   ],
   "source": [
    "df['AGE'].std()"
   ]
  },
  {
   "cell_type": "code",
   "execution_count": 38,
   "id": "787dff39-dff3-4e0d-a95c-3e3572d95999",
   "metadata": {},
   "outputs": [
    {
     "data": {
      "text/plain": [
       "np.float64(33.0)"
      ]
     },
     "execution_count": 38,
     "metadata": {},
     "output_type": "execute_result"
    }
   ],
   "source": [
    "df['AGE'].median()"
   ]
  },
  {
   "cell_type": "code",
   "execution_count": 39,
   "id": "e7230d19-cb94-4c0e-9cb6-e7e6cb38bdec",
   "metadata": {},
   "outputs": [
    {
     "data": {
      "text/plain": [
       "np.float64(32.0)"
      ]
     },
     "execution_count": 39,
     "metadata": {},
     "output_type": "execute_result"
    }
   ],
   "source": [
    "df_with57425['AGE'].mean()"
   ]
  },
  {
   "cell_type": "code",
   "execution_count": 40,
   "id": "c159dd04-1774-43f2-8f5a-80e7bf9de305",
   "metadata": {},
   "outputs": [
    {
     "data": {
      "text/plain": [
       "np.float64(nan)"
      ]
     },
     "execution_count": 40,
     "metadata": {},
     "output_type": "execute_result"
    }
   ],
   "source": [
    "df_with57425['AGE'].std()"
   ]
  },
  {
   "cell_type": "code",
   "execution_count": 41,
   "id": "3d8d7fa5-7583-4b8c-b156-292a6dcd9cbe",
   "metadata": {},
   "outputs": [
    {
     "data": {
      "text/plain": [
       "np.float64(36.19174757281554)"
      ]
     },
     "execution_count": 41,
     "metadata": {},
     "output_type": "execute_result"
    }
   ],
   "source": [
    "df_no57425['AGE'].mean()"
   ]
  },
  {
   "cell_type": "code",
   "execution_count": 42,
   "id": "bf0d3ea5-cba6-489d-828d-b1331fefcb8c",
   "metadata": {},
   "outputs": [
    {
     "data": {
      "text/plain": [
       "np.float64(12.548480384317067)"
      ]
     },
     "execution_count": 42,
     "metadata": {},
     "output_type": "execute_result"
    }
   ],
   "source": [
    "df_no57425['AGE'].std()"
   ]
  },
  {
   "cell_type": "code",
   "execution_count": 43,
   "id": "8ea933de-15fb-48e9-a19a-57c09d7ee927",
   "metadata": {},
   "outputs": [
    {
     "data": {
      "text/plain": [
       "np.float64(33.0)"
      ]
     },
     "execution_count": 43,
     "metadata": {},
     "output_type": "execute_result"
    }
   ],
   "source": [
    "df_no57425['AGE'].median()"
   ]
  },
  {
   "cell_type": "code",
   "execution_count": 44,
   "id": "fa89d3cb-7a5b-4b8e-a3e1-9d1290911b6c",
   "metadata": {},
   "outputs": [],
   "source": [
    "age_bins = [0, 20, 30, 40, 50, 60, 70, 80, 90]\n",
    "age_labels = ['<20', '20-30', '30-40', '40-50', '50-60', '60-70', '70-80', '80-90']"
   ]
  },
  {
   "cell_type": "code",
   "execution_count": 45,
   "id": "42ba36b6-100a-40e3-881c-5a56fae6d581",
   "metadata": {},
   "outputs": [
    {
     "name": "stderr",
     "output_type": "stream",
     "text": [
      "/var/folders/m8/kh2nk5652k94h_n7lqjvr8n00000gn/T/ipykernel_74986/119518445.py:1: PerformanceWarning: DataFrame is highly fragmented.  This is usually the result of calling `frame.insert` many times, which has poor performance.  Consider joining all columns at once using pd.concat(axis=1) instead. To get a de-fragmented frame, use `newframe = frame.copy()`\n",
      "  df['AGE_GROUP'] = pd.cut(df['AGE'], bins=age_bins, labels=age_labels, right=False)\n"
     ]
    }
   ],
   "source": [
    "df['AGE_GROUP'] = pd.cut(df['AGE'], bins=age_bins, labels=age_labels, right=False)"
   ]
  },
  {
   "cell_type": "code",
   "execution_count": 46,
   "id": "1b8c21b8-6ca6-4384-b9b1-7062fc4644a8",
   "metadata": {},
   "outputs": [
    {
     "name": "stderr",
     "output_type": "stream",
     "text": [
      "/var/folders/m8/kh2nk5652k94h_n7lqjvr8n00000gn/T/ipykernel_74986/2641823900.py:1: FutureWarning: The default of observed=False is deprecated and will be changed to True in a future version of pandas. Pass observed=False to retain current behavior or observed=True to adopt the future default and silence this warning.\n",
      "  df.groupby('AGE_GROUP').size().reset_index(name='counts')\n"
     ]
    },
    {
     "data": {
      "text/html": [
       "<div>\n",
       "<style scoped>\n",
       "    .dataframe tbody tr th:only-of-type {\n",
       "        vertical-align: middle;\n",
       "    }\n",
       "\n",
       "    .dataframe tbody tr th {\n",
       "        vertical-align: top;\n",
       "    }\n",
       "\n",
       "    .dataframe thead th {\n",
       "        text-align: right;\n",
       "    }\n",
       "</style>\n",
       "<table border=\"1\" class=\"dataframe\">\n",
       "  <thead>\n",
       "    <tr style=\"text-align: right;\">\n",
       "      <th></th>\n",
       "      <th>AGE_GROUP</th>\n",
       "      <th>counts</th>\n",
       "    </tr>\n",
       "  </thead>\n",
       "  <tbody>\n",
       "    <tr>\n",
       "      <th>0</th>\n",
       "      <td>&lt;20</td>\n",
       "      <td>13</td>\n",
       "    </tr>\n",
       "    <tr>\n",
       "      <th>1</th>\n",
       "      <td>20-30</td>\n",
       "      <td>140</td>\n",
       "    </tr>\n",
       "    <tr>\n",
       "      <th>2</th>\n",
       "      <td>30-40</td>\n",
       "      <td>123</td>\n",
       "    </tr>\n",
       "    <tr>\n",
       "      <th>3</th>\n",
       "      <td>40-50</td>\n",
       "      <td>71</td>\n",
       "    </tr>\n",
       "    <tr>\n",
       "      <th>4</th>\n",
       "      <td>50-60</td>\n",
       "      <td>37</td>\n",
       "    </tr>\n",
       "    <tr>\n",
       "      <th>5</th>\n",
       "      <td>60-70</td>\n",
       "      <td>26</td>\n",
       "    </tr>\n",
       "    <tr>\n",
       "      <th>6</th>\n",
       "      <td>70-80</td>\n",
       "      <td>3</td>\n",
       "    </tr>\n",
       "    <tr>\n",
       "      <th>7</th>\n",
       "      <td>80-90</td>\n",
       "      <td>0</td>\n",
       "    </tr>\n",
       "  </tbody>\n",
       "</table>\n",
       "</div>"
      ],
      "text/plain": [
       "  AGE_GROUP  counts\n",
       "0       <20      13\n",
       "1     20-30     140\n",
       "2     30-40     123\n",
       "3     40-50      71\n",
       "4     50-60      37\n",
       "5     60-70      26\n",
       "6     70-80       3\n",
       "7     80-90       0"
      ]
     },
     "execution_count": 46,
     "metadata": {},
     "output_type": "execute_result"
    }
   ],
   "source": [
    "df.groupby('AGE_GROUP').size().reset_index(name='counts')"
   ]
  },
  {
   "cell_type": "code",
   "execution_count": 47,
   "id": "ef34c47a-671e-43f6-a39c-9aced5a85253",
   "metadata": {},
   "outputs": [
    {
     "name": "stderr",
     "output_type": "stream",
     "text": [
      "/var/folders/m8/kh2nk5652k94h_n7lqjvr8n00000gn/T/ipykernel_74986/73212253.py:1: FutureWarning: The default of observed=False is deprecated and will be changed to True in a future version of pandas. Pass observed=False to retain current behavior or observed=True to adopt the future default and silence this warning.\n",
      "  df.groupby('AGE_GROUP').size().reset_index(name='counts').assign(percentage=lambda x: (x['counts'] / df['AGE_GROUP'].count()) * 100).round(1)\n"
     ]
    },
    {
     "data": {
      "text/html": [
       "<div>\n",
       "<style scoped>\n",
       "    .dataframe tbody tr th:only-of-type {\n",
       "        vertical-align: middle;\n",
       "    }\n",
       "\n",
       "    .dataframe tbody tr th {\n",
       "        vertical-align: top;\n",
       "    }\n",
       "\n",
       "    .dataframe thead th {\n",
       "        text-align: right;\n",
       "    }\n",
       "</style>\n",
       "<table border=\"1\" class=\"dataframe\">\n",
       "  <thead>\n",
       "    <tr style=\"text-align: right;\">\n",
       "      <th></th>\n",
       "      <th>AGE_GROUP</th>\n",
       "      <th>counts</th>\n",
       "      <th>percentage</th>\n",
       "    </tr>\n",
       "  </thead>\n",
       "  <tbody>\n",
       "    <tr>\n",
       "      <th>0</th>\n",
       "      <td>&lt;20</td>\n",
       "      <td>13</td>\n",
       "      <td>3.1</td>\n",
       "    </tr>\n",
       "    <tr>\n",
       "      <th>1</th>\n",
       "      <td>20-30</td>\n",
       "      <td>140</td>\n",
       "      <td>33.9</td>\n",
       "    </tr>\n",
       "    <tr>\n",
       "      <th>2</th>\n",
       "      <td>30-40</td>\n",
       "      <td>123</td>\n",
       "      <td>29.8</td>\n",
       "    </tr>\n",
       "    <tr>\n",
       "      <th>3</th>\n",
       "      <td>40-50</td>\n",
       "      <td>71</td>\n",
       "      <td>17.2</td>\n",
       "    </tr>\n",
       "    <tr>\n",
       "      <th>4</th>\n",
       "      <td>50-60</td>\n",
       "      <td>37</td>\n",
       "      <td>9.0</td>\n",
       "    </tr>\n",
       "    <tr>\n",
       "      <th>5</th>\n",
       "      <td>60-70</td>\n",
       "      <td>26</td>\n",
       "      <td>6.3</td>\n",
       "    </tr>\n",
       "    <tr>\n",
       "      <th>6</th>\n",
       "      <td>70-80</td>\n",
       "      <td>3</td>\n",
       "      <td>0.7</td>\n",
       "    </tr>\n",
       "    <tr>\n",
       "      <th>7</th>\n",
       "      <td>80-90</td>\n",
       "      <td>0</td>\n",
       "      <td>0.0</td>\n",
       "    </tr>\n",
       "  </tbody>\n",
       "</table>\n",
       "</div>"
      ],
      "text/plain": [
       "  AGE_GROUP  counts  percentage\n",
       "0       <20      13         3.1\n",
       "1     20-30     140        33.9\n",
       "2     30-40     123        29.8\n",
       "3     40-50      71        17.2\n",
       "4     50-60      37         9.0\n",
       "5     60-70      26         6.3\n",
       "6     70-80       3         0.7\n",
       "7     80-90       0         0.0"
      ]
     },
     "execution_count": 47,
     "metadata": {},
     "output_type": "execute_result"
    }
   ],
   "source": [
    "df.groupby('AGE_GROUP').size().reset_index(name='counts').assign(percentage=lambda x: (x['counts'] / df['AGE_GROUP'].count()) * 100).round(1)"
   ]
  },
  {
   "cell_type": "code",
   "execution_count": 48,
   "id": "2c0357ce-995a-4911-8b05-8c907f0d3023",
   "metadata": {},
   "outputs": [
    {
     "data": {
      "text/html": [
       "<div>\n",
       "<style scoped>\n",
       "    .dataframe tbody tr th:only-of-type {\n",
       "        vertical-align: middle;\n",
       "    }\n",
       "\n",
       "    .dataframe tbody tr th {\n",
       "        vertical-align: top;\n",
       "    }\n",
       "\n",
       "    .dataframe thead th {\n",
       "        text-align: right;\n",
       "    }\n",
       "</style>\n",
       "<table border=\"1\" class=\"dataframe\">\n",
       "  <thead>\n",
       "    <tr style=\"text-align: right;\">\n",
       "      <th></th>\n",
       "      <th>OPERYR</th>\n",
       "      <th>counts</th>\n",
       "      <th>percentage</th>\n",
       "    </tr>\n",
       "  </thead>\n",
       "  <tbody>\n",
       "    <tr>\n",
       "      <th>0</th>\n",
       "      <td>2019</td>\n",
       "      <td>91</td>\n",
       "      <td>22.03</td>\n",
       "    </tr>\n",
       "    <tr>\n",
       "      <th>1</th>\n",
       "      <td>2020</td>\n",
       "      <td>63</td>\n",
       "      <td>15.25</td>\n",
       "    </tr>\n",
       "    <tr>\n",
       "      <th>2</th>\n",
       "      <td>2021</td>\n",
       "      <td>125</td>\n",
       "      <td>30.27</td>\n",
       "    </tr>\n",
       "    <tr>\n",
       "      <th>3</th>\n",
       "      <td>2022</td>\n",
       "      <td>134</td>\n",
       "      <td>32.45</td>\n",
       "    </tr>\n",
       "  </tbody>\n",
       "</table>\n",
       "</div>"
      ],
      "text/plain": [
       "   OPERYR  counts  percentage\n",
       "0    2019      91       22.03\n",
       "1    2020      63       15.25\n",
       "2    2021     125       30.27\n",
       "3    2022     134       32.45"
      ]
     },
     "execution_count": 48,
     "metadata": {},
     "output_type": "execute_result"
    }
   ],
   "source": [
    "df.groupby('OPERYR').size().reset_index(name='counts').assign(percentage=lambda x: (x['counts'] / df['OPERYR'].count()) * 100).round(2)"
   ]
  },
  {
   "cell_type": "code",
   "execution_count": 49,
   "id": "b0ce0595-a751-42ba-994c-4a2521f45b5d",
   "metadata": {},
   "outputs": [
    {
     "data": {
      "text/html": [
       "<div>\n",
       "<style scoped>\n",
       "    .dataframe tbody tr th:only-of-type {\n",
       "        vertical-align: middle;\n",
       "    }\n",
       "\n",
       "    .dataframe tbody tr th {\n",
       "        vertical-align: top;\n",
       "    }\n",
       "\n",
       "    .dataframe thead th {\n",
       "        text-align: right;\n",
       "    }\n",
       "</style>\n",
       "<table border=\"1\" class=\"dataframe\">\n",
       "  <thead>\n",
       "    <tr style=\"text-align: right;\">\n",
       "      <th></th>\n",
       "      <th>OPERYR</th>\n",
       "      <th>counts</th>\n",
       "      <th>percentage</th>\n",
       "    </tr>\n",
       "  </thead>\n",
       "  <tbody>\n",
       "    <tr>\n",
       "      <th>0</th>\n",
       "      <td>2022</td>\n",
       "      <td>1</td>\n",
       "      <td>100.0</td>\n",
       "    </tr>\n",
       "  </tbody>\n",
       "</table>\n",
       "</div>"
      ],
      "text/plain": [
       "   OPERYR  counts  percentage\n",
       "0    2022       1       100.0"
      ]
     },
     "execution_count": 49,
     "metadata": {},
     "output_type": "execute_result"
    }
   ],
   "source": [
    "df_with57425.groupby('OPERYR').size().reset_index(name='counts').assign(percentage=lambda x: (x['counts'] / df_with57425['OPERYR'].count()) * 100).round(2)"
   ]
  },
  {
   "cell_type": "code",
   "execution_count": 50,
   "id": "21a65dfc-6d5c-48bb-b95d-70c2496f8ff3",
   "metadata": {},
   "outputs": [
    {
     "data": {
      "text/html": [
       "<div>\n",
       "<style scoped>\n",
       "    .dataframe tbody tr th:only-of-type {\n",
       "        vertical-align: middle;\n",
       "    }\n",
       "\n",
       "    .dataframe tbody tr th {\n",
       "        vertical-align: top;\n",
       "    }\n",
       "\n",
       "    .dataframe thead th {\n",
       "        text-align: right;\n",
       "    }\n",
       "</style>\n",
       "<table border=\"1\" class=\"dataframe\">\n",
       "  <thead>\n",
       "    <tr style=\"text-align: right;\">\n",
       "      <th></th>\n",
       "      <th>OPERYR</th>\n",
       "      <th>counts</th>\n",
       "      <th>percentage</th>\n",
       "    </tr>\n",
       "  </thead>\n",
       "  <tbody>\n",
       "    <tr>\n",
       "      <th>0</th>\n",
       "      <td>2019</td>\n",
       "      <td>91</td>\n",
       "      <td>22.09</td>\n",
       "    </tr>\n",
       "    <tr>\n",
       "      <th>1</th>\n",
       "      <td>2020</td>\n",
       "      <td>63</td>\n",
       "      <td>15.29</td>\n",
       "    </tr>\n",
       "    <tr>\n",
       "      <th>2</th>\n",
       "      <td>2021</td>\n",
       "      <td>125</td>\n",
       "      <td>30.34</td>\n",
       "    </tr>\n",
       "    <tr>\n",
       "      <th>3</th>\n",
       "      <td>2022</td>\n",
       "      <td>133</td>\n",
       "      <td>32.28</td>\n",
       "    </tr>\n",
       "  </tbody>\n",
       "</table>\n",
       "</div>"
      ],
      "text/plain": [
       "   OPERYR  counts  percentage\n",
       "0    2019      91       22.09\n",
       "1    2020      63       15.29\n",
       "2    2021     125       30.34\n",
       "3    2022     133       32.28"
      ]
     },
     "execution_count": 50,
     "metadata": {},
     "output_type": "execute_result"
    }
   ],
   "source": [
    "df_no57425.groupby('OPERYR').size().reset_index(name='counts').assign(percentage=lambda x: (x['counts'] / df_no57425['OPERYR'].count()) * 100).round(2)"
   ]
  },
  {
   "cell_type": "code",
   "execution_count": 51,
   "id": "76795196-0cb4-4d5b-be0e-85b2b50985f8",
   "metadata": {},
   "outputs": [
    {
     "data": {
      "text/html": [
       "<div>\n",
       "<style scoped>\n",
       "    .dataframe tbody tr th:only-of-type {\n",
       "        vertical-align: middle;\n",
       "    }\n",
       "\n",
       "    .dataframe tbody tr th {\n",
       "        vertical-align: top;\n",
       "    }\n",
       "\n",
       "    .dataframe thead th {\n",
       "        text-align: right;\n",
       "    }\n",
       "</style>\n",
       "<table border=\"1\" class=\"dataframe\">\n",
       "  <thead>\n",
       "    <tr style=\"text-align: right;\">\n",
       "      <th></th>\n",
       "      <th>ANESTHES</th>\n",
       "      <th>counts</th>\n",
       "      <th>percentage</th>\n",
       "    </tr>\n",
       "  </thead>\n",
       "  <tbody>\n",
       "    <tr>\n",
       "      <th>0</th>\n",
       "      <td>General</td>\n",
       "      <td>413</td>\n",
       "      <td>100.0</td>\n",
       "    </tr>\n",
       "  </tbody>\n",
       "</table>\n",
       "</div>"
      ],
      "text/plain": [
       "  ANESTHES  counts  percentage\n",
       "0  General     413       100.0"
      ]
     },
     "execution_count": 51,
     "metadata": {},
     "output_type": "execute_result"
    }
   ],
   "source": [
    "df.groupby('ANESTHES').size().reset_index(name='counts').assign(percentage=lambda x: (x['counts'] / df['ANESTHES'].count()) * 100).round(2)"
   ]
  },
  {
   "cell_type": "code",
   "execution_count": 52,
   "id": "52720e74-c913-45d2-891a-18446e001272",
   "metadata": {},
   "outputs": [
    {
     "data": {
      "text/html": [
       "<div>\n",
       "<style scoped>\n",
       "    .dataframe tbody tr th:only-of-type {\n",
       "        vertical-align: middle;\n",
       "    }\n",
       "\n",
       "    .dataframe tbody tr th {\n",
       "        vertical-align: top;\n",
       "    }\n",
       "\n",
       "    .dataframe thead th {\n",
       "        text-align: right;\n",
       "    }\n",
       "</style>\n",
       "<table border=\"1\" class=\"dataframe\">\n",
       "  <thead>\n",
       "    <tr style=\"text-align: right;\">\n",
       "      <th></th>\n",
       "      <th>SURGSPEC</th>\n",
       "      <th>counts</th>\n",
       "      <th>percentage</th>\n",
       "    </tr>\n",
       "  </thead>\n",
       "  <tbody>\n",
       "    <tr>\n",
       "      <th>0</th>\n",
       "      <td>General Surgery</td>\n",
       "      <td>2</td>\n",
       "      <td>0.48</td>\n",
       "    </tr>\n",
       "    <tr>\n",
       "      <th>1</th>\n",
       "      <td>Plastics</td>\n",
       "      <td>329</td>\n",
       "      <td>79.66</td>\n",
       "    </tr>\n",
       "    <tr>\n",
       "      <th>2</th>\n",
       "      <td>Urology</td>\n",
       "      <td>82</td>\n",
       "      <td>19.85</td>\n",
       "    </tr>\n",
       "  </tbody>\n",
       "</table>\n",
       "</div>"
      ],
      "text/plain": [
       "          SURGSPEC  counts  percentage\n",
       "0  General Surgery       2        0.48\n",
       "1         Plastics     329       79.66\n",
       "2          Urology      82       19.85"
      ]
     },
     "execution_count": 52,
     "metadata": {},
     "output_type": "execute_result"
    }
   ],
   "source": [
    "df.groupby('SURGSPEC').size().reset_index(name='counts').assign(percentage=lambda x: (x['counts'] / df['SURGSPEC'].count()) * 100).round(2)"
   ]
  },
  {
   "cell_type": "code",
   "execution_count": 53,
   "id": "38175303-d01c-4b6f-aa27-360d37662878",
   "metadata": {},
   "outputs": [
    {
     "data": {
      "text/html": [
       "<div>\n",
       "<style scoped>\n",
       "    .dataframe tbody tr th:only-of-type {\n",
       "        vertical-align: middle;\n",
       "    }\n",
       "\n",
       "    .dataframe tbody tr th {\n",
       "        vertical-align: top;\n",
       "    }\n",
       "\n",
       "    .dataframe thead th {\n",
       "        text-align: right;\n",
       "    }\n",
       "</style>\n",
       "<table border=\"1\" class=\"dataframe\">\n",
       "  <thead>\n",
       "    <tr style=\"text-align: right;\">\n",
       "      <th></th>\n",
       "      <th>SURGSPEC</th>\n",
       "      <th>counts</th>\n",
       "      <th>percentage</th>\n",
       "    </tr>\n",
       "  </thead>\n",
       "  <tbody>\n",
       "    <tr>\n",
       "      <th>0</th>\n",
       "      <td>Urology</td>\n",
       "      <td>1</td>\n",
       "      <td>100.0</td>\n",
       "    </tr>\n",
       "  </tbody>\n",
       "</table>\n",
       "</div>"
      ],
      "text/plain": [
       "  SURGSPEC  counts  percentage\n",
       "0  Urology       1       100.0"
      ]
     },
     "execution_count": 53,
     "metadata": {},
     "output_type": "execute_result"
    }
   ],
   "source": [
    "df_with57425.groupby('SURGSPEC').size().reset_index(name='counts').assign(percentage=lambda x: (x['counts'] / df_with57425['SURGSPEC'].count()) * 100).round(2)"
   ]
  },
  {
   "cell_type": "code",
   "execution_count": 54,
   "id": "3ad546f0-c503-483d-9676-d57cb6a6ab9b",
   "metadata": {},
   "outputs": [
    {
     "data": {
      "text/html": [
       "<div>\n",
       "<style scoped>\n",
       "    .dataframe tbody tr th:only-of-type {\n",
       "        vertical-align: middle;\n",
       "    }\n",
       "\n",
       "    .dataframe tbody tr th {\n",
       "        vertical-align: top;\n",
       "    }\n",
       "\n",
       "    .dataframe thead th {\n",
       "        text-align: right;\n",
       "    }\n",
       "</style>\n",
       "<table border=\"1\" class=\"dataframe\">\n",
       "  <thead>\n",
       "    <tr style=\"text-align: right;\">\n",
       "      <th></th>\n",
       "      <th>SURGSPEC</th>\n",
       "      <th>counts</th>\n",
       "      <th>percentage</th>\n",
       "    </tr>\n",
       "  </thead>\n",
       "  <tbody>\n",
       "    <tr>\n",
       "      <th>0</th>\n",
       "      <td>General Surgery</td>\n",
       "      <td>2</td>\n",
       "      <td>0.49</td>\n",
       "    </tr>\n",
       "    <tr>\n",
       "      <th>1</th>\n",
       "      <td>Plastics</td>\n",
       "      <td>329</td>\n",
       "      <td>79.85</td>\n",
       "    </tr>\n",
       "    <tr>\n",
       "      <th>2</th>\n",
       "      <td>Urology</td>\n",
       "      <td>81</td>\n",
       "      <td>19.66</td>\n",
       "    </tr>\n",
       "  </tbody>\n",
       "</table>\n",
       "</div>"
      ],
      "text/plain": [
       "          SURGSPEC  counts  percentage\n",
       "0  General Surgery       2        0.49\n",
       "1         Plastics     329       79.85\n",
       "2          Urology      81       19.66"
      ]
     },
     "execution_count": 54,
     "metadata": {},
     "output_type": "execute_result"
    }
   ],
   "source": [
    "df_no57425.groupby('SURGSPEC').size().reset_index(name='counts').assign(percentage=lambda x: (x['counts'] / df_no57425['SURGSPEC'].count()) * 100).round(2)"
   ]
  },
  {
   "cell_type": "code",
   "execution_count": 55,
   "id": "e51e45e2-e680-4d6d-8126-9c8d9da47cb7",
   "metadata": {},
   "outputs": [
    {
     "data": {
      "text/html": [
       "<div>\n",
       "<style scoped>\n",
       "    .dataframe tbody tr th:only-of-type {\n",
       "        vertical-align: middle;\n",
       "    }\n",
       "\n",
       "    .dataframe tbody tr th {\n",
       "        vertical-align: top;\n",
       "    }\n",
       "\n",
       "    .dataframe thead th {\n",
       "        text-align: right;\n",
       "    }\n",
       "</style>\n",
       "<table border=\"1\" class=\"dataframe\">\n",
       "  <thead>\n",
       "    <tr style=\"text-align: right;\">\n",
       "      <th></th>\n",
       "      <th>WEIGHT</th>\n",
       "      <th>counts</th>\n",
       "    </tr>\n",
       "  </thead>\n",
       "  <tbody>\n",
       "    <tr>\n",
       "      <th>0</th>\n",
       "      <td>93.0</td>\n",
       "      <td>1</td>\n",
       "    </tr>\n",
       "    <tr>\n",
       "      <th>1</th>\n",
       "      <td>97.0</td>\n",
       "      <td>1</td>\n",
       "    </tr>\n",
       "    <tr>\n",
       "      <th>2</th>\n",
       "      <td>101.0</td>\n",
       "      <td>1</td>\n",
       "    </tr>\n",
       "    <tr>\n",
       "      <th>3</th>\n",
       "      <td>108.0</td>\n",
       "      <td>2</td>\n",
       "    </tr>\n",
       "    <tr>\n",
       "      <th>4</th>\n",
       "      <td>112.0</td>\n",
       "      <td>3</td>\n",
       "    </tr>\n",
       "    <tr>\n",
       "      <th>...</th>\n",
       "      <td>...</td>\n",
       "      <td>...</td>\n",
       "    </tr>\n",
       "    <tr>\n",
       "      <th>132</th>\n",
       "      <td>285.0</td>\n",
       "      <td>1</td>\n",
       "    </tr>\n",
       "    <tr>\n",
       "      <th>133</th>\n",
       "      <td>286.0</td>\n",
       "      <td>1</td>\n",
       "    </tr>\n",
       "    <tr>\n",
       "      <th>134</th>\n",
       "      <td>289.0</td>\n",
       "      <td>1</td>\n",
       "    </tr>\n",
       "    <tr>\n",
       "      <th>135</th>\n",
       "      <td>304.0</td>\n",
       "      <td>1</td>\n",
       "    </tr>\n",
       "    <tr>\n",
       "      <th>136</th>\n",
       "      <td>308.0</td>\n",
       "      <td>1</td>\n",
       "    </tr>\n",
       "  </tbody>\n",
       "</table>\n",
       "<p>137 rows × 2 columns</p>\n",
       "</div>"
      ],
      "text/plain": [
       "     WEIGHT  counts\n",
       "0      93.0       1\n",
       "1      97.0       1\n",
       "2     101.0       1\n",
       "3     108.0       2\n",
       "4     112.0       3\n",
       "..      ...     ...\n",
       "132   285.0       1\n",
       "133   286.0       1\n",
       "134   289.0       1\n",
       "135   304.0       1\n",
       "136   308.0       1\n",
       "\n",
       "[137 rows x 2 columns]"
      ]
     },
     "execution_count": 55,
     "metadata": {},
     "output_type": "execute_result"
    }
   ],
   "source": [
    "df.groupby('WEIGHT').size().reset_index(name='counts')"
   ]
  },
  {
   "cell_type": "code",
   "execution_count": 56,
   "id": "b53d9a93-5306-4dd9-91a7-bb92df0abf26",
   "metadata": {},
   "outputs": [
    {
     "data": {
      "text/plain": [
       "np.float64(176.3228155339806)"
      ]
     },
     "execution_count": 56,
     "metadata": {},
     "output_type": "execute_result"
    }
   ],
   "source": [
    "df['WEIGHT'].replace(-99, np.nan).mean()"
   ]
  },
  {
   "cell_type": "code",
   "execution_count": 57,
   "id": "9afa9ec5-18ec-4b2f-ac7e-e04d6601a1e7",
   "metadata": {},
   "outputs": [
    {
     "data": {
      "text/plain": [
       "np.float64(38.16910973600094)"
      ]
     },
     "execution_count": 57,
     "metadata": {},
     "output_type": "execute_result"
    }
   ],
   "source": [
    "df['WEIGHT'].replace(-99, np.nan).std()"
   ]
  },
  {
   "cell_type": "code",
   "execution_count": 58,
   "id": "92a377e4-112e-4c45-bd02-1eb873c2fffd",
   "metadata": {},
   "outputs": [
    {
     "data": {
      "text/plain": [
       "np.float64(172.0)"
      ]
     },
     "execution_count": 58,
     "metadata": {},
     "output_type": "execute_result"
    }
   ],
   "source": [
    "df['WEIGHT'].replace(-99, np.nan).median()"
   ]
  },
  {
   "cell_type": "code",
   "execution_count": 59,
   "id": "a7dc8437-db94-4693-a60c-07caede329f5",
   "metadata": {},
   "outputs": [
    {
     "data": {
      "text/plain": [
       "339    200.0\n",
       "Name: WEIGHT, dtype: float64"
      ]
     },
     "execution_count": 59,
     "metadata": {},
     "output_type": "execute_result"
    }
   ],
   "source": [
    "df_with57425['WEIGHT']"
   ]
  },
  {
   "cell_type": "code",
   "execution_count": 60,
   "id": "85679410-2ea0-49c6-b320-f579167a4bf5",
   "metadata": {},
   "outputs": [
    {
     "data": {
      "text/plain": [
       "np.float64(176.26520681265208)"
      ]
     },
     "execution_count": 60,
     "metadata": {},
     "output_type": "execute_result"
    }
   ],
   "source": [
    "df_no57425['WEIGHT'].replace(-99, np.nan).mean()"
   ]
  },
  {
   "cell_type": "code",
   "execution_count": 61,
   "id": "8cb9ff87-c306-4faa-a26d-d63286be5b4b",
   "metadata": {},
   "outputs": [
    {
     "data": {
      "text/plain": [
       "np.float64(38.19769155511954)"
      ]
     },
     "execution_count": 61,
     "metadata": {},
     "output_type": "execute_result"
    }
   ],
   "source": [
    "df_no57425['WEIGHT'].replace(-99, np.nan).std()"
   ]
  },
  {
   "cell_type": "code",
   "execution_count": 62,
   "id": "ba9eb10d-e982-4199-9b5d-cdcad8c0483b",
   "metadata": {},
   "outputs": [
    {
     "data": {
      "text/plain": [
       "np.float64(172.0)"
      ]
     },
     "execution_count": 62,
     "metadata": {},
     "output_type": "execute_result"
    }
   ],
   "source": [
    "df_no57425['WEIGHT'].replace(-99, np.nan).median()"
   ]
  },
  {
   "cell_type": "code",
   "execution_count": 63,
   "id": "e249019b-eb9d-44db-b465-e1f9e2d776ee",
   "metadata": {},
   "outputs": [
    {
     "data": {
      "text/plain": [
       "np.float64(176.3228155339806)"
      ]
     },
     "execution_count": 63,
     "metadata": {},
     "output_type": "execute_result"
    }
   ],
   "source": [
    "df['WEIGHT'].mean()"
   ]
  },
  {
   "cell_type": "code",
   "execution_count": 64,
   "id": "293d8755-0526-4104-9d18-766262a881fe",
   "metadata": {},
   "outputs": [
    {
     "data": {
      "text/plain": [
       "np.float64(38.16910973600094)"
      ]
     },
     "execution_count": 64,
     "metadata": {},
     "output_type": "execute_result"
    }
   ],
   "source": [
    "df['WEIGHT'].std()"
   ]
  },
  {
   "cell_type": "code",
   "execution_count": 65,
   "id": "114df2e7-97ae-475c-893e-cd98b73271b9",
   "metadata": {},
   "outputs": [
    {
     "data": {
      "text/plain": [
       "np.float64(172.0)"
      ]
     },
     "execution_count": 65,
     "metadata": {},
     "output_type": "execute_result"
    }
   ],
   "source": [
    "df['WEIGHT'].median()"
   ]
  },
  {
   "cell_type": "code",
   "execution_count": 66,
   "id": "43eb63db-8614-4699-b9d8-28754b0597c7",
   "metadata": {},
   "outputs": [
    {
     "data": {
      "text/html": [
       "<div>\n",
       "<style scoped>\n",
       "    .dataframe tbody tr th:only-of-type {\n",
       "        vertical-align: middle;\n",
       "    }\n",
       "\n",
       "    .dataframe tbody tr th {\n",
       "        vertical-align: top;\n",
       "    }\n",
       "\n",
       "    .dataframe thead th {\n",
       "        text-align: right;\n",
       "    }\n",
       "</style>\n",
       "<table border=\"1\" class=\"dataframe\">\n",
       "  <thead>\n",
       "    <tr style=\"text-align: right;\">\n",
       "      <th></th>\n",
       "      <th>HEIGHT</th>\n",
       "      <th>counts</th>\n",
       "    </tr>\n",
       "  </thead>\n",
       "  <tbody>\n",
       "    <tr>\n",
       "      <th>0</th>\n",
       "      <td>57.0</td>\n",
       "      <td>1</td>\n",
       "    </tr>\n",
       "    <tr>\n",
       "      <th>1</th>\n",
       "      <td>59.0</td>\n",
       "      <td>4</td>\n",
       "    </tr>\n",
       "    <tr>\n",
       "      <th>2</th>\n",
       "      <td>60.0</td>\n",
       "      <td>2</td>\n",
       "    </tr>\n",
       "    <tr>\n",
       "      <th>3</th>\n",
       "      <td>61.0</td>\n",
       "      <td>1</td>\n",
       "    </tr>\n",
       "    <tr>\n",
       "      <th>4</th>\n",
       "      <td>62.0</td>\n",
       "      <td>3</td>\n",
       "    </tr>\n",
       "    <tr>\n",
       "      <th>5</th>\n",
       "      <td>63.0</td>\n",
       "      <td>7</td>\n",
       "    </tr>\n",
       "    <tr>\n",
       "      <th>6</th>\n",
       "      <td>64.0</td>\n",
       "      <td>17</td>\n",
       "    </tr>\n",
       "    <tr>\n",
       "      <th>7</th>\n",
       "      <td>65.0</td>\n",
       "      <td>17</td>\n",
       "    </tr>\n",
       "    <tr>\n",
       "      <th>8</th>\n",
       "      <td>66.0</td>\n",
       "      <td>52</td>\n",
       "    </tr>\n",
       "    <tr>\n",
       "      <th>9</th>\n",
       "      <td>67.0</td>\n",
       "      <td>38</td>\n",
       "    </tr>\n",
       "    <tr>\n",
       "      <th>10</th>\n",
       "      <td>68.0</td>\n",
       "      <td>44</td>\n",
       "    </tr>\n",
       "    <tr>\n",
       "      <th>11</th>\n",
       "      <td>69.0</td>\n",
       "      <td>55</td>\n",
       "    </tr>\n",
       "    <tr>\n",
       "      <th>12</th>\n",
       "      <td>70.0</td>\n",
       "      <td>55</td>\n",
       "    </tr>\n",
       "    <tr>\n",
       "      <th>13</th>\n",
       "      <td>71.0</td>\n",
       "      <td>52</td>\n",
       "    </tr>\n",
       "    <tr>\n",
       "      <th>14</th>\n",
       "      <td>72.0</td>\n",
       "      <td>29</td>\n",
       "    </tr>\n",
       "    <tr>\n",
       "      <th>15</th>\n",
       "      <td>73.0</td>\n",
       "      <td>15</td>\n",
       "    </tr>\n",
       "    <tr>\n",
       "      <th>16</th>\n",
       "      <td>74.0</td>\n",
       "      <td>8</td>\n",
       "    </tr>\n",
       "    <tr>\n",
       "      <th>17</th>\n",
       "      <td>75.0</td>\n",
       "      <td>5</td>\n",
       "    </tr>\n",
       "    <tr>\n",
       "      <th>18</th>\n",
       "      <td>76.0</td>\n",
       "      <td>3</td>\n",
       "    </tr>\n",
       "    <tr>\n",
       "      <th>19</th>\n",
       "      <td>77.0</td>\n",
       "      <td>2</td>\n",
       "    </tr>\n",
       "    <tr>\n",
       "      <th>20</th>\n",
       "      <td>81.0</td>\n",
       "      <td>1</td>\n",
       "    </tr>\n",
       "  </tbody>\n",
       "</table>\n",
       "</div>"
      ],
      "text/plain": [
       "    HEIGHT  counts\n",
       "0     57.0       1\n",
       "1     59.0       4\n",
       "2     60.0       2\n",
       "3     61.0       1\n",
       "4     62.0       3\n",
       "5     63.0       7\n",
       "6     64.0      17\n",
       "7     65.0      17\n",
       "8     66.0      52\n",
       "9     67.0      38\n",
       "10    68.0      44\n",
       "11    69.0      55\n",
       "12    70.0      55\n",
       "13    71.0      52\n",
       "14    72.0      29\n",
       "15    73.0      15\n",
       "16    74.0       8\n",
       "17    75.0       5\n",
       "18    76.0       3\n",
       "19    77.0       2\n",
       "20    81.0       1"
      ]
     },
     "execution_count": 66,
     "metadata": {},
     "output_type": "execute_result"
    }
   ],
   "source": [
    "df.groupby('HEIGHT').size().reset_index(name='counts')"
   ]
  },
  {
   "cell_type": "code",
   "execution_count": 67,
   "id": "c999dc9e-d93e-4901-90d3-7bd84cad9d57",
   "metadata": {},
   "outputs": [
    {
     "data": {
      "text/plain": [
       "np.float64(68.64720194647202)"
      ]
     },
     "execution_count": 67,
     "metadata": {},
     "output_type": "execute_result"
    }
   ],
   "source": [
    "df['HEIGHT'].mean()"
   ]
  },
  {
   "cell_type": "code",
   "execution_count": 68,
   "id": "baa4d106-255a-4721-9f98-bcd95e05035f",
   "metadata": {},
   "outputs": [
    {
     "data": {
      "text/plain": [
       "np.float64(68.64720194647202)"
      ]
     },
     "execution_count": 68,
     "metadata": {},
     "output_type": "execute_result"
    }
   ],
   "source": [
    "df['HEIGHT'].replace(-99, np.nan).mean()"
   ]
  },
  {
   "cell_type": "code",
   "execution_count": 69,
   "id": "8f48a4a7-6388-4162-a5ec-02a191f701c9",
   "metadata": {},
   "outputs": [
    {
     "data": {
      "text/plain": [
       "np.float64(3.1397701804347755)"
      ]
     },
     "execution_count": 69,
     "metadata": {},
     "output_type": "execute_result"
    }
   ],
   "source": [
    "df['HEIGHT'].replace(-99, np.nan).std()"
   ]
  },
  {
   "cell_type": "code",
   "execution_count": 70,
   "id": "817488c6-3d25-409f-ac7b-e0230edde2ef",
   "metadata": {},
   "outputs": [
    {
     "data": {
      "text/plain": [
       "np.float64(69.0)"
      ]
     },
     "execution_count": 70,
     "metadata": {},
     "output_type": "execute_result"
    }
   ],
   "source": [
    "df['HEIGHT'].replace(-99, np.nan).median()"
   ]
  },
  {
   "cell_type": "code",
   "execution_count": 71,
   "id": "dd938849-4b6e-4073-b2b1-755080adc044",
   "metadata": {},
   "outputs": [
    {
     "data": {
      "text/plain": [
       "339    71.0\n",
       "Name: HEIGHT, dtype: float64"
      ]
     },
     "execution_count": 71,
     "metadata": {},
     "output_type": "execute_result"
    }
   ],
   "source": [
    "df_with57425['HEIGHT']"
   ]
  },
  {
   "cell_type": "code",
   "execution_count": 72,
   "id": "08106252-830c-482b-8502-cda053c0c9c2",
   "metadata": {},
   "outputs": [
    {
     "data": {
      "text/plain": [
       "np.float64(68.64146341463415)"
      ]
     },
     "execution_count": 72,
     "metadata": {},
     "output_type": "execute_result"
    }
   ],
   "source": [
    "df_no57425['HEIGHT'].replace(-99, np.nan).mean()"
   ]
  },
  {
   "cell_type": "code",
   "execution_count": 73,
   "id": "b05567d0-b412-474d-af7b-ba85e6ed9991",
   "metadata": {},
   "outputs": [
    {
     "data": {
      "text/plain": [
       "np.float64(3.1414474736512124)"
      ]
     },
     "execution_count": 73,
     "metadata": {},
     "output_type": "execute_result"
    }
   ],
   "source": [
    "df_no57425['HEIGHT'].replace(-99, np.nan).std()"
   ]
  },
  {
   "cell_type": "code",
   "execution_count": 74,
   "id": "3952e319-da5b-4ef8-b803-ce221cef3226",
   "metadata": {},
   "outputs": [
    {
     "data": {
      "text/plain": [
       "np.float64(69.0)"
      ]
     },
     "execution_count": 74,
     "metadata": {},
     "output_type": "execute_result"
    }
   ],
   "source": [
    "df_no57425['HEIGHT'].replace(-99, np.nan).median()"
   ]
  },
  {
   "cell_type": "code",
   "execution_count": 75,
   "id": "e4ab6b57-db1a-4245-9a59-990c1014ade1",
   "metadata": {},
   "outputs": [
    {
     "data": {
      "text/plain": [
       "np.float64(68.64720194647202)"
      ]
     },
     "execution_count": 75,
     "metadata": {},
     "output_type": "execute_result"
    }
   ],
   "source": [
    "df['HEIGHT'].mean()"
   ]
  },
  {
   "cell_type": "code",
   "execution_count": 76,
   "id": "3f57d211-556f-4863-8277-da4093a96643",
   "metadata": {},
   "outputs": [
    {
     "data": {
      "text/plain": [
       "np.float64(3.1397701804347755)"
      ]
     },
     "execution_count": 76,
     "metadata": {},
     "output_type": "execute_result"
    }
   ],
   "source": [
    "df['HEIGHT'].std()"
   ]
  },
  {
   "cell_type": "code",
   "execution_count": 77,
   "id": "e6780021-b77a-478e-a244-2d0987ad44ec",
   "metadata": {},
   "outputs": [
    {
     "data": {
      "text/plain": [
       "np.float64(69.0)"
      ]
     },
     "execution_count": 77,
     "metadata": {},
     "output_type": "execute_result"
    }
   ],
   "source": [
    "df['HEIGHT'].median()"
   ]
  },
  {
   "cell_type": "code",
   "execution_count": 78,
   "id": "59a2cb4f-9227-4ba0-a98e-926ff75fa62f",
   "metadata": {},
   "outputs": [
    {
     "name": "stderr",
     "output_type": "stream",
     "text": [
      "/var/folders/m8/kh2nk5652k94h_n7lqjvr8n00000gn/T/ipykernel_74986/2963422174.py:6: PerformanceWarning: DataFrame is highly fragmented.  This is usually the result of calling `frame.insert` many times, which has poor performance.  Consider joining all columns at once using pd.concat(axis=1) instead. To get a de-fragmented frame, use `newframe = frame.copy()`\n",
      "  df['height_range'] = pd.cut(df['HEIGHT'], bins=height_bins, labels=height_labels, right=False)\n",
      "/var/folders/m8/kh2nk5652k94h_n7lqjvr8n00000gn/T/ipykernel_74986/2963422174.py:7: PerformanceWarning: DataFrame is highly fragmented.  This is usually the result of calling `frame.insert` many times, which has poor performance.  Consider joining all columns at once using pd.concat(axis=1) instead. To get a de-fragmented frame, use `newframe = frame.copy()`\n",
      "  df['weight_range'] = pd.cut(df['WEIGHT'], bins=weight_bins, labels=weight_labels, right=False)\n"
     ]
    }
   ],
   "source": [
    "height_bins = [0, 60, 65, 70, 75, float('inf')]\n",
    "height_labels = ['<60', '60-65', '65-70', '70-75', '>75']\n",
    "\n",
    "weight_bins = [0, 150, 170, 190, 210, float('inf')]\n",
    "weight_labels = ['<150', '150-170', '170-190', '190-210', '>210']\n",
    "df['height_range'] = pd.cut(df['HEIGHT'], bins=height_bins, labels=height_labels, right=False)\n",
    "df['weight_range'] = pd.cut(df['WEIGHT'], bins=weight_bins, labels=weight_labels, right=False)"
   ]
  },
  {
   "cell_type": "code",
   "execution_count": 79,
   "id": "04471ed2-3bf0-4fcf-ac1c-99f5589e6783",
   "metadata": {},
   "outputs": [
    {
     "name": "stderr",
     "output_type": "stream",
     "text": [
      "/var/folders/m8/kh2nk5652k94h_n7lqjvr8n00000gn/T/ipykernel_74986/1643566101.py:1: FutureWarning: The default of observed=False is deprecated and will be changed to True in a future version of pandas. Pass observed=False to retain current behavior or observed=True to adopt the future default and silence this warning.\n",
      "  df.groupby('height_range').size().reset_index(name='counts').assign(percentage=lambda x: (x['counts'] / df['height_range'].count()) * 100).round(1)\n"
     ]
    },
    {
     "data": {
      "text/html": [
       "<div>\n",
       "<style scoped>\n",
       "    .dataframe tbody tr th:only-of-type {\n",
       "        vertical-align: middle;\n",
       "    }\n",
       "\n",
       "    .dataframe tbody tr th {\n",
       "        vertical-align: top;\n",
       "    }\n",
       "\n",
       "    .dataframe thead th {\n",
       "        text-align: right;\n",
       "    }\n",
       "</style>\n",
       "<table border=\"1\" class=\"dataframe\">\n",
       "  <thead>\n",
       "    <tr style=\"text-align: right;\">\n",
       "      <th></th>\n",
       "      <th>height_range</th>\n",
       "      <th>counts</th>\n",
       "      <th>percentage</th>\n",
       "    </tr>\n",
       "  </thead>\n",
       "  <tbody>\n",
       "    <tr>\n",
       "      <th>0</th>\n",
       "      <td>&lt;60</td>\n",
       "      <td>5</td>\n",
       "      <td>1.2</td>\n",
       "    </tr>\n",
       "    <tr>\n",
       "      <th>1</th>\n",
       "      <td>60-65</td>\n",
       "      <td>30</td>\n",
       "      <td>7.3</td>\n",
       "    </tr>\n",
       "    <tr>\n",
       "      <th>2</th>\n",
       "      <td>65-70</td>\n",
       "      <td>206</td>\n",
       "      <td>50.1</td>\n",
       "    </tr>\n",
       "    <tr>\n",
       "      <th>3</th>\n",
       "      <td>70-75</td>\n",
       "      <td>159</td>\n",
       "      <td>38.7</td>\n",
       "    </tr>\n",
       "    <tr>\n",
       "      <th>4</th>\n",
       "      <td>&gt;75</td>\n",
       "      <td>11</td>\n",
       "      <td>2.7</td>\n",
       "    </tr>\n",
       "  </tbody>\n",
       "</table>\n",
       "</div>"
      ],
      "text/plain": [
       "  height_range  counts  percentage\n",
       "0          <60       5         1.2\n",
       "1        60-65      30         7.3\n",
       "2        65-70     206        50.1\n",
       "3        70-75     159        38.7\n",
       "4          >75      11         2.7"
      ]
     },
     "execution_count": 79,
     "metadata": {},
     "output_type": "execute_result"
    }
   ],
   "source": [
    "df.groupby('height_range').size().reset_index(name='counts').assign(percentage=lambda x: (x['counts'] / df['height_range'].count()) * 100).round(1)"
   ]
  },
  {
   "cell_type": "code",
   "execution_count": 80,
   "id": "b18d6640-2874-41c0-95ef-98f8a1f58e77",
   "metadata": {},
   "outputs": [
    {
     "name": "stderr",
     "output_type": "stream",
     "text": [
      "/var/folders/m8/kh2nk5652k94h_n7lqjvr8n00000gn/T/ipykernel_74986/1717143952.py:1: FutureWarning: The default of observed=False is deprecated and will be changed to True in a future version of pandas. Pass observed=False to retain current behavior or observed=True to adopt the future default and silence this warning.\n",
      "  df.groupby('weight_range').size().reset_index(name='counts').assign(percentage=lambda x: (x['counts'] / df['weight_range'].count()) * 100).round(1)\n"
     ]
    },
    {
     "data": {
      "text/html": [
       "<div>\n",
       "<style scoped>\n",
       "    .dataframe tbody tr th:only-of-type {\n",
       "        vertical-align: middle;\n",
       "    }\n",
       "\n",
       "    .dataframe tbody tr th {\n",
       "        vertical-align: top;\n",
       "    }\n",
       "\n",
       "    .dataframe thead th {\n",
       "        text-align: right;\n",
       "    }\n",
       "</style>\n",
       "<table border=\"1\" class=\"dataframe\">\n",
       "  <thead>\n",
       "    <tr style=\"text-align: right;\">\n",
       "      <th></th>\n",
       "      <th>weight_range</th>\n",
       "      <th>counts</th>\n",
       "      <th>percentage</th>\n",
       "    </tr>\n",
       "  </thead>\n",
       "  <tbody>\n",
       "    <tr>\n",
       "      <th>0</th>\n",
       "      <td>&lt;150</td>\n",
       "      <td>99</td>\n",
       "      <td>24.0</td>\n",
       "    </tr>\n",
       "    <tr>\n",
       "      <th>1</th>\n",
       "      <td>150-170</td>\n",
       "      <td>94</td>\n",
       "      <td>22.8</td>\n",
       "    </tr>\n",
       "    <tr>\n",
       "      <th>2</th>\n",
       "      <td>170-190</td>\n",
       "      <td>90</td>\n",
       "      <td>21.8</td>\n",
       "    </tr>\n",
       "    <tr>\n",
       "      <th>3</th>\n",
       "      <td>190-210</td>\n",
       "      <td>60</td>\n",
       "      <td>14.6</td>\n",
       "    </tr>\n",
       "    <tr>\n",
       "      <th>4</th>\n",
       "      <td>&gt;210</td>\n",
       "      <td>69</td>\n",
       "      <td>16.7</td>\n",
       "    </tr>\n",
       "  </tbody>\n",
       "</table>\n",
       "</div>"
      ],
      "text/plain": [
       "  weight_range  counts  percentage\n",
       "0         <150      99        24.0\n",
       "1      150-170      94        22.8\n",
       "2      170-190      90        21.8\n",
       "3      190-210      60        14.6\n",
       "4         >210      69        16.7"
      ]
     },
     "execution_count": 80,
     "metadata": {},
     "output_type": "execute_result"
    }
   ],
   "source": [
    "df.groupby('weight_range').size().reset_index(name='counts').assign(percentage=lambda x: (x['counts'] / df['weight_range'].count()) * 100).round(1)"
   ]
  },
  {
   "cell_type": "code",
   "execution_count": 81,
   "id": "b734bdef-8d9a-45df-9abb-77842f6ce1a9",
   "metadata": {},
   "outputs": [],
   "source": [
    "df['WEIGHT'] = df['WEIGHT'].replace(-99, np.nan)\n",
    "df['HEIGHT'] = df['HEIGHT'].replace(-99, np.nan)"
   ]
  },
  {
   "cell_type": "code",
   "execution_count": 82,
   "id": "f7d187f4-1d88-45b6-922e-94ea212e57c3",
   "metadata": {},
   "outputs": [
    {
     "name": "stderr",
     "output_type": "stream",
     "text": [
      "/var/folders/m8/kh2nk5652k94h_n7lqjvr8n00000gn/T/ipykernel_74986/4087831008.py:1: PerformanceWarning: DataFrame is highly fragmented.  This is usually the result of calling `frame.insert` many times, which has poor performance.  Consider joining all columns at once using pd.concat(axis=1) instead. To get a de-fragmented frame, use `newframe = frame.copy()`\n",
      "  df['BMI'] = (df['WEIGHT'] / (df['HEIGHT'] ** 2)) * 703\n"
     ]
    }
   ],
   "source": [
    "df['BMI'] = (df['WEIGHT'] / (df['HEIGHT'] ** 2)) * 703"
   ]
  },
  {
   "cell_type": "code",
   "execution_count": 83,
   "id": "24eb9983-ac85-413a-9b84-7111606f27bf",
   "metadata": {},
   "outputs": [
    {
     "data": {
      "text/plain": [
       "np.float64(26.27592011343199)"
      ]
     },
     "execution_count": 83,
     "metadata": {},
     "output_type": "execute_result"
    }
   ],
   "source": [
    "df['BMI'].mean()"
   ]
  },
  {
   "cell_type": "code",
   "execution_count": 84,
   "id": "9a6be420-821b-451b-b75b-f51e5f37cf59",
   "metadata": {},
   "outputs": [
    {
     "data": {
      "text/plain": [
       "np.float64(5.307822862788388)"
      ]
     },
     "execution_count": 84,
     "metadata": {},
     "output_type": "execute_result"
    }
   ],
   "source": [
    "df['BMI'].std()"
   ]
  },
  {
   "cell_type": "code",
   "execution_count": 85,
   "id": "ff7224e5-9988-468e-8c22-c16364332836",
   "metadata": {},
   "outputs": [
    {
     "data": {
      "text/plain": [
       "np.float64(25.68092105263158)"
      ]
     },
     "execution_count": 85,
     "metadata": {},
     "output_type": "execute_result"
    }
   ],
   "source": [
    "df['BMI'].median()"
   ]
  },
  {
   "cell_type": "code",
   "execution_count": 86,
   "id": "f02b7bcf-167a-48e9-9bb1-7328c592a7d6",
   "metadata": {},
   "outputs": [
    {
     "data": {
      "text/html": [
       "<div>\n",
       "<style scoped>\n",
       "    .dataframe tbody tr th:only-of-type {\n",
       "        vertical-align: middle;\n",
       "    }\n",
       "\n",
       "    .dataframe tbody tr th {\n",
       "        vertical-align: top;\n",
       "    }\n",
       "\n",
       "    .dataframe thead th {\n",
       "        text-align: right;\n",
       "    }\n",
       "</style>\n",
       "<table border=\"1\" class=\"dataframe\">\n",
       "  <thead>\n",
       "    <tr style=\"text-align: right;\">\n",
       "      <th></th>\n",
       "      <th>BMI</th>\n",
       "      <th>counts</th>\n",
       "    </tr>\n",
       "  </thead>\n",
       "  <tbody>\n",
       "    <tr>\n",
       "      <th>0</th>\n",
       "      <td>15.619123</td>\n",
       "      <td>1</td>\n",
       "    </tr>\n",
       "    <tr>\n",
       "      <th>1</th>\n",
       "      <td>16.047297</td>\n",
       "      <td>1</td>\n",
       "    </tr>\n",
       "    <tr>\n",
       "      <th>2</th>\n",
       "      <td>16.419550</td>\n",
       "      <td>1</td>\n",
       "    </tr>\n",
       "    <tr>\n",
       "      <th>3</th>\n",
       "      <td>16.537702</td>\n",
       "      <td>1</td>\n",
       "    </tr>\n",
       "    <tr>\n",
       "      <th>4</th>\n",
       "      <td>16.679977</td>\n",
       "      <td>1</td>\n",
       "    </tr>\n",
       "    <tr>\n",
       "      <th>...</th>\n",
       "      <td>...</td>\n",
       "      <td>...</td>\n",
       "    </tr>\n",
       "    <tr>\n",
       "      <th>340</th>\n",
       "      <td>41.970149</td>\n",
       "      <td>1</td>\n",
       "    </tr>\n",
       "    <tr>\n",
       "      <th>341</th>\n",
       "      <td>42.126754</td>\n",
       "      <td>1</td>\n",
       "    </tr>\n",
       "    <tr>\n",
       "      <th>342</th>\n",
       "      <td>43.614694</td>\n",
       "      <td>1</td>\n",
       "    </tr>\n",
       "    <tr>\n",
       "      <th>343</th>\n",
       "      <td>45.343411</td>\n",
       "      <td>1</td>\n",
       "    </tr>\n",
       "    <tr>\n",
       "      <th>344</th>\n",
       "      <td>46.156566</td>\n",
       "      <td>1</td>\n",
       "    </tr>\n",
       "  </tbody>\n",
       "</table>\n",
       "<p>345 rows × 2 columns</p>\n",
       "</div>"
      ],
      "text/plain": [
       "           BMI  counts\n",
       "0    15.619123       1\n",
       "1    16.047297       1\n",
       "2    16.419550       1\n",
       "3    16.537702       1\n",
       "4    16.679977       1\n",
       "..         ...     ...\n",
       "340  41.970149       1\n",
       "341  42.126754       1\n",
       "342  43.614694       1\n",
       "343  45.343411       1\n",
       "344  46.156566       1\n",
       "\n",
       "[345 rows x 2 columns]"
      ]
     },
     "execution_count": 86,
     "metadata": {},
     "output_type": "execute_result"
    }
   ],
   "source": [
    "df.groupby('BMI').size().reset_index(name='counts')"
   ]
  },
  {
   "cell_type": "code",
   "execution_count": 87,
   "id": "49b26c1b-4925-42ed-9869-e6f721e26122",
   "metadata": {},
   "outputs": [
    {
     "name": "stderr",
     "output_type": "stream",
     "text": [
      "/var/folders/m8/kh2nk5652k94h_n7lqjvr8n00000gn/T/ipykernel_74986/1862381748.py:1: PerformanceWarning: DataFrame is highly fragmented.  This is usually the result of calling `frame.insert` many times, which has poor performance.  Consider joining all columns at once using pd.concat(axis=1) instead. To get a de-fragmented frame, use `newframe = frame.copy()`\n",
      "  df_with57425['BMI'] = (df_with57425['WEIGHT'] / (df_with57425['HEIGHT'] ** 2)) * 703\n",
      "/var/folders/m8/kh2nk5652k94h_n7lqjvr8n00000gn/T/ipykernel_74986/1862381748.py:1: SettingWithCopyWarning: \n",
      "A value is trying to be set on a copy of a slice from a DataFrame.\n",
      "Try using .loc[row_indexer,col_indexer] = value instead\n",
      "\n",
      "See the caveats in the documentation: https://pandas.pydata.org/pandas-docs/stable/user_guide/indexing.html#returning-a-view-versus-a-copy\n",
      "  df_with57425['BMI'] = (df_with57425['WEIGHT'] / (df_with57425['HEIGHT'] ** 2)) * 703\n"
     ]
    }
   ],
   "source": [
    "df_with57425['BMI'] = (df_with57425['WEIGHT'] / (df_with57425['HEIGHT'] ** 2)) * 703"
   ]
  },
  {
   "cell_type": "code",
   "execution_count": 88,
   "id": "72a06852-d102-45d4-9509-adf61ca0ff78",
   "metadata": {},
   "outputs": [
    {
     "data": {
      "text/plain": [
       "339    27.891291\n",
       "Name: BMI, dtype: float64"
      ]
     },
     "execution_count": 88,
     "metadata": {},
     "output_type": "execute_result"
    }
   ],
   "source": [
    "df_with57425['BMI']"
   ]
  },
  {
   "cell_type": "code",
   "execution_count": 89,
   "id": "a83f8493-8603-4294-a829-18a7cdd21b4f",
   "metadata": {},
   "outputs": [],
   "source": [
    "df_no57425['WEIGHT'] = df_no57425['WEIGHT'].replace(-99, np.nan)\n",
    "df_no57425['HEIGHT'] = df_no57425['HEIGHT'].replace(-99, np.nan)"
   ]
  },
  {
   "cell_type": "code",
   "execution_count": 90,
   "id": "33324ef8-de15-4da9-af9a-0d75098ddc3d",
   "metadata": {},
   "outputs": [
    {
     "name": "stderr",
     "output_type": "stream",
     "text": [
      "/var/folders/m8/kh2nk5652k94h_n7lqjvr8n00000gn/T/ipykernel_74986/1533754504.py:1: PerformanceWarning: DataFrame is highly fragmented.  This is usually the result of calling `frame.insert` many times, which has poor performance.  Consider joining all columns at once using pd.concat(axis=1) instead. To get a de-fragmented frame, use `newframe = frame.copy()`\n",
      "  df_no57425['BMI'] = (df_no57425['WEIGHT'] / (df_no57425['HEIGHT'] ** 2)) * 703\n"
     ]
    }
   ],
   "source": [
    "df_no57425['BMI'] = (df_no57425['WEIGHT'] / (df_no57425['HEIGHT'] ** 2)) * 703"
   ]
  },
  {
   "cell_type": "code",
   "execution_count": 91,
   "id": "cfb471f0-c4d7-4484-9c7b-2ca38aef767d",
   "metadata": {},
   "outputs": [
    {
     "data": {
      "text/plain": [
       "np.float64(26.2719801834393)"
      ]
     },
     "execution_count": 91,
     "metadata": {},
     "output_type": "execute_result"
    }
   ],
   "source": [
    "df_no57425['BMI'].mean()"
   ]
  },
  {
   "cell_type": "code",
   "execution_count": 92,
   "id": "8b08124a-9771-4366-bd50-7aa11110a10c",
   "metadata": {},
   "outputs": [
    {
     "data": {
      "text/plain": [
       "np.float64(5.313705916896579)"
      ]
     },
     "execution_count": 92,
     "metadata": {},
     "output_type": "execute_result"
    }
   ],
   "source": [
    "df_no57425['BMI'].std()"
   ]
  },
  {
   "cell_type": "code",
   "execution_count": 93,
   "id": "afb16f7b-1c2d-4e95-b18f-4156981a95dc",
   "metadata": {},
   "outputs": [
    {
     "data": {
      "text/plain": [
       "np.float64(25.612882286450215)"
      ]
     },
     "execution_count": 93,
     "metadata": {},
     "output_type": "execute_result"
    }
   ],
   "source": [
    "df_no57425['BMI'].median()"
   ]
  },
  {
   "cell_type": "code",
   "execution_count": 94,
   "id": "5a2f5760-34ed-4e24-b1d7-d153e52d2677",
   "metadata": {},
   "outputs": [
    {
     "name": "stderr",
     "output_type": "stream",
     "text": [
      "/var/folders/m8/kh2nk5652k94h_n7lqjvr8n00000gn/T/ipykernel_74986/693233106.py:4: PerformanceWarning: DataFrame is highly fragmented.  This is usually the result of calling `frame.insert` many times, which has poor performance.  Consider joining all columns at once using pd.concat(axis=1) instead. To get a de-fragmented frame, use `newframe = frame.copy()`\n",
      "  df['BMI_range'] = pd.cut(df['BMI'], bins=bmi_bins, right=False)\n",
      "/var/folders/m8/kh2nk5652k94h_n7lqjvr8n00000gn/T/ipykernel_74986/693233106.py:5: PerformanceWarning: DataFrame is highly fragmented.  This is usually the result of calling `frame.insert` many times, which has poor performance.  Consider joining all columns at once using pd.concat(axis=1) instead. To get a de-fragmented frame, use `newframe = frame.copy()`\n",
      "  df['weight_status'] = pd.cut(df['BMI'], bins=bmi_bins, labels=bmi_labels, right=False)\n"
     ]
    }
   ],
   "source": [
    "bmi_bins = [0, 18.5, 24.9, 29.9, float('inf')]\n",
    "bmi_labels = ['Underweight', 'Normal weight', 'Overweight', 'Obesity']\n",
    "\n",
    "df['BMI_range'] = pd.cut(df['BMI'], bins=bmi_bins, right=False)\n",
    "df['weight_status'] = pd.cut(df['BMI'], bins=bmi_bins, labels=bmi_labels, right=False)"
   ]
  },
  {
   "cell_type": "code",
   "execution_count": 95,
   "id": "d03cfacc-8f82-4448-b40e-c45c5a775b4e",
   "metadata": {},
   "outputs": [
    {
     "name": "stderr",
     "output_type": "stream",
     "text": [
      "/var/folders/m8/kh2nk5652k94h_n7lqjvr8n00000gn/T/ipykernel_74986/3212768006.py:1: FutureWarning: The default of observed=False is deprecated and will be changed to True in a future version of pandas. Pass observed=False to retain current behavior or observed=True to adopt the future default and silence this warning.\n",
      "  df.groupby('BMI_range').size().reset_index(name='counts').assign(percentage=lambda x: (x['counts'] / df['BMI_range'].count()) * 100).round(1)\n"
     ]
    },
    {
     "data": {
      "text/html": [
       "<div>\n",
       "<style scoped>\n",
       "    .dataframe tbody tr th:only-of-type {\n",
       "        vertical-align: middle;\n",
       "    }\n",
       "\n",
       "    .dataframe tbody tr th {\n",
       "        vertical-align: top;\n",
       "    }\n",
       "\n",
       "    .dataframe thead th {\n",
       "        text-align: right;\n",
       "    }\n",
       "</style>\n",
       "<table border=\"1\" class=\"dataframe\">\n",
       "  <thead>\n",
       "    <tr style=\"text-align: right;\">\n",
       "      <th></th>\n",
       "      <th>BMI_range</th>\n",
       "      <th>counts</th>\n",
       "      <th>percentage</th>\n",
       "    </tr>\n",
       "  </thead>\n",
       "  <tbody>\n",
       "    <tr>\n",
       "      <th>0</th>\n",
       "      <td>[0.0, 18.5)</td>\n",
       "      <td>10</td>\n",
       "      <td>2.4</td>\n",
       "    </tr>\n",
       "    <tr>\n",
       "      <th>1</th>\n",
       "      <td>[18.5, 24.9)</td>\n",
       "      <td>171</td>\n",
       "      <td>41.6</td>\n",
       "    </tr>\n",
       "    <tr>\n",
       "      <th>2</th>\n",
       "      <td>[24.9, 29.9)</td>\n",
       "      <td>144</td>\n",
       "      <td>35.0</td>\n",
       "    </tr>\n",
       "    <tr>\n",
       "      <th>3</th>\n",
       "      <td>[29.9, inf)</td>\n",
       "      <td>86</td>\n",
       "      <td>20.9</td>\n",
       "    </tr>\n",
       "  </tbody>\n",
       "</table>\n",
       "</div>"
      ],
      "text/plain": [
       "      BMI_range  counts  percentage\n",
       "0   [0.0, 18.5)      10         2.4\n",
       "1  [18.5, 24.9)     171        41.6\n",
       "2  [24.9, 29.9)     144        35.0\n",
       "3   [29.9, inf)      86        20.9"
      ]
     },
     "execution_count": 95,
     "metadata": {},
     "output_type": "execute_result"
    }
   ],
   "source": [
    "df.groupby('BMI_range').size().reset_index(name='counts').assign(percentage=lambda x: (x['counts'] / df['BMI_range'].count()) * 100).round(1)"
   ]
  },
  {
   "cell_type": "code",
   "execution_count": 96,
   "id": "44250d97-9715-4ab6-85d5-6a2fda6836d3",
   "metadata": {},
   "outputs": [
    {
     "name": "stderr",
     "output_type": "stream",
     "text": [
      "/var/folders/m8/kh2nk5652k94h_n7lqjvr8n00000gn/T/ipykernel_74986/1592347347.py:1: FutureWarning: The default of observed=False is deprecated and will be changed to True in a future version of pandas. Pass observed=False to retain current behavior or observed=True to adopt the future default and silence this warning.\n",
      "  df.groupby('weight_status').size().reset_index(name='counts').assign(percentage=lambda x: (x['counts'] / df['weight_status'].count()) * 100).round(1)\n"
     ]
    },
    {
     "data": {
      "text/html": [
       "<div>\n",
       "<style scoped>\n",
       "    .dataframe tbody tr th:only-of-type {\n",
       "        vertical-align: middle;\n",
       "    }\n",
       "\n",
       "    .dataframe tbody tr th {\n",
       "        vertical-align: top;\n",
       "    }\n",
       "\n",
       "    .dataframe thead th {\n",
       "        text-align: right;\n",
       "    }\n",
       "</style>\n",
       "<table border=\"1\" class=\"dataframe\">\n",
       "  <thead>\n",
       "    <tr style=\"text-align: right;\">\n",
       "      <th></th>\n",
       "      <th>weight_status</th>\n",
       "      <th>counts</th>\n",
       "      <th>percentage</th>\n",
       "    </tr>\n",
       "  </thead>\n",
       "  <tbody>\n",
       "    <tr>\n",
       "      <th>0</th>\n",
       "      <td>Underweight</td>\n",
       "      <td>10</td>\n",
       "      <td>2.4</td>\n",
       "    </tr>\n",
       "    <tr>\n",
       "      <th>1</th>\n",
       "      <td>Normal weight</td>\n",
       "      <td>171</td>\n",
       "      <td>41.6</td>\n",
       "    </tr>\n",
       "    <tr>\n",
       "      <th>2</th>\n",
       "      <td>Overweight</td>\n",
       "      <td>144</td>\n",
       "      <td>35.0</td>\n",
       "    </tr>\n",
       "    <tr>\n",
       "      <th>3</th>\n",
       "      <td>Obesity</td>\n",
       "      <td>86</td>\n",
       "      <td>20.9</td>\n",
       "    </tr>\n",
       "  </tbody>\n",
       "</table>\n",
       "</div>"
      ],
      "text/plain": [
       "   weight_status  counts  percentage\n",
       "0    Underweight      10         2.4\n",
       "1  Normal weight     171        41.6\n",
       "2     Overweight     144        35.0\n",
       "3        Obesity      86        20.9"
      ]
     },
     "execution_count": 96,
     "metadata": {},
     "output_type": "execute_result"
    }
   ],
   "source": [
    "df.groupby('weight_status').size().reset_index(name='counts').assign(percentage=lambda x: (x['counts'] / df['weight_status'].count()) * 100).round(1)"
   ]
  },
  {
   "cell_type": "code",
   "execution_count": 97,
   "id": "f9f86fcd-7d3e-40fc-94e1-a50deb764867",
   "metadata": {},
   "outputs": [
    {
     "data": {
      "text/html": [
       "<div>\n",
       "<style scoped>\n",
       "    .dataframe tbody tr th:only-of-type {\n",
       "        vertical-align: middle;\n",
       "    }\n",
       "\n",
       "    .dataframe tbody tr th {\n",
       "        vertical-align: top;\n",
       "    }\n",
       "\n",
       "    .dataframe thead th {\n",
       "        text-align: right;\n",
       "    }\n",
       "</style>\n",
       "<table border=\"1\" class=\"dataframe\">\n",
       "  <thead>\n",
       "    <tr style=\"text-align: right;\">\n",
       "      <th></th>\n",
       "      <th>ASACLAS</th>\n",
       "      <th>counts</th>\n",
       "      <th>percentage</th>\n",
       "    </tr>\n",
       "  </thead>\n",
       "  <tbody>\n",
       "    <tr>\n",
       "      <th>0</th>\n",
       "      <td>1-No Disturb</td>\n",
       "      <td>88</td>\n",
       "      <td>21.31</td>\n",
       "    </tr>\n",
       "    <tr>\n",
       "      <th>1</th>\n",
       "      <td>2-Mild Disturb</td>\n",
       "      <td>280</td>\n",
       "      <td>67.80</td>\n",
       "    </tr>\n",
       "    <tr>\n",
       "      <th>2</th>\n",
       "      <td>3-Severe Disturb</td>\n",
       "      <td>45</td>\n",
       "      <td>10.90</td>\n",
       "    </tr>\n",
       "  </tbody>\n",
       "</table>\n",
       "</div>"
      ],
      "text/plain": [
       "            ASACLAS  counts  percentage\n",
       "0      1-No Disturb      88       21.31\n",
       "1    2-Mild Disturb     280       67.80\n",
       "2  3-Severe Disturb      45       10.90"
      ]
     },
     "execution_count": 97,
     "metadata": {},
     "output_type": "execute_result"
    }
   ],
   "source": [
    "df.groupby('ASACLAS').size().reset_index(name='counts').assign(percentage=lambda x: (x['counts'] / df['ASACLAS'].count()) * 100).round(2)"
   ]
  },
  {
   "cell_type": "code",
   "execution_count": 98,
   "id": "f81373ec-2925-495c-a805-45e4a5bae0f2",
   "metadata": {},
   "outputs": [
    {
     "data": {
      "text/html": [
       "<div>\n",
       "<style scoped>\n",
       "    .dataframe tbody tr th:only-of-type {\n",
       "        vertical-align: middle;\n",
       "    }\n",
       "\n",
       "    .dataframe tbody tr th {\n",
       "        vertical-align: top;\n",
       "    }\n",
       "\n",
       "    .dataframe thead th {\n",
       "        text-align: right;\n",
       "    }\n",
       "</style>\n",
       "<table border=\"1\" class=\"dataframe\">\n",
       "  <thead>\n",
       "    <tr style=\"text-align: right;\">\n",
       "      <th></th>\n",
       "      <th>ASACLAS</th>\n",
       "      <th>counts</th>\n",
       "      <th>percentage</th>\n",
       "    </tr>\n",
       "  </thead>\n",
       "  <tbody>\n",
       "    <tr>\n",
       "      <th>0</th>\n",
       "      <td>3-Severe Disturb</td>\n",
       "      <td>1</td>\n",
       "      <td>100.0</td>\n",
       "    </tr>\n",
       "  </tbody>\n",
       "</table>\n",
       "</div>"
      ],
      "text/plain": [
       "            ASACLAS  counts  percentage\n",
       "0  3-Severe Disturb       1       100.0"
      ]
     },
     "execution_count": 98,
     "metadata": {},
     "output_type": "execute_result"
    }
   ],
   "source": [
    "df_with57425.groupby('ASACLAS').size().reset_index(name='counts').assign(percentage=lambda x: (x['counts'] / df_with57425['ASACLAS'].count()) * 100).round(2)"
   ]
  },
  {
   "cell_type": "code",
   "execution_count": 99,
   "id": "6ae6c56c-2284-438f-8082-685338ca0a1f",
   "metadata": {},
   "outputs": [
    {
     "data": {
      "text/html": [
       "<div>\n",
       "<style scoped>\n",
       "    .dataframe tbody tr th:only-of-type {\n",
       "        vertical-align: middle;\n",
       "    }\n",
       "\n",
       "    .dataframe tbody tr th {\n",
       "        vertical-align: top;\n",
       "    }\n",
       "\n",
       "    .dataframe thead th {\n",
       "        text-align: right;\n",
       "    }\n",
       "</style>\n",
       "<table border=\"1\" class=\"dataframe\">\n",
       "  <thead>\n",
       "    <tr style=\"text-align: right;\">\n",
       "      <th></th>\n",
       "      <th>ASACLAS</th>\n",
       "      <th>counts</th>\n",
       "      <th>percentage</th>\n",
       "    </tr>\n",
       "  </thead>\n",
       "  <tbody>\n",
       "    <tr>\n",
       "      <th>0</th>\n",
       "      <td>1-No Disturb</td>\n",
       "      <td>88</td>\n",
       "      <td>21.36</td>\n",
       "    </tr>\n",
       "    <tr>\n",
       "      <th>1</th>\n",
       "      <td>2-Mild Disturb</td>\n",
       "      <td>280</td>\n",
       "      <td>67.96</td>\n",
       "    </tr>\n",
       "    <tr>\n",
       "      <th>2</th>\n",
       "      <td>3-Severe Disturb</td>\n",
       "      <td>44</td>\n",
       "      <td>10.68</td>\n",
       "    </tr>\n",
       "  </tbody>\n",
       "</table>\n",
       "</div>"
      ],
      "text/plain": [
       "            ASACLAS  counts  percentage\n",
       "0      1-No Disturb      88       21.36\n",
       "1    2-Mild Disturb     280       67.96\n",
       "2  3-Severe Disturb      44       10.68"
      ]
     },
     "execution_count": 99,
     "metadata": {},
     "output_type": "execute_result"
    }
   ],
   "source": [
    "df_no57425.groupby('ASACLAS').size().reset_index(name='counts').assign(percentage=lambda x: (x['counts'] / df_no57425['ASACLAS'].count()) * 100).round(2)"
   ]
  },
  {
   "cell_type": "code",
   "execution_count": 100,
   "id": "45c2b0a9-370d-4e80-8403-b21a13acb2b7",
   "metadata": {},
   "outputs": [
    {
     "data": {
      "text/html": [
       "<div>\n",
       "<style scoped>\n",
       "    .dataframe tbody tr th:only-of-type {\n",
       "        vertical-align: middle;\n",
       "    }\n",
       "\n",
       "    .dataframe tbody tr th {\n",
       "        vertical-align: top;\n",
       "    }\n",
       "\n",
       "    .dataframe thead th {\n",
       "        text-align: right;\n",
       "    }\n",
       "</style>\n",
       "<table border=\"1\" class=\"dataframe\">\n",
       "  <thead>\n",
       "    <tr style=\"text-align: right;\">\n",
       "      <th></th>\n",
       "      <th>MORTPROB</th>\n",
       "      <th>counts</th>\n",
       "    </tr>\n",
       "  </thead>\n",
       "  <tbody>\n",
       "    <tr>\n",
       "      <th>0</th>\n",
       "      <td>0.000016</td>\n",
       "      <td>1</td>\n",
       "    </tr>\n",
       "    <tr>\n",
       "      <th>1</th>\n",
       "      <td>0.000026</td>\n",
       "      <td>1</td>\n",
       "    </tr>\n",
       "    <tr>\n",
       "      <th>2</th>\n",
       "      <td>0.000030</td>\n",
       "      <td>1</td>\n",
       "    </tr>\n",
       "    <tr>\n",
       "      <th>3</th>\n",
       "      <td>0.000032</td>\n",
       "      <td>1</td>\n",
       "    </tr>\n",
       "    <tr>\n",
       "      <th>4</th>\n",
       "      <td>0.000032</td>\n",
       "      <td>1</td>\n",
       "    </tr>\n",
       "    <tr>\n",
       "      <th>...</th>\n",
       "      <td>...</td>\n",
       "      <td>...</td>\n",
       "    </tr>\n",
       "    <tr>\n",
       "      <th>408</th>\n",
       "      <td>0.003457</td>\n",
       "      <td>1</td>\n",
       "    </tr>\n",
       "    <tr>\n",
       "      <th>409</th>\n",
       "      <td>0.004871</td>\n",
       "      <td>1</td>\n",
       "    </tr>\n",
       "    <tr>\n",
       "      <th>410</th>\n",
       "      <td>0.005049</td>\n",
       "      <td>1</td>\n",
       "    </tr>\n",
       "    <tr>\n",
       "      <th>411</th>\n",
       "      <td>0.005110</td>\n",
       "      <td>1</td>\n",
       "    </tr>\n",
       "    <tr>\n",
       "      <th>412</th>\n",
       "      <td>0.005685</td>\n",
       "      <td>1</td>\n",
       "    </tr>\n",
       "  </tbody>\n",
       "</table>\n",
       "<p>413 rows × 2 columns</p>\n",
       "</div>"
      ],
      "text/plain": [
       "     MORTPROB  counts\n",
       "0    0.000016       1\n",
       "1    0.000026       1\n",
       "2    0.000030       1\n",
       "3    0.000032       1\n",
       "4    0.000032       1\n",
       "..        ...     ...\n",
       "408  0.003457       1\n",
       "409  0.004871       1\n",
       "410  0.005049       1\n",
       "411  0.005110       1\n",
       "412  0.005685       1\n",
       "\n",
       "[413 rows x 2 columns]"
      ]
     },
     "execution_count": 100,
     "metadata": {},
     "output_type": "execute_result"
    }
   ],
   "source": [
    "df.groupby('MORTPROB').size().reset_index(name='counts')"
   ]
  },
  {
   "cell_type": "code",
   "execution_count": 101,
   "id": "ea01cc2a-82a0-43e1-a688-d5ba3e9c7921",
   "metadata": {},
   "outputs": [
    {
     "data": {
      "text/plain": [
       "np.float64(0.0003902249822449217)"
      ]
     },
     "execution_count": 101,
     "metadata": {},
     "output_type": "execute_result"
    }
   ],
   "source": [
    "df['MORTPROB'].mean()"
   ]
  },
  {
   "cell_type": "code",
   "execution_count": 102,
   "id": "77432077-a1f7-4e28-bd31-4ba067a114c9",
   "metadata": {},
   "outputs": [
    {
     "data": {
      "text/plain": [
       "np.float64(0.0006369394698139782)"
      ]
     },
     "execution_count": 102,
     "metadata": {},
     "output_type": "execute_result"
    }
   ],
   "source": [
    "df['MORTPROB'].std()"
   ]
  },
  {
   "cell_type": "code",
   "execution_count": 103,
   "id": "b15f3371-2055-4ffa-9b8f-843f357d2126",
   "metadata": {},
   "outputs": [
    {
     "data": {
      "text/plain": [
       "np.float64(0.0001965196)"
      ]
     },
     "execution_count": 103,
     "metadata": {},
     "output_type": "execute_result"
    }
   ],
   "source": [
    "df['MORTPROB'].median()"
   ]
  },
  {
   "cell_type": "code",
   "execution_count": 104,
   "id": "90fc0fa3-16d8-4e6b-bc0e-53f94d9fe514",
   "metadata": {},
   "outputs": [
    {
     "data": {
      "text/plain": [
       "339    0.000298\n",
       "Name: MORTPROB, dtype: float64"
      ]
     },
     "execution_count": 104,
     "metadata": {},
     "output_type": "execute_result"
    }
   ],
   "source": [
    "df_with57425['MORTPROB']"
   ]
  },
  {
   "cell_type": "code",
   "execution_count": 105,
   "id": "f7cd680f-c205-4dfc-a5fa-e8461c95d364",
   "metadata": {},
   "outputs": [
    {
     "data": {
      "text/plain": [
       "np.float64(0.00039044915768726376)"
      ]
     },
     "execution_count": 105,
     "metadata": {},
     "output_type": "execute_result"
    }
   ],
   "source": [
    "df_no57425['MORTPROB'].mean()"
   ]
  },
  {
   "cell_type": "code",
   "execution_count": 106,
   "id": "766d9d4c-a6fe-4592-a41c-8dadbe142a1d",
   "metadata": {},
   "outputs": [
    {
     "data": {
      "text/plain": [
       "np.float64(0.000637697551690554)"
      ]
     },
     "execution_count": 106,
     "metadata": {},
     "output_type": "execute_result"
    }
   ],
   "source": [
    "df_no57425['MORTPROB'].std()"
   ]
  },
  {
   "cell_type": "code",
   "execution_count": 107,
   "id": "794e0444-7c2e-47bb-ab50-da0725a1d488",
   "metadata": {},
   "outputs": [
    {
     "data": {
      "text/plain": [
       "np.float64(0.00019649430000000001)"
      ]
     },
     "execution_count": 107,
     "metadata": {},
     "output_type": "execute_result"
    }
   ],
   "source": [
    "df_no57425['MORTPROB'].median()"
   ]
  },
  {
   "cell_type": "code",
   "execution_count": 108,
   "id": "752b1f4c-35f9-404c-b136-89062eee6534",
   "metadata": {},
   "outputs": [
    {
     "name": "stderr",
     "output_type": "stream",
     "text": [
      "/var/folders/m8/kh2nk5652k94h_n7lqjvr8n00000gn/T/ipykernel_74986/9095050.py:3: PerformanceWarning: DataFrame is highly fragmented.  This is usually the result of calling `frame.insert` many times, which has poor performance.  Consider joining all columns at once using pd.concat(axis=1) instead. To get a de-fragmented frame, use `newframe = frame.copy()`\n",
      "  df['MORTPROB_range'] = pd.cut(df['MORTPROB'], bins=mortprob_bins, labels=mortprob_labels, right=True)\n"
     ]
    }
   ],
   "source": [
    "mortprob_bins = [0, 0.0012, 0.0024, 0.0036, 0.0048, 0.006]\n",
    "mortprob_labels = ['0-0.0012', '0.0012-0.0024', '0.0024-0.0036', '0.0036-0.0048', '0.0048-0.006']\n",
    "df['MORTPROB_range'] = pd.cut(df['MORTPROB'], bins=mortprob_bins, labels=mortprob_labels, right=True)"
   ]
  },
  {
   "cell_type": "code",
   "execution_count": 109,
   "id": "1971a31d-3387-4231-8e70-3f4a482f36bf",
   "metadata": {},
   "outputs": [
    {
     "name": "stderr",
     "output_type": "stream",
     "text": [
      "/var/folders/m8/kh2nk5652k94h_n7lqjvr8n00000gn/T/ipykernel_74986/1951369349.py:1: FutureWarning: The default of observed=False is deprecated and will be changed to True in a future version of pandas. Pass observed=False to retain current behavior or observed=True to adopt the future default and silence this warning.\n",
      "  df.groupby('MORTPROB_range').size().reset_index(name='counts').assign(percentage=lambda x: (x['counts'] / df['MORTPROB_range'].count()) * 100).round(1)\n"
     ]
    },
    {
     "data": {
      "text/html": [
       "<div>\n",
       "<style scoped>\n",
       "    .dataframe tbody tr th:only-of-type {\n",
       "        vertical-align: middle;\n",
       "    }\n",
       "\n",
       "    .dataframe tbody tr th {\n",
       "        vertical-align: top;\n",
       "    }\n",
       "\n",
       "    .dataframe thead th {\n",
       "        text-align: right;\n",
       "    }\n",
       "</style>\n",
       "<table border=\"1\" class=\"dataframe\">\n",
       "  <thead>\n",
       "    <tr style=\"text-align: right;\">\n",
       "      <th></th>\n",
       "      <th>MORTPROB_range</th>\n",
       "      <th>counts</th>\n",
       "      <th>percentage</th>\n",
       "    </tr>\n",
       "  </thead>\n",
       "  <tbody>\n",
       "    <tr>\n",
       "      <th>0</th>\n",
       "      <td>0-0.0012</td>\n",
       "      <td>388</td>\n",
       "      <td>93.9</td>\n",
       "    </tr>\n",
       "    <tr>\n",
       "      <th>1</th>\n",
       "      <td>0.0012-0.0024</td>\n",
       "      <td>17</td>\n",
       "      <td>4.1</td>\n",
       "    </tr>\n",
       "    <tr>\n",
       "      <th>2</th>\n",
       "      <td>0.0024-0.0036</td>\n",
       "      <td>4</td>\n",
       "      <td>1.0</td>\n",
       "    </tr>\n",
       "    <tr>\n",
       "      <th>3</th>\n",
       "      <td>0.0036-0.0048</td>\n",
       "      <td>0</td>\n",
       "      <td>0.0</td>\n",
       "    </tr>\n",
       "    <tr>\n",
       "      <th>4</th>\n",
       "      <td>0.0048-0.006</td>\n",
       "      <td>4</td>\n",
       "      <td>1.0</td>\n",
       "    </tr>\n",
       "  </tbody>\n",
       "</table>\n",
       "</div>"
      ],
      "text/plain": [
       "  MORTPROB_range  counts  percentage\n",
       "0       0-0.0012     388        93.9\n",
       "1  0.0012-0.0024      17         4.1\n",
       "2  0.0024-0.0036       4         1.0\n",
       "3  0.0036-0.0048       0         0.0\n",
       "4   0.0048-0.006       4         1.0"
      ]
     },
     "execution_count": 109,
     "metadata": {},
     "output_type": "execute_result"
    }
   ],
   "source": [
    "df.groupby('MORTPROB_range').size().reset_index(name='counts').assign(percentage=lambda x: (x['counts'] / df['MORTPROB_range'].count()) * 100).round(1)"
   ]
  },
  {
   "cell_type": "code",
   "execution_count": 110,
   "id": "d04501bb-2a9c-46e4-9503-e660896ebce3",
   "metadata": {},
   "outputs": [
    {
     "data": {
      "text/html": [
       "<div>\n",
       "<style scoped>\n",
       "    .dataframe tbody tr th:only-of-type {\n",
       "        vertical-align: middle;\n",
       "    }\n",
       "\n",
       "    .dataframe tbody tr th {\n",
       "        vertical-align: top;\n",
       "    }\n",
       "\n",
       "    .dataframe thead th {\n",
       "        text-align: right;\n",
       "    }\n",
       "</style>\n",
       "<table border=\"1\" class=\"dataframe\">\n",
       "  <thead>\n",
       "    <tr style=\"text-align: right;\">\n",
       "      <th></th>\n",
       "      <th>SMOKE</th>\n",
       "      <th>counts</th>\n",
       "      <th>percentage</th>\n",
       "    </tr>\n",
       "  </thead>\n",
       "  <tbody>\n",
       "    <tr>\n",
       "      <th>0</th>\n",
       "      <td>No</td>\n",
       "      <td>391</td>\n",
       "      <td>94.67</td>\n",
       "    </tr>\n",
       "    <tr>\n",
       "      <th>1</th>\n",
       "      <td>Yes</td>\n",
       "      <td>22</td>\n",
       "      <td>5.33</td>\n",
       "    </tr>\n",
       "  </tbody>\n",
       "</table>\n",
       "</div>"
      ],
      "text/plain": [
       "  SMOKE  counts  percentage\n",
       "0    No     391       94.67\n",
       "1   Yes      22        5.33"
      ]
     },
     "execution_count": 110,
     "metadata": {},
     "output_type": "execute_result"
    }
   ],
   "source": [
    "df.groupby('SMOKE').size().reset_index(name='counts').assign(percentage=lambda x: (x['counts'] / df['SMOKE'].count()) * 100).round(2)"
   ]
  },
  {
   "cell_type": "code",
   "execution_count": 111,
   "id": "dd2902c3-3ee5-4901-afef-834f079531c3",
   "metadata": {},
   "outputs": [
    {
     "data": {
      "text/html": [
       "<div>\n",
       "<style scoped>\n",
       "    .dataframe tbody tr th:only-of-type {\n",
       "        vertical-align: middle;\n",
       "    }\n",
       "\n",
       "    .dataframe tbody tr th {\n",
       "        vertical-align: top;\n",
       "    }\n",
       "\n",
       "    .dataframe thead th {\n",
       "        text-align: right;\n",
       "    }\n",
       "</style>\n",
       "<table border=\"1\" class=\"dataframe\">\n",
       "  <thead>\n",
       "    <tr style=\"text-align: right;\">\n",
       "      <th></th>\n",
       "      <th>SMOKE</th>\n",
       "      <th>counts</th>\n",
       "      <th>percentage</th>\n",
       "    </tr>\n",
       "  </thead>\n",
       "  <tbody>\n",
       "    <tr>\n",
       "      <th>0</th>\n",
       "      <td>No</td>\n",
       "      <td>1</td>\n",
       "      <td>100.0</td>\n",
       "    </tr>\n",
       "  </tbody>\n",
       "</table>\n",
       "</div>"
      ],
      "text/plain": [
       "  SMOKE  counts  percentage\n",
       "0    No       1       100.0"
      ]
     },
     "execution_count": 111,
     "metadata": {},
     "output_type": "execute_result"
    }
   ],
   "source": [
    "df_with57425.groupby('SMOKE').size().reset_index(name='counts').assign(percentage=lambda x: (x['counts'] / df_with57425['SMOKE'].count()) * 100).round(2)"
   ]
  },
  {
   "cell_type": "code",
   "execution_count": 112,
   "id": "57c10210-7e37-4c4c-be4b-238425a7462e",
   "metadata": {},
   "outputs": [
    {
     "data": {
      "text/html": [
       "<div>\n",
       "<style scoped>\n",
       "    .dataframe tbody tr th:only-of-type {\n",
       "        vertical-align: middle;\n",
       "    }\n",
       "\n",
       "    .dataframe tbody tr th {\n",
       "        vertical-align: top;\n",
       "    }\n",
       "\n",
       "    .dataframe thead th {\n",
       "        text-align: right;\n",
       "    }\n",
       "</style>\n",
       "<table border=\"1\" class=\"dataframe\">\n",
       "  <thead>\n",
       "    <tr style=\"text-align: right;\">\n",
       "      <th></th>\n",
       "      <th>SMOKE</th>\n",
       "      <th>counts</th>\n",
       "      <th>percentage</th>\n",
       "    </tr>\n",
       "  </thead>\n",
       "  <tbody>\n",
       "    <tr>\n",
       "      <th>0</th>\n",
       "      <td>No</td>\n",
       "      <td>390</td>\n",
       "      <td>94.66</td>\n",
       "    </tr>\n",
       "    <tr>\n",
       "      <th>1</th>\n",
       "      <td>Yes</td>\n",
       "      <td>22</td>\n",
       "      <td>5.34</td>\n",
       "    </tr>\n",
       "  </tbody>\n",
       "</table>\n",
       "</div>"
      ],
      "text/plain": [
       "  SMOKE  counts  percentage\n",
       "0    No     390       94.66\n",
       "1   Yes      22        5.34"
      ]
     },
     "execution_count": 112,
     "metadata": {},
     "output_type": "execute_result"
    }
   ],
   "source": [
    "df_no57425.groupby('SMOKE').size().reset_index(name='counts').assign(percentage=lambda x: (x['counts'] / df_no57425['SMOKE'].count()) * 100).round(2)"
   ]
  },
  {
   "cell_type": "code",
   "execution_count": 113,
   "id": "20dbe880-b27c-43cc-8771-cabdc1b3c14d",
   "metadata": {},
   "outputs": [
    {
     "data": {
      "text/html": [
       "<div>\n",
       "<style scoped>\n",
       "    .dataframe tbody tr th:only-of-type {\n",
       "        vertical-align: middle;\n",
       "    }\n",
       "\n",
       "    .dataframe tbody tr th {\n",
       "        vertical-align: top;\n",
       "    }\n",
       "\n",
       "    .dataframe thead th {\n",
       "        text-align: right;\n",
       "    }\n",
       "</style>\n",
       "<table border=\"1\" class=\"dataframe\">\n",
       "  <thead>\n",
       "    <tr style=\"text-align: right;\">\n",
       "      <th></th>\n",
       "      <th>PODIAG10</th>\n",
       "      <th>counts</th>\n",
       "      <th>percentage</th>\n",
       "    </tr>\n",
       "  </thead>\n",
       "  <tbody>\n",
       "    <tr>\n",
       "      <th>0</th>\n",
       "      <td>F64.0</td>\n",
       "      <td>304</td>\n",
       "      <td>73.61</td>\n",
       "    </tr>\n",
       "    <tr>\n",
       "      <th>1</th>\n",
       "      <td>F64.1</td>\n",
       "      <td>8</td>\n",
       "      <td>1.94</td>\n",
       "    </tr>\n",
       "    <tr>\n",
       "      <th>2</th>\n",
       "      <td>F64.9</td>\n",
       "      <td>97</td>\n",
       "      <td>23.49</td>\n",
       "    </tr>\n",
       "    <tr>\n",
       "      <th>3</th>\n",
       "      <td>Z87.890</td>\n",
       "      <td>4</td>\n",
       "      <td>0.97</td>\n",
       "    </tr>\n",
       "  </tbody>\n",
       "</table>\n",
       "</div>"
      ],
      "text/plain": [
       "  PODIAG10  counts  percentage\n",
       "0    F64.0     304       73.61\n",
       "1    F64.1       8        1.94\n",
       "2    F64.9      97       23.49\n",
       "3  Z87.890       4        0.97"
      ]
     },
     "execution_count": 113,
     "metadata": {},
     "output_type": "execute_result"
    }
   ],
   "source": [
    "df.groupby('PODIAG10').size().reset_index(name='counts').assign(percentage=lambda x: (x['counts'] / df['PODIAG10'].count()) * 100).round(2)"
   ]
  },
  {
   "cell_type": "code",
   "execution_count": 114,
   "id": "d6bebfbf-82e4-4751-ae30-24025be9b786",
   "metadata": {},
   "outputs": [
    {
     "data": {
      "text/html": [
       "<div>\n",
       "<style scoped>\n",
       "    .dataframe tbody tr th:only-of-type {\n",
       "        vertical-align: middle;\n",
       "    }\n",
       "\n",
       "    .dataframe tbody tr th {\n",
       "        vertical-align: top;\n",
       "    }\n",
       "\n",
       "    .dataframe thead th {\n",
       "        text-align: right;\n",
       "    }\n",
       "</style>\n",
       "<table border=\"1\" class=\"dataframe\">\n",
       "  <thead>\n",
       "    <tr style=\"text-align: right;\">\n",
       "      <th></th>\n",
       "      <th>PODIAG10</th>\n",
       "      <th>counts</th>\n",
       "      <th>percentage</th>\n",
       "    </tr>\n",
       "  </thead>\n",
       "  <tbody>\n",
       "    <tr>\n",
       "      <th>0</th>\n",
       "      <td>Z87.890</td>\n",
       "      <td>1</td>\n",
       "      <td>100.0</td>\n",
       "    </tr>\n",
       "  </tbody>\n",
       "</table>\n",
       "</div>"
      ],
      "text/plain": [
       "  PODIAG10  counts  percentage\n",
       "0  Z87.890       1       100.0"
      ]
     },
     "execution_count": 114,
     "metadata": {},
     "output_type": "execute_result"
    }
   ],
   "source": [
    "df_with57425.groupby('PODIAG10').size().reset_index(name='counts').assign(percentage=lambda x: (x['counts'] / df_with57425['PODIAG10'].count()) * 100).round(2)"
   ]
  },
  {
   "cell_type": "code",
   "execution_count": 115,
   "id": "cabf7bc8-bf2e-42c9-ae85-ff6a81fdab82",
   "metadata": {},
   "outputs": [
    {
     "data": {
      "text/html": [
       "<div>\n",
       "<style scoped>\n",
       "    .dataframe tbody tr th:only-of-type {\n",
       "        vertical-align: middle;\n",
       "    }\n",
       "\n",
       "    .dataframe tbody tr th {\n",
       "        vertical-align: top;\n",
       "    }\n",
       "\n",
       "    .dataframe thead th {\n",
       "        text-align: right;\n",
       "    }\n",
       "</style>\n",
       "<table border=\"1\" class=\"dataframe\">\n",
       "  <thead>\n",
       "    <tr style=\"text-align: right;\">\n",
       "      <th></th>\n",
       "      <th>PODIAG10</th>\n",
       "      <th>counts</th>\n",
       "      <th>percentage</th>\n",
       "    </tr>\n",
       "  </thead>\n",
       "  <tbody>\n",
       "    <tr>\n",
       "      <th>0</th>\n",
       "      <td>F64.0</td>\n",
       "      <td>304</td>\n",
       "      <td>73.79</td>\n",
       "    </tr>\n",
       "    <tr>\n",
       "      <th>1</th>\n",
       "      <td>F64.1</td>\n",
       "      <td>8</td>\n",
       "      <td>1.94</td>\n",
       "    </tr>\n",
       "    <tr>\n",
       "      <th>2</th>\n",
       "      <td>F64.9</td>\n",
       "      <td>97</td>\n",
       "      <td>23.54</td>\n",
       "    </tr>\n",
       "    <tr>\n",
       "      <th>3</th>\n",
       "      <td>Z87.890</td>\n",
       "      <td>3</td>\n",
       "      <td>0.73</td>\n",
       "    </tr>\n",
       "  </tbody>\n",
       "</table>\n",
       "</div>"
      ],
      "text/plain": [
       "  PODIAG10  counts  percentage\n",
       "0    F64.0     304       73.79\n",
       "1    F64.1       8        1.94\n",
       "2    F64.9      97       23.54\n",
       "3  Z87.890       3        0.73"
      ]
     },
     "execution_count": 115,
     "metadata": {},
     "output_type": "execute_result"
    }
   ],
   "source": [
    "df_no57425.groupby('PODIAG10').size().reset_index(name='counts').assign(percentage=lambda x: (x['counts'] / df_no57425['PODIAG10'].count()) * 100).round(2)"
   ]
  },
  {
   "cell_type": "markdown",
   "id": "bb57bfdc-9f41-4266-ae64-c5e77e7421af",
   "metadata": {
    "jp-MarkdownHeadingCollapsed": true
   },
   "source": [
    "# Major Medical Comorbidity (composite variable) with binary outcome (Y/N) "
   ]
  },
  {
   "cell_type": "code",
   "execution_count": 116,
   "id": "8d6a09f5-5d18-4854-b60c-e421b354e809",
   "metadata": {},
   "outputs": [
    {
     "data": {
      "text/plain": [
       "np.int64(0)"
      ]
     },
     "execution_count": 116,
     "metadata": {},
     "output_type": "execute_result"
    }
   ],
   "source": [
    "col1 = ['HXCHF', 'ASCITES', 'HXCOPD', 'VENTILAT', 'RENAFAIL', 'DIALYSIS', \n",
    "        'STEROID', 'BLEEDDIS', 'WTLOSS', 'HYPERMED', 'DIABETES', 'DISCANCR']\n",
    "col1_condition = df_with57425[col1].apply(lambda x: any(str(val).lower() != 'no' and pd.notna(val) for val in x), axis=1)\n",
    "\n",
    "col1_condition.sum()"
   ]
  },
  {
   "cell_type": "code",
   "execution_count": 121,
   "id": "3f66ea83-4403-4afe-8367-dcf474485fff",
   "metadata": {},
   "outputs": [
    {
     "name": "stderr",
     "output_type": "stream",
     "text": [
      "/var/folders/m8/kh2nk5652k94h_n7lqjvr8n00000gn/T/ipykernel_74986/3276194881.py:1: PerformanceWarning: DataFrame is highly fragmented.  This is usually the result of calling `frame.insert` many times, which has poor performance.  Consider joining all columns at once using pd.concat(axis=1) instead. To get a de-fragmented frame, use `newframe = frame.copy()`\n",
      "  df['major_medical_comorbidity'] = df[col1].apply(lambda x: any(str(val).lower() != 'no' and pd.notna(val) for val in x), axis=1)\n"
     ]
    }
   ],
   "source": [
    "df['major_medical_comorbidity'] = df[col1].apply(lambda x: any(str(val).lower() != 'no' and pd.notna(val) for val in x), axis=1)"
   ]
  },
  {
   "cell_type": "code",
   "execution_count": 122,
   "id": "7007d8b2-727c-4385-a2eb-69b1556a4cf0",
   "metadata": {},
   "outputs": [
    {
     "data": {
      "text/html": [
       "<div>\n",
       "<style scoped>\n",
       "    .dataframe tbody tr th:only-of-type {\n",
       "        vertical-align: middle;\n",
       "    }\n",
       "\n",
       "    .dataframe tbody tr th {\n",
       "        vertical-align: top;\n",
       "    }\n",
       "\n",
       "    .dataframe thead th {\n",
       "        text-align: right;\n",
       "    }\n",
       "</style>\n",
       "<table border=\"1\" class=\"dataframe\">\n",
       "  <thead>\n",
       "    <tr style=\"text-align: right;\">\n",
       "      <th></th>\n",
       "      <th>HXCHF</th>\n",
       "      <th>counts</th>\n",
       "    </tr>\n",
       "  </thead>\n",
       "  <tbody>\n",
       "    <tr>\n",
       "      <th>0</th>\n",
       "      <td>No</td>\n",
       "      <td>413</td>\n",
       "    </tr>\n",
       "  </tbody>\n",
       "</table>\n",
       "</div>"
      ],
      "text/plain": [
       "  HXCHF  counts\n",
       "0    No     413"
      ]
     },
     "execution_count": 122,
     "metadata": {},
     "output_type": "execute_result"
    }
   ],
   "source": [
    "df.groupby('HXCHF').size().reset_index(name='counts')"
   ]
  },
  {
   "cell_type": "code",
   "execution_count": 227,
   "id": "2aaa305f-f169-4926-8800-68a04e266165",
   "metadata": {},
   "outputs": [
    {
     "data": {
      "text/html": [
       "<div>\n",
       "<style scoped>\n",
       "    .dataframe tbody tr th:only-of-type {\n",
       "        vertical-align: middle;\n",
       "    }\n",
       "\n",
       "    .dataframe tbody tr th {\n",
       "        vertical-align: top;\n",
       "    }\n",
       "\n",
       "    .dataframe thead th {\n",
       "        text-align: right;\n",
       "    }\n",
       "</style>\n",
       "<table border=\"1\" class=\"dataframe\">\n",
       "  <thead>\n",
       "    <tr style=\"text-align: right;\">\n",
       "      <th></th>\n",
       "      <th>ASCITES</th>\n",
       "      <th>counts</th>\n",
       "    </tr>\n",
       "  </thead>\n",
       "  <tbody>\n",
       "    <tr>\n",
       "      <th>0</th>\n",
       "      <td>No</td>\n",
       "      <td>413</td>\n",
       "    </tr>\n",
       "  </tbody>\n",
       "</table>\n",
       "</div>"
      ],
      "text/plain": [
       "  ASCITES  counts\n",
       "0      No     413"
      ]
     },
     "execution_count": 227,
     "metadata": {},
     "output_type": "execute_result"
    }
   ],
   "source": [
    "df.groupby('ASCITES').size().reset_index(name='counts')"
   ]
  },
  {
   "cell_type": "code",
   "execution_count": 228,
   "id": "a20064d3-cddb-431c-9b15-94796945c8a2",
   "metadata": {},
   "outputs": [
    {
     "data": {
      "text/html": [
       "<div>\n",
       "<style scoped>\n",
       "    .dataframe tbody tr th:only-of-type {\n",
       "        vertical-align: middle;\n",
       "    }\n",
       "\n",
       "    .dataframe tbody tr th {\n",
       "        vertical-align: top;\n",
       "    }\n",
       "\n",
       "    .dataframe thead th {\n",
       "        text-align: right;\n",
       "    }\n",
       "</style>\n",
       "<table border=\"1\" class=\"dataframe\">\n",
       "  <thead>\n",
       "    <tr style=\"text-align: right;\">\n",
       "      <th></th>\n",
       "      <th>HXCOPD</th>\n",
       "      <th>counts</th>\n",
       "    </tr>\n",
       "  </thead>\n",
       "  <tbody>\n",
       "    <tr>\n",
       "      <th>0</th>\n",
       "      <td>No</td>\n",
       "      <td>413</td>\n",
       "    </tr>\n",
       "  </tbody>\n",
       "</table>\n",
       "</div>"
      ],
      "text/plain": [
       "  HXCOPD  counts\n",
       "0     No     413"
      ]
     },
     "execution_count": 228,
     "metadata": {},
     "output_type": "execute_result"
    }
   ],
   "source": [
    "df.groupby('HXCOPD').size().reset_index(name='counts')"
   ]
  },
  {
   "cell_type": "code",
   "execution_count": 229,
   "id": "482abe60-f901-4ab7-aec1-29169adfd20a",
   "metadata": {},
   "outputs": [
    {
     "data": {
      "text/html": [
       "<div>\n",
       "<style scoped>\n",
       "    .dataframe tbody tr th:only-of-type {\n",
       "        vertical-align: middle;\n",
       "    }\n",
       "\n",
       "    .dataframe tbody tr th {\n",
       "        vertical-align: top;\n",
       "    }\n",
       "\n",
       "    .dataframe thead th {\n",
       "        text-align: right;\n",
       "    }\n",
       "</style>\n",
       "<table border=\"1\" class=\"dataframe\">\n",
       "  <thead>\n",
       "    <tr style=\"text-align: right;\">\n",
       "      <th></th>\n",
       "      <th>VENTILAT</th>\n",
       "      <th>counts</th>\n",
       "    </tr>\n",
       "  </thead>\n",
       "  <tbody>\n",
       "    <tr>\n",
       "      <th>0</th>\n",
       "      <td>No</td>\n",
       "      <td>413</td>\n",
       "    </tr>\n",
       "  </tbody>\n",
       "</table>\n",
       "</div>"
      ],
      "text/plain": [
       "  VENTILAT  counts\n",
       "0       No     413"
      ]
     },
     "execution_count": 229,
     "metadata": {},
     "output_type": "execute_result"
    }
   ],
   "source": [
    "df.groupby('VENTILAT').size().reset_index(name='counts')"
   ]
  },
  {
   "cell_type": "code",
   "execution_count": 230,
   "id": "90738641-140b-4504-a2a2-b91097e902f6",
   "metadata": {},
   "outputs": [
    {
     "data": {
      "text/html": [
       "<div>\n",
       "<style scoped>\n",
       "    .dataframe tbody tr th:only-of-type {\n",
       "        vertical-align: middle;\n",
       "    }\n",
       "\n",
       "    .dataframe tbody tr th {\n",
       "        vertical-align: top;\n",
       "    }\n",
       "\n",
       "    .dataframe thead th {\n",
       "        text-align: right;\n",
       "    }\n",
       "</style>\n",
       "<table border=\"1\" class=\"dataframe\">\n",
       "  <thead>\n",
       "    <tr style=\"text-align: right;\">\n",
       "      <th></th>\n",
       "      <th>RENAFAIL</th>\n",
       "      <th>counts</th>\n",
       "    </tr>\n",
       "  </thead>\n",
       "  <tbody>\n",
       "    <tr>\n",
       "      <th>0</th>\n",
       "      <td>No</td>\n",
       "      <td>288</td>\n",
       "    </tr>\n",
       "  </tbody>\n",
       "</table>\n",
       "</div>"
      ],
      "text/plain": [
       "  RENAFAIL  counts\n",
       "0       No     288"
      ]
     },
     "execution_count": 230,
     "metadata": {},
     "output_type": "execute_result"
    }
   ],
   "source": [
    "df.groupby('RENAFAIL').size().reset_index(name='counts')"
   ]
  },
  {
   "cell_type": "code",
   "execution_count": 27,
   "id": "b69bf0f1-b039-4a6f-af71-cebfb0012ae4",
   "metadata": {},
   "outputs": [
    {
     "data": {
      "text/html": [
       "<div>\n",
       "<style scoped>\n",
       "    .dataframe tbody tr th:only-of-type {\n",
       "        vertical-align: middle;\n",
       "    }\n",
       "\n",
       "    .dataframe tbody tr th {\n",
       "        vertical-align: top;\n",
       "    }\n",
       "\n",
       "    .dataframe thead th {\n",
       "        text-align: right;\n",
       "    }\n",
       "</style>\n",
       "<table border=\"1\" class=\"dataframe\">\n",
       "  <thead>\n",
       "    <tr style=\"text-align: right;\">\n",
       "      <th></th>\n",
       "      <th>RENAFAIL</th>\n",
       "      <th>counts</th>\n",
       "    </tr>\n",
       "  </thead>\n",
       "  <tbody>\n",
       "    <tr>\n",
       "      <th>0</th>\n",
       "      <td>No</td>\n",
       "      <td>287</td>\n",
       "    </tr>\n",
       "  </tbody>\n",
       "</table>\n",
       "</div>"
      ],
      "text/plain": [
       "  RENAFAIL  counts\n",
       "0       No     287"
      ]
     },
     "execution_count": 27,
     "metadata": {},
     "output_type": "execute_result"
    }
   ],
   "source": [
    "df_no57425.groupby('RENAFAIL').size().reset_index(name='counts')"
   ]
  },
  {
   "cell_type": "code",
   "execution_count": 28,
   "id": "3707e2f5-cd5e-4e46-b5fe-3598427c4426",
   "metadata": {},
   "outputs": [
    {
     "data": {
      "text/html": [
       "<div>\n",
       "<style scoped>\n",
       "    .dataframe tbody tr th:only-of-type {\n",
       "        vertical-align: middle;\n",
       "    }\n",
       "\n",
       "    .dataframe tbody tr th {\n",
       "        vertical-align: top;\n",
       "    }\n",
       "\n",
       "    .dataframe thead th {\n",
       "        text-align: right;\n",
       "    }\n",
       "</style>\n",
       "<table border=\"1\" class=\"dataframe\">\n",
       "  <thead>\n",
       "    <tr style=\"text-align: right;\">\n",
       "      <th></th>\n",
       "      <th>RENAFAIL</th>\n",
       "      <th>counts</th>\n",
       "    </tr>\n",
       "  </thead>\n",
       "  <tbody>\n",
       "    <tr>\n",
       "      <th>0</th>\n",
       "      <td>No</td>\n",
       "      <td>1</td>\n",
       "    </tr>\n",
       "  </tbody>\n",
       "</table>\n",
       "</div>"
      ],
      "text/plain": [
       "  RENAFAIL  counts\n",
       "0       No       1"
      ]
     },
     "execution_count": 28,
     "metadata": {},
     "output_type": "execute_result"
    }
   ],
   "source": [
    "df_with57425.groupby('RENAFAIL').size().reset_index(name='counts')"
   ]
  },
  {
   "cell_type": "code",
   "execution_count": 231,
   "id": "7da06a88-d705-4ffb-9b36-aec601a19a33",
   "metadata": {},
   "outputs": [
    {
     "data": {
      "text/html": [
       "<div>\n",
       "<style scoped>\n",
       "    .dataframe tbody tr th:only-of-type {\n",
       "        vertical-align: middle;\n",
       "    }\n",
       "\n",
       "    .dataframe tbody tr th {\n",
       "        vertical-align: top;\n",
       "    }\n",
       "\n",
       "    .dataframe thead th {\n",
       "        text-align: right;\n",
       "    }\n",
       "</style>\n",
       "<table border=\"1\" class=\"dataframe\">\n",
       "  <thead>\n",
       "    <tr style=\"text-align: right;\">\n",
       "      <th></th>\n",
       "      <th>DIALYSIS</th>\n",
       "      <th>counts</th>\n",
       "    </tr>\n",
       "  </thead>\n",
       "  <tbody>\n",
       "    <tr>\n",
       "      <th>0</th>\n",
       "      <td>No</td>\n",
       "      <td>413</td>\n",
       "    </tr>\n",
       "  </tbody>\n",
       "</table>\n",
       "</div>"
      ],
      "text/plain": [
       "  DIALYSIS  counts\n",
       "0       No     413"
      ]
     },
     "execution_count": 231,
     "metadata": {},
     "output_type": "execute_result"
    }
   ],
   "source": [
    "df.groupby('DIALYSIS').size().reset_index(name='counts')"
   ]
  },
  {
   "cell_type": "code",
   "execution_count": 232,
   "id": "e6edb20e-90dc-4fe9-9257-f5f828aa4ed2",
   "metadata": {},
   "outputs": [
    {
     "data": {
      "text/html": [
       "<div>\n",
       "<style scoped>\n",
       "    .dataframe tbody tr th:only-of-type {\n",
       "        vertical-align: middle;\n",
       "    }\n",
       "\n",
       "    .dataframe tbody tr th {\n",
       "        vertical-align: top;\n",
       "    }\n",
       "\n",
       "    .dataframe thead th {\n",
       "        text-align: right;\n",
       "    }\n",
       "</style>\n",
       "<table border=\"1\" class=\"dataframe\">\n",
       "  <thead>\n",
       "    <tr style=\"text-align: right;\">\n",
       "      <th></th>\n",
       "      <th>STEROID</th>\n",
       "      <th>counts</th>\n",
       "    </tr>\n",
       "  </thead>\n",
       "  <tbody>\n",
       "    <tr>\n",
       "      <th>0</th>\n",
       "      <td>No</td>\n",
       "      <td>403</td>\n",
       "    </tr>\n",
       "    <tr>\n",
       "      <th>1</th>\n",
       "      <td>Yes</td>\n",
       "      <td>10</td>\n",
       "    </tr>\n",
       "  </tbody>\n",
       "</table>\n",
       "</div>"
      ],
      "text/plain": [
       "  STEROID  counts\n",
       "0      No     403\n",
       "1     Yes      10"
      ]
     },
     "execution_count": 232,
     "metadata": {},
     "output_type": "execute_result"
    }
   ],
   "source": [
    "df.groupby('STEROID').size().reset_index(name='counts')"
   ]
  },
  {
   "cell_type": "code",
   "execution_count": 30,
   "id": "97dedd6f-6c9d-45a2-9dfa-51d465f709a4",
   "metadata": {},
   "outputs": [
    {
     "data": {
      "text/html": [
       "<div>\n",
       "<style scoped>\n",
       "    .dataframe tbody tr th:only-of-type {\n",
       "        vertical-align: middle;\n",
       "    }\n",
       "\n",
       "    .dataframe tbody tr th {\n",
       "        vertical-align: top;\n",
       "    }\n",
       "\n",
       "    .dataframe thead th {\n",
       "        text-align: right;\n",
       "    }\n",
       "</style>\n",
       "<table border=\"1\" class=\"dataframe\">\n",
       "  <thead>\n",
       "    <tr style=\"text-align: right;\">\n",
       "      <th></th>\n",
       "      <th>STEROID</th>\n",
       "      <th>counts</th>\n",
       "    </tr>\n",
       "  </thead>\n",
       "  <tbody>\n",
       "    <tr>\n",
       "      <th>0</th>\n",
       "      <td>No</td>\n",
       "      <td>1</td>\n",
       "    </tr>\n",
       "  </tbody>\n",
       "</table>\n",
       "</div>"
      ],
      "text/plain": [
       "  STEROID  counts\n",
       "0      No       1"
      ]
     },
     "execution_count": 30,
     "metadata": {},
     "output_type": "execute_result"
    }
   ],
   "source": [
    "df_with57425.groupby('STEROID').size().reset_index(name='counts')"
   ]
  },
  {
   "cell_type": "code",
   "execution_count": 31,
   "id": "06a2f593-080e-4b33-9ce9-9d1b11ce42af",
   "metadata": {},
   "outputs": [
    {
     "data": {
      "text/html": [
       "<div>\n",
       "<style scoped>\n",
       "    .dataframe tbody tr th:only-of-type {\n",
       "        vertical-align: middle;\n",
       "    }\n",
       "\n",
       "    .dataframe tbody tr th {\n",
       "        vertical-align: top;\n",
       "    }\n",
       "\n",
       "    .dataframe thead th {\n",
       "        text-align: right;\n",
       "    }\n",
       "</style>\n",
       "<table border=\"1\" class=\"dataframe\">\n",
       "  <thead>\n",
       "    <tr style=\"text-align: right;\">\n",
       "      <th></th>\n",
       "      <th>STEROID</th>\n",
       "      <th>counts</th>\n",
       "    </tr>\n",
       "  </thead>\n",
       "  <tbody>\n",
       "    <tr>\n",
       "      <th>0</th>\n",
       "      <td>No</td>\n",
       "      <td>402</td>\n",
       "    </tr>\n",
       "    <tr>\n",
       "      <th>1</th>\n",
       "      <td>Yes</td>\n",
       "      <td>10</td>\n",
       "    </tr>\n",
       "  </tbody>\n",
       "</table>\n",
       "</div>"
      ],
      "text/plain": [
       "  STEROID  counts\n",
       "0      No     402\n",
       "1     Yes      10"
      ]
     },
     "execution_count": 31,
     "metadata": {},
     "output_type": "execute_result"
    }
   ],
   "source": [
    "df_no57425.groupby('STEROID').size().reset_index(name='counts')"
   ]
  },
  {
   "cell_type": "code",
   "execution_count": 233,
   "id": "9ca6d4b8-ec2e-428c-985a-77a0cd5b78b9",
   "metadata": {},
   "outputs": [
    {
     "data": {
      "text/html": [
       "<div>\n",
       "<style scoped>\n",
       "    .dataframe tbody tr th:only-of-type {\n",
       "        vertical-align: middle;\n",
       "    }\n",
       "\n",
       "    .dataframe tbody tr th {\n",
       "        vertical-align: top;\n",
       "    }\n",
       "\n",
       "    .dataframe thead th {\n",
       "        text-align: right;\n",
       "    }\n",
       "</style>\n",
       "<table border=\"1\" class=\"dataframe\">\n",
       "  <thead>\n",
       "    <tr style=\"text-align: right;\">\n",
       "      <th></th>\n",
       "      <th>STEROID</th>\n",
       "      <th>counts</th>\n",
       "      <th>percentage</th>\n",
       "    </tr>\n",
       "  </thead>\n",
       "  <tbody>\n",
       "    <tr>\n",
       "      <th>0</th>\n",
       "      <td>No</td>\n",
       "      <td>403</td>\n",
       "      <td>97.6</td>\n",
       "    </tr>\n",
       "    <tr>\n",
       "      <th>1</th>\n",
       "      <td>Yes</td>\n",
       "      <td>10</td>\n",
       "      <td>2.4</td>\n",
       "    </tr>\n",
       "  </tbody>\n",
       "</table>\n",
       "</div>"
      ],
      "text/plain": [
       "  STEROID  counts  percentage\n",
       "0      No     403        97.6\n",
       "1     Yes      10         2.4"
      ]
     },
     "execution_count": 233,
     "metadata": {},
     "output_type": "execute_result"
    }
   ],
   "source": [
    "df.groupby('STEROID').size().reset_index(name='counts').assign(percentage=lambda x: (x['counts'] / df['STEROID'].count()) * 100).round(1)"
   ]
  },
  {
   "cell_type": "code",
   "execution_count": 234,
   "id": "141a4a6b-dc1a-4fe1-abb7-133872f370f0",
   "metadata": {},
   "outputs": [
    {
     "data": {
      "text/html": [
       "<div>\n",
       "<style scoped>\n",
       "    .dataframe tbody tr th:only-of-type {\n",
       "        vertical-align: middle;\n",
       "    }\n",
       "\n",
       "    .dataframe tbody tr th {\n",
       "        vertical-align: top;\n",
       "    }\n",
       "\n",
       "    .dataframe thead th {\n",
       "        text-align: right;\n",
       "    }\n",
       "</style>\n",
       "<table border=\"1\" class=\"dataframe\">\n",
       "  <thead>\n",
       "    <tr style=\"text-align: right;\">\n",
       "      <th></th>\n",
       "      <th>BLEEDDIS</th>\n",
       "      <th>counts</th>\n",
       "    </tr>\n",
       "  </thead>\n",
       "  <tbody>\n",
       "    <tr>\n",
       "      <th>0</th>\n",
       "      <td>No</td>\n",
       "      <td>411</td>\n",
       "    </tr>\n",
       "    <tr>\n",
       "      <th>1</th>\n",
       "      <td>Yes</td>\n",
       "      <td>2</td>\n",
       "    </tr>\n",
       "  </tbody>\n",
       "</table>\n",
       "</div>"
      ],
      "text/plain": [
       "  BLEEDDIS  counts\n",
       "0       No     411\n",
       "1      Yes       2"
      ]
     },
     "execution_count": 234,
     "metadata": {},
     "output_type": "execute_result"
    }
   ],
   "source": [
    "df.groupby('BLEEDDIS').size().reset_index(name='counts')"
   ]
  },
  {
   "cell_type": "code",
   "execution_count": 235,
   "id": "0b332cfa-dd36-40ce-b688-c05a53cdaf2a",
   "metadata": {},
   "outputs": [
    {
     "data": {
      "text/html": [
       "<div>\n",
       "<style scoped>\n",
       "    .dataframe tbody tr th:only-of-type {\n",
       "        vertical-align: middle;\n",
       "    }\n",
       "\n",
       "    .dataframe tbody tr th {\n",
       "        vertical-align: top;\n",
       "    }\n",
       "\n",
       "    .dataframe thead th {\n",
       "        text-align: right;\n",
       "    }\n",
       "</style>\n",
       "<table border=\"1\" class=\"dataframe\">\n",
       "  <thead>\n",
       "    <tr style=\"text-align: right;\">\n",
       "      <th></th>\n",
       "      <th>BLEEDDIS</th>\n",
       "      <th>counts</th>\n",
       "      <th>percentage</th>\n",
       "    </tr>\n",
       "  </thead>\n",
       "  <tbody>\n",
       "    <tr>\n",
       "      <th>0</th>\n",
       "      <td>No</td>\n",
       "      <td>411</td>\n",
       "      <td>99.5</td>\n",
       "    </tr>\n",
       "    <tr>\n",
       "      <th>1</th>\n",
       "      <td>Yes</td>\n",
       "      <td>2</td>\n",
       "      <td>0.5</td>\n",
       "    </tr>\n",
       "  </tbody>\n",
       "</table>\n",
       "</div>"
      ],
      "text/plain": [
       "  BLEEDDIS  counts  percentage\n",
       "0       No     411        99.5\n",
       "1      Yes       2         0.5"
      ]
     },
     "execution_count": 235,
     "metadata": {},
     "output_type": "execute_result"
    }
   ],
   "source": [
    "df.groupby('BLEEDDIS').size().reset_index(name='counts').assign(percentage=lambda x: (x['counts'] / df['BLEEDDIS'].count()) * 100).round(1)"
   ]
  },
  {
   "cell_type": "code",
   "execution_count": 32,
   "id": "8259f81a-5ed5-4ec5-b3ca-b8c61065d59c",
   "metadata": {},
   "outputs": [
    {
     "data": {
      "text/html": [
       "<div>\n",
       "<style scoped>\n",
       "    .dataframe tbody tr th:only-of-type {\n",
       "        vertical-align: middle;\n",
       "    }\n",
       "\n",
       "    .dataframe tbody tr th {\n",
       "        vertical-align: top;\n",
       "    }\n",
       "\n",
       "    .dataframe thead th {\n",
       "        text-align: right;\n",
       "    }\n",
       "</style>\n",
       "<table border=\"1\" class=\"dataframe\">\n",
       "  <thead>\n",
       "    <tr style=\"text-align: right;\">\n",
       "      <th></th>\n",
       "      <th>BLEEDDIS</th>\n",
       "      <th>counts</th>\n",
       "      <th>percentage</th>\n",
       "    </tr>\n",
       "  </thead>\n",
       "  <tbody>\n",
       "    <tr>\n",
       "      <th>0</th>\n",
       "      <td>No</td>\n",
       "      <td>1</td>\n",
       "      <td>100.0</td>\n",
       "    </tr>\n",
       "  </tbody>\n",
       "</table>\n",
       "</div>"
      ],
      "text/plain": [
       "  BLEEDDIS  counts  percentage\n",
       "0       No       1       100.0"
      ]
     },
     "execution_count": 32,
     "metadata": {},
     "output_type": "execute_result"
    }
   ],
   "source": [
    "df_with57425.groupby('BLEEDDIS').size().reset_index(name='counts').assign(percentage=lambda x: (x['counts'] / df_with57425['BLEEDDIS'].count()) * 100).round(1)"
   ]
  },
  {
   "cell_type": "code",
   "execution_count": 76,
   "id": "ac74eb1f-4518-45b0-872d-2516e6f15697",
   "metadata": {},
   "outputs": [
    {
     "data": {
      "text/html": [
       "<div>\n",
       "<style scoped>\n",
       "    .dataframe tbody tr th:only-of-type {\n",
       "        vertical-align: middle;\n",
       "    }\n",
       "\n",
       "    .dataframe tbody tr th {\n",
       "        vertical-align: top;\n",
       "    }\n",
       "\n",
       "    .dataframe thead th {\n",
       "        text-align: right;\n",
       "    }\n",
       "</style>\n",
       "<table border=\"1\" class=\"dataframe\">\n",
       "  <thead>\n",
       "    <tr style=\"text-align: right;\">\n",
       "      <th></th>\n",
       "      <th>WTLOSS</th>\n",
       "      <th>counts</th>\n",
       "    </tr>\n",
       "  </thead>\n",
       "  <tbody>\n",
       "    <tr>\n",
       "      <th>0</th>\n",
       "      <td>No</td>\n",
       "      <td>154</td>\n",
       "    </tr>\n",
       "  </tbody>\n",
       "</table>\n",
       "</div>"
      ],
      "text/plain": [
       "  WTLOSS  counts\n",
       "0     No     154"
      ]
     },
     "execution_count": 76,
     "metadata": {},
     "output_type": "execute_result"
    }
   ],
   "source": [
    "df.groupby('WTLOSS').size().reset_index(name='counts')"
   ]
  },
  {
   "cell_type": "code",
   "execution_count": 33,
   "id": "af1acc6a-3ee4-4cab-beec-c19f7ded1afc",
   "metadata": {},
   "outputs": [
    {
     "data": {
      "text/html": [
       "<div>\n",
       "<style scoped>\n",
       "    .dataframe tbody tr th:only-of-type {\n",
       "        vertical-align: middle;\n",
       "    }\n",
       "\n",
       "    .dataframe tbody tr th {\n",
       "        vertical-align: top;\n",
       "    }\n",
       "\n",
       "    .dataframe thead th {\n",
       "        text-align: right;\n",
       "    }\n",
       "</style>\n",
       "<table border=\"1\" class=\"dataframe\">\n",
       "  <thead>\n",
       "    <tr style=\"text-align: right;\">\n",
       "      <th></th>\n",
       "      <th>WTLOSS</th>\n",
       "      <th>counts</th>\n",
       "    </tr>\n",
       "  </thead>\n",
       "  <tbody>\n",
       "  </tbody>\n",
       "</table>\n",
       "</div>"
      ],
      "text/plain": [
       "Empty DataFrame\n",
       "Columns: [WTLOSS, counts]\n",
       "Index: []"
      ]
     },
     "execution_count": 33,
     "metadata": {},
     "output_type": "execute_result"
    }
   ],
   "source": [
    "df_with57425.groupby('WTLOSS').size().reset_index(name='counts')"
   ]
  },
  {
   "cell_type": "code",
   "execution_count": 77,
   "id": "0aff69fc-2e7c-4718-918e-d76cdfad64f7",
   "metadata": {},
   "outputs": [
    {
     "data": {
      "text/html": [
       "<div>\n",
       "<style scoped>\n",
       "    .dataframe tbody tr th:only-of-type {\n",
       "        vertical-align: middle;\n",
       "    }\n",
       "\n",
       "    .dataframe tbody tr th {\n",
       "        vertical-align: top;\n",
       "    }\n",
       "\n",
       "    .dataframe thead th {\n",
       "        text-align: right;\n",
       "    }\n",
       "</style>\n",
       "<table border=\"1\" class=\"dataframe\">\n",
       "  <thead>\n",
       "    <tr style=\"text-align: right;\">\n",
       "      <th></th>\n",
       "      <th>HYPERMED</th>\n",
       "      <th>counts</th>\n",
       "    </tr>\n",
       "  </thead>\n",
       "  <tbody>\n",
       "    <tr>\n",
       "      <th>0</th>\n",
       "      <td>No</td>\n",
       "      <td>377</td>\n",
       "    </tr>\n",
       "    <tr>\n",
       "      <th>1</th>\n",
       "      <td>Yes</td>\n",
       "      <td>36</td>\n",
       "    </tr>\n",
       "  </tbody>\n",
       "</table>\n",
       "</div>"
      ],
      "text/plain": [
       "  HYPERMED  counts\n",
       "0       No     377\n",
       "1      Yes      36"
      ]
     },
     "execution_count": 77,
     "metadata": {},
     "output_type": "execute_result"
    }
   ],
   "source": [
    "df.groupby('HYPERMED').size().reset_index(name='counts')"
   ]
  },
  {
   "cell_type": "code",
   "execution_count": 34,
   "id": "ea28aa31-1fb7-48c2-beaf-8c8776904b2d",
   "metadata": {},
   "outputs": [
    {
     "data": {
      "text/html": [
       "<div>\n",
       "<style scoped>\n",
       "    .dataframe tbody tr th:only-of-type {\n",
       "        vertical-align: middle;\n",
       "    }\n",
       "\n",
       "    .dataframe tbody tr th {\n",
       "        vertical-align: top;\n",
       "    }\n",
       "\n",
       "    .dataframe thead th {\n",
       "        text-align: right;\n",
       "    }\n",
       "</style>\n",
       "<table border=\"1\" class=\"dataframe\">\n",
       "  <thead>\n",
       "    <tr style=\"text-align: right;\">\n",
       "      <th></th>\n",
       "      <th>HYPERMED</th>\n",
       "      <th>counts</th>\n",
       "    </tr>\n",
       "  </thead>\n",
       "  <tbody>\n",
       "    <tr>\n",
       "      <th>0</th>\n",
       "      <td>No</td>\n",
       "      <td>1</td>\n",
       "    </tr>\n",
       "  </tbody>\n",
       "</table>\n",
       "</div>"
      ],
      "text/plain": [
       "  HYPERMED  counts\n",
       "0       No       1"
      ]
     },
     "execution_count": 34,
     "metadata": {},
     "output_type": "execute_result"
    }
   ],
   "source": [
    "df_with57425.groupby('HYPERMED').size().reset_index(name='counts')"
   ]
  },
  {
   "cell_type": "code",
   "execution_count": 236,
   "id": "63e226ee-7517-4eec-93d8-9d94a07c3f4f",
   "metadata": {},
   "outputs": [
    {
     "data": {
      "text/html": [
       "<div>\n",
       "<style scoped>\n",
       "    .dataframe tbody tr th:only-of-type {\n",
       "        vertical-align: middle;\n",
       "    }\n",
       "\n",
       "    .dataframe tbody tr th {\n",
       "        vertical-align: top;\n",
       "    }\n",
       "\n",
       "    .dataframe thead th {\n",
       "        text-align: right;\n",
       "    }\n",
       "</style>\n",
       "<table border=\"1\" class=\"dataframe\">\n",
       "  <thead>\n",
       "    <tr style=\"text-align: right;\">\n",
       "      <th></th>\n",
       "      <th>HYPERMED</th>\n",
       "      <th>counts</th>\n",
       "      <th>percentage</th>\n",
       "    </tr>\n",
       "  </thead>\n",
       "  <tbody>\n",
       "    <tr>\n",
       "      <th>0</th>\n",
       "      <td>No</td>\n",
       "      <td>377</td>\n",
       "      <td>91.3</td>\n",
       "    </tr>\n",
       "    <tr>\n",
       "      <th>1</th>\n",
       "      <td>Yes</td>\n",
       "      <td>36</td>\n",
       "      <td>8.7</td>\n",
       "    </tr>\n",
       "  </tbody>\n",
       "</table>\n",
       "</div>"
      ],
      "text/plain": [
       "  HYPERMED  counts  percentage\n",
       "0       No     377        91.3\n",
       "1      Yes      36         8.7"
      ]
     },
     "execution_count": 236,
     "metadata": {},
     "output_type": "execute_result"
    }
   ],
   "source": [
    "df.groupby('HYPERMED').size().reset_index(name='counts').assign(percentage=lambda x: (x['counts'] / df['HYPERMED'].count()) * 100).round(1)"
   ]
  },
  {
   "cell_type": "code",
   "execution_count": 78,
   "id": "59707f39-e823-4de5-a72f-daeb12cd2fe7",
   "metadata": {},
   "outputs": [
    {
     "data": {
      "text/html": [
       "<div>\n",
       "<style scoped>\n",
       "    .dataframe tbody tr th:only-of-type {\n",
       "        vertical-align: middle;\n",
       "    }\n",
       "\n",
       "    .dataframe tbody tr th {\n",
       "        vertical-align: top;\n",
       "    }\n",
       "\n",
       "    .dataframe thead th {\n",
       "        text-align: right;\n",
       "    }\n",
       "</style>\n",
       "<table border=\"1\" class=\"dataframe\">\n",
       "  <thead>\n",
       "    <tr style=\"text-align: right;\">\n",
       "      <th></th>\n",
       "      <th>DIABETES</th>\n",
       "      <th>counts</th>\n",
       "    </tr>\n",
       "  </thead>\n",
       "  <tbody>\n",
       "    <tr>\n",
       "      <th>0</th>\n",
       "      <td>INSULIN</td>\n",
       "      <td>10</td>\n",
       "    </tr>\n",
       "    <tr>\n",
       "      <th>1</th>\n",
       "      <td>NO</td>\n",
       "      <td>392</td>\n",
       "    </tr>\n",
       "    <tr>\n",
       "      <th>2</th>\n",
       "      <td>NON-INSULIN</td>\n",
       "      <td>11</td>\n",
       "    </tr>\n",
       "  </tbody>\n",
       "</table>\n",
       "</div>"
      ],
      "text/plain": [
       "      DIABETES  counts\n",
       "0      INSULIN      10\n",
       "1           NO     392\n",
       "2  NON-INSULIN      11"
      ]
     },
     "execution_count": 78,
     "metadata": {},
     "output_type": "execute_result"
    }
   ],
   "source": [
    "df.groupby('DIABETES').size().reset_index(name='counts')"
   ]
  },
  {
   "cell_type": "code",
   "execution_count": 35,
   "id": "d6cfa3e6-d276-4e7e-aa29-35f317548f43",
   "metadata": {},
   "outputs": [
    {
     "data": {
      "text/html": [
       "<div>\n",
       "<style scoped>\n",
       "    .dataframe tbody tr th:only-of-type {\n",
       "        vertical-align: middle;\n",
       "    }\n",
       "\n",
       "    .dataframe tbody tr th {\n",
       "        vertical-align: top;\n",
       "    }\n",
       "\n",
       "    .dataframe thead th {\n",
       "        text-align: right;\n",
       "    }\n",
       "</style>\n",
       "<table border=\"1\" class=\"dataframe\">\n",
       "  <thead>\n",
       "    <tr style=\"text-align: right;\">\n",
       "      <th></th>\n",
       "      <th>DIABETES</th>\n",
       "      <th>counts</th>\n",
       "    </tr>\n",
       "  </thead>\n",
       "  <tbody>\n",
       "    <tr>\n",
       "      <th>0</th>\n",
       "      <td>NO</td>\n",
       "      <td>1</td>\n",
       "    </tr>\n",
       "  </tbody>\n",
       "</table>\n",
       "</div>"
      ],
      "text/plain": [
       "  DIABETES  counts\n",
       "0       NO       1"
      ]
     },
     "execution_count": 35,
     "metadata": {},
     "output_type": "execute_result"
    }
   ],
   "source": [
    "df_with57425.groupby('DIABETES').size().reset_index(name='counts')"
   ]
  },
  {
   "cell_type": "code",
   "execution_count": 238,
   "id": "b692500a-5df4-4a02-9c08-df98a50f1d32",
   "metadata": {},
   "outputs": [
    {
     "data": {
      "text/html": [
       "<div>\n",
       "<style scoped>\n",
       "    .dataframe tbody tr th:only-of-type {\n",
       "        vertical-align: middle;\n",
       "    }\n",
       "\n",
       "    .dataframe tbody tr th {\n",
       "        vertical-align: top;\n",
       "    }\n",
       "\n",
       "    .dataframe thead th {\n",
       "        text-align: right;\n",
       "    }\n",
       "</style>\n",
       "<table border=\"1\" class=\"dataframe\">\n",
       "  <thead>\n",
       "    <tr style=\"text-align: right;\">\n",
       "      <th></th>\n",
       "      <th>DIABETES</th>\n",
       "      <th>counts</th>\n",
       "      <th>percentage</th>\n",
       "    </tr>\n",
       "  </thead>\n",
       "  <tbody>\n",
       "    <tr>\n",
       "      <th>0</th>\n",
       "      <td>INSULIN</td>\n",
       "      <td>10</td>\n",
       "      <td>2.4</td>\n",
       "    </tr>\n",
       "    <tr>\n",
       "      <th>1</th>\n",
       "      <td>NO</td>\n",
       "      <td>392</td>\n",
       "      <td>94.9</td>\n",
       "    </tr>\n",
       "    <tr>\n",
       "      <th>2</th>\n",
       "      <td>NON-INSULIN</td>\n",
       "      <td>11</td>\n",
       "      <td>2.7</td>\n",
       "    </tr>\n",
       "  </tbody>\n",
       "</table>\n",
       "</div>"
      ],
      "text/plain": [
       "      DIABETES  counts  percentage\n",
       "0      INSULIN      10         2.4\n",
       "1           NO     392        94.9\n",
       "2  NON-INSULIN      11         2.7"
      ]
     },
     "execution_count": 238,
     "metadata": {},
     "output_type": "execute_result"
    }
   ],
   "source": [
    "df.groupby('DIABETES').size().reset_index(name='counts').assign(percentage=lambda x: (x['counts'] / df['DIABETES'].count()) * 100).round(1)"
   ]
  },
  {
   "cell_type": "code",
   "execution_count": 239,
   "id": "0421d4fd-6eb0-4648-acf8-e93aa69b1472",
   "metadata": {},
   "outputs": [
    {
     "data": {
      "text/html": [
       "<div>\n",
       "<style scoped>\n",
       "    .dataframe tbody tr th:only-of-type {\n",
       "        vertical-align: middle;\n",
       "    }\n",
       "\n",
       "    .dataframe tbody tr th {\n",
       "        vertical-align: top;\n",
       "    }\n",
       "\n",
       "    .dataframe thead th {\n",
       "        text-align: right;\n",
       "    }\n",
       "</style>\n",
       "<table border=\"1\" class=\"dataframe\">\n",
       "  <thead>\n",
       "    <tr style=\"text-align: right;\">\n",
       "      <th></th>\n",
       "      <th>DISCANCR</th>\n",
       "      <th>counts</th>\n",
       "    </tr>\n",
       "  </thead>\n",
       "  <tbody>\n",
       "    <tr>\n",
       "      <th>0</th>\n",
       "      <td>No</td>\n",
       "      <td>413</td>\n",
       "    </tr>\n",
       "  </tbody>\n",
       "</table>\n",
       "</div>"
      ],
      "text/plain": [
       "  DISCANCR  counts\n",
       "0       No     413"
      ]
     },
     "execution_count": 239,
     "metadata": {},
     "output_type": "execute_result"
    }
   ],
   "source": [
    "df.groupby('DISCANCR').size().reset_index(name='counts')"
   ]
  },
  {
   "cell_type": "markdown",
   "id": "5f6bf5a9-c0d1-4ef8-bbd6-c22604f1f872",
   "metadata": {},
   "source": [
    "# Operative variables "
   ]
  },
  {
   "cell_type": "code",
   "execution_count": 123,
   "id": "1470917a-9a4d-4c50-b2a9-033cb6c7e8ea",
   "metadata": {},
   "outputs": [
    {
     "data": {
      "text/html": [
       "<div>\n",
       "<style scoped>\n",
       "    .dataframe tbody tr th:only-of-type {\n",
       "        vertical-align: middle;\n",
       "    }\n",
       "\n",
       "    .dataframe tbody tr th {\n",
       "        vertical-align: top;\n",
       "    }\n",
       "\n",
       "    .dataframe thead th {\n",
       "        text-align: right;\n",
       "    }\n",
       "</style>\n",
       "<table border=\"1\" class=\"dataframe\">\n",
       "  <thead>\n",
       "    <tr style=\"text-align: right;\">\n",
       "      <th></th>\n",
       "      <th>PUFYEAR</th>\n",
       "      <th>counts</th>\n",
       "    </tr>\n",
       "  </thead>\n",
       "  <tbody>\n",
       "    <tr>\n",
       "      <th>0</th>\n",
       "      <td>2019</td>\n",
       "      <td>91</td>\n",
       "    </tr>\n",
       "    <tr>\n",
       "      <th>1</th>\n",
       "      <td>2020</td>\n",
       "      <td>63</td>\n",
       "    </tr>\n",
       "    <tr>\n",
       "      <th>2</th>\n",
       "      <td>2021</td>\n",
       "      <td>125</td>\n",
       "    </tr>\n",
       "    <tr>\n",
       "      <th>3</th>\n",
       "      <td>2022</td>\n",
       "      <td>134</td>\n",
       "    </tr>\n",
       "  </tbody>\n",
       "</table>\n",
       "</div>"
      ],
      "text/plain": [
       "   PUFYEAR  counts\n",
       "0     2019      91\n",
       "1     2020      63\n",
       "2     2021     125\n",
       "3     2022     134"
      ]
     },
     "execution_count": 123,
     "metadata": {},
     "output_type": "execute_result"
    }
   ],
   "source": [
    "df.groupby('PUFYEAR').size().reset_index(name='counts')"
   ]
  },
  {
   "cell_type": "code",
   "execution_count": 176,
   "id": "10ee25d4-f980-4872-a688-fddbc8809138",
   "metadata": {},
   "outputs": [
    {
     "data": {
      "text/html": [
       "<div>\n",
       "<style scoped>\n",
       "    .dataframe tbody tr th:only-of-type {\n",
       "        vertical-align: middle;\n",
       "    }\n",
       "\n",
       "    .dataframe tbody tr th {\n",
       "        vertical-align: top;\n",
       "    }\n",
       "\n",
       "    .dataframe thead th {\n",
       "        text-align: right;\n",
       "    }\n",
       "</style>\n",
       "<table border=\"1\" class=\"dataframe\">\n",
       "  <thead>\n",
       "    <tr style=\"text-align: right;\">\n",
       "      <th></th>\n",
       "      <th>PUFYEAR</th>\n",
       "      <th>counts</th>\n",
       "      <th>percentage</th>\n",
       "    </tr>\n",
       "  </thead>\n",
       "  <tbody>\n",
       "    <tr>\n",
       "      <th>0</th>\n",
       "      <td>2019</td>\n",
       "      <td>91</td>\n",
       "      <td>22.03</td>\n",
       "    </tr>\n",
       "    <tr>\n",
       "      <th>1</th>\n",
       "      <td>2020</td>\n",
       "      <td>63</td>\n",
       "      <td>15.25</td>\n",
       "    </tr>\n",
       "    <tr>\n",
       "      <th>2</th>\n",
       "      <td>2021</td>\n",
       "      <td>125</td>\n",
       "      <td>30.27</td>\n",
       "    </tr>\n",
       "    <tr>\n",
       "      <th>3</th>\n",
       "      <td>2022</td>\n",
       "      <td>134</td>\n",
       "      <td>32.45</td>\n",
       "    </tr>\n",
       "  </tbody>\n",
       "</table>\n",
       "</div>"
      ],
      "text/plain": [
       "   PUFYEAR  counts  percentage\n",
       "0     2019      91       22.03\n",
       "1     2020      63       15.25\n",
       "2     2021     125       30.27\n",
       "3     2022     134       32.45"
      ]
     },
     "execution_count": 176,
     "metadata": {},
     "output_type": "execute_result"
    }
   ],
   "source": [
    "df.groupby('PUFYEAR').size().reset_index(name='counts').assign(percentage=lambda x: (x['counts'] / df['PUFYEAR'].count()) * 100).round(2)"
   ]
  },
  {
   "cell_type": "code",
   "execution_count": 178,
   "id": "1e196274-b1f6-43f1-b613-fc1272438101",
   "metadata": {},
   "outputs": [
    {
     "data": {
      "text/html": [
       "<div>\n",
       "<style scoped>\n",
       "    .dataframe tbody tr th:only-of-type {\n",
       "        vertical-align: middle;\n",
       "    }\n",
       "\n",
       "    .dataframe tbody tr th {\n",
       "        vertical-align: top;\n",
       "    }\n",
       "\n",
       "    .dataframe thead th {\n",
       "        text-align: right;\n",
       "    }\n",
       "</style>\n",
       "<table border=\"1\" class=\"dataframe\">\n",
       "  <thead>\n",
       "    <tr style=\"text-align: right;\">\n",
       "      <th></th>\n",
       "      <th>PUFYEAR</th>\n",
       "      <th>counts</th>\n",
       "      <th>percentage</th>\n",
       "    </tr>\n",
       "  </thead>\n",
       "  <tbody>\n",
       "    <tr>\n",
       "      <th>0</th>\n",
       "      <td>2019</td>\n",
       "      <td>91</td>\n",
       "      <td>22.09</td>\n",
       "    </tr>\n",
       "    <tr>\n",
       "      <th>1</th>\n",
       "      <td>2020</td>\n",
       "      <td>63</td>\n",
       "      <td>15.29</td>\n",
       "    </tr>\n",
       "    <tr>\n",
       "      <th>2</th>\n",
       "      <td>2021</td>\n",
       "      <td>125</td>\n",
       "      <td>30.34</td>\n",
       "    </tr>\n",
       "    <tr>\n",
       "      <th>3</th>\n",
       "      <td>2022</td>\n",
       "      <td>133</td>\n",
       "      <td>32.28</td>\n",
       "    </tr>\n",
       "  </tbody>\n",
       "</table>\n",
       "</div>"
      ],
      "text/plain": [
       "   PUFYEAR  counts  percentage\n",
       "0     2019      91       22.09\n",
       "1     2020      63       15.29\n",
       "2     2021     125       30.34\n",
       "3     2022     133       32.28"
      ]
     },
     "execution_count": 178,
     "metadata": {},
     "output_type": "execute_result"
    }
   ],
   "source": [
    "df_no57425.groupby('PUFYEAR').size().reset_index(name='counts').assign(percentage=lambda x: (x['counts'] / df_no57425['PUFYEAR'].count()) * 100).round(2)"
   ]
  },
  {
   "cell_type": "code",
   "execution_count": null,
   "id": "99108edf-0375-4f03-9fa9-c918b5223a06",
   "metadata": {},
   "outputs": [],
   "source": []
  },
  {
   "cell_type": "code",
   "execution_count": 81,
   "id": "ec73b91a-22bb-4865-909a-67e6e9ce36d3",
   "metadata": {},
   "outputs": [
    {
     "data": {
      "text/html": [
       "<div>\n",
       "<style scoped>\n",
       "    .dataframe tbody tr th:only-of-type {\n",
       "        vertical-align: middle;\n",
       "    }\n",
       "\n",
       "    .dataframe tbody tr th {\n",
       "        vertical-align: top;\n",
       "    }\n",
       "\n",
       "    .dataframe thead th {\n",
       "        text-align: right;\n",
       "    }\n",
       "</style>\n",
       "<table border=\"1\" class=\"dataframe\">\n",
       "  <thead>\n",
       "    <tr style=\"text-align: right;\">\n",
       "      <th></th>\n",
       "      <th>OPTIME</th>\n",
       "      <th>counts</th>\n",
       "    </tr>\n",
       "  </thead>\n",
       "  <tbody>\n",
       "    <tr>\n",
       "      <th>0</th>\n",
       "      <td>28</td>\n",
       "      <td>1</td>\n",
       "    </tr>\n",
       "    <tr>\n",
       "      <th>1</th>\n",
       "      <td>30</td>\n",
       "      <td>1</td>\n",
       "    </tr>\n",
       "    <tr>\n",
       "      <th>2</th>\n",
       "      <td>37</td>\n",
       "      <td>1</td>\n",
       "    </tr>\n",
       "    <tr>\n",
       "      <th>3</th>\n",
       "      <td>41</td>\n",
       "      <td>1</td>\n",
       "    </tr>\n",
       "    <tr>\n",
       "      <th>4</th>\n",
       "      <td>66</td>\n",
       "      <td>1</td>\n",
       "    </tr>\n",
       "    <tr>\n",
       "      <th>...</th>\n",
       "      <td>...</td>\n",
       "      <td>...</td>\n",
       "    </tr>\n",
       "    <tr>\n",
       "      <th>255</th>\n",
       "      <td>620</td>\n",
       "      <td>2</td>\n",
       "    </tr>\n",
       "    <tr>\n",
       "      <th>256</th>\n",
       "      <td>646</td>\n",
       "      <td>1</td>\n",
       "    </tr>\n",
       "    <tr>\n",
       "      <th>257</th>\n",
       "      <td>659</td>\n",
       "      <td>1</td>\n",
       "    </tr>\n",
       "    <tr>\n",
       "      <th>258</th>\n",
       "      <td>676</td>\n",
       "      <td>1</td>\n",
       "    </tr>\n",
       "    <tr>\n",
       "      <th>259</th>\n",
       "      <td>689</td>\n",
       "      <td>1</td>\n",
       "    </tr>\n",
       "  </tbody>\n",
       "</table>\n",
       "<p>260 rows × 2 columns</p>\n",
       "</div>"
      ],
      "text/plain": [
       "     OPTIME  counts\n",
       "0        28       1\n",
       "1        30       1\n",
       "2        37       1\n",
       "3        41       1\n",
       "4        66       1\n",
       "..      ...     ...\n",
       "255     620       2\n",
       "256     646       1\n",
       "257     659       1\n",
       "258     676       1\n",
       "259     689       1\n",
       "\n",
       "[260 rows x 2 columns]"
      ]
     },
     "execution_count": 81,
     "metadata": {},
     "output_type": "execute_result"
    }
   ],
   "source": [
    "df.groupby('OPTIME').size().reset_index(name='counts')"
   ]
  },
  {
   "cell_type": "code",
   "execution_count": 242,
   "id": "84353fee-191c-49da-af4b-4511a437cd02",
   "metadata": {},
   "outputs": [
    {
     "data": {
      "text/plain": [
       "np.float64(273.6271186440678)"
      ]
     },
     "execution_count": 242,
     "metadata": {},
     "output_type": "execute_result"
    }
   ],
   "source": [
    "df['OPTIME'].mean()"
   ]
  },
  {
   "cell_type": "code",
   "execution_count": 243,
   "id": "202b8a7f-9d93-4707-99ff-b303711c7dc8",
   "metadata": {},
   "outputs": [
    {
     "data": {
      "text/plain": [
       "np.float64(131.09255768452255)"
      ]
     },
     "execution_count": 243,
     "metadata": {},
     "output_type": "execute_result"
    }
   ],
   "source": [
    "df['OPTIME'].std()"
   ]
  },
  {
   "cell_type": "code",
   "execution_count": 244,
   "id": "5a2258e2-b217-40de-ad10-bcb542ca00ac",
   "metadata": {},
   "outputs": [
    {
     "data": {
      "text/plain": [
       "np.float64(252.0)"
      ]
     },
     "execution_count": 244,
     "metadata": {},
     "output_type": "execute_result"
    }
   ],
   "source": [
    "df['OPTIME'].median()"
   ]
  },
  {
   "cell_type": "code",
   "execution_count": 179,
   "id": "68366afc-0b2c-4e1b-b096-262aac5a2da8",
   "metadata": {},
   "outputs": [
    {
     "data": {
      "text/plain": [
       "339    373\n",
       "Name: OPTIME, dtype: int64"
      ]
     },
     "execution_count": 179,
     "metadata": {},
     "output_type": "execute_result"
    }
   ],
   "source": [
    "df_with57425['OPTIME']"
   ]
  },
  {
   "cell_type": "code",
   "execution_count": 180,
   "id": "13419ffe-9915-4c4a-a9a6-8430c078c63b",
   "metadata": {},
   "outputs": [
    {
     "data": {
      "text/plain": [
       "np.float64(273.38592233009706)"
      ]
     },
     "execution_count": 180,
     "metadata": {},
     "output_type": "execute_result"
    }
   ],
   "source": [
    "df_no57425['OPTIME'].mean()"
   ]
  },
  {
   "cell_type": "code",
   "execution_count": 181,
   "id": "1c37a52c-6add-42fb-aafb-3715c4b257a9",
   "metadata": {},
   "outputs": [
    {
     "data": {
      "text/plain": [
       "np.float64(131.16015764942372)"
      ]
     },
     "execution_count": 181,
     "metadata": {},
     "output_type": "execute_result"
    }
   ],
   "source": [
    "df_no57425['OPTIME'].std()"
   ]
  },
  {
   "cell_type": "code",
   "execution_count": 182,
   "id": "64d57577-c021-4539-94f9-e69de19b48e0",
   "metadata": {},
   "outputs": [
    {
     "data": {
      "text/plain": [
       "np.float64(252.0)"
      ]
     },
     "execution_count": 182,
     "metadata": {},
     "output_type": "execute_result"
    }
   ],
   "source": [
    "df_no57425['OPTIME'].median()"
   ]
  },
  {
   "cell_type": "code",
   "execution_count": null,
   "id": "2f503313-c838-4b05-a49f-8a2b56ec8d27",
   "metadata": {},
   "outputs": [],
   "source": []
  },
  {
   "cell_type": "code",
   "execution_count": 82,
   "id": "5e7047f0-ff4b-47aa-838d-157f7f0d5fc8",
   "metadata": {},
   "outputs": [
    {
     "data": {
      "text/html": [
       "<div>\n",
       "<style scoped>\n",
       "    .dataframe tbody tr th:only-of-type {\n",
       "        vertical-align: middle;\n",
       "    }\n",
       "\n",
       "    .dataframe tbody tr th {\n",
       "        vertical-align: top;\n",
       "    }\n",
       "\n",
       "    .dataframe thead th {\n",
       "        text-align: right;\n",
       "    }\n",
       "</style>\n",
       "<table border=\"1\" class=\"dataframe\">\n",
       "  <thead>\n",
       "    <tr style=\"text-align: right;\">\n",
       "      <th></th>\n",
       "      <th>HDISDT</th>\n",
       "      <th>counts</th>\n",
       "    </tr>\n",
       "  </thead>\n",
       "  <tbody>\n",
       "    <tr>\n",
       "      <th>0</th>\n",
       "      <td>2019</td>\n",
       "      <td>90</td>\n",
       "    </tr>\n",
       "    <tr>\n",
       "      <th>1</th>\n",
       "      <td>2020</td>\n",
       "      <td>64</td>\n",
       "    </tr>\n",
       "    <tr>\n",
       "      <th>2</th>\n",
       "      <td>2021</td>\n",
       "      <td>124</td>\n",
       "    </tr>\n",
       "    <tr>\n",
       "      <th>3</th>\n",
       "      <td>2022</td>\n",
       "      <td>135</td>\n",
       "    </tr>\n",
       "  </tbody>\n",
       "</table>\n",
       "</div>"
      ],
      "text/plain": [
       "   HDISDT  counts\n",
       "0    2019      90\n",
       "1    2020      64\n",
       "2    2021     124\n",
       "3    2022     135"
      ]
     },
     "execution_count": 82,
     "metadata": {},
     "output_type": "execute_result"
    }
   ],
   "source": [
    "df.groupby('HDISDT').size().reset_index(name='counts')"
   ]
  },
  {
   "cell_type": "code",
   "execution_count": 183,
   "id": "a08a3891-3690-43ca-95b1-9b444b9e7e8a",
   "metadata": {},
   "outputs": [
    {
     "data": {
      "text/html": [
       "<div>\n",
       "<style scoped>\n",
       "    .dataframe tbody tr th:only-of-type {\n",
       "        vertical-align: middle;\n",
       "    }\n",
       "\n",
       "    .dataframe tbody tr th {\n",
       "        vertical-align: top;\n",
       "    }\n",
       "\n",
       "    .dataframe thead th {\n",
       "        text-align: right;\n",
       "    }\n",
       "</style>\n",
       "<table border=\"1\" class=\"dataframe\">\n",
       "  <thead>\n",
       "    <tr style=\"text-align: right;\">\n",
       "      <th></th>\n",
       "      <th>HDISDT</th>\n",
       "      <th>counts</th>\n",
       "      <th>percentage</th>\n",
       "    </tr>\n",
       "  </thead>\n",
       "  <tbody>\n",
       "    <tr>\n",
       "      <th>0</th>\n",
       "      <td>2019</td>\n",
       "      <td>90</td>\n",
       "      <td>21.79</td>\n",
       "    </tr>\n",
       "    <tr>\n",
       "      <th>1</th>\n",
       "      <td>2020</td>\n",
       "      <td>64</td>\n",
       "      <td>15.50</td>\n",
       "    </tr>\n",
       "    <tr>\n",
       "      <th>2</th>\n",
       "      <td>2021</td>\n",
       "      <td>124</td>\n",
       "      <td>30.02</td>\n",
       "    </tr>\n",
       "    <tr>\n",
       "      <th>3</th>\n",
       "      <td>2022</td>\n",
       "      <td>135</td>\n",
       "      <td>32.69</td>\n",
       "    </tr>\n",
       "  </tbody>\n",
       "</table>\n",
       "</div>"
      ],
      "text/plain": [
       "   HDISDT  counts  percentage\n",
       "0    2019      90       21.79\n",
       "1    2020      64       15.50\n",
       "2    2021     124       30.02\n",
       "3    2022     135       32.69"
      ]
     },
     "execution_count": 183,
     "metadata": {},
     "output_type": "execute_result"
    }
   ],
   "source": [
    "df.groupby('HDISDT').size().reset_index(name='counts').assign(percentage=lambda x: (x['counts'] / df['HDISDT'].count()) * 100).round(2)"
   ]
  },
  {
   "cell_type": "code",
   "execution_count": 184,
   "id": "f84abe48-12e1-4f41-a657-e9058bbdf4b8",
   "metadata": {},
   "outputs": [
    {
     "data": {
      "text/plain": [
       "339    2022\n",
       "Name: HDISDT, dtype: int64"
      ]
     },
     "execution_count": 184,
     "metadata": {},
     "output_type": "execute_result"
    }
   ],
   "source": [
    "df_with57425['HDISDT']"
   ]
  },
  {
   "cell_type": "code",
   "execution_count": 185,
   "id": "f494107a-490c-4b55-bef2-10523fe411bd",
   "metadata": {},
   "outputs": [
    {
     "data": {
      "text/html": [
       "<div>\n",
       "<style scoped>\n",
       "    .dataframe tbody tr th:only-of-type {\n",
       "        vertical-align: middle;\n",
       "    }\n",
       "\n",
       "    .dataframe tbody tr th {\n",
       "        vertical-align: top;\n",
       "    }\n",
       "\n",
       "    .dataframe thead th {\n",
       "        text-align: right;\n",
       "    }\n",
       "</style>\n",
       "<table border=\"1\" class=\"dataframe\">\n",
       "  <thead>\n",
       "    <tr style=\"text-align: right;\">\n",
       "      <th></th>\n",
       "      <th>HDISDT</th>\n",
       "      <th>counts</th>\n",
       "      <th>percentage</th>\n",
       "    </tr>\n",
       "  </thead>\n",
       "  <tbody>\n",
       "    <tr>\n",
       "      <th>0</th>\n",
       "      <td>2019</td>\n",
       "      <td>90</td>\n",
       "      <td>21.84</td>\n",
       "    </tr>\n",
       "    <tr>\n",
       "      <th>1</th>\n",
       "      <td>2020</td>\n",
       "      <td>64</td>\n",
       "      <td>15.53</td>\n",
       "    </tr>\n",
       "    <tr>\n",
       "      <th>2</th>\n",
       "      <td>2021</td>\n",
       "      <td>124</td>\n",
       "      <td>30.10</td>\n",
       "    </tr>\n",
       "    <tr>\n",
       "      <th>3</th>\n",
       "      <td>2022</td>\n",
       "      <td>134</td>\n",
       "      <td>32.52</td>\n",
       "    </tr>\n",
       "  </tbody>\n",
       "</table>\n",
       "</div>"
      ],
      "text/plain": [
       "   HDISDT  counts  percentage\n",
       "0    2019      90       21.84\n",
       "1    2020      64       15.53\n",
       "2    2021     124       30.10\n",
       "3    2022     134       32.52"
      ]
     },
     "execution_count": 185,
     "metadata": {},
     "output_type": "execute_result"
    }
   ],
   "source": [
    "df_no57425.groupby('HDISDT').size().reset_index(name='counts').assign(percentage=lambda x: (x['counts'] / df_no57425['HDISDT'].count()) * 100).round(2)"
   ]
  },
  {
   "cell_type": "code",
   "execution_count": 187,
   "id": "19a55f26-1280-4f10-bc09-a9708a1e0a29",
   "metadata": {},
   "outputs": [
    {
     "data": {
      "text/html": [
       "<div>\n",
       "<style scoped>\n",
       "    .dataframe tbody tr th:only-of-type {\n",
       "        vertical-align: middle;\n",
       "    }\n",
       "\n",
       "    .dataframe tbody tr th {\n",
       "        vertical-align: top;\n",
       "    }\n",
       "\n",
       "    .dataframe thead th {\n",
       "        text-align: right;\n",
       "    }\n",
       "</style>\n",
       "<table border=\"1\" class=\"dataframe\">\n",
       "  <thead>\n",
       "    <tr style=\"text-align: right;\">\n",
       "      <th></th>\n",
       "      <th>TOTHLOS</th>\n",
       "      <th>counts</th>\n",
       "    </tr>\n",
       "  </thead>\n",
       "  <tbody>\n",
       "    <tr>\n",
       "      <th>0</th>\n",
       "      <td>0</td>\n",
       "      <td>21</td>\n",
       "    </tr>\n",
       "    <tr>\n",
       "      <th>1</th>\n",
       "      <td>1</td>\n",
       "      <td>10</td>\n",
       "    </tr>\n",
       "    <tr>\n",
       "      <th>2</th>\n",
       "      <td>2</td>\n",
       "      <td>24</td>\n",
       "    </tr>\n",
       "    <tr>\n",
       "      <th>3</th>\n",
       "      <td>3</td>\n",
       "      <td>146</td>\n",
       "    </tr>\n",
       "    <tr>\n",
       "      <th>4</th>\n",
       "      <td>4</td>\n",
       "      <td>18</td>\n",
       "    </tr>\n",
       "    <tr>\n",
       "      <th>5</th>\n",
       "      <td>5</td>\n",
       "      <td>62</td>\n",
       "    </tr>\n",
       "    <tr>\n",
       "      <th>6</th>\n",
       "      <td>6</td>\n",
       "      <td>70</td>\n",
       "    </tr>\n",
       "    <tr>\n",
       "      <th>7</th>\n",
       "      <td>7</td>\n",
       "      <td>35</td>\n",
       "    </tr>\n",
       "    <tr>\n",
       "      <th>8</th>\n",
       "      <td>8</td>\n",
       "      <td>10</td>\n",
       "    </tr>\n",
       "    <tr>\n",
       "      <th>9</th>\n",
       "      <td>9</td>\n",
       "      <td>9</td>\n",
       "    </tr>\n",
       "    <tr>\n",
       "      <th>10</th>\n",
       "      <td>10</td>\n",
       "      <td>3</td>\n",
       "    </tr>\n",
       "    <tr>\n",
       "      <th>11</th>\n",
       "      <td>11</td>\n",
       "      <td>3</td>\n",
       "    </tr>\n",
       "    <tr>\n",
       "      <th>12</th>\n",
       "      <td>12</td>\n",
       "      <td>1</td>\n",
       "    </tr>\n",
       "    <tr>\n",
       "      <th>13</th>\n",
       "      <td>15</td>\n",
       "      <td>1</td>\n",
       "    </tr>\n",
       "  </tbody>\n",
       "</table>\n",
       "</div>"
      ],
      "text/plain": [
       "    TOTHLOS  counts\n",
       "0         0      21\n",
       "1         1      10\n",
       "2         2      24\n",
       "3         3     146\n",
       "4         4      18\n",
       "5         5      62\n",
       "6         6      70\n",
       "7         7      35\n",
       "8         8      10\n",
       "9         9       9\n",
       "10       10       3\n",
       "11       11       3\n",
       "12       12       1\n",
       "13       15       1"
      ]
     },
     "execution_count": 187,
     "metadata": {},
     "output_type": "execute_result"
    }
   ],
   "source": [
    "df.groupby('TOTHLOS').size().reset_index(name='counts')"
   ]
  },
  {
   "cell_type": "code",
   "execution_count": 246,
   "id": "e8ba5fc1-8c71-4181-b809-132497b8ae5a",
   "metadata": {},
   "outputs": [
    {
     "data": {
      "text/plain": [
       "np.float64(4.343825665859564)"
      ]
     },
     "execution_count": 246,
     "metadata": {},
     "output_type": "execute_result"
    }
   ],
   "source": [
    "df['TOTHLOS'].mean()"
   ]
  },
  {
   "cell_type": "code",
   "execution_count": 247,
   "id": "aa4b4a74-8387-41da-9eed-04b3a8e95594",
   "metadata": {},
   "outputs": [
    {
     "data": {
      "text/plain": [
       "np.float64(2.25830546675695)"
      ]
     },
     "execution_count": 247,
     "metadata": {},
     "output_type": "execute_result"
    }
   ],
   "source": [
    "df['TOTHLOS'].std()"
   ]
  },
  {
   "cell_type": "code",
   "execution_count": 248,
   "id": "ed9e9f61-c574-4c4c-8de6-825157dd72ea",
   "metadata": {},
   "outputs": [
    {
     "data": {
      "text/plain": [
       "np.float64(4.0)"
      ]
     },
     "execution_count": 248,
     "metadata": {},
     "output_type": "execute_result"
    }
   ],
   "source": [
    "df['TOTHLOS'].median()"
   ]
  },
  {
   "cell_type": "code",
   "execution_count": 249,
   "id": "636af5f5-703a-468d-ad5a-f2ee7d25b980",
   "metadata": {},
   "outputs": [
    {
     "data": {
      "text/plain": [
       "0    3\n",
       "Name: TOTHLOS, dtype: int64"
      ]
     },
     "execution_count": 249,
     "metadata": {},
     "output_type": "execute_result"
    }
   ],
   "source": [
    "df['TOTHLOS'].mode()"
   ]
  },
  {
   "cell_type": "code",
   "execution_count": 190,
   "id": "d3239b5f-9af7-41af-b18f-8dfcefd7b4c1",
   "metadata": {},
   "outputs": [
    {
     "data": {
      "text/plain": [
       "np.float64(nan)"
      ]
     },
     "execution_count": 190,
     "metadata": {},
     "output_type": "execute_result"
    }
   ],
   "source": [
    "df_with57425['TOTHLOS'].std()"
   ]
  },
  {
   "cell_type": "code",
   "execution_count": 191,
   "id": "99065420-fb59-40de-99ca-f5b881bfb686",
   "metadata": {},
   "outputs": [
    {
     "data": {
      "text/plain": [
       "np.float64(4.347087378640777)"
      ]
     },
     "execution_count": 191,
     "metadata": {},
     "output_type": "execute_result"
    }
   ],
   "source": [
    "df_no57425['TOTHLOS'].mean()"
   ]
  },
  {
   "cell_type": "code",
   "execution_count": 192,
   "id": "5646e39d-133e-43e2-98fa-f503ce1c3cb9",
   "metadata": {},
   "outputs": [
    {
     "data": {
      "text/plain": [
       "np.float64(2.2600769235527345)"
      ]
     },
     "execution_count": 192,
     "metadata": {},
     "output_type": "execute_result"
    }
   ],
   "source": [
    "df_no57425['TOTHLOS'].std()"
   ]
  },
  {
   "cell_type": "code",
   "execution_count": 193,
   "id": "5a658357-2eb1-4574-804f-067151642867",
   "metadata": {},
   "outputs": [
    {
     "data": {
      "text/plain": [
       "np.float64(4.0)"
      ]
     },
     "execution_count": 193,
     "metadata": {},
     "output_type": "execute_result"
    }
   ],
   "source": [
    "df_no57425['TOTHLOS'].median()"
   ]
  },
  {
   "cell_type": "code",
   "execution_count": 250,
   "id": "ac6448a4-d59c-4487-a894-e96c0076171a",
   "metadata": {},
   "outputs": [
    {
     "data": {
      "text/html": [
       "<div>\n",
       "<style scoped>\n",
       "    .dataframe tbody tr th:only-of-type {\n",
       "        vertical-align: middle;\n",
       "    }\n",
       "\n",
       "    .dataframe tbody tr th {\n",
       "        vertical-align: top;\n",
       "    }\n",
       "\n",
       "    .dataframe thead th {\n",
       "        text-align: right;\n",
       "    }\n",
       "</style>\n",
       "<table border=\"1\" class=\"dataframe\">\n",
       "  <thead>\n",
       "    <tr style=\"text-align: right;\">\n",
       "      <th></th>\n",
       "      <th>NOTHBLEED</th>\n",
       "      <th>counts</th>\n",
       "    </tr>\n",
       "  </thead>\n",
       "  <tbody>\n",
       "    <tr>\n",
       "      <th>0</th>\n",
       "      <td>0</td>\n",
       "      <td>397</td>\n",
       "    </tr>\n",
       "    <tr>\n",
       "      <th>1</th>\n",
       "      <td>1</td>\n",
       "      <td>16</td>\n",
       "    </tr>\n",
       "  </tbody>\n",
       "</table>\n",
       "</div>"
      ],
      "text/plain": [
       "   NOTHBLEED  counts\n",
       "0          0     397\n",
       "1          1      16"
      ]
     },
     "execution_count": 250,
     "metadata": {},
     "output_type": "execute_result"
    }
   ],
   "source": [
    "df.groupby('NOTHBLEED').size().reset_index(name='counts')"
   ]
  },
  {
   "cell_type": "code",
   "execution_count": 251,
   "id": "baa34f0b-27bd-49e0-a4bd-43c34dabe787",
   "metadata": {},
   "outputs": [
    {
     "data": {
      "text/html": [
       "<div>\n",
       "<style scoped>\n",
       "    .dataframe tbody tr th:only-of-type {\n",
       "        vertical-align: middle;\n",
       "    }\n",
       "\n",
       "    .dataframe tbody tr th {\n",
       "        vertical-align: top;\n",
       "    }\n",
       "\n",
       "    .dataframe thead th {\n",
       "        text-align: right;\n",
       "    }\n",
       "</style>\n",
       "<table border=\"1\" class=\"dataframe\">\n",
       "  <thead>\n",
       "    <tr style=\"text-align: right;\">\n",
       "      <th></th>\n",
       "      <th>NOTHBLEED</th>\n",
       "      <th>counts</th>\n",
       "      <th>percentage</th>\n",
       "    </tr>\n",
       "  </thead>\n",
       "  <tbody>\n",
       "    <tr>\n",
       "      <th>0</th>\n",
       "      <td>0</td>\n",
       "      <td>397</td>\n",
       "      <td>96.1</td>\n",
       "    </tr>\n",
       "    <tr>\n",
       "      <th>1</th>\n",
       "      <td>1</td>\n",
       "      <td>16</td>\n",
       "      <td>3.9</td>\n",
       "    </tr>\n",
       "  </tbody>\n",
       "</table>\n",
       "</div>"
      ],
      "text/plain": [
       "   NOTHBLEED  counts  percentage\n",
       "0          0     397        96.1\n",
       "1          1      16         3.9"
      ]
     },
     "execution_count": 251,
     "metadata": {},
     "output_type": "execute_result"
    }
   ],
   "source": [
    "df.groupby('NOTHBLEED').size().reset_index(name='counts').assign(percentage=lambda x: (x['counts'] / df['NOTHBLEED'].count()) * 100).round(1)"
   ]
  },
  {
   "cell_type": "code",
   "execution_count": 194,
   "id": "a462ad5f-6b37-4678-bddc-252bf48984bf",
   "metadata": {},
   "outputs": [
    {
     "data": {
      "text/plain": [
       "339    0\n",
       "Name: NOTHBLEED, dtype: int64"
      ]
     },
     "execution_count": 194,
     "metadata": {},
     "output_type": "execute_result"
    }
   ],
   "source": [
    "df_with57425['NOTHBLEED']"
   ]
  },
  {
   "cell_type": "code",
   "execution_count": 252,
   "id": "bd044d8a-7b8b-44cd-bcff-7a1b5ed2e587",
   "metadata": {},
   "outputs": [
    {
     "data": {
      "text/html": [
       "<div>\n",
       "<style scoped>\n",
       "    .dataframe tbody tr th:only-of-type {\n",
       "        vertical-align: middle;\n",
       "    }\n",
       "\n",
       "    .dataframe tbody tr th {\n",
       "        vertical-align: top;\n",
       "    }\n",
       "\n",
       "    .dataframe thead th {\n",
       "        text-align: right;\n",
       "    }\n",
       "</style>\n",
       "<table border=\"1\" class=\"dataframe\">\n",
       "  <thead>\n",
       "    <tr style=\"text-align: right;\">\n",
       "      <th></th>\n",
       "      <th>STILLINHOSP</th>\n",
       "      <th>counts</th>\n",
       "    </tr>\n",
       "  </thead>\n",
       "  <tbody>\n",
       "    <tr>\n",
       "      <th>0</th>\n",
       "      <td>No</td>\n",
       "      <td>413</td>\n",
       "    </tr>\n",
       "  </tbody>\n",
       "</table>\n",
       "</div>"
      ],
      "text/plain": [
       "  STILLINHOSP  counts\n",
       "0          No     413"
      ]
     },
     "execution_count": 252,
     "metadata": {},
     "output_type": "execute_result"
    }
   ],
   "source": [
    "df.groupby('STILLINHOSP').size().reset_index(name='counts')"
   ]
  },
  {
   "cell_type": "code",
   "execution_count": 270,
   "id": "d6f482ef-0a9e-4bf9-ac14-02d43c4d111d",
   "metadata": {},
   "outputs": [
    {
     "data": {
      "text/html": [
       "<div>\n",
       "<style scoped>\n",
       "    .dataframe tbody tr th:only-of-type {\n",
       "        vertical-align: middle;\n",
       "    }\n",
       "\n",
       "    .dataframe tbody tr th {\n",
       "        vertical-align: top;\n",
       "    }\n",
       "\n",
       "    .dataframe thead th {\n",
       "        text-align: right;\n",
       "    }\n",
       "</style>\n",
       "<table border=\"1\" class=\"dataframe\">\n",
       "  <thead>\n",
       "    <tr style=\"text-align: right;\">\n",
       "      <th></th>\n",
       "      <th>CONCURR1</th>\n",
       "      <th>counts</th>\n",
       "      <th>percentage</th>\n",
       "    </tr>\n",
       "  </thead>\n",
       "  <tbody>\n",
       "    <tr>\n",
       "      <th>0</th>\n",
       "      <td>AMPUTATION PENIS COMPLETE</td>\n",
       "      <td>12</td>\n",
       "      <td>19.4</td>\n",
       "    </tr>\n",
       "    <tr>\n",
       "      <th>1</th>\n",
       "      <td>CYSTOURETHROSCOPY</td>\n",
       "      <td>1</td>\n",
       "      <td>1.6</td>\n",
       "    </tr>\n",
       "    <tr>\n",
       "      <th>2</th>\n",
       "      <td>EXPL RPR &amp; PRESACRAL DRG RECTAL INJURY</td>\n",
       "      <td>1</td>\n",
       "      <td>1.6</td>\n",
       "    </tr>\n",
       "    <tr>\n",
       "      <th>3</th>\n",
       "      <td>INTERSEX SURG MALE FEMALE</td>\n",
       "      <td>1</td>\n",
       "      <td>1.6</td>\n",
       "    </tr>\n",
       "    <tr>\n",
       "      <th>4</th>\n",
       "      <td>LAPS COLECTOMY PRTL W/COLOPXTSTMY LW ANAST</td>\n",
       "      <td>2</td>\n",
       "      <td>3.2</td>\n",
       "    </tr>\n",
       "    <tr>\n",
       "      <th>5</th>\n",
       "      <td>LARYNGOPLASTY CRICOID SPLIT W/O GRAFT PLACEMENT</td>\n",
       "      <td>1</td>\n",
       "      <td>1.6</td>\n",
       "    </tr>\n",
       "    <tr>\n",
       "      <th>6</th>\n",
       "      <td>ORCHIECTOMY RADICAL TUMOR INGUINAL APPROACH</td>\n",
       "      <td>2</td>\n",
       "      <td>3.2</td>\n",
       "    </tr>\n",
       "    <tr>\n",
       "      <th>7</th>\n",
       "      <td>ORCHIECTOMY SIMPLE SCROTAL/INGUINAL APPROACH</td>\n",
       "      <td>21</td>\n",
       "      <td>33.9</td>\n",
       "    </tr>\n",
       "    <tr>\n",
       "      <th>8</th>\n",
       "      <td>PROCTOSGMDSC RGD DX W/WO COLLJ SPEC BR/WA SPX</td>\n",
       "      <td>1</td>\n",
       "      <td>1.6</td>\n",
       "    </tr>\n",
       "    <tr>\n",
       "      <th>9</th>\n",
       "      <td>SPLIT AGRFT F/S/N/H/F/G/M/D GT 1ST 100 CM/&lt;/1 %</td>\n",
       "      <td>1</td>\n",
       "      <td>1.6</td>\n",
       "    </tr>\n",
       "    <tr>\n",
       "      <th>10</th>\n",
       "      <td>SPLIT AGRFT T/A/L EA 100 CM/EA 1% BDY INFT/CHLD</td>\n",
       "      <td>1</td>\n",
       "      <td>1.6</td>\n",
       "    </tr>\n",
       "    <tr>\n",
       "      <th>11</th>\n",
       "      <td>UNLISTED PROCEDURE URINARY SYSTEM</td>\n",
       "      <td>2</td>\n",
       "      <td>3.2</td>\n",
       "    </tr>\n",
       "    <tr>\n",
       "      <th>12</th>\n",
       "      <td>URETHROPLASTY 1 STG RECNST MALE ANTERIOR URETHRA</td>\n",
       "      <td>1</td>\n",
       "      <td>1.6</td>\n",
       "    </tr>\n",
       "    <tr>\n",
       "      <th>13</th>\n",
       "      <td>URETHROPLASTY RCNSTJ FEMALE URETHRA</td>\n",
       "      <td>10</td>\n",
       "      <td>16.1</td>\n",
       "    </tr>\n",
       "    <tr>\n",
       "      <th>14</th>\n",
       "      <td>URTP TRANSPUBIC/PRNL 1 STG RCNSTJ/RPR URT</td>\n",
       "      <td>2</td>\n",
       "      <td>3.2</td>\n",
       "    </tr>\n",
       "    <tr>\n",
       "      <th>15</th>\n",
       "      <td>VAGINOPLASTY INTERSEX STATE</td>\n",
       "      <td>3</td>\n",
       "      <td>4.8</td>\n",
       "    </tr>\n",
       "  </tbody>\n",
       "</table>\n",
       "</div>"
      ],
      "text/plain": [
       "                                            CONCURR1  counts  percentage\n",
       "0                          AMPUTATION PENIS COMPLETE      12        19.4\n",
       "1                                  CYSTOURETHROSCOPY       1         1.6\n",
       "2             EXPL RPR & PRESACRAL DRG RECTAL INJURY       1         1.6\n",
       "3                          INTERSEX SURG MALE FEMALE       1         1.6\n",
       "4         LAPS COLECTOMY PRTL W/COLOPXTSTMY LW ANAST       2         3.2\n",
       "5    LARYNGOPLASTY CRICOID SPLIT W/O GRAFT PLACEMENT       1         1.6\n",
       "6        ORCHIECTOMY RADICAL TUMOR INGUINAL APPROACH       2         3.2\n",
       "7       ORCHIECTOMY SIMPLE SCROTAL/INGUINAL APPROACH      21        33.9\n",
       "8      PROCTOSGMDSC RGD DX W/WO COLLJ SPEC BR/WA SPX       1         1.6\n",
       "9    SPLIT AGRFT F/S/N/H/F/G/M/D GT 1ST 100 CM/</1 %       1         1.6\n",
       "10   SPLIT AGRFT T/A/L EA 100 CM/EA 1% BDY INFT/CHLD       1         1.6\n",
       "11                 UNLISTED PROCEDURE URINARY SYSTEM       2         3.2\n",
       "12  URETHROPLASTY 1 STG RECNST MALE ANTERIOR URETHRA       1         1.6\n",
       "13               URETHROPLASTY RCNSTJ FEMALE URETHRA      10        16.1\n",
       "14         URTP TRANSPUBIC/PRNL 1 STG RCNSTJ/RPR URT       2         3.2\n",
       "15                       VAGINOPLASTY INTERSEX STATE       3         4.8"
      ]
     },
     "execution_count": 270,
     "metadata": {},
     "output_type": "execute_result"
    }
   ],
   "source": [
    "df.groupby('CONCURR1').size().reset_index(name='counts').assign(percentage=lambda x: (x['counts'] / df['CONCURR1'].count()) * 100).round(1)"
   ]
  },
  {
   "cell_type": "code",
   "execution_count": 37,
   "id": "dcb78333-c8bf-461b-afd7-3bedaef36135",
   "metadata": {},
   "outputs": [
    {
     "data": {
      "text/html": [
       "<div>\n",
       "<style scoped>\n",
       "    .dataframe tbody tr th:only-of-type {\n",
       "        vertical-align: middle;\n",
       "    }\n",
       "\n",
       "    .dataframe tbody tr th {\n",
       "        vertical-align: top;\n",
       "    }\n",
       "\n",
       "    .dataframe thead th {\n",
       "        text-align: right;\n",
       "    }\n",
       "</style>\n",
       "<table border=\"1\" class=\"dataframe\">\n",
       "  <thead>\n",
       "    <tr style=\"text-align: right;\">\n",
       "      <th></th>\n",
       "      <th>CONCURR1</th>\n",
       "      <th>counts</th>\n",
       "      <th>percentage</th>\n",
       "    </tr>\n",
       "  </thead>\n",
       "  <tbody>\n",
       "    <tr>\n",
       "      <th>0</th>\n",
       "      <td>SPLIT AGRFT F/S/N/H/F/G/M/D GT 1ST 100 CM/&lt;/1 %</td>\n",
       "      <td>1</td>\n",
       "      <td>100.0</td>\n",
       "    </tr>\n",
       "  </tbody>\n",
       "</table>\n",
       "</div>"
      ],
      "text/plain": [
       "                                          CONCURR1  counts  percentage\n",
       "0  SPLIT AGRFT F/S/N/H/F/G/M/D GT 1ST 100 CM/</1 %       1       100.0"
      ]
     },
     "execution_count": 37,
     "metadata": {},
     "output_type": "execute_result"
    }
   ],
   "source": [
    "df_with57425.groupby('CONCURR1').size().reset_index(name='counts').assign(percentage=lambda x: (x['counts'] / df_with57425['CONCURR1'].count()) * 100).round(1)"
   ]
  },
  {
   "cell_type": "code",
   "execution_count": 45,
   "id": "28953894-cb45-4742-a130-7ec984148f80",
   "metadata": {},
   "outputs": [
    {
     "data": {
      "text/html": [
       "<div>\n",
       "<style scoped>\n",
       "    .dataframe tbody tr th:only-of-type {\n",
       "        vertical-align: middle;\n",
       "    }\n",
       "\n",
       "    .dataframe tbody tr th {\n",
       "        vertical-align: top;\n",
       "    }\n",
       "\n",
       "    .dataframe thead th {\n",
       "        text-align: right;\n",
       "    }\n",
       "</style>\n",
       "<table border=\"1\" class=\"dataframe\">\n",
       "  <thead>\n",
       "    <tr style=\"text-align: right;\">\n",
       "      <th></th>\n",
       "      <th>CONCPT1</th>\n",
       "      <th>counts</th>\n",
       "    </tr>\n",
       "  </thead>\n",
       "  <tbody>\n",
       "    <tr>\n",
       "      <th>0</th>\n",
       "      <td>15120.0</td>\n",
       "      <td>1</td>\n",
       "    </tr>\n",
       "  </tbody>\n",
       "</table>\n",
       "</div>"
      ],
      "text/plain": [
       "   CONCPT1  counts\n",
       "0  15120.0       1"
      ]
     },
     "execution_count": 45,
     "metadata": {},
     "output_type": "execute_result"
    }
   ],
   "source": [
    "df_with57425.groupby('CONCPT1').size().reset_index(name='counts')"
   ]
  },
  {
   "cell_type": "code",
   "execution_count": 48,
   "id": "55c38841-97a6-43a2-878e-d2798df589f5",
   "metadata": {},
   "outputs": [
    {
     "data": {
      "text/html": [
       "<div>\n",
       "<style scoped>\n",
       "    .dataframe tbody tr th:only-of-type {\n",
       "        vertical-align: middle;\n",
       "    }\n",
       "\n",
       "    .dataframe tbody tr th {\n",
       "        vertical-align: top;\n",
       "    }\n",
       "\n",
       "    .dataframe thead th {\n",
       "        text-align: right;\n",
       "    }\n",
       "</style>\n",
       "<table border=\"1\" class=\"dataframe\">\n",
       "  <thead>\n",
       "    <tr style=\"text-align: right;\">\n",
       "      <th></th>\n",
       "      <th>CONCPT1</th>\n",
       "      <th>counts</th>\n",
       "      <th>percentage</th>\n",
       "    </tr>\n",
       "  </thead>\n",
       "  <tbody>\n",
       "    <tr>\n",
       "      <th>0</th>\n",
       "      <td>15101.0</td>\n",
       "      <td>1</td>\n",
       "      <td>1.61</td>\n",
       "    </tr>\n",
       "    <tr>\n",
       "      <th>1</th>\n",
       "      <td>15120.0</td>\n",
       "      <td>1</td>\n",
       "      <td>1.61</td>\n",
       "    </tr>\n",
       "    <tr>\n",
       "      <th>2</th>\n",
       "      <td>31587.0</td>\n",
       "      <td>1</td>\n",
       "      <td>1.61</td>\n",
       "    </tr>\n",
       "    <tr>\n",
       "      <th>3</th>\n",
       "      <td>44207.0</td>\n",
       "      <td>2</td>\n",
       "      <td>3.23</td>\n",
       "    </tr>\n",
       "    <tr>\n",
       "      <th>4</th>\n",
       "      <td>45300.0</td>\n",
       "      <td>1</td>\n",
       "      <td>1.61</td>\n",
       "    </tr>\n",
       "    <tr>\n",
       "      <th>5</th>\n",
       "      <td>45562.0</td>\n",
       "      <td>1</td>\n",
       "      <td>1.61</td>\n",
       "    </tr>\n",
       "    <tr>\n",
       "      <th>6</th>\n",
       "      <td>52000.0</td>\n",
       "      <td>1</td>\n",
       "      <td>1.61</td>\n",
       "    </tr>\n",
       "    <tr>\n",
       "      <th>7</th>\n",
       "      <td>53410.0</td>\n",
       "      <td>1</td>\n",
       "      <td>1.61</td>\n",
       "    </tr>\n",
       "    <tr>\n",
       "      <th>8</th>\n",
       "      <td>53415.0</td>\n",
       "      <td>2</td>\n",
       "      <td>3.23</td>\n",
       "    </tr>\n",
       "    <tr>\n",
       "      <th>9</th>\n",
       "      <td>53430.0</td>\n",
       "      <td>10</td>\n",
       "      <td>16.13</td>\n",
       "    </tr>\n",
       "    <tr>\n",
       "      <th>10</th>\n",
       "      <td>53899.0</td>\n",
       "      <td>2</td>\n",
       "      <td>3.23</td>\n",
       "    </tr>\n",
       "    <tr>\n",
       "      <th>11</th>\n",
       "      <td>54125.0</td>\n",
       "      <td>12</td>\n",
       "      <td>19.35</td>\n",
       "    </tr>\n",
       "    <tr>\n",
       "      <th>12</th>\n",
       "      <td>54520.0</td>\n",
       "      <td>21</td>\n",
       "      <td>33.87</td>\n",
       "    </tr>\n",
       "    <tr>\n",
       "      <th>13</th>\n",
       "      <td>54530.0</td>\n",
       "      <td>2</td>\n",
       "      <td>3.23</td>\n",
       "    </tr>\n",
       "    <tr>\n",
       "      <th>14</th>\n",
       "      <td>55970.0</td>\n",
       "      <td>1</td>\n",
       "      <td>1.61</td>\n",
       "    </tr>\n",
       "    <tr>\n",
       "      <th>15</th>\n",
       "      <td>57335.0</td>\n",
       "      <td>3</td>\n",
       "      <td>4.84</td>\n",
       "    </tr>\n",
       "  </tbody>\n",
       "</table>\n",
       "</div>"
      ],
      "text/plain": [
       "    CONCPT1  counts  percentage\n",
       "0   15101.0       1        1.61\n",
       "1   15120.0       1        1.61\n",
       "2   31587.0       1        1.61\n",
       "3   44207.0       2        3.23\n",
       "4   45300.0       1        1.61\n",
       "5   45562.0       1        1.61\n",
       "6   52000.0       1        1.61\n",
       "7   53410.0       1        1.61\n",
       "8   53415.0       2        3.23\n",
       "9   53430.0      10       16.13\n",
       "10  53899.0       2        3.23\n",
       "11  54125.0      12       19.35\n",
       "12  54520.0      21       33.87\n",
       "13  54530.0       2        3.23\n",
       "14  55970.0       1        1.61\n",
       "15  57335.0       3        4.84"
      ]
     },
     "execution_count": 48,
     "metadata": {},
     "output_type": "execute_result"
    }
   ],
   "source": [
    "df.groupby('CONCPT1').size().reset_index(name='counts').assign(percentage=lambda x: (x['counts'] / df['CONCPT1'].count()) * 100).round(2)"
   ]
  },
  {
   "cell_type": "code",
   "execution_count": 49,
   "id": "111c3e68-f0c6-48d8-b22a-7500989d91ed",
   "metadata": {},
   "outputs": [
    {
     "data": {
      "text/html": [
       "<div>\n",
       "<style scoped>\n",
       "    .dataframe tbody tr th:only-of-type {\n",
       "        vertical-align: middle;\n",
       "    }\n",
       "\n",
       "    .dataframe tbody tr th {\n",
       "        vertical-align: top;\n",
       "    }\n",
       "\n",
       "    .dataframe thead th {\n",
       "        text-align: right;\n",
       "    }\n",
       "</style>\n",
       "<table border=\"1\" class=\"dataframe\">\n",
       "  <thead>\n",
       "    <tr style=\"text-align: right;\">\n",
       "      <th></th>\n",
       "      <th>CONCPT1</th>\n",
       "      <th>counts</th>\n",
       "      <th>percentage</th>\n",
       "    </tr>\n",
       "  </thead>\n",
       "  <tbody>\n",
       "    <tr>\n",
       "      <th>0</th>\n",
       "      <td>15101.0</td>\n",
       "      <td>1</td>\n",
       "      <td>1.64</td>\n",
       "    </tr>\n",
       "    <tr>\n",
       "      <th>1</th>\n",
       "      <td>31587.0</td>\n",
       "      <td>1</td>\n",
       "      <td>1.64</td>\n",
       "    </tr>\n",
       "    <tr>\n",
       "      <th>2</th>\n",
       "      <td>44207.0</td>\n",
       "      <td>2</td>\n",
       "      <td>3.28</td>\n",
       "    </tr>\n",
       "    <tr>\n",
       "      <th>3</th>\n",
       "      <td>45300.0</td>\n",
       "      <td>1</td>\n",
       "      <td>1.64</td>\n",
       "    </tr>\n",
       "    <tr>\n",
       "      <th>4</th>\n",
       "      <td>45562.0</td>\n",
       "      <td>1</td>\n",
       "      <td>1.64</td>\n",
       "    </tr>\n",
       "    <tr>\n",
       "      <th>5</th>\n",
       "      <td>52000.0</td>\n",
       "      <td>1</td>\n",
       "      <td>1.64</td>\n",
       "    </tr>\n",
       "    <tr>\n",
       "      <th>6</th>\n",
       "      <td>53410.0</td>\n",
       "      <td>1</td>\n",
       "      <td>1.64</td>\n",
       "    </tr>\n",
       "    <tr>\n",
       "      <th>7</th>\n",
       "      <td>53415.0</td>\n",
       "      <td>2</td>\n",
       "      <td>3.28</td>\n",
       "    </tr>\n",
       "    <tr>\n",
       "      <th>8</th>\n",
       "      <td>53430.0</td>\n",
       "      <td>10</td>\n",
       "      <td>16.39</td>\n",
       "    </tr>\n",
       "    <tr>\n",
       "      <th>9</th>\n",
       "      <td>53899.0</td>\n",
       "      <td>2</td>\n",
       "      <td>3.28</td>\n",
       "    </tr>\n",
       "    <tr>\n",
       "      <th>10</th>\n",
       "      <td>54125.0</td>\n",
       "      <td>12</td>\n",
       "      <td>19.67</td>\n",
       "    </tr>\n",
       "    <tr>\n",
       "      <th>11</th>\n",
       "      <td>54520.0</td>\n",
       "      <td>21</td>\n",
       "      <td>34.43</td>\n",
       "    </tr>\n",
       "    <tr>\n",
       "      <th>12</th>\n",
       "      <td>54530.0</td>\n",
       "      <td>2</td>\n",
       "      <td>3.28</td>\n",
       "    </tr>\n",
       "    <tr>\n",
       "      <th>13</th>\n",
       "      <td>55970.0</td>\n",
       "      <td>1</td>\n",
       "      <td>1.64</td>\n",
       "    </tr>\n",
       "    <tr>\n",
       "      <th>14</th>\n",
       "      <td>57335.0</td>\n",
       "      <td>3</td>\n",
       "      <td>4.92</td>\n",
       "    </tr>\n",
       "  </tbody>\n",
       "</table>\n",
       "</div>"
      ],
      "text/plain": [
       "    CONCPT1  counts  percentage\n",
       "0   15101.0       1        1.64\n",
       "1   31587.0       1        1.64\n",
       "2   44207.0       2        3.28\n",
       "3   45300.0       1        1.64\n",
       "4   45562.0       1        1.64\n",
       "5   52000.0       1        1.64\n",
       "6   53410.0       1        1.64\n",
       "7   53415.0       2        3.28\n",
       "8   53430.0      10       16.39\n",
       "9   53899.0       2        3.28\n",
       "10  54125.0      12       19.67\n",
       "11  54520.0      21       34.43\n",
       "12  54530.0       2        3.28\n",
       "13  55970.0       1        1.64\n",
       "14  57335.0       3        4.92"
      ]
     },
     "execution_count": 49,
     "metadata": {},
     "output_type": "execute_result"
    }
   ],
   "source": [
    "df_no57425.groupby('CONCPT1').size().reset_index(name='counts').assign(percentage=lambda x: (x['counts'] / df_no57425['CONCPT1'].count()) * 100).round(2)"
   ]
  },
  {
   "cell_type": "code",
   "execution_count": 254,
   "id": "a3c760be-fe5a-44ad-8b7c-765ffe9aca3c",
   "metadata": {},
   "outputs": [
    {
     "data": {
      "text/html": [
       "<div>\n",
       "<style scoped>\n",
       "    .dataframe tbody tr th:only-of-type {\n",
       "        vertical-align: middle;\n",
       "    }\n",
       "\n",
       "    .dataframe tbody tr th {\n",
       "        vertical-align: top;\n",
       "    }\n",
       "\n",
       "    .dataframe thead th {\n",
       "        text-align: right;\n",
       "    }\n",
       "</style>\n",
       "<table border=\"1\" class=\"dataframe\">\n",
       "  <thead>\n",
       "    <tr style=\"text-align: right;\">\n",
       "      <th></th>\n",
       "      <th>CONCURR1</th>\n",
       "      <th>counts</th>\n",
       "    </tr>\n",
       "  </thead>\n",
       "  <tbody>\n",
       "    <tr>\n",
       "      <th>0</th>\n",
       "      <td>AMPUTATION PENIS COMPLETE</td>\n",
       "      <td>12</td>\n",
       "    </tr>\n",
       "    <tr>\n",
       "      <th>1</th>\n",
       "      <td>CYSTOURETHROSCOPY</td>\n",
       "      <td>1</td>\n",
       "    </tr>\n",
       "    <tr>\n",
       "      <th>2</th>\n",
       "      <td>EXPL RPR &amp; PRESACRAL DRG RECTAL INJURY</td>\n",
       "      <td>1</td>\n",
       "    </tr>\n",
       "    <tr>\n",
       "      <th>3</th>\n",
       "      <td>INTERSEX SURG MALE FEMALE</td>\n",
       "      <td>1</td>\n",
       "    </tr>\n",
       "    <tr>\n",
       "      <th>4</th>\n",
       "      <td>LAPS COLECTOMY PRTL W/COLOPXTSTMY LW ANAST</td>\n",
       "      <td>2</td>\n",
       "    </tr>\n",
       "    <tr>\n",
       "      <th>5</th>\n",
       "      <td>LARYNGOPLASTY CRICOID SPLIT W/O GRAFT PLACEMENT</td>\n",
       "      <td>1</td>\n",
       "    </tr>\n",
       "    <tr>\n",
       "      <th>6</th>\n",
       "      <td>ORCHIECTOMY RADICAL TUMOR INGUINAL APPROACH</td>\n",
       "      <td>2</td>\n",
       "    </tr>\n",
       "    <tr>\n",
       "      <th>7</th>\n",
       "      <td>ORCHIECTOMY SIMPLE SCROTAL/INGUINAL APPROACH</td>\n",
       "      <td>21</td>\n",
       "    </tr>\n",
       "    <tr>\n",
       "      <th>8</th>\n",
       "      <td>PROCTOSGMDSC RGD DX W/WO COLLJ SPEC BR/WA SPX</td>\n",
       "      <td>1</td>\n",
       "    </tr>\n",
       "    <tr>\n",
       "      <th>9</th>\n",
       "      <td>SPLIT AGRFT F/S/N/H/F/G/M/D GT 1ST 100 CM/&lt;/1 %</td>\n",
       "      <td>1</td>\n",
       "    </tr>\n",
       "    <tr>\n",
       "      <th>10</th>\n",
       "      <td>SPLIT AGRFT T/A/L EA 100 CM/EA 1% BDY INFT/CHLD</td>\n",
       "      <td>1</td>\n",
       "    </tr>\n",
       "    <tr>\n",
       "      <th>11</th>\n",
       "      <td>UNLISTED PROCEDURE URINARY SYSTEM</td>\n",
       "      <td>2</td>\n",
       "    </tr>\n",
       "    <tr>\n",
       "      <th>12</th>\n",
       "      <td>URETHROPLASTY 1 STG RECNST MALE ANTERIOR URETHRA</td>\n",
       "      <td>1</td>\n",
       "    </tr>\n",
       "    <tr>\n",
       "      <th>13</th>\n",
       "      <td>URETHROPLASTY RCNSTJ FEMALE URETHRA</td>\n",
       "      <td>10</td>\n",
       "    </tr>\n",
       "    <tr>\n",
       "      <th>14</th>\n",
       "      <td>URTP TRANSPUBIC/PRNL 1 STG RCNSTJ/RPR URT</td>\n",
       "      <td>2</td>\n",
       "    </tr>\n",
       "    <tr>\n",
       "      <th>15</th>\n",
       "      <td>VAGINOPLASTY INTERSEX STATE</td>\n",
       "      <td>3</td>\n",
       "    </tr>\n",
       "  </tbody>\n",
       "</table>\n",
       "</div>"
      ],
      "text/plain": [
       "                                            CONCURR1  counts\n",
       "0                          AMPUTATION PENIS COMPLETE      12\n",
       "1                                  CYSTOURETHROSCOPY       1\n",
       "2             EXPL RPR & PRESACRAL DRG RECTAL INJURY       1\n",
       "3                          INTERSEX SURG MALE FEMALE       1\n",
       "4         LAPS COLECTOMY PRTL W/COLOPXTSTMY LW ANAST       2\n",
       "5    LARYNGOPLASTY CRICOID SPLIT W/O GRAFT PLACEMENT       1\n",
       "6        ORCHIECTOMY RADICAL TUMOR INGUINAL APPROACH       2\n",
       "7       ORCHIECTOMY SIMPLE SCROTAL/INGUINAL APPROACH      21\n",
       "8      PROCTOSGMDSC RGD DX W/WO COLLJ SPEC BR/WA SPX       1\n",
       "9    SPLIT AGRFT F/S/N/H/F/G/M/D GT 1ST 100 CM/</1 %       1\n",
       "10   SPLIT AGRFT T/A/L EA 100 CM/EA 1% BDY INFT/CHLD       1\n",
       "11                 UNLISTED PROCEDURE URINARY SYSTEM       2\n",
       "12  URETHROPLASTY 1 STG RECNST MALE ANTERIOR URETHRA       1\n",
       "13               URETHROPLASTY RCNSTJ FEMALE URETHRA      10\n",
       "14         URTP TRANSPUBIC/PRNL 1 STG RCNSTJ/RPR URT       2\n",
       "15                       VAGINOPLASTY INTERSEX STATE       3"
      ]
     },
     "execution_count": 254,
     "metadata": {},
     "output_type": "execute_result"
    }
   ],
   "source": [
    "df.groupby('CONCURR1').size().reset_index(name='counts')"
   ]
  },
  {
   "cell_type": "code",
   "execution_count": 268,
   "id": "9ce83375-d1ab-4fc8-bd0d-f5b8c3d7de80",
   "metadata": {},
   "outputs": [
    {
     "data": {
      "text/plain": [
       "np.int64(62)"
      ]
     },
     "execution_count": 268,
     "metadata": {},
     "output_type": "execute_result"
    }
   ],
   "source": [
    "df.groupby('CONCURR1').size().reset_index(name='counts')['counts'].sum()"
   ]
  },
  {
   "cell_type": "code",
   "execution_count": 89,
   "id": "e3cdd0d3-44fb-4aa0-9d9b-92276eb429e3",
   "metadata": {},
   "outputs": [
    {
     "data": {
      "text/plain": [
       "Index(['CONCPT1', 'CONCPT2', 'CONCPT3', 'CONCPT4', 'CONCPT5', 'CONCPT6',\n",
       "       'CONCPT7', 'CONCPT8', 'CONCPT9', 'CONCPT10'],\n",
       "      dtype='object')"
      ]
     },
     "execution_count": 89,
     "metadata": {},
     "output_type": "execute_result"
    }
   ],
   "source": [
    "df.filter(regex='(?i)CONCPT').columns"
   ]
  },
  {
   "cell_type": "code",
   "execution_count": 256,
   "id": "e4bbb709-0989-421e-a4c0-46d72b31f105",
   "metadata": {},
   "outputs": [
    {
     "data": {
      "text/html": [
       "<div>\n",
       "<style scoped>\n",
       "    .dataframe tbody tr th:only-of-type {\n",
       "        vertical-align: middle;\n",
       "    }\n",
       "\n",
       "    .dataframe tbody tr th {\n",
       "        vertical-align: top;\n",
       "    }\n",
       "\n",
       "    .dataframe thead th {\n",
       "        text-align: right;\n",
       "    }\n",
       "</style>\n",
       "<table border=\"1\" class=\"dataframe\">\n",
       "  <thead>\n",
       "    <tr style=\"text-align: right;\">\n",
       "      <th></th>\n",
       "      <th>CONCPT1</th>\n",
       "      <th>counts</th>\n",
       "    </tr>\n",
       "  </thead>\n",
       "  <tbody>\n",
       "    <tr>\n",
       "      <th>0</th>\n",
       "      <td>15101.0</td>\n",
       "      <td>1</td>\n",
       "    </tr>\n",
       "    <tr>\n",
       "      <th>1</th>\n",
       "      <td>15120.0</td>\n",
       "      <td>1</td>\n",
       "    </tr>\n",
       "    <tr>\n",
       "      <th>2</th>\n",
       "      <td>31587.0</td>\n",
       "      <td>1</td>\n",
       "    </tr>\n",
       "    <tr>\n",
       "      <th>3</th>\n",
       "      <td>44207.0</td>\n",
       "      <td>2</td>\n",
       "    </tr>\n",
       "    <tr>\n",
       "      <th>4</th>\n",
       "      <td>45300.0</td>\n",
       "      <td>1</td>\n",
       "    </tr>\n",
       "    <tr>\n",
       "      <th>5</th>\n",
       "      <td>45562.0</td>\n",
       "      <td>1</td>\n",
       "    </tr>\n",
       "    <tr>\n",
       "      <th>6</th>\n",
       "      <td>52000.0</td>\n",
       "      <td>1</td>\n",
       "    </tr>\n",
       "    <tr>\n",
       "      <th>7</th>\n",
       "      <td>53410.0</td>\n",
       "      <td>1</td>\n",
       "    </tr>\n",
       "    <tr>\n",
       "      <th>8</th>\n",
       "      <td>53415.0</td>\n",
       "      <td>2</td>\n",
       "    </tr>\n",
       "    <tr>\n",
       "      <th>9</th>\n",
       "      <td>53430.0</td>\n",
       "      <td>10</td>\n",
       "    </tr>\n",
       "    <tr>\n",
       "      <th>10</th>\n",
       "      <td>53899.0</td>\n",
       "      <td>2</td>\n",
       "    </tr>\n",
       "    <tr>\n",
       "      <th>11</th>\n",
       "      <td>54125.0</td>\n",
       "      <td>12</td>\n",
       "    </tr>\n",
       "    <tr>\n",
       "      <th>12</th>\n",
       "      <td>54520.0</td>\n",
       "      <td>21</td>\n",
       "    </tr>\n",
       "    <tr>\n",
       "      <th>13</th>\n",
       "      <td>54530.0</td>\n",
       "      <td>2</td>\n",
       "    </tr>\n",
       "    <tr>\n",
       "      <th>14</th>\n",
       "      <td>55970.0</td>\n",
       "      <td>1</td>\n",
       "    </tr>\n",
       "    <tr>\n",
       "      <th>15</th>\n",
       "      <td>57335.0</td>\n",
       "      <td>3</td>\n",
       "    </tr>\n",
       "  </tbody>\n",
       "</table>\n",
       "</div>"
      ],
      "text/plain": [
       "    CONCPT1  counts\n",
       "0   15101.0       1\n",
       "1   15120.0       1\n",
       "2   31587.0       1\n",
       "3   44207.0       2\n",
       "4   45300.0       1\n",
       "5   45562.0       1\n",
       "6   52000.0       1\n",
       "7   53410.0       1\n",
       "8   53415.0       2\n",
       "9   53430.0      10\n",
       "10  53899.0       2\n",
       "11  54125.0      12\n",
       "12  54520.0      21\n",
       "13  54530.0       2\n",
       "14  55970.0       1\n",
       "15  57335.0       3"
      ]
     },
     "execution_count": 256,
     "metadata": {},
     "output_type": "execute_result"
    }
   ],
   "source": [
    "df.groupby('CONCPT1').size().reset_index(name='counts')"
   ]
  },
  {
   "cell_type": "code",
   "execution_count": 271,
   "id": "3fccc7a1-0e11-4dac-b7b4-ab1ca8f06045",
   "metadata": {},
   "outputs": [
    {
     "data": {
      "text/html": [
       "<div>\n",
       "<style scoped>\n",
       "    .dataframe tbody tr th:only-of-type {\n",
       "        vertical-align: middle;\n",
       "    }\n",
       "\n",
       "    .dataframe tbody tr th {\n",
       "        vertical-align: top;\n",
       "    }\n",
       "\n",
       "    .dataframe thead th {\n",
       "        text-align: right;\n",
       "    }\n",
       "</style>\n",
       "<table border=\"1\" class=\"dataframe\">\n",
       "  <thead>\n",
       "    <tr style=\"text-align: right;\">\n",
       "      <th></th>\n",
       "      <th>CONCPT1</th>\n",
       "      <th>counts</th>\n",
       "      <th>percentage</th>\n",
       "    </tr>\n",
       "  </thead>\n",
       "  <tbody>\n",
       "    <tr>\n",
       "      <th>0</th>\n",
       "      <td>15101.0</td>\n",
       "      <td>1</td>\n",
       "      <td>1.6</td>\n",
       "    </tr>\n",
       "    <tr>\n",
       "      <th>1</th>\n",
       "      <td>15120.0</td>\n",
       "      <td>1</td>\n",
       "      <td>1.6</td>\n",
       "    </tr>\n",
       "    <tr>\n",
       "      <th>2</th>\n",
       "      <td>31587.0</td>\n",
       "      <td>1</td>\n",
       "      <td>1.6</td>\n",
       "    </tr>\n",
       "    <tr>\n",
       "      <th>3</th>\n",
       "      <td>44207.0</td>\n",
       "      <td>2</td>\n",
       "      <td>3.2</td>\n",
       "    </tr>\n",
       "    <tr>\n",
       "      <th>4</th>\n",
       "      <td>45300.0</td>\n",
       "      <td>1</td>\n",
       "      <td>1.6</td>\n",
       "    </tr>\n",
       "    <tr>\n",
       "      <th>5</th>\n",
       "      <td>45562.0</td>\n",
       "      <td>1</td>\n",
       "      <td>1.6</td>\n",
       "    </tr>\n",
       "    <tr>\n",
       "      <th>6</th>\n",
       "      <td>52000.0</td>\n",
       "      <td>1</td>\n",
       "      <td>1.6</td>\n",
       "    </tr>\n",
       "    <tr>\n",
       "      <th>7</th>\n",
       "      <td>53410.0</td>\n",
       "      <td>1</td>\n",
       "      <td>1.6</td>\n",
       "    </tr>\n",
       "    <tr>\n",
       "      <th>8</th>\n",
       "      <td>53415.0</td>\n",
       "      <td>2</td>\n",
       "      <td>3.2</td>\n",
       "    </tr>\n",
       "    <tr>\n",
       "      <th>9</th>\n",
       "      <td>53430.0</td>\n",
       "      <td>10</td>\n",
       "      <td>16.1</td>\n",
       "    </tr>\n",
       "    <tr>\n",
       "      <th>10</th>\n",
       "      <td>53899.0</td>\n",
       "      <td>2</td>\n",
       "      <td>3.2</td>\n",
       "    </tr>\n",
       "    <tr>\n",
       "      <th>11</th>\n",
       "      <td>54125.0</td>\n",
       "      <td>12</td>\n",
       "      <td>19.4</td>\n",
       "    </tr>\n",
       "    <tr>\n",
       "      <th>12</th>\n",
       "      <td>54520.0</td>\n",
       "      <td>21</td>\n",
       "      <td>33.9</td>\n",
       "    </tr>\n",
       "    <tr>\n",
       "      <th>13</th>\n",
       "      <td>54530.0</td>\n",
       "      <td>2</td>\n",
       "      <td>3.2</td>\n",
       "    </tr>\n",
       "    <tr>\n",
       "      <th>14</th>\n",
       "      <td>55970.0</td>\n",
       "      <td>1</td>\n",
       "      <td>1.6</td>\n",
       "    </tr>\n",
       "    <tr>\n",
       "      <th>15</th>\n",
       "      <td>57335.0</td>\n",
       "      <td>3</td>\n",
       "      <td>4.8</td>\n",
       "    </tr>\n",
       "  </tbody>\n",
       "</table>\n",
       "</div>"
      ],
      "text/plain": [
       "    CONCPT1  counts  percentage\n",
       "0   15101.0       1         1.6\n",
       "1   15120.0       1         1.6\n",
       "2   31587.0       1         1.6\n",
       "3   44207.0       2         3.2\n",
       "4   45300.0       1         1.6\n",
       "5   45562.0       1         1.6\n",
       "6   52000.0       1         1.6\n",
       "7   53410.0       1         1.6\n",
       "8   53415.0       2         3.2\n",
       "9   53430.0      10        16.1\n",
       "10  53899.0       2         3.2\n",
       "11  54125.0      12        19.4\n",
       "12  54520.0      21        33.9\n",
       "13  54530.0       2         3.2\n",
       "14  55970.0       1         1.6\n",
       "15  57335.0       3         4.8"
      ]
     },
     "execution_count": 271,
     "metadata": {},
     "output_type": "execute_result"
    }
   ],
   "source": [
    "df.groupby('CONCPT1').size().reset_index(name='counts').assign(percentage=lambda x: (x['counts'] / df['CONCPT1'].count()) * 100).round(1)"
   ]
  },
  {
   "cell_type": "code",
   "execution_count": 50,
   "id": "71d7d514-a132-4228-a712-57296960e036",
   "metadata": {},
   "outputs": [
    {
     "data": {
      "text/html": [
       "<div>\n",
       "<style scoped>\n",
       "    .dataframe tbody tr th:only-of-type {\n",
       "        vertical-align: middle;\n",
       "    }\n",
       "\n",
       "    .dataframe tbody tr th {\n",
       "        vertical-align: top;\n",
       "    }\n",
       "\n",
       "    .dataframe thead th {\n",
       "        text-align: right;\n",
       "    }\n",
       "</style>\n",
       "<table border=\"1\" class=\"dataframe\">\n",
       "  <thead>\n",
       "    <tr style=\"text-align: right;\">\n",
       "      <th></th>\n",
       "      <th>CONCPT2</th>\n",
       "      <th>counts</th>\n",
       "      <th>percentage</th>\n",
       "    </tr>\n",
       "  </thead>\n",
       "  <tbody>\n",
       "    <tr>\n",
       "      <th>0</th>\n",
       "      <td>15100.0</td>\n",
       "      <td>1</td>\n",
       "      <td>2.5</td>\n",
       "    </tr>\n",
       "    <tr>\n",
       "      <th>1</th>\n",
       "      <td>44140.0</td>\n",
       "      <td>1</td>\n",
       "      <td>2.5</td>\n",
       "    </tr>\n",
       "    <tr>\n",
       "      <th>2</th>\n",
       "      <td>53010.0</td>\n",
       "      <td>1</td>\n",
       "      <td>2.5</td>\n",
       "    </tr>\n",
       "    <tr>\n",
       "      <th>3</th>\n",
       "      <td>53410.0</td>\n",
       "      <td>1</td>\n",
       "      <td>2.5</td>\n",
       "    </tr>\n",
       "    <tr>\n",
       "      <th>4</th>\n",
       "      <td>53415.0</td>\n",
       "      <td>1</td>\n",
       "      <td>2.5</td>\n",
       "    </tr>\n",
       "    <tr>\n",
       "      <th>5</th>\n",
       "      <td>53430.0</td>\n",
       "      <td>2</td>\n",
       "      <td>5.0</td>\n",
       "    </tr>\n",
       "    <tr>\n",
       "      <th>6</th>\n",
       "      <td>53899.0</td>\n",
       "      <td>2</td>\n",
       "      <td>5.0</td>\n",
       "    </tr>\n",
       "    <tr>\n",
       "      <th>7</th>\n",
       "      <td>54125.0</td>\n",
       "      <td>13</td>\n",
       "      <td>32.5</td>\n",
       "    </tr>\n",
       "    <tr>\n",
       "      <th>8</th>\n",
       "      <td>54336.0</td>\n",
       "      <td>1</td>\n",
       "      <td>2.5</td>\n",
       "    </tr>\n",
       "    <tr>\n",
       "      <th>9</th>\n",
       "      <td>54520.0</td>\n",
       "      <td>13</td>\n",
       "      <td>32.5</td>\n",
       "    </tr>\n",
       "    <tr>\n",
       "      <th>10</th>\n",
       "      <td>56805.0</td>\n",
       "      <td>1</td>\n",
       "      <td>2.5</td>\n",
       "    </tr>\n",
       "    <tr>\n",
       "      <th>11</th>\n",
       "      <td>57292.0</td>\n",
       "      <td>1</td>\n",
       "      <td>2.5</td>\n",
       "    </tr>\n",
       "    <tr>\n",
       "      <th>12</th>\n",
       "      <td>57420.0</td>\n",
       "      <td>1</td>\n",
       "      <td>2.5</td>\n",
       "    </tr>\n",
       "    <tr>\n",
       "      <th>13</th>\n",
       "      <td>59000.0</td>\n",
       "      <td>1</td>\n",
       "      <td>2.5</td>\n",
       "    </tr>\n",
       "  </tbody>\n",
       "</table>\n",
       "</div>"
      ],
      "text/plain": [
       "    CONCPT2  counts  percentage\n",
       "0   15100.0       1         2.5\n",
       "1   44140.0       1         2.5\n",
       "2   53010.0       1         2.5\n",
       "3   53410.0       1         2.5\n",
       "4   53415.0       1         2.5\n",
       "5   53430.0       2         5.0\n",
       "6   53899.0       2         5.0\n",
       "7   54125.0      13        32.5\n",
       "8   54336.0       1         2.5\n",
       "9   54520.0      13        32.5\n",
       "10  56805.0       1         2.5\n",
       "11  57292.0       1         2.5\n",
       "12  57420.0       1         2.5\n",
       "13  59000.0       1         2.5"
      ]
     },
     "execution_count": 50,
     "metadata": {},
     "output_type": "execute_result"
    }
   ],
   "source": [
    "df.groupby('CONCPT2').size().reset_index(name='counts').assign(percentage=lambda x: (x['counts'] / df['CONCPT2'].count()) * 100).round(2)"
   ]
  },
  {
   "cell_type": "code",
   "execution_count": 275,
   "id": "fb0bd8e9-ca49-4cb8-a665-52efec643fe6",
   "metadata": {},
   "outputs": [
    {
     "data": {
      "text/html": [
       "<div>\n",
       "<style scoped>\n",
       "    .dataframe tbody tr th:only-of-type {\n",
       "        vertical-align: middle;\n",
       "    }\n",
       "\n",
       "    .dataframe tbody tr th {\n",
       "        vertical-align: top;\n",
       "    }\n",
       "\n",
       "    .dataframe thead th {\n",
       "        text-align: right;\n",
       "    }\n",
       "</style>\n",
       "<table border=\"1\" class=\"dataframe\">\n",
       "  <thead>\n",
       "    <tr style=\"text-align: right;\">\n",
       "      <th></th>\n",
       "      <th>CONCURR2</th>\n",
       "      <th>counts</th>\n",
       "    </tr>\n",
       "  </thead>\n",
       "  <tbody>\n",
       "    <tr>\n",
       "      <th>0</th>\n",
       "      <td>1 STG PERINEAL HYPOSPADIAS RPR W/GRF&amp;/FLAP</td>\n",
       "      <td>1</td>\n",
       "    </tr>\n",
       "    <tr>\n",
       "      <th>1</th>\n",
       "      <td>AMNIOCENTESIS DIAGNOSIC</td>\n",
       "      <td>1</td>\n",
       "    </tr>\n",
       "    <tr>\n",
       "      <th>2</th>\n",
       "      <td>AMPUTATION PENIS COMPLETE</td>\n",
       "      <td>13</td>\n",
       "    </tr>\n",
       "    <tr>\n",
       "      <th>3</th>\n",
       "      <td>CLITOROPLASTY INTERSEX STATE</td>\n",
       "      <td>1</td>\n",
       "    </tr>\n",
       "    <tr>\n",
       "      <th>4</th>\n",
       "      <td>COLECTOMY PARTIAL W/ANASTOMOSIS</td>\n",
       "      <td>1</td>\n",
       "    </tr>\n",
       "    <tr>\n",
       "      <th>5</th>\n",
       "      <td>COLPOSCOPY ENTIRE VAGINA W/CERVIX IF PRESENT</td>\n",
       "      <td>1</td>\n",
       "    </tr>\n",
       "    <tr>\n",
       "      <th>6</th>\n",
       "      <td>CONSTRUCTION ARTIFICIAL VAGINA W/GRAFT</td>\n",
       "      <td>1</td>\n",
       "    </tr>\n",
       "    <tr>\n",
       "      <th>7</th>\n",
       "      <td>ORCHIECTOMY SIMPLE SCROTAL/INGUINAL APPROACH</td>\n",
       "      <td>13</td>\n",
       "    </tr>\n",
       "    <tr>\n",
       "      <th>8</th>\n",
       "      <td>SPLIT AGRFT T/A/L 1ST 100 CM/&amp;/1% BDY INFT/CHLD</td>\n",
       "      <td>1</td>\n",
       "    </tr>\n",
       "    <tr>\n",
       "      <th>9</th>\n",
       "      <td>UNLISTED PROCEDURE URINARY SYSTEM</td>\n",
       "      <td>2</td>\n",
       "    </tr>\n",
       "    <tr>\n",
       "      <th>10</th>\n",
       "      <td>URETHROPLASTY 1 STG RECNST MALE ANTERIOR URETHRA</td>\n",
       "      <td>1</td>\n",
       "    </tr>\n",
       "    <tr>\n",
       "      <th>11</th>\n",
       "      <td>URETHROPLASTY RCNSTJ FEMALE URETHRA</td>\n",
       "      <td>2</td>\n",
       "    </tr>\n",
       "    <tr>\n",
       "      <th>12</th>\n",
       "      <td>URETHROTOMY/URETHROSTOMY XT SPX PERINEAL URETHRA</td>\n",
       "      <td>1</td>\n",
       "    </tr>\n",
       "    <tr>\n",
       "      <th>13</th>\n",
       "      <td>URTP TRANSPUBIC/PRNL 1 STG RCNSTJ/RPR URT</td>\n",
       "      <td>1</td>\n",
       "    </tr>\n",
       "  </tbody>\n",
       "</table>\n",
       "</div>"
      ],
      "text/plain": [
       "                                            CONCURR2  counts\n",
       "0         1 STG PERINEAL HYPOSPADIAS RPR W/GRF&/FLAP       1\n",
       "1                            AMNIOCENTESIS DIAGNOSIC       1\n",
       "2                          AMPUTATION PENIS COMPLETE      13\n",
       "3                       CLITOROPLASTY INTERSEX STATE       1\n",
       "4                    COLECTOMY PARTIAL W/ANASTOMOSIS       1\n",
       "5       COLPOSCOPY ENTIRE VAGINA W/CERVIX IF PRESENT       1\n",
       "6             CONSTRUCTION ARTIFICIAL VAGINA W/GRAFT       1\n",
       "7       ORCHIECTOMY SIMPLE SCROTAL/INGUINAL APPROACH      13\n",
       "8    SPLIT AGRFT T/A/L 1ST 100 CM/&/1% BDY INFT/CHLD       1\n",
       "9                  UNLISTED PROCEDURE URINARY SYSTEM       2\n",
       "10  URETHROPLASTY 1 STG RECNST MALE ANTERIOR URETHRA       1\n",
       "11               URETHROPLASTY RCNSTJ FEMALE URETHRA       2\n",
       "12  URETHROTOMY/URETHROSTOMY XT SPX PERINEAL URETHRA       1\n",
       "13         URTP TRANSPUBIC/PRNL 1 STG RCNSTJ/RPR URT       1"
      ]
     },
     "execution_count": 275,
     "metadata": {},
     "output_type": "execute_result"
    }
   ],
   "source": [
    "df.groupby('CONCURR2').size().reset_index(name='counts')"
   ]
  },
  {
   "cell_type": "code",
   "execution_count": 276,
   "id": "bb401af2-6340-4de3-8441-fe8cce65b7ad",
   "metadata": {},
   "outputs": [
    {
     "data": {
      "text/html": [
       "<div>\n",
       "<style scoped>\n",
       "    .dataframe tbody tr th:only-of-type {\n",
       "        vertical-align: middle;\n",
       "    }\n",
       "\n",
       "    .dataframe tbody tr th {\n",
       "        vertical-align: top;\n",
       "    }\n",
       "\n",
       "    .dataframe thead th {\n",
       "        text-align: right;\n",
       "    }\n",
       "</style>\n",
       "<table border=\"1\" class=\"dataframe\">\n",
       "  <thead>\n",
       "    <tr style=\"text-align: right;\">\n",
       "      <th></th>\n",
       "      <th>CONCURR2</th>\n",
       "      <th>counts</th>\n",
       "      <th>percentage</th>\n",
       "    </tr>\n",
       "  </thead>\n",
       "  <tbody>\n",
       "    <tr>\n",
       "      <th>0</th>\n",
       "      <td>1 STG PERINEAL HYPOSPADIAS RPR W/GRF&amp;/FLAP</td>\n",
       "      <td>1</td>\n",
       "      <td>2.5</td>\n",
       "    </tr>\n",
       "    <tr>\n",
       "      <th>1</th>\n",
       "      <td>AMNIOCENTESIS DIAGNOSIC</td>\n",
       "      <td>1</td>\n",
       "      <td>2.5</td>\n",
       "    </tr>\n",
       "    <tr>\n",
       "      <th>2</th>\n",
       "      <td>AMPUTATION PENIS COMPLETE</td>\n",
       "      <td>13</td>\n",
       "      <td>32.5</td>\n",
       "    </tr>\n",
       "    <tr>\n",
       "      <th>3</th>\n",
       "      <td>CLITOROPLASTY INTERSEX STATE</td>\n",
       "      <td>1</td>\n",
       "      <td>2.5</td>\n",
       "    </tr>\n",
       "    <tr>\n",
       "      <th>4</th>\n",
       "      <td>COLECTOMY PARTIAL W/ANASTOMOSIS</td>\n",
       "      <td>1</td>\n",
       "      <td>2.5</td>\n",
       "    </tr>\n",
       "    <tr>\n",
       "      <th>5</th>\n",
       "      <td>COLPOSCOPY ENTIRE VAGINA W/CERVIX IF PRESENT</td>\n",
       "      <td>1</td>\n",
       "      <td>2.5</td>\n",
       "    </tr>\n",
       "    <tr>\n",
       "      <th>6</th>\n",
       "      <td>CONSTRUCTION ARTIFICIAL VAGINA W/GRAFT</td>\n",
       "      <td>1</td>\n",
       "      <td>2.5</td>\n",
       "    </tr>\n",
       "    <tr>\n",
       "      <th>7</th>\n",
       "      <td>ORCHIECTOMY SIMPLE SCROTAL/INGUINAL APPROACH</td>\n",
       "      <td>13</td>\n",
       "      <td>32.5</td>\n",
       "    </tr>\n",
       "    <tr>\n",
       "      <th>8</th>\n",
       "      <td>SPLIT AGRFT T/A/L 1ST 100 CM/&amp;/1% BDY INFT/CHLD</td>\n",
       "      <td>1</td>\n",
       "      <td>2.5</td>\n",
       "    </tr>\n",
       "    <tr>\n",
       "      <th>9</th>\n",
       "      <td>UNLISTED PROCEDURE URINARY SYSTEM</td>\n",
       "      <td>2</td>\n",
       "      <td>5.0</td>\n",
       "    </tr>\n",
       "    <tr>\n",
       "      <th>10</th>\n",
       "      <td>URETHROPLASTY 1 STG RECNST MALE ANTERIOR URETHRA</td>\n",
       "      <td>1</td>\n",
       "      <td>2.5</td>\n",
       "    </tr>\n",
       "    <tr>\n",
       "      <th>11</th>\n",
       "      <td>URETHROPLASTY RCNSTJ FEMALE URETHRA</td>\n",
       "      <td>2</td>\n",
       "      <td>5.0</td>\n",
       "    </tr>\n",
       "    <tr>\n",
       "      <th>12</th>\n",
       "      <td>URETHROTOMY/URETHROSTOMY XT SPX PERINEAL URETHRA</td>\n",
       "      <td>1</td>\n",
       "      <td>2.5</td>\n",
       "    </tr>\n",
       "    <tr>\n",
       "      <th>13</th>\n",
       "      <td>URTP TRANSPUBIC/PRNL 1 STG RCNSTJ/RPR URT</td>\n",
       "      <td>1</td>\n",
       "      <td>2.5</td>\n",
       "    </tr>\n",
       "  </tbody>\n",
       "</table>\n",
       "</div>"
      ],
      "text/plain": [
       "                                            CONCURR2  counts  percentage\n",
       "0         1 STG PERINEAL HYPOSPADIAS RPR W/GRF&/FLAP       1         2.5\n",
       "1                            AMNIOCENTESIS DIAGNOSIC       1         2.5\n",
       "2                          AMPUTATION PENIS COMPLETE      13        32.5\n",
       "3                       CLITOROPLASTY INTERSEX STATE       1         2.5\n",
       "4                    COLECTOMY PARTIAL W/ANASTOMOSIS       1         2.5\n",
       "5       COLPOSCOPY ENTIRE VAGINA W/CERVIX IF PRESENT       1         2.5\n",
       "6             CONSTRUCTION ARTIFICIAL VAGINA W/GRAFT       1         2.5\n",
       "7       ORCHIECTOMY SIMPLE SCROTAL/INGUINAL APPROACH      13        32.5\n",
       "8    SPLIT AGRFT T/A/L 1ST 100 CM/&/1% BDY INFT/CHLD       1         2.5\n",
       "9                  UNLISTED PROCEDURE URINARY SYSTEM       2         5.0\n",
       "10  URETHROPLASTY 1 STG RECNST MALE ANTERIOR URETHRA       1         2.5\n",
       "11               URETHROPLASTY RCNSTJ FEMALE URETHRA       2         5.0\n",
       "12  URETHROTOMY/URETHROSTOMY XT SPX PERINEAL URETHRA       1         2.5\n",
       "13         URTP TRANSPUBIC/PRNL 1 STG RCNSTJ/RPR URT       1         2.5"
      ]
     },
     "execution_count": 276,
     "metadata": {},
     "output_type": "execute_result"
    }
   ],
   "source": [
    "df.groupby('CONCURR2').size().reset_index(name='counts').assign(percentage=lambda x: (x['counts'] / df['CONCURR2'].count()) * 100).round(1)"
   ]
  },
  {
   "cell_type": "code",
   "execution_count": 278,
   "id": "c5786948-16be-4288-afec-3650e0ba75bc",
   "metadata": {},
   "outputs": [
    {
     "data": {
      "text/html": [
       "<div>\n",
       "<style scoped>\n",
       "    .dataframe tbody tr th:only-of-type {\n",
       "        vertical-align: middle;\n",
       "    }\n",
       "\n",
       "    .dataframe tbody tr th {\n",
       "        vertical-align: top;\n",
       "    }\n",
       "\n",
       "    .dataframe thead th {\n",
       "        text-align: right;\n",
       "    }\n",
       "</style>\n",
       "<table border=\"1\" class=\"dataframe\">\n",
       "  <thead>\n",
       "    <tr style=\"text-align: right;\">\n",
       "      <th></th>\n",
       "      <th>CONCURR3</th>\n",
       "      <th>counts</th>\n",
       "      <th>percentage</th>\n",
       "    </tr>\n",
       "  </thead>\n",
       "  <tbody>\n",
       "    <tr>\n",
       "      <th>0</th>\n",
       "      <td>AMPUTATION PENIS COMPLETE</td>\n",
       "      <td>1</td>\n",
       "      <td>7.1</td>\n",
       "    </tr>\n",
       "    <tr>\n",
       "      <th>1</th>\n",
       "      <td>CONSTRUCTION ARTIFICIAL VAGINA W/O GRAFT</td>\n",
       "      <td>1</td>\n",
       "      <td>7.1</td>\n",
       "    </tr>\n",
       "    <tr>\n",
       "      <th>2</th>\n",
       "      <td>ORCHIECTOMY SIMPLE SCROTAL/INGUINAL APPROACH</td>\n",
       "      <td>4</td>\n",
       "      <td>28.6</td>\n",
       "    </tr>\n",
       "    <tr>\n",
       "      <th>3</th>\n",
       "      <td>SCROTOPLASTY COMPLICATED</td>\n",
       "      <td>1</td>\n",
       "      <td>7.1</td>\n",
       "    </tr>\n",
       "    <tr>\n",
       "      <th>4</th>\n",
       "      <td>URETHROPLASTY RCNSTJ FEMALE URETHRA</td>\n",
       "      <td>6</td>\n",
       "      <td>42.9</td>\n",
       "    </tr>\n",
       "    <tr>\n",
       "      <th>5</th>\n",
       "      <td>URTP TRANSPUBIC/PRNL 1 STG RCNSTJ/RPR URT</td>\n",
       "      <td>1</td>\n",
       "      <td>7.1</td>\n",
       "    </tr>\n",
       "  </tbody>\n",
       "</table>\n",
       "</div>"
      ],
      "text/plain": [
       "                                       CONCURR3  counts  percentage\n",
       "0                     AMPUTATION PENIS COMPLETE       1         7.1\n",
       "1      CONSTRUCTION ARTIFICIAL VAGINA W/O GRAFT       1         7.1\n",
       "2  ORCHIECTOMY SIMPLE SCROTAL/INGUINAL APPROACH       4        28.6\n",
       "3                      SCROTOPLASTY COMPLICATED       1         7.1\n",
       "4           URETHROPLASTY RCNSTJ FEMALE URETHRA       6        42.9\n",
       "5     URTP TRANSPUBIC/PRNL 1 STG RCNSTJ/RPR URT       1         7.1"
      ]
     },
     "execution_count": 278,
     "metadata": {},
     "output_type": "execute_result"
    }
   ],
   "source": [
    "df.groupby('CONCURR3').size().reset_index(name='counts').assign(percentage=lambda x: (x['counts'] / df['CONCURR3'].count()) * 100).round(1)"
   ]
  },
  {
   "cell_type": "code",
   "execution_count": 51,
   "id": "6a39b64c-921d-4f46-9808-5fc6424a540c",
   "metadata": {},
   "outputs": [
    {
     "data": {
      "text/html": [
       "<div>\n",
       "<style scoped>\n",
       "    .dataframe tbody tr th:only-of-type {\n",
       "        vertical-align: middle;\n",
       "    }\n",
       "\n",
       "    .dataframe tbody tr th {\n",
       "        vertical-align: top;\n",
       "    }\n",
       "\n",
       "    .dataframe thead th {\n",
       "        text-align: right;\n",
       "    }\n",
       "</style>\n",
       "<table border=\"1\" class=\"dataframe\">\n",
       "  <thead>\n",
       "    <tr style=\"text-align: right;\">\n",
       "      <th></th>\n",
       "      <th>CONCPT3</th>\n",
       "      <th>counts</th>\n",
       "      <th>percentage</th>\n",
       "    </tr>\n",
       "  </thead>\n",
       "  <tbody>\n",
       "    <tr>\n",
       "      <th>0</th>\n",
       "      <td>53415.0</td>\n",
       "      <td>1</td>\n",
       "      <td>7.14</td>\n",
       "    </tr>\n",
       "    <tr>\n",
       "      <th>1</th>\n",
       "      <td>53430.0</td>\n",
       "      <td>6</td>\n",
       "      <td>42.86</td>\n",
       "    </tr>\n",
       "    <tr>\n",
       "      <th>2</th>\n",
       "      <td>54125.0</td>\n",
       "      <td>1</td>\n",
       "      <td>7.14</td>\n",
       "    </tr>\n",
       "    <tr>\n",
       "      <th>3</th>\n",
       "      <td>54520.0</td>\n",
       "      <td>4</td>\n",
       "      <td>28.57</td>\n",
       "    </tr>\n",
       "    <tr>\n",
       "      <th>4</th>\n",
       "      <td>55180.0</td>\n",
       "      <td>1</td>\n",
       "      <td>7.14</td>\n",
       "    </tr>\n",
       "    <tr>\n",
       "      <th>5</th>\n",
       "      <td>57291.0</td>\n",
       "      <td>1</td>\n",
       "      <td>7.14</td>\n",
       "    </tr>\n",
       "  </tbody>\n",
       "</table>\n",
       "</div>"
      ],
      "text/plain": [
       "   CONCPT3  counts  percentage\n",
       "0  53415.0       1        7.14\n",
       "1  53430.0       6       42.86\n",
       "2  54125.0       1        7.14\n",
       "3  54520.0       4       28.57\n",
       "4  55180.0       1        7.14\n",
       "5  57291.0       1        7.14"
      ]
     },
     "execution_count": 51,
     "metadata": {},
     "output_type": "execute_result"
    }
   ],
   "source": [
    "df.groupby('CONCPT3').size().reset_index(name='counts').assign(percentage=lambda x: (x['counts'] / df['CONCPT3'].count()) * 100).round(2)"
   ]
  },
  {
   "cell_type": "code",
   "execution_count": 281,
   "id": "d5a1cecb-193e-4289-874d-102256bb6bd7",
   "metadata": {},
   "outputs": [
    {
     "data": {
      "text/html": [
       "<div>\n",
       "<style scoped>\n",
       "    .dataframe tbody tr th:only-of-type {\n",
       "        vertical-align: middle;\n",
       "    }\n",
       "\n",
       "    .dataframe tbody tr th {\n",
       "        vertical-align: top;\n",
       "    }\n",
       "\n",
       "    .dataframe thead th {\n",
       "        text-align: right;\n",
       "    }\n",
       "</style>\n",
       "<table border=\"1\" class=\"dataframe\">\n",
       "  <thead>\n",
       "    <tr style=\"text-align: right;\">\n",
       "      <th></th>\n",
       "      <th>CONCURR4</th>\n",
       "      <th>counts</th>\n",
       "      <th>percentage</th>\n",
       "    </tr>\n",
       "  </thead>\n",
       "  <tbody>\n",
       "    <tr>\n",
       "      <th>0</th>\n",
       "      <td>AMPUTATION PENIS COMPLETE</td>\n",
       "      <td>1</td>\n",
       "      <td>16.7</td>\n",
       "    </tr>\n",
       "    <tr>\n",
       "      <th>1</th>\n",
       "      <td>CLITOROPLASTY INTERSEX STATE</td>\n",
       "      <td>1</td>\n",
       "      <td>16.7</td>\n",
       "    </tr>\n",
       "    <tr>\n",
       "      <th>2</th>\n",
       "      <td>FRMJ DIR/TUBE PEDCL W/WOTR FH/CH/CH/M/N/AX/G/H/F</td>\n",
       "      <td>1</td>\n",
       "      <td>16.7</td>\n",
       "    </tr>\n",
       "    <tr>\n",
       "      <th>3</th>\n",
       "      <td>RPR NFLTBL URETHRAL/BLADDER NECK SPHINCTER</td>\n",
       "      <td>1</td>\n",
       "      <td>16.7</td>\n",
       "    </tr>\n",
       "    <tr>\n",
       "      <th>4</th>\n",
       "      <td>URETHROPLASTY 1 STG RECNST MALE ANTERIOR URETHRA</td>\n",
       "      <td>1</td>\n",
       "      <td>16.7</td>\n",
       "    </tr>\n",
       "    <tr>\n",
       "      <th>5</th>\n",
       "      <td>URETHROPLASTY RCNSTJ FEMALE URETHRA</td>\n",
       "      <td>1</td>\n",
       "      <td>16.7</td>\n",
       "    </tr>\n",
       "  </tbody>\n",
       "</table>\n",
       "</div>"
      ],
      "text/plain": [
       "                                           CONCURR4  counts  percentage\n",
       "0                         AMPUTATION PENIS COMPLETE       1        16.7\n",
       "1                      CLITOROPLASTY INTERSEX STATE       1        16.7\n",
       "2  FRMJ DIR/TUBE PEDCL W/WOTR FH/CH/CH/M/N/AX/G/H/F       1        16.7\n",
       "3        RPR NFLTBL URETHRAL/BLADDER NECK SPHINCTER       1        16.7\n",
       "4  URETHROPLASTY 1 STG RECNST MALE ANTERIOR URETHRA       1        16.7\n",
       "5               URETHROPLASTY RCNSTJ FEMALE URETHRA       1        16.7"
      ]
     },
     "execution_count": 281,
     "metadata": {},
     "output_type": "execute_result"
    }
   ],
   "source": [
    "df.groupby('CONCURR4').size().reset_index(name='counts').assign(percentage=lambda x: (x['counts'] / df['CONCURR4'].count()) * 100).round(1)"
   ]
  },
  {
   "cell_type": "code",
   "execution_count": 52,
   "id": "bb7246a0-73d4-47c8-963a-86d9b66a4eec",
   "metadata": {},
   "outputs": [
    {
     "data": {
      "text/html": [
       "<div>\n",
       "<style scoped>\n",
       "    .dataframe tbody tr th:only-of-type {\n",
       "        vertical-align: middle;\n",
       "    }\n",
       "\n",
       "    .dataframe tbody tr th {\n",
       "        vertical-align: top;\n",
       "    }\n",
       "\n",
       "    .dataframe thead th {\n",
       "        text-align: right;\n",
       "    }\n",
       "</style>\n",
       "<table border=\"1\" class=\"dataframe\">\n",
       "  <thead>\n",
       "    <tr style=\"text-align: right;\">\n",
       "      <th></th>\n",
       "      <th>CONCPT4</th>\n",
       "      <th>counts</th>\n",
       "      <th>percentage</th>\n",
       "    </tr>\n",
       "  </thead>\n",
       "  <tbody>\n",
       "    <tr>\n",
       "      <th>0</th>\n",
       "      <td>15574.0</td>\n",
       "      <td>1</td>\n",
       "      <td>16.67</td>\n",
       "    </tr>\n",
       "    <tr>\n",
       "      <th>1</th>\n",
       "      <td>53410.0</td>\n",
       "      <td>1</td>\n",
       "      <td>16.67</td>\n",
       "    </tr>\n",
       "    <tr>\n",
       "      <th>2</th>\n",
       "      <td>53430.0</td>\n",
       "      <td>1</td>\n",
       "      <td>16.67</td>\n",
       "    </tr>\n",
       "    <tr>\n",
       "      <th>3</th>\n",
       "      <td>53449.0</td>\n",
       "      <td>1</td>\n",
       "      <td>16.67</td>\n",
       "    </tr>\n",
       "    <tr>\n",
       "      <th>4</th>\n",
       "      <td>54125.0</td>\n",
       "      <td>1</td>\n",
       "      <td>16.67</td>\n",
       "    </tr>\n",
       "    <tr>\n",
       "      <th>5</th>\n",
       "      <td>56805.0</td>\n",
       "      <td>1</td>\n",
       "      <td>16.67</td>\n",
       "    </tr>\n",
       "  </tbody>\n",
       "</table>\n",
       "</div>"
      ],
      "text/plain": [
       "   CONCPT4  counts  percentage\n",
       "0  15574.0       1       16.67\n",
       "1  53410.0       1       16.67\n",
       "2  53430.0       1       16.67\n",
       "3  53449.0       1       16.67\n",
       "4  54125.0       1       16.67\n",
       "5  56805.0       1       16.67"
      ]
     },
     "execution_count": 52,
     "metadata": {},
     "output_type": "execute_result"
    }
   ],
   "source": [
    "df.groupby('CONCPT4').size().reset_index(name='counts').assign(percentage=lambda x: (x['counts'] / df['CONCPT4'].count()) * 100).round(2)"
   ]
  },
  {
   "cell_type": "code",
   "execution_count": 282,
   "id": "a00ac752-84fa-417f-ad5e-e87dcef88f25",
   "metadata": {},
   "outputs": [
    {
     "data": {
      "text/html": [
       "<div>\n",
       "<style scoped>\n",
       "    .dataframe tbody tr th:only-of-type {\n",
       "        vertical-align: middle;\n",
       "    }\n",
       "\n",
       "    .dataframe tbody tr th {\n",
       "        vertical-align: top;\n",
       "    }\n",
       "\n",
       "    .dataframe thead th {\n",
       "        text-align: right;\n",
       "    }\n",
       "</style>\n",
       "<table border=\"1\" class=\"dataframe\">\n",
       "  <thead>\n",
       "    <tr style=\"text-align: right;\">\n",
       "      <th></th>\n",
       "      <th>CONCURR5</th>\n",
       "      <th>counts</th>\n",
       "      <th>percentage</th>\n",
       "    </tr>\n",
       "  </thead>\n",
       "  <tbody>\n",
       "    <tr>\n",
       "      <th>0</th>\n",
       "      <td>CYSTOURETHROSCOPY</td>\n",
       "      <td>1</td>\n",
       "      <td>25.0</td>\n",
       "    </tr>\n",
       "    <tr>\n",
       "      <th>1</th>\n",
       "      <td>UNLISTED PROCEDURE URINARY SYSTEM</td>\n",
       "      <td>1</td>\n",
       "      <td>25.0</td>\n",
       "    </tr>\n",
       "    <tr>\n",
       "      <th>2</th>\n",
       "      <td>URETHROPLASTY RCNSTJ FEMALE URETHRA</td>\n",
       "      <td>2</td>\n",
       "      <td>50.0</td>\n",
       "    </tr>\n",
       "  </tbody>\n",
       "</table>\n",
       "</div>"
      ],
      "text/plain": [
       "                              CONCURR5  counts  percentage\n",
       "0                    CYSTOURETHROSCOPY       1        25.0\n",
       "1    UNLISTED PROCEDURE URINARY SYSTEM       1        25.0\n",
       "2  URETHROPLASTY RCNSTJ FEMALE URETHRA       2        50.0"
      ]
     },
     "execution_count": 282,
     "metadata": {},
     "output_type": "execute_result"
    }
   ],
   "source": [
    "df.groupby('CONCURR5').size().reset_index(name='counts').assign(percentage=lambda x: (x['counts'] / df['CONCURR5'].count()) * 100).round(1)"
   ]
  },
  {
   "cell_type": "code",
   "execution_count": 53,
   "id": "77254c6e-4fd6-4e44-98c8-8df3fc5eb54c",
   "metadata": {},
   "outputs": [
    {
     "data": {
      "text/html": [
       "<div>\n",
       "<style scoped>\n",
       "    .dataframe tbody tr th:only-of-type {\n",
       "        vertical-align: middle;\n",
       "    }\n",
       "\n",
       "    .dataframe tbody tr th {\n",
       "        vertical-align: top;\n",
       "    }\n",
       "\n",
       "    .dataframe thead th {\n",
       "        text-align: right;\n",
       "    }\n",
       "</style>\n",
       "<table border=\"1\" class=\"dataframe\">\n",
       "  <thead>\n",
       "    <tr style=\"text-align: right;\">\n",
       "      <th></th>\n",
       "      <th>CONCPT5</th>\n",
       "      <th>counts</th>\n",
       "      <th>percentage</th>\n",
       "    </tr>\n",
       "  </thead>\n",
       "  <tbody>\n",
       "    <tr>\n",
       "      <th>0</th>\n",
       "      <td>52000.0</td>\n",
       "      <td>1</td>\n",
       "      <td>25.0</td>\n",
       "    </tr>\n",
       "    <tr>\n",
       "      <th>1</th>\n",
       "      <td>53430.0</td>\n",
       "      <td>2</td>\n",
       "      <td>50.0</td>\n",
       "    </tr>\n",
       "    <tr>\n",
       "      <th>2</th>\n",
       "      <td>53899.0</td>\n",
       "      <td>1</td>\n",
       "      <td>25.0</td>\n",
       "    </tr>\n",
       "  </tbody>\n",
       "</table>\n",
       "</div>"
      ],
      "text/plain": [
       "   CONCPT5  counts  percentage\n",
       "0  52000.0       1        25.0\n",
       "1  53430.0       2        50.0\n",
       "2  53899.0       1        25.0"
      ]
     },
     "execution_count": 53,
     "metadata": {},
     "output_type": "execute_result"
    }
   ],
   "source": [
    "df.groupby('CONCPT5').size().reset_index(name='counts').assign(percentage=lambda x: (x['counts'] / df['CONCPT5'].count()) * 100).round(2)"
   ]
  },
  {
   "cell_type": "code",
   "execution_count": 283,
   "id": "47027624-8c8e-48b7-9644-5116ae21fc46",
   "metadata": {},
   "outputs": [
    {
     "data": {
      "text/html": [
       "<div>\n",
       "<style scoped>\n",
       "    .dataframe tbody tr th:only-of-type {\n",
       "        vertical-align: middle;\n",
       "    }\n",
       "\n",
       "    .dataframe tbody tr th {\n",
       "        vertical-align: top;\n",
       "    }\n",
       "\n",
       "    .dataframe thead th {\n",
       "        text-align: right;\n",
       "    }\n",
       "</style>\n",
       "<table border=\"1\" class=\"dataframe\">\n",
       "  <thead>\n",
       "    <tr style=\"text-align: right;\">\n",
       "      <th></th>\n",
       "      <th>CONCURR6</th>\n",
       "      <th>counts</th>\n",
       "      <th>percentage</th>\n",
       "    </tr>\n",
       "  </thead>\n",
       "  <tbody>\n",
       "    <tr>\n",
       "      <th>0</th>\n",
       "      <td>CLITOROPLASTY INTERSEX STATE</td>\n",
       "      <td>2</td>\n",
       "      <td>100.0</td>\n",
       "    </tr>\n",
       "  </tbody>\n",
       "</table>\n",
       "</div>"
      ],
      "text/plain": [
       "                       CONCURR6  counts  percentage\n",
       "0  CLITOROPLASTY INTERSEX STATE       2       100.0"
      ]
     },
     "execution_count": 283,
     "metadata": {},
     "output_type": "execute_result"
    }
   ],
   "source": [
    "df.groupby('CONCURR6').size().reset_index(name='counts').assign(percentage=lambda x: (x['counts'] / df['CONCURR6'].count()) * 100).round(1)"
   ]
  },
  {
   "cell_type": "code",
   "execution_count": 284,
   "id": "c9c53d96-b0df-4f80-ba4b-88dd0bd67e16",
   "metadata": {},
   "outputs": [
    {
     "data": {
      "text/html": [
       "<div>\n",
       "<style scoped>\n",
       "    .dataframe tbody tr th:only-of-type {\n",
       "        vertical-align: middle;\n",
       "    }\n",
       "\n",
       "    .dataframe tbody tr th {\n",
       "        vertical-align: top;\n",
       "    }\n",
       "\n",
       "    .dataframe thead th {\n",
       "        text-align: right;\n",
       "    }\n",
       "</style>\n",
       "<table border=\"1\" class=\"dataframe\">\n",
       "  <thead>\n",
       "    <tr style=\"text-align: right;\">\n",
       "      <th></th>\n",
       "      <th>CONCURR7</th>\n",
       "      <th>counts</th>\n",
       "      <th>percentage</th>\n",
       "    </tr>\n",
       "  </thead>\n",
       "  <tbody>\n",
       "  </tbody>\n",
       "</table>\n",
       "</div>"
      ],
      "text/plain": [
       "Empty DataFrame\n",
       "Columns: [CONCURR7, counts, percentage]\n",
       "Index: []"
      ]
     },
     "execution_count": 284,
     "metadata": {},
     "output_type": "execute_result"
    }
   ],
   "source": [
    "df.groupby('CONCURR7').size().reset_index(name='counts').assign(percentage=lambda x: (x['counts'] / df['CONCURR7'].count()) * 100).round(1)"
   ]
  },
  {
   "cell_type": "code",
   "execution_count": 285,
   "id": "28d41180-d189-45bf-8bd0-ae8c7c6a9cfa",
   "metadata": {},
   "outputs": [
    {
     "data": {
      "text/html": [
       "<div>\n",
       "<style scoped>\n",
       "    .dataframe tbody tr th:only-of-type {\n",
       "        vertical-align: middle;\n",
       "    }\n",
       "\n",
       "    .dataframe tbody tr th {\n",
       "        vertical-align: top;\n",
       "    }\n",
       "\n",
       "    .dataframe thead th {\n",
       "        text-align: right;\n",
       "    }\n",
       "</style>\n",
       "<table border=\"1\" class=\"dataframe\">\n",
       "  <thead>\n",
       "    <tr style=\"text-align: right;\">\n",
       "      <th></th>\n",
       "      <th>CONCURR8</th>\n",
       "      <th>counts</th>\n",
       "      <th>percentage</th>\n",
       "    </tr>\n",
       "  </thead>\n",
       "  <tbody>\n",
       "  </tbody>\n",
       "</table>\n",
       "</div>"
      ],
      "text/plain": [
       "Empty DataFrame\n",
       "Columns: [CONCURR8, counts, percentage]\n",
       "Index: []"
      ]
     },
     "execution_count": 285,
     "metadata": {},
     "output_type": "execute_result"
    }
   ],
   "source": [
    "df.groupby('CONCURR8').size().reset_index(name='counts').assign(percentage=lambda x: (x['counts'] / df['CONCURR8'].count()) * 100).round(1)"
   ]
  },
  {
   "cell_type": "code",
   "execution_count": 171,
   "id": "45113363-af2d-4dcd-80fe-b94b51a9f863",
   "metadata": {},
   "outputs": [
    {
     "data": {
      "text/plain": [
       "array([   nan, 54520., 53430., 54530., 54125., 53415., 57335., 44207.,\n",
       "       55970., 15101., 53410., 53899., 45562., 52000., 45300., 15120.,\n",
       "       31587.])"
      ]
     },
     "execution_count": 171,
     "metadata": {},
     "output_type": "execute_result"
    }
   ],
   "source": [
    "df['CONCPT1'].unique()"
   ]
  },
  {
   "cell_type": "code",
   "execution_count": 179,
   "id": "c146ba18-a4b5-4374-b865-ae5fb55d8f09",
   "metadata": {},
   "outputs": [
    {
     "name": "stderr",
     "output_type": "stream",
     "text": [
      "/var/folders/m8/kh2nk5652k94h_n7lqjvr8n00000gn/T/ipykernel_74986/4056612783.py:1: PerformanceWarning: DataFrame is highly fragmented.  This is usually the result of calling `frame.insert` many times, which has poor performance.  Consider joining all columns at once using pd.concat(axis=1) instead. To get a de-fragmented frame, use `newframe = frame.copy()`\n",
      "  df['CONCURR'] = df.filter(regex='(?i)CONCURR[1-9]').notna().any(axis=1)\n"
     ]
    }
   ],
   "source": [
    "df['CONCURR'] = df.filter(regex='(?i)CONCURR[1-9]').notna().any(axis=1)"
   ]
  },
  {
   "cell_type": "code",
   "execution_count": 160,
   "id": "ea66199f-d234-40cb-ba0b-251b0bc14c85",
   "metadata": {},
   "outputs": [
    {
     "data": {
      "text/html": [
       "<div>\n",
       "<style scoped>\n",
       "    .dataframe tbody tr th:only-of-type {\n",
       "        vertical-align: middle;\n",
       "    }\n",
       "\n",
       "    .dataframe tbody tr th {\n",
       "        vertical-align: top;\n",
       "    }\n",
       "\n",
       "    .dataframe thead th {\n",
       "        text-align: right;\n",
       "    }\n",
       "</style>\n",
       "<table border=\"1\" class=\"dataframe\">\n",
       "  <thead>\n",
       "    <tr style=\"text-align: right;\">\n",
       "      <th></th>\n",
       "      <th>index</th>\n",
       "      <th>count</th>\n",
       "    </tr>\n",
       "  </thead>\n",
       "  <tbody>\n",
       "    <tr>\n",
       "      <th>0</th>\n",
       "      <td>54520.0</td>\n",
       "      <td>38</td>\n",
       "    </tr>\n",
       "    <tr>\n",
       "      <th>1</th>\n",
       "      <td>54125.0</td>\n",
       "      <td>27</td>\n",
       "    </tr>\n",
       "    <tr>\n",
       "      <th>2</th>\n",
       "      <td>53430.0</td>\n",
       "      <td>21</td>\n",
       "    </tr>\n",
       "    <tr>\n",
       "      <th>3</th>\n",
       "      <td>53899.0</td>\n",
       "      <td>5</td>\n",
       "    </tr>\n",
       "    <tr>\n",
       "      <th>4</th>\n",
       "      <td>53415.0</td>\n",
       "      <td>4</td>\n",
       "    </tr>\n",
       "    <tr>\n",
       "      <th>5</th>\n",
       "      <td>56805.0</td>\n",
       "      <td>4</td>\n",
       "    </tr>\n",
       "    <tr>\n",
       "      <th>6</th>\n",
       "      <td>53410.0</td>\n",
       "      <td>3</td>\n",
       "    </tr>\n",
       "    <tr>\n",
       "      <th>7</th>\n",
       "      <td>57335.0</td>\n",
       "      <td>3</td>\n",
       "    </tr>\n",
       "    <tr>\n",
       "      <th>8</th>\n",
       "      <td>44207.0</td>\n",
       "      <td>2</td>\n",
       "    </tr>\n",
       "    <tr>\n",
       "      <th>9</th>\n",
       "      <td>52000.0</td>\n",
       "      <td>2</td>\n",
       "    </tr>\n",
       "    <tr>\n",
       "      <th>10</th>\n",
       "      <td>54530.0</td>\n",
       "      <td>2</td>\n",
       "    </tr>\n",
       "    <tr>\n",
       "      <th>11</th>\n",
       "      <td>53449.0</td>\n",
       "      <td>1</td>\n",
       "    </tr>\n",
       "    <tr>\n",
       "      <th>12</th>\n",
       "      <td>55180.0</td>\n",
       "      <td>1</td>\n",
       "    </tr>\n",
       "    <tr>\n",
       "      <th>13</th>\n",
       "      <td>54336.0</td>\n",
       "      <td>1</td>\n",
       "    </tr>\n",
       "    <tr>\n",
       "      <th>14</th>\n",
       "      <td>57291.0</td>\n",
       "      <td>1</td>\n",
       "    </tr>\n",
       "    <tr>\n",
       "      <th>15</th>\n",
       "      <td>57292.0</td>\n",
       "      <td>1</td>\n",
       "    </tr>\n",
       "    <tr>\n",
       "      <th>16</th>\n",
       "      <td>53010.0</td>\n",
       "      <td>1</td>\n",
       "    </tr>\n",
       "    <tr>\n",
       "      <th>17</th>\n",
       "      <td>59000.0</td>\n",
       "      <td>1</td>\n",
       "    </tr>\n",
       "    <tr>\n",
       "      <th>18</th>\n",
       "      <td>15120.0</td>\n",
       "      <td>1</td>\n",
       "    </tr>\n",
       "    <tr>\n",
       "      <th>19</th>\n",
       "      <td>15100.0</td>\n",
       "      <td>1</td>\n",
       "    </tr>\n",
       "    <tr>\n",
       "      <th>20</th>\n",
       "      <td>44140.0</td>\n",
       "      <td>1</td>\n",
       "    </tr>\n",
       "    <tr>\n",
       "      <th>21</th>\n",
       "      <td>57420.0</td>\n",
       "      <td>1</td>\n",
       "    </tr>\n",
       "    <tr>\n",
       "      <th>22</th>\n",
       "      <td>31587.0</td>\n",
       "      <td>1</td>\n",
       "    </tr>\n",
       "    <tr>\n",
       "      <th>23</th>\n",
       "      <td>45300.0</td>\n",
       "      <td>1</td>\n",
       "    </tr>\n",
       "    <tr>\n",
       "      <th>24</th>\n",
       "      <td>45562.0</td>\n",
       "      <td>1</td>\n",
       "    </tr>\n",
       "    <tr>\n",
       "      <th>25</th>\n",
       "      <td>15101.0</td>\n",
       "      <td>1</td>\n",
       "    </tr>\n",
       "    <tr>\n",
       "      <th>26</th>\n",
       "      <td>55970.0</td>\n",
       "      <td>1</td>\n",
       "    </tr>\n",
       "    <tr>\n",
       "      <th>27</th>\n",
       "      <td>15574.0</td>\n",
       "      <td>1</td>\n",
       "    </tr>\n",
       "  </tbody>\n",
       "</table>\n",
       "</div>"
      ],
      "text/plain": [
       "      index  count\n",
       "0   54520.0     38\n",
       "1   54125.0     27\n",
       "2   53430.0     21\n",
       "3   53899.0      5\n",
       "4   53415.0      4\n",
       "5   56805.0      4\n",
       "6   53410.0      3\n",
       "7   57335.0      3\n",
       "8   44207.0      2\n",
       "9   52000.0      2\n",
       "10  54530.0      2\n",
       "11  53449.0      1\n",
       "12  55180.0      1\n",
       "13  54336.0      1\n",
       "14  57291.0      1\n",
       "15  57292.0      1\n",
       "16  53010.0      1\n",
       "17  59000.0      1\n",
       "18  15120.0      1\n",
       "19  15100.0      1\n",
       "20  44140.0      1\n",
       "21  57420.0      1\n",
       "22  31587.0      1\n",
       "23  45300.0      1\n",
       "24  45562.0      1\n",
       "25  15101.0      1\n",
       "26  55970.0      1\n",
       "27  15574.0      1"
      ]
     },
     "execution_count": 160,
     "metadata": {},
     "output_type": "execute_result"
    }
   ],
   "source": [
    "pd.concat([df[col] for col in df.filter(regex='(?i)CONCPT').columns]).dropna().value_counts().reset_index()"
   ]
  },
  {
   "cell_type": "code",
   "execution_count": 38,
   "id": "745b13ba-5364-4256-854d-4feadb2b77b2",
   "metadata": {},
   "outputs": [
    {
     "data": {
      "text/html": [
       "<div>\n",
       "<style scoped>\n",
       "    .dataframe tbody tr th:only-of-type {\n",
       "        vertical-align: middle;\n",
       "    }\n",
       "\n",
       "    .dataframe tbody tr th {\n",
       "        vertical-align: top;\n",
       "    }\n",
       "\n",
       "    .dataframe thead th {\n",
       "        text-align: right;\n",
       "    }\n",
       "</style>\n",
       "<table border=\"1\" class=\"dataframe\">\n",
       "  <thead>\n",
       "    <tr style=\"text-align: right;\">\n",
       "      <th></th>\n",
       "      <th>index</th>\n",
       "      <th>count</th>\n",
       "    </tr>\n",
       "  </thead>\n",
       "  <tbody>\n",
       "    <tr>\n",
       "      <th>0</th>\n",
       "      <td>15120.0</td>\n",
       "      <td>1</td>\n",
       "    </tr>\n",
       "  </tbody>\n",
       "</table>\n",
       "</div>"
      ],
      "text/plain": [
       "     index  count\n",
       "0  15120.0      1"
      ]
     },
     "execution_count": 38,
     "metadata": {},
     "output_type": "execute_result"
    }
   ],
   "source": [
    "pd.concat([df_with57425[col] for col in df_with57425.filter(regex='(?i)CONCPT').columns]).dropna().value_counts().reset_index()"
   ]
  },
  {
   "cell_type": "code",
   "execution_count": 43,
   "id": "d20b34fb-eea6-4782-96c6-ec44f9052e22",
   "metadata": {},
   "outputs": [
    {
     "data": {
      "text/html": [
       "<div>\n",
       "<style scoped>\n",
       "    .dataframe tbody tr th:only-of-type {\n",
       "        vertical-align: middle;\n",
       "    }\n",
       "\n",
       "    .dataframe tbody tr th {\n",
       "        vertical-align: top;\n",
       "    }\n",
       "\n",
       "    .dataframe thead th {\n",
       "        text-align: right;\n",
       "    }\n",
       "</style>\n",
       "<table border=\"1\" class=\"dataframe\">\n",
       "  <thead>\n",
       "    <tr style=\"text-align: right;\">\n",
       "      <th></th>\n",
       "      <th>index</th>\n",
       "      <th>count</th>\n",
       "    </tr>\n",
       "  </thead>\n",
       "  <tbody>\n",
       "    <tr>\n",
       "      <th>0</th>\n",
       "      <td>54520.0</td>\n",
       "      <td>38</td>\n",
       "    </tr>\n",
       "    <tr>\n",
       "      <th>1</th>\n",
       "      <td>54125.0</td>\n",
       "      <td>27</td>\n",
       "    </tr>\n",
       "    <tr>\n",
       "      <th>2</th>\n",
       "      <td>53430.0</td>\n",
       "      <td>21</td>\n",
       "    </tr>\n",
       "    <tr>\n",
       "      <th>3</th>\n",
       "      <td>53899.0</td>\n",
       "      <td>5</td>\n",
       "    </tr>\n",
       "    <tr>\n",
       "      <th>4</th>\n",
       "      <td>56805.0</td>\n",
       "      <td>4</td>\n",
       "    </tr>\n",
       "    <tr>\n",
       "      <th>5</th>\n",
       "      <td>53415.0</td>\n",
       "      <td>4</td>\n",
       "    </tr>\n",
       "    <tr>\n",
       "      <th>6</th>\n",
       "      <td>53410.0</td>\n",
       "      <td>3</td>\n",
       "    </tr>\n",
       "    <tr>\n",
       "      <th>7</th>\n",
       "      <td>57335.0</td>\n",
       "      <td>3</td>\n",
       "    </tr>\n",
       "    <tr>\n",
       "      <th>8</th>\n",
       "      <td>44207.0</td>\n",
       "      <td>2</td>\n",
       "    </tr>\n",
       "    <tr>\n",
       "      <th>9</th>\n",
       "      <td>52000.0</td>\n",
       "      <td>2</td>\n",
       "    </tr>\n",
       "    <tr>\n",
       "      <th>10</th>\n",
       "      <td>54530.0</td>\n",
       "      <td>2</td>\n",
       "    </tr>\n",
       "    <tr>\n",
       "      <th>11</th>\n",
       "      <td>53449.0</td>\n",
       "      <td>1</td>\n",
       "    </tr>\n",
       "    <tr>\n",
       "      <th>12</th>\n",
       "      <td>55180.0</td>\n",
       "      <td>1</td>\n",
       "    </tr>\n",
       "    <tr>\n",
       "      <th>13</th>\n",
       "      <td>54336.0</td>\n",
       "      <td>1</td>\n",
       "    </tr>\n",
       "    <tr>\n",
       "      <th>14</th>\n",
       "      <td>57291.0</td>\n",
       "      <td>1</td>\n",
       "    </tr>\n",
       "    <tr>\n",
       "      <th>15</th>\n",
       "      <td>57292.0</td>\n",
       "      <td>1</td>\n",
       "    </tr>\n",
       "    <tr>\n",
       "      <th>16</th>\n",
       "      <td>53010.0</td>\n",
       "      <td>1</td>\n",
       "    </tr>\n",
       "    <tr>\n",
       "      <th>17</th>\n",
       "      <td>59000.0</td>\n",
       "      <td>1</td>\n",
       "    </tr>\n",
       "    <tr>\n",
       "      <th>18</th>\n",
       "      <td>45300.0</td>\n",
       "      <td>1</td>\n",
       "    </tr>\n",
       "    <tr>\n",
       "      <th>19</th>\n",
       "      <td>15100.0</td>\n",
       "      <td>1</td>\n",
       "    </tr>\n",
       "    <tr>\n",
       "      <th>20</th>\n",
       "      <td>44140.0</td>\n",
       "      <td>1</td>\n",
       "    </tr>\n",
       "    <tr>\n",
       "      <th>21</th>\n",
       "      <td>57420.0</td>\n",
       "      <td>1</td>\n",
       "    </tr>\n",
       "    <tr>\n",
       "      <th>22</th>\n",
       "      <td>31587.0</td>\n",
       "      <td>1</td>\n",
       "    </tr>\n",
       "    <tr>\n",
       "      <th>23</th>\n",
       "      <td>45562.0</td>\n",
       "      <td>1</td>\n",
       "    </tr>\n",
       "    <tr>\n",
       "      <th>24</th>\n",
       "      <td>15101.0</td>\n",
       "      <td>1</td>\n",
       "    </tr>\n",
       "    <tr>\n",
       "      <th>25</th>\n",
       "      <td>55970.0</td>\n",
       "      <td>1</td>\n",
       "    </tr>\n",
       "    <tr>\n",
       "      <th>26</th>\n",
       "      <td>15574.0</td>\n",
       "      <td>1</td>\n",
       "    </tr>\n",
       "  </tbody>\n",
       "</table>\n",
       "</div>"
      ],
      "text/plain": [
       "      index  count\n",
       "0   54520.0     38\n",
       "1   54125.0     27\n",
       "2   53430.0     21\n",
       "3   53899.0      5\n",
       "4   56805.0      4\n",
       "5   53415.0      4\n",
       "6   53410.0      3\n",
       "7   57335.0      3\n",
       "8   44207.0      2\n",
       "9   52000.0      2\n",
       "10  54530.0      2\n",
       "11  53449.0      1\n",
       "12  55180.0      1\n",
       "13  54336.0      1\n",
       "14  57291.0      1\n",
       "15  57292.0      1\n",
       "16  53010.0      1\n",
       "17  59000.0      1\n",
       "18  45300.0      1\n",
       "19  15100.0      1\n",
       "20  44140.0      1\n",
       "21  57420.0      1\n",
       "22  31587.0      1\n",
       "23  45562.0      1\n",
       "24  15101.0      1\n",
       "25  55970.0      1\n",
       "26  15574.0      1"
      ]
     },
     "execution_count": 43,
     "metadata": {},
     "output_type": "execute_result"
    }
   ],
   "source": [
    "pd.concat([df_no57425[col] for col in df_no57425.filter(regex='(?i)CONCPT').columns]).dropna().value_counts().reset_index()"
   ]
  },
  {
   "cell_type": "markdown",
   "id": "bd3812cc-18de-4011-a2c0-2327909da26e",
   "metadata": {
    "jp-MarkdownHeadingCollapsed": true
   },
   "source": [
    "# Main outcome measures"
   ]
  },
  {
   "cell_type": "markdown",
   "id": "84899f7b-2e58-4ed3-b23f-57489448e09f",
   "metadata": {},
   "source": [
    "## Unplanned readmission"
   ]
  },
  {
   "cell_type": "code",
   "execution_count": 124,
   "id": "1b2e8152-2c60-43c6-a26c-8eab3dd9f689",
   "metadata": {},
   "outputs": [
    {
     "data": {
      "text/plain": [
       "Index(['UNPLANNEDREADMISSION1', 'UNPLANNEDREADMISSION2',\n",
       "       'UNPLANNEDREADMISSION3', 'UNPLANNEDREADMISSION4',\n",
       "       'UNPLANNEDREADMISSION5', 'UNPLANNED_CONV_OPEN'],\n",
       "      dtype='object')"
      ]
     },
     "execution_count": 124,
     "metadata": {},
     "output_type": "execute_result"
    }
   ],
   "source": [
    "df.filter(regex='(?i)unplanned').columns"
   ]
  },
  {
   "cell_type": "code",
   "execution_count": 125,
   "id": "22165e1e-baad-4372-add6-e408b251d83e",
   "metadata": {},
   "outputs": [
    {
     "data": {
      "text/plain": [
       "Index(['REOPERATION1', 'REOPERATION2', 'REOPERATION3'], dtype='object')"
      ]
     },
     "execution_count": 125,
     "metadata": {},
     "output_type": "execute_result"
    }
   ],
   "source": [
    "df.filter(regex='(?i)reoperation').columns"
   ]
  },
  {
   "cell_type": "code",
   "execution_count": 126,
   "id": "4e43c18a-7171-41dc-a521-beac6e71b92c",
   "metadata": {},
   "outputs": [],
   "source": [
    "composite_outcome_columns = ['UNPLANNEDREADMISSION1', 'UNPLANNEDREADMISSION2', 'UNPLANNEDREADMISSION3', 'UNPLANNEDREADMISSION4', \n",
    "                            'UNPLANNEDREADMISSION5', 'REOPERATION1', 'REOPERATION2', 'REOPERATION3', 'PULEMBOL', 'FAILWEAN', 'REINTUB', \n",
    "                            'OPRENAFL', 'CDARREST', 'CDMI', 'CNSCVA', 'WNDINFD', 'OTHSESHOCK']"
   ]
  },
  {
   "cell_type": "code",
   "execution_count": null,
   "id": "9036291f-5092-46a7-91bd-cb64684cc092",
   "metadata": {},
   "outputs": [],
   "source": []
  },
  {
   "cell_type": "code",
   "execution_count": 127,
   "id": "04e20f5a-d445-498b-be60-d16ee689d843",
   "metadata": {},
   "outputs": [
    {
     "name": "stderr",
     "output_type": "stream",
     "text": [
      "/var/folders/m8/kh2nk5652k94h_n7lqjvr8n00000gn/T/ipykernel_74986/719466772.py:15: PerformanceWarning: DataFrame is highly fragmented.  This is usually the result of calling `frame.insert` many times, which has poor performance.  Consider joining all columns at once using pd.concat(axis=1) instead. To get a de-fragmented frame, use `newframe = frame.copy()`\n",
      "  df['composite_outcome'] = col1_condition | col2_condition\n"
     ]
    },
    {
     "data": {
      "text/plain": [
       "np.int64(32)"
      ]
     },
     "execution_count": 127,
     "metadata": {},
     "output_type": "execute_result"
    }
   ],
   "source": [
    "col1 = ['UNPLANNEDREADMISSION1', 'UNPLANNEDREADMISSION2', 'UNPLANNEDREADMISSION3', \n",
    "        'UNPLANNEDREADMISSION4', 'UNPLANNEDREADMISSION5', 'REOPERATION1', \n",
    "        'REOPERATION2', 'REOPERATION3']\n",
    "\n",
    "col2 = ['PULEMBOL', 'FAILWEAN', 'REINTUB', 'OPRENAFL', 'CDARREST', 'CDMI', \n",
    "        'CNSCVA', 'WNDINFD', 'OTHSESHOCK']\n",
    "\n",
    "# Creating a condition for col1: any 'Yes' indicates a composite outcome\n",
    "col1_condition = df[col1].apply(lambda x: 'Yes' in x.values, axis=1)\n",
    "\n",
    "# Creating a condition for col2: any value that is NOT \"No complication\" or NaN is considered a positive outcome\n",
    "col2_condition = df[col2].apply(lambda x: any(val != 'No Complication' and pd.notna(val) for val in x), axis=1)\n",
    "\n",
    "# Combining the two conditions\n",
    "df['composite_outcome'] = col1_condition | col2_condition\n",
    "\n",
    "# Counting the number of patients with any composite outcome\n",
    "df['composite_outcome'].sum()"
   ]
  },
  {
   "cell_type": "code",
   "execution_count": 128,
   "id": "246a9c9f-a5da-4a29-8693-03092f5be901",
   "metadata": {},
   "outputs": [
    {
     "data": {
      "text/plain": [
       "np.int64(28)"
      ]
     },
     "execution_count": 128,
     "metadata": {},
     "output_type": "execute_result"
    }
   ],
   "source": [
    "col1_condition.sum()"
   ]
  },
  {
   "cell_type": "code",
   "execution_count": 129,
   "id": "7d5ce39e-1399-4abf-ac98-5f44372da535",
   "metadata": {},
   "outputs": [
    {
     "data": {
      "text/plain": [
       "np.int64(6)"
      ]
     },
     "execution_count": 129,
     "metadata": {},
     "output_type": "execute_result"
    }
   ],
   "source": [
    "col2_condition.sum()"
   ]
  },
  {
   "cell_type": "code",
   "execution_count": 147,
   "id": "11671226-8f04-412e-9a4a-db0a372b2dd3",
   "metadata": {},
   "outputs": [
    {
     "name": "stderr",
     "output_type": "stream",
     "text": [
      "/var/folders/m8/kh2nk5652k94h_n7lqjvr8n00000gn/T/ipykernel_73334/2251989810.py:8: PerformanceWarning: DataFrame is highly fragmented.  This is usually the result of calling `frame.insert` many times, which has poor performance.  Consider joining all columns at once using pd.concat(axis=1) instead. To get a de-fragmented frame, use `newframe = frame.copy()`\n",
      "  df_with57425['composite_outcome'] = col1_condition | col2_condition\n",
      "/var/folders/m8/kh2nk5652k94h_n7lqjvr8n00000gn/T/ipykernel_73334/2251989810.py:8: SettingWithCopyWarning: \n",
      "A value is trying to be set on a copy of a slice from a DataFrame.\n",
      "Try using .loc[row_indexer,col_indexer] = value instead\n",
      "\n",
      "See the caveats in the documentation: https://pandas.pydata.org/pandas-docs/stable/user_guide/indexing.html#returning-a-view-versus-a-copy\n",
      "  df_with57425['composite_outcome'] = col1_condition | col2_condition\n"
     ]
    },
    {
     "data": {
      "text/plain": [
       "np.int64(0)"
      ]
     },
     "execution_count": 147,
     "metadata": {},
     "output_type": "execute_result"
    }
   ],
   "source": [
    "# Creating a condition for col1: any 'Yes' indicates a composite outcome\n",
    "col1_condition = df_with57425[col1].apply(lambda x: 'Yes' in x.values, axis=1)\n",
    "\n",
    "# Creating a condition for col2: any value that is NOT \"No complication\" or NaN is considered a positive outcome\n",
    "col2_condition = df_with57425[col2].apply(lambda x: any(val != 'No Complication' and pd.notna(val) for val in x), axis=1)\n",
    "\n",
    "# Combining the two conditions\n",
    "df_with57425['composite_outcome'] = col1_condition | col2_condition\n",
    "\n",
    "# Counting the number of patients with any composite outcome\n",
    "df_with57425['composite_outcome'].sum()"
   ]
  },
  {
   "cell_type": "code",
   "execution_count": 148,
   "id": "c2c7afbb-3552-471b-ac77-4aa4c5161617",
   "metadata": {},
   "outputs": [
    {
     "name": "stderr",
     "output_type": "stream",
     "text": [
      "/var/folders/m8/kh2nk5652k94h_n7lqjvr8n00000gn/T/ipykernel_73334/734910421.py:8: PerformanceWarning: DataFrame is highly fragmented.  This is usually the result of calling `frame.insert` many times, which has poor performance.  Consider joining all columns at once using pd.concat(axis=1) instead. To get a de-fragmented frame, use `newframe = frame.copy()`\n",
      "  df_no57425['composite_outcome'] = col1_condition | col2_condition\n"
     ]
    },
    {
     "data": {
      "text/plain": [
       "np.int64(32)"
      ]
     },
     "execution_count": 148,
     "metadata": {},
     "output_type": "execute_result"
    }
   ],
   "source": [
    "# Creating a condition for col1: any 'Yes' indicates a composite outcome\n",
    "col1_condition = df_no57425[col1].apply(lambda x: 'Yes' in x.values, axis=1)\n",
    "\n",
    "# Creating a condition for col2: any value that is NOT \"No complication\" or NaN is considered a positive outcome\n",
    "col2_condition = df_no57425[col2].apply(lambda x: any(val != 'No Complication' and pd.notna(val) for val in x), axis=1)\n",
    "\n",
    "# Combining the two conditions\n",
    "df_no57425['composite_outcome'] = col1_condition | col2_condition\n",
    "\n",
    "# Counting the number of patients with any composite outcome\n",
    "df_no57425['composite_outcome'].sum()"
   ]
  },
  {
   "cell_type": "code",
   "execution_count": 149,
   "id": "181e86f4-a535-4626-a35a-759df9e9d65f",
   "metadata": {},
   "outputs": [
    {
     "data": {
      "text/html": [
       "<div>\n",
       "<style scoped>\n",
       "    .dataframe tbody tr th:only-of-type {\n",
       "        vertical-align: middle;\n",
       "    }\n",
       "\n",
       "    .dataframe tbody tr th {\n",
       "        vertical-align: top;\n",
       "    }\n",
       "\n",
       "    .dataframe thead th {\n",
       "        text-align: right;\n",
       "    }\n",
       "</style>\n",
       "<table border=\"1\" class=\"dataframe\">\n",
       "  <thead>\n",
       "    <tr style=\"text-align: right;\">\n",
       "      <th></th>\n",
       "      <th>UNPLANNEDREADMISSION1</th>\n",
       "      <th>counts</th>\n",
       "      <th>percentage</th>\n",
       "    </tr>\n",
       "  </thead>\n",
       "  <tbody>\n",
       "    <tr>\n",
       "      <th>0</th>\n",
       "      <td>Yes</td>\n",
       "      <td>14</td>\n",
       "      <td>100.0</td>\n",
       "    </tr>\n",
       "  </tbody>\n",
       "</table>\n",
       "</div>"
      ],
      "text/plain": [
       "  UNPLANNEDREADMISSION1  counts  percentage\n",
       "0                   Yes      14       100.0"
      ]
     },
     "execution_count": 149,
     "metadata": {},
     "output_type": "execute_result"
    }
   ],
   "source": [
    "df.groupby('UNPLANNEDREADMISSION1').size().reset_index(name='counts').assign(percentage=lambda x: (x['counts'] / df['UNPLANNEDREADMISSION1'].count()) * 100).round(2)"
   ]
  },
  {
   "cell_type": "code",
   "execution_count": 148,
   "id": "aab6df79-5a08-444a-b1d1-9f054cad0eed",
   "metadata": {},
   "outputs": [
    {
     "data": {
      "text/html": [
       "<div>\n",
       "<style scoped>\n",
       "    .dataframe tbody tr th:only-of-type {\n",
       "        vertical-align: middle;\n",
       "    }\n",
       "\n",
       "    .dataframe tbody tr th {\n",
       "        vertical-align: top;\n",
       "    }\n",
       "\n",
       "    .dataframe thead th {\n",
       "        text-align: right;\n",
       "    }\n",
       "</style>\n",
       "<table border=\"1\" class=\"dataframe\">\n",
       "  <thead>\n",
       "    <tr style=\"text-align: right;\">\n",
       "      <th></th>\n",
       "      <th>UNPLANNEDREADMISSION1</th>\n",
       "      <th>counts</th>\n",
       "      <th>percentage</th>\n",
       "    </tr>\n",
       "  </thead>\n",
       "  <tbody>\n",
       "  </tbody>\n",
       "</table>\n",
       "</div>"
      ],
      "text/plain": [
       "Empty DataFrame\n",
       "Columns: [UNPLANNEDREADMISSION1, counts, percentage]\n",
       "Index: []"
      ]
     },
     "execution_count": 148,
     "metadata": {},
     "output_type": "execute_result"
    }
   ],
   "source": [
    "df_with57425.groupby('UNPLANNEDREADMISSION1').size().reset_index(name='counts').assign(percentage=lambda x: (x['counts'] / df_with57425['UNPLANNEDREADMISSION1'].count()) * 100).round(2)"
   ]
  },
  {
   "cell_type": "code",
   "execution_count": 150,
   "id": "fd930a78-b6d4-47e1-91e1-9c1cc323f916",
   "metadata": {},
   "outputs": [
    {
     "data": {
      "text/html": [
       "<div>\n",
       "<style scoped>\n",
       "    .dataframe tbody tr th:only-of-type {\n",
       "        vertical-align: middle;\n",
       "    }\n",
       "\n",
       "    .dataframe tbody tr th {\n",
       "        vertical-align: top;\n",
       "    }\n",
       "\n",
       "    .dataframe thead th {\n",
       "        text-align: right;\n",
       "    }\n",
       "</style>\n",
       "<table border=\"1\" class=\"dataframe\">\n",
       "  <thead>\n",
       "    <tr style=\"text-align: right;\">\n",
       "      <th></th>\n",
       "      <th>UNPLANNEDREADMISSION1</th>\n",
       "      <th>counts</th>\n",
       "      <th>percentage</th>\n",
       "    </tr>\n",
       "  </thead>\n",
       "  <tbody>\n",
       "    <tr>\n",
       "      <th>0</th>\n",
       "      <td>Yes</td>\n",
       "      <td>14</td>\n",
       "      <td>100.0</td>\n",
       "    </tr>\n",
       "  </tbody>\n",
       "</table>\n",
       "</div>"
      ],
      "text/plain": [
       "  UNPLANNEDREADMISSION1  counts  percentage\n",
       "0                   Yes      14       100.0"
      ]
     },
     "execution_count": 150,
     "metadata": {},
     "output_type": "execute_result"
    }
   ],
   "source": [
    "df_no57425.groupby('UNPLANNEDREADMISSION1').size().reset_index(name='counts').assign(percentage=lambda x: (x['counts'] / df_no57425['UNPLANNEDREADMISSION1'].count()) * 100).round(2)"
   ]
  },
  {
   "cell_type": "code",
   "execution_count": 126,
   "id": "97263abd-e69e-422a-bcf6-1bfca8aef0ff",
   "metadata": {},
   "outputs": [
    {
     "data": {
      "text/html": [
       "<div>\n",
       "<style scoped>\n",
       "    .dataframe tbody tr th:only-of-type {\n",
       "        vertical-align: middle;\n",
       "    }\n",
       "\n",
       "    .dataframe tbody tr th {\n",
       "        vertical-align: top;\n",
       "    }\n",
       "\n",
       "    .dataframe thead th {\n",
       "        text-align: right;\n",
       "    }\n",
       "</style>\n",
       "<table border=\"1\" class=\"dataframe\">\n",
       "  <thead>\n",
       "    <tr style=\"text-align: right;\">\n",
       "      <th></th>\n",
       "      <th>UNPLANNEDREADMISSION2</th>\n",
       "      <th>counts</th>\n",
       "      <th>percentage</th>\n",
       "    </tr>\n",
       "  </thead>\n",
       "  <tbody>\n",
       "  </tbody>\n",
       "</table>\n",
       "</div>"
      ],
      "text/plain": [
       "Empty DataFrame\n",
       "Columns: [UNPLANNEDREADMISSION2, counts, percentage]\n",
       "Index: []"
      ]
     },
     "execution_count": 126,
     "metadata": {},
     "output_type": "execute_result"
    }
   ],
   "source": [
    "df.groupby('UNPLANNEDREADMISSION2').size().reset_index(name='counts').assign(percentage=lambda x: (x['counts'] / df['UNPLANNEDREADMISSION2'].count()) * 100).round(2)"
   ]
  },
  {
   "cell_type": "code",
   "execution_count": 152,
   "id": "9fbb06f4-39d1-4030-a765-1c824c2bb1f7",
   "metadata": {},
   "outputs": [
    {
     "data": {
      "text/html": [
       "<div>\n",
       "<style scoped>\n",
       "    .dataframe tbody tr th:only-of-type {\n",
       "        vertical-align: middle;\n",
       "    }\n",
       "\n",
       "    .dataframe tbody tr th {\n",
       "        vertical-align: top;\n",
       "    }\n",
       "\n",
       "    .dataframe thead th {\n",
       "        text-align: right;\n",
       "    }\n",
       "</style>\n",
       "<table border=\"1\" class=\"dataframe\">\n",
       "  <thead>\n",
       "    <tr style=\"text-align: right;\">\n",
       "      <th></th>\n",
       "      <th>READMPODAYS1</th>\n",
       "      <th>counts</th>\n",
       "      <th>percentage</th>\n",
       "    </tr>\n",
       "  </thead>\n",
       "  <tbody>\n",
       "    <tr>\n",
       "      <th>0</th>\n",
       "      <td>-99</td>\n",
       "      <td>399</td>\n",
       "      <td>96.61</td>\n",
       "    </tr>\n",
       "    <tr>\n",
       "      <th>1</th>\n",
       "      <td>1</td>\n",
       "      <td>1</td>\n",
       "      <td>0.24</td>\n",
       "    </tr>\n",
       "    <tr>\n",
       "      <th>2</th>\n",
       "      <td>6</td>\n",
       "      <td>1</td>\n",
       "      <td>0.24</td>\n",
       "    </tr>\n",
       "    <tr>\n",
       "      <th>3</th>\n",
       "      <td>8</td>\n",
       "      <td>1</td>\n",
       "      <td>0.24</td>\n",
       "    </tr>\n",
       "    <tr>\n",
       "      <th>4</th>\n",
       "      <td>10</td>\n",
       "      <td>2</td>\n",
       "      <td>0.48</td>\n",
       "    </tr>\n",
       "    <tr>\n",
       "      <th>5</th>\n",
       "      <td>11</td>\n",
       "      <td>1</td>\n",
       "      <td>0.24</td>\n",
       "    </tr>\n",
       "    <tr>\n",
       "      <th>6</th>\n",
       "      <td>12</td>\n",
       "      <td>1</td>\n",
       "      <td>0.24</td>\n",
       "    </tr>\n",
       "    <tr>\n",
       "      <th>7</th>\n",
       "      <td>13</td>\n",
       "      <td>1</td>\n",
       "      <td>0.24</td>\n",
       "    </tr>\n",
       "    <tr>\n",
       "      <th>8</th>\n",
       "      <td>14</td>\n",
       "      <td>1</td>\n",
       "      <td>0.24</td>\n",
       "    </tr>\n",
       "    <tr>\n",
       "      <th>9</th>\n",
       "      <td>16</td>\n",
       "      <td>1</td>\n",
       "      <td>0.24</td>\n",
       "    </tr>\n",
       "    <tr>\n",
       "      <th>10</th>\n",
       "      <td>17</td>\n",
       "      <td>1</td>\n",
       "      <td>0.24</td>\n",
       "    </tr>\n",
       "    <tr>\n",
       "      <th>11</th>\n",
       "      <td>18</td>\n",
       "      <td>1</td>\n",
       "      <td>0.24</td>\n",
       "    </tr>\n",
       "    <tr>\n",
       "      <th>12</th>\n",
       "      <td>20</td>\n",
       "      <td>1</td>\n",
       "      <td>0.24</td>\n",
       "    </tr>\n",
       "    <tr>\n",
       "      <th>13</th>\n",
       "      <td>27</td>\n",
       "      <td>1</td>\n",
       "      <td>0.24</td>\n",
       "    </tr>\n",
       "  </tbody>\n",
       "</table>\n",
       "</div>"
      ],
      "text/plain": [
       "    READMPODAYS1  counts  percentage\n",
       "0            -99     399       96.61\n",
       "1              1       1        0.24\n",
       "2              6       1        0.24\n",
       "3              8       1        0.24\n",
       "4             10       2        0.48\n",
       "5             11       1        0.24\n",
       "6             12       1        0.24\n",
       "7             13       1        0.24\n",
       "8             14       1        0.24\n",
       "9             16       1        0.24\n",
       "10            17       1        0.24\n",
       "11            18       1        0.24\n",
       "12            20       1        0.24\n",
       "13            27       1        0.24"
      ]
     },
     "execution_count": 152,
     "metadata": {},
     "output_type": "execute_result"
    }
   ],
   "source": [
    "df.groupby('READMPODAYS1').size().reset_index(name='counts').assign(percentage=lambda x: (x['counts'] / df['READMPODAYS1'].count()) * 100).round(2)"
   ]
  },
  {
   "cell_type": "code",
   "execution_count": 206,
   "id": "15234dd3-aeb1-47f8-9c52-32853e7d6668",
   "metadata": {},
   "outputs": [
    {
     "data": {
      "text/html": [
       "<div>\n",
       "<style scoped>\n",
       "    .dataframe tbody tr th:only-of-type {\n",
       "        vertical-align: middle;\n",
       "    }\n",
       "\n",
       "    .dataframe tbody tr th {\n",
       "        vertical-align: top;\n",
       "    }\n",
       "\n",
       "    .dataframe thead th {\n",
       "        text-align: right;\n",
       "    }\n",
       "</style>\n",
       "<table border=\"1\" class=\"dataframe\">\n",
       "  <thead>\n",
       "    <tr style=\"text-align: right;\">\n",
       "      <th></th>\n",
       "      <th>READMPODAYS1</th>\n",
       "      <th>counts</th>\n",
       "      <th>percentage</th>\n",
       "    </tr>\n",
       "  </thead>\n",
       "  <tbody>\n",
       "    <tr>\n",
       "      <th>0</th>\n",
       "      <td>1.0</td>\n",
       "      <td>1</td>\n",
       "      <td>7.1</td>\n",
       "    </tr>\n",
       "    <tr>\n",
       "      <th>1</th>\n",
       "      <td>6.0</td>\n",
       "      <td>1</td>\n",
       "      <td>7.1</td>\n",
       "    </tr>\n",
       "    <tr>\n",
       "      <th>2</th>\n",
       "      <td>8.0</td>\n",
       "      <td>1</td>\n",
       "      <td>7.1</td>\n",
       "    </tr>\n",
       "    <tr>\n",
       "      <th>3</th>\n",
       "      <td>10.0</td>\n",
       "      <td>2</td>\n",
       "      <td>14.3</td>\n",
       "    </tr>\n",
       "    <tr>\n",
       "      <th>4</th>\n",
       "      <td>11.0</td>\n",
       "      <td>1</td>\n",
       "      <td>7.1</td>\n",
       "    </tr>\n",
       "    <tr>\n",
       "      <th>5</th>\n",
       "      <td>12.0</td>\n",
       "      <td>1</td>\n",
       "      <td>7.1</td>\n",
       "    </tr>\n",
       "    <tr>\n",
       "      <th>6</th>\n",
       "      <td>13.0</td>\n",
       "      <td>1</td>\n",
       "      <td>7.1</td>\n",
       "    </tr>\n",
       "    <tr>\n",
       "      <th>7</th>\n",
       "      <td>14.0</td>\n",
       "      <td>1</td>\n",
       "      <td>7.1</td>\n",
       "    </tr>\n",
       "    <tr>\n",
       "      <th>8</th>\n",
       "      <td>16.0</td>\n",
       "      <td>1</td>\n",
       "      <td>7.1</td>\n",
       "    </tr>\n",
       "    <tr>\n",
       "      <th>9</th>\n",
       "      <td>17.0</td>\n",
       "      <td>1</td>\n",
       "      <td>7.1</td>\n",
       "    </tr>\n",
       "    <tr>\n",
       "      <th>10</th>\n",
       "      <td>18.0</td>\n",
       "      <td>1</td>\n",
       "      <td>7.1</td>\n",
       "    </tr>\n",
       "    <tr>\n",
       "      <th>11</th>\n",
       "      <td>20.0</td>\n",
       "      <td>1</td>\n",
       "      <td>7.1</td>\n",
       "    </tr>\n",
       "    <tr>\n",
       "      <th>12</th>\n",
       "      <td>27.0</td>\n",
       "      <td>1</td>\n",
       "      <td>7.1</td>\n",
       "    </tr>\n",
       "  </tbody>\n",
       "</table>\n",
       "</div>"
      ],
      "text/plain": [
       "    READMPODAYS1  counts  percentage\n",
       "0            1.0       1         7.1\n",
       "1            6.0       1         7.1\n",
       "2            8.0       1         7.1\n",
       "3           10.0       2        14.3\n",
       "4           11.0       1         7.1\n",
       "5           12.0       1         7.1\n",
       "6           13.0       1         7.1\n",
       "7           14.0       1         7.1\n",
       "8           16.0       1         7.1\n",
       "9           17.0       1         7.1\n",
       "10          18.0       1         7.1\n",
       "11          20.0       1         7.1\n",
       "12          27.0       1         7.1"
      ]
     },
     "execution_count": 206,
     "metadata": {},
     "output_type": "execute_result"
    }
   ],
   "source": [
    "df.groupby('READMPODAYS1').size().reset_index(name='counts').assign(percentage=lambda x: (x['counts'] / df['READMPODAYS1'].count()) * 100).round(1)"
   ]
  },
  {
   "cell_type": "code",
   "execution_count": 208,
   "id": "77905c97-083a-4163-91fc-91e2be61c8cf",
   "metadata": {},
   "outputs": [
    {
     "data": {
      "text/plain": [
       "np.float64(13.071428571428571)"
      ]
     },
     "execution_count": 208,
     "metadata": {},
     "output_type": "execute_result"
    }
   ],
   "source": [
    "df['READMPODAYS1'].mean()"
   ]
  },
  {
   "cell_type": "code",
   "execution_count": 209,
   "id": "39966991-4962-420e-a614-14456fd2228f",
   "metadata": {},
   "outputs": [
    {
     "data": {
      "text/plain": [
       "np.float64(6.42667859801607)"
      ]
     },
     "execution_count": 209,
     "metadata": {},
     "output_type": "execute_result"
    }
   ],
   "source": [
    "df['READMPODAYS1'].std()"
   ]
  },
  {
   "cell_type": "code",
   "execution_count": 210,
   "id": "74e35b38-d65c-41ba-9d60-15ab03c7f9c8",
   "metadata": {},
   "outputs": [
    {
     "data": {
      "text/plain": [
       "np.float64(12.5)"
      ]
     },
     "execution_count": 210,
     "metadata": {},
     "output_type": "execute_result"
    }
   ],
   "source": [
    "df['READMPODAYS1'].median()"
   ]
  },
  {
   "cell_type": "code",
   "execution_count": 153,
   "id": "0a79ae4e-c165-48b7-afb0-2e044f5efd85",
   "metadata": {},
   "outputs": [
    {
     "data": {
      "text/html": [
       "<div>\n",
       "<style scoped>\n",
       "    .dataframe tbody tr th:only-of-type {\n",
       "        vertical-align: middle;\n",
       "    }\n",
       "\n",
       "    .dataframe tbody tr th {\n",
       "        vertical-align: top;\n",
       "    }\n",
       "\n",
       "    .dataframe thead th {\n",
       "        text-align: right;\n",
       "    }\n",
       "</style>\n",
       "<table border=\"1\" class=\"dataframe\">\n",
       "  <thead>\n",
       "    <tr style=\"text-align: right;\">\n",
       "      <th></th>\n",
       "      <th>READMPODAYS1</th>\n",
       "      <th>counts</th>\n",
       "      <th>percentage</th>\n",
       "    </tr>\n",
       "  </thead>\n",
       "  <tbody>\n",
       "    <tr>\n",
       "      <th>0</th>\n",
       "      <td>-99</td>\n",
       "      <td>1</td>\n",
       "      <td>100.0</td>\n",
       "    </tr>\n",
       "  </tbody>\n",
       "</table>\n",
       "</div>"
      ],
      "text/plain": [
       "   READMPODAYS1  counts  percentage\n",
       "0           -99       1       100.0"
      ]
     },
     "execution_count": 153,
     "metadata": {},
     "output_type": "execute_result"
    }
   ],
   "source": [
    "df_with57425.groupby('READMPODAYS1').size().reset_index(name='counts').assign(percentage=lambda x: (x['counts'] / df_with57425['READMPODAYS1'].count()) * 100).round(1)"
   ]
  },
  {
   "cell_type": "code",
   "execution_count": null,
   "id": "f7315cda-a5a5-4553-8587-cdc56bf86616",
   "metadata": {},
   "outputs": [],
   "source": []
  },
  {
   "cell_type": "code",
   "execution_count": null,
   "id": "0577f4a8-104b-4873-80e8-83d5a72194a9",
   "metadata": {},
   "outputs": [],
   "source": []
  },
  {
   "cell_type": "code",
   "execution_count": null,
   "id": "562fd467-7ab8-4595-9b86-7f67de604f4b",
   "metadata": {},
   "outputs": [],
   "source": []
  },
  {
   "cell_type": "code",
   "execution_count": null,
   "id": "49bdc22b-62db-4000-8740-237c651d9a89",
   "metadata": {},
   "outputs": [],
   "source": []
  },
  {
   "cell_type": "code",
   "execution_count": null,
   "id": "0fde36ad-3b6f-4b39-b877-55962876f371",
   "metadata": {},
   "outputs": [],
   "source": []
  },
  {
   "cell_type": "code",
   "execution_count": 155,
   "id": "f820ea6b-f36a-4269-9172-0497ad29bd68",
   "metadata": {},
   "outputs": [
    {
     "data": {
      "text/html": [
       "<div>\n",
       "<style scoped>\n",
       "    .dataframe tbody tr th:only-of-type {\n",
       "        vertical-align: middle;\n",
       "    }\n",
       "\n",
       "    .dataframe tbody tr th {\n",
       "        vertical-align: top;\n",
       "    }\n",
       "\n",
       "    .dataframe thead th {\n",
       "        text-align: right;\n",
       "    }\n",
       "</style>\n",
       "<table border=\"1\" class=\"dataframe\">\n",
       "  <thead>\n",
       "    <tr style=\"text-align: right;\">\n",
       "      <th></th>\n",
       "      <th>READMSUSPREASON1</th>\n",
       "      <th>counts</th>\n",
       "      <th>percentage</th>\n",
       "    </tr>\n",
       "  </thead>\n",
       "  <tbody>\n",
       "    <tr>\n",
       "      <th>0</th>\n",
       "      <td>C. diff</td>\n",
       "      <td>1</td>\n",
       "      <td>7.14</td>\n",
       "    </tr>\n",
       "    <tr>\n",
       "      <th>1</th>\n",
       "      <td>Other (list ICD 10 code)</td>\n",
       "      <td>6</td>\n",
       "      <td>42.86</td>\n",
       "    </tr>\n",
       "    <tr>\n",
       "      <th>2</th>\n",
       "      <td>Sepsis</td>\n",
       "      <td>1</td>\n",
       "      <td>7.14</td>\n",
       "    </tr>\n",
       "    <tr>\n",
       "      <th>3</th>\n",
       "      <td>Superficial Incisional SSI</td>\n",
       "      <td>1</td>\n",
       "      <td>7.14</td>\n",
       "    </tr>\n",
       "    <tr>\n",
       "      <th>4</th>\n",
       "      <td>Urinary Tract Infection</td>\n",
       "      <td>1</td>\n",
       "      <td>7.14</td>\n",
       "    </tr>\n",
       "    <tr>\n",
       "      <th>5</th>\n",
       "      <td>Wound Disruption</td>\n",
       "      <td>4</td>\n",
       "      <td>28.57</td>\n",
       "    </tr>\n",
       "  </tbody>\n",
       "</table>\n",
       "</div>"
      ],
      "text/plain": [
       "             READMSUSPREASON1  counts  percentage\n",
       "0                     C. diff       1        7.14\n",
       "1    Other (list ICD 10 code)       6       42.86\n",
       "2                      Sepsis       1        7.14\n",
       "3  Superficial Incisional SSI       1        7.14\n",
       "4     Urinary Tract Infection       1        7.14\n",
       "5            Wound Disruption       4       28.57"
      ]
     },
     "execution_count": 155,
     "metadata": {},
     "output_type": "execute_result"
    }
   ],
   "source": [
    "df.groupby('READMSUSPREASON1').size().reset_index(name='counts').assign(percentage=lambda x: (x['counts'] / df['READMSUSPREASON1'].count()) * 100).round(2)"
   ]
  },
  {
   "cell_type": "code",
   "execution_count": 72,
   "id": "cb91a032-4cdc-4698-ac53-3c0cdb4e455d",
   "metadata": {},
   "outputs": [
    {
     "data": {
      "text/html": [
       "<div>\n",
       "<style scoped>\n",
       "    .dataframe tbody tr th:only-of-type {\n",
       "        vertical-align: middle;\n",
       "    }\n",
       "\n",
       "    .dataframe tbody tr th {\n",
       "        vertical-align: top;\n",
       "    }\n",
       "\n",
       "    .dataframe thead th {\n",
       "        text-align: right;\n",
       "    }\n",
       "</style>\n",
       "<table border=\"1\" class=\"dataframe\">\n",
       "  <thead>\n",
       "    <tr style=\"text-align: right;\">\n",
       "      <th></th>\n",
       "      <th>READMRELICD91</th>\n",
       "      <th>counts</th>\n",
       "    </tr>\n",
       "  </thead>\n",
       "  <tbody>\n",
       "  </tbody>\n",
       "</table>\n",
       "</div>"
      ],
      "text/plain": [
       "Empty DataFrame\n",
       "Columns: [READMRELICD91, counts]\n",
       "Index: []"
      ]
     },
     "execution_count": 72,
     "metadata": {},
     "output_type": "execute_result"
    }
   ],
   "source": [
    "df.groupby('READMRELICD91').size().reset_index(name='counts')"
   ]
  },
  {
   "cell_type": "code",
   "execution_count": 74,
   "id": "a586ec23-761c-4156-a48c-8186422eb769",
   "metadata": {},
   "outputs": [
    {
     "data": {
      "text/html": [
       "<div>\n",
       "<style scoped>\n",
       "    .dataframe tbody tr th:only-of-type {\n",
       "        vertical-align: middle;\n",
       "    }\n",
       "\n",
       "    .dataframe tbody tr th {\n",
       "        vertical-align: top;\n",
       "    }\n",
       "\n",
       "    .dataframe thead th {\n",
       "        text-align: right;\n",
       "    }\n",
       "</style>\n",
       "<table border=\"1\" class=\"dataframe\">\n",
       "  <thead>\n",
       "    <tr style=\"text-align: right;\">\n",
       "      <th></th>\n",
       "      <th>READMRELICD101</th>\n",
       "      <th>counts</th>\n",
       "    </tr>\n",
       "  </thead>\n",
       "  <tbody>\n",
       "    <tr>\n",
       "      <th>0</th>\n",
       "      <td>G89.18</td>\n",
       "      <td>1</td>\n",
       "    </tr>\n",
       "    <tr>\n",
       "      <th>1</th>\n",
       "      <td>K12.0</td>\n",
       "      <td>1</td>\n",
       "    </tr>\n",
       "    <tr>\n",
       "      <th>2</th>\n",
       "      <td>L76.32</td>\n",
       "      <td>1</td>\n",
       "    </tr>\n",
       "    <tr>\n",
       "      <th>3</th>\n",
       "      <td>N82.4</td>\n",
       "      <td>1</td>\n",
       "    </tr>\n",
       "    <tr>\n",
       "      <th>4</th>\n",
       "      <td>N99.820</td>\n",
       "      <td>1</td>\n",
       "    </tr>\n",
       "    <tr>\n",
       "      <th>5</th>\n",
       "      <td>T81.32XA</td>\n",
       "      <td>1</td>\n",
       "    </tr>\n",
       "  </tbody>\n",
       "</table>\n",
       "</div>"
      ],
      "text/plain": [
       "  READMRELICD101  counts\n",
       "0         G89.18       1\n",
       "1          K12.0       1\n",
       "2         L76.32       1\n",
       "3          N82.4       1\n",
       "4        N99.820       1\n",
       "5       T81.32XA       1"
      ]
     },
     "execution_count": 74,
     "metadata": {},
     "output_type": "execute_result"
    }
   ],
   "source": [
    "df.groupby('READMRELICD101').size().reset_index(name='counts')"
   ]
  },
  {
   "cell_type": "code",
   "execution_count": 157,
   "id": "ec0e44fc-a727-4ee2-9cff-faf5e1d77704",
   "metadata": {},
   "outputs": [
    {
     "data": {
      "text/html": [
       "<div>\n",
       "<style scoped>\n",
       "    .dataframe tbody tr th:only-of-type {\n",
       "        vertical-align: middle;\n",
       "    }\n",
       "\n",
       "    .dataframe tbody tr th {\n",
       "        vertical-align: top;\n",
       "    }\n",
       "\n",
       "    .dataframe thead th {\n",
       "        text-align: right;\n",
       "    }\n",
       "</style>\n",
       "<table border=\"1\" class=\"dataframe\">\n",
       "  <thead>\n",
       "    <tr style=\"text-align: right;\">\n",
       "      <th></th>\n",
       "      <th>READMUNRELSUSP1</th>\n",
       "      <th>counts</th>\n",
       "    </tr>\n",
       "  </thead>\n",
       "  <tbody>\n",
       "  </tbody>\n",
       "</table>\n",
       "</div>"
      ],
      "text/plain": [
       "Empty DataFrame\n",
       "Columns: [READMUNRELSUSP1, counts]\n",
       "Index: []"
      ]
     },
     "execution_count": 157,
     "metadata": {},
     "output_type": "execute_result"
    }
   ],
   "source": [
    "df.groupby('READMUNRELSUSP1').size().reset_index(name='counts')"
   ]
  },
  {
   "cell_type": "code",
   "execution_count": 76,
   "id": "48b6ef93-711b-4c7d-8203-6d2cceede44c",
   "metadata": {},
   "outputs": [
    {
     "data": {
      "text/html": [
       "<div>\n",
       "<style scoped>\n",
       "    .dataframe tbody tr th:only-of-type {\n",
       "        vertical-align: middle;\n",
       "    }\n",
       "\n",
       "    .dataframe tbody tr th {\n",
       "        vertical-align: top;\n",
       "    }\n",
       "\n",
       "    .dataframe thead th {\n",
       "        text-align: right;\n",
       "    }\n",
       "</style>\n",
       "<table border=\"1\" class=\"dataframe\">\n",
       "  <thead>\n",
       "    <tr style=\"text-align: right;\">\n",
       "      <th></th>\n",
       "      <th>READMUNRELICD91</th>\n",
       "      <th>counts</th>\n",
       "    </tr>\n",
       "  </thead>\n",
       "  <tbody>\n",
       "  </tbody>\n",
       "</table>\n",
       "</div>"
      ],
      "text/plain": [
       "Empty DataFrame\n",
       "Columns: [READMUNRELICD91, counts]\n",
       "Index: []"
      ]
     },
     "execution_count": 76,
     "metadata": {},
     "output_type": "execute_result"
    }
   ],
   "source": [
    "df.groupby('READMUNRELICD91').size().reset_index(name='counts')"
   ]
  },
  {
   "cell_type": "code",
   "execution_count": 77,
   "id": "6a600303-c326-4361-923d-5859d5d14495",
   "metadata": {},
   "outputs": [
    {
     "data": {
      "text/html": [
       "<div>\n",
       "<style scoped>\n",
       "    .dataframe tbody tr th:only-of-type {\n",
       "        vertical-align: middle;\n",
       "    }\n",
       "\n",
       "    .dataframe tbody tr th {\n",
       "        vertical-align: top;\n",
       "    }\n",
       "\n",
       "    .dataframe thead th {\n",
       "        text-align: right;\n",
       "    }\n",
       "</style>\n",
       "<table border=\"1\" class=\"dataframe\">\n",
       "  <thead>\n",
       "    <tr style=\"text-align: right;\">\n",
       "      <th></th>\n",
       "      <th>READMUNRELICD101</th>\n",
       "      <th>counts</th>\n",
       "    </tr>\n",
       "  </thead>\n",
       "  <tbody>\n",
       "  </tbody>\n",
       "</table>\n",
       "</div>"
      ],
      "text/plain": [
       "Empty DataFrame\n",
       "Columns: [READMUNRELICD101, counts]\n",
       "Index: []"
      ]
     },
     "execution_count": 77,
     "metadata": {},
     "output_type": "execute_result"
    }
   ],
   "source": [
    "df.groupby('READMUNRELICD101').size().reset_index(name='counts')"
   ]
  },
  {
   "cell_type": "markdown",
   "id": "2c86943e-a373-423d-b99f-4d13ac06c08f",
   "metadata": {
    "jp-MarkdownHeadingCollapsed": true
   },
   "source": [
    "## Unplanned surgey"
   ]
  },
  {
   "cell_type": "code",
   "execution_count": 125,
   "id": "4affdd4f-fa66-4374-9636-85597ecbc724",
   "metadata": {},
   "outputs": [
    {
     "data": {
      "text/html": [
       "<div>\n",
       "<style scoped>\n",
       "    .dataframe tbody tr th:only-of-type {\n",
       "        vertical-align: middle;\n",
       "    }\n",
       "\n",
       "    .dataframe tbody tr th {\n",
       "        vertical-align: top;\n",
       "    }\n",
       "\n",
       "    .dataframe thead th {\n",
       "        text-align: right;\n",
       "    }\n",
       "</style>\n",
       "<table border=\"1\" class=\"dataframe\">\n",
       "  <thead>\n",
       "    <tr style=\"text-align: right;\">\n",
       "      <th></th>\n",
       "      <th>REOPERATION1</th>\n",
       "      <th>counts</th>\n",
       "      <th>percentage</th>\n",
       "    </tr>\n",
       "  </thead>\n",
       "  <tbody>\n",
       "    <tr>\n",
       "      <th>0</th>\n",
       "      <td>No</td>\n",
       "      <td>390</td>\n",
       "      <td>94.43</td>\n",
       "    </tr>\n",
       "    <tr>\n",
       "      <th>1</th>\n",
       "      <td>Yes</td>\n",
       "      <td>23</td>\n",
       "      <td>5.57</td>\n",
       "    </tr>\n",
       "  </tbody>\n",
       "</table>\n",
       "</div>"
      ],
      "text/plain": [
       "  REOPERATION1  counts  percentage\n",
       "0           No     390       94.43\n",
       "1          Yes      23        5.57"
      ]
     },
     "execution_count": 125,
     "metadata": {},
     "output_type": "execute_result"
    }
   ],
   "source": [
    "df.groupby('REOPERATION1').size().reset_index(name='counts').assign(percentage=lambda x: (x['counts'] / df['REOPERATION1'].count()) * 100).round(2)"
   ]
  },
  {
   "cell_type": "code",
   "execution_count": 158,
   "id": "60ad1b4a-3354-4981-b417-9b7b69d6101d",
   "metadata": {},
   "outputs": [
    {
     "data": {
      "text/html": [
       "<div>\n",
       "<style scoped>\n",
       "    .dataframe tbody tr th:only-of-type {\n",
       "        vertical-align: middle;\n",
       "    }\n",
       "\n",
       "    .dataframe tbody tr th {\n",
       "        vertical-align: top;\n",
       "    }\n",
       "\n",
       "    .dataframe thead th {\n",
       "        text-align: right;\n",
       "    }\n",
       "</style>\n",
       "<table border=\"1\" class=\"dataframe\">\n",
       "  <thead>\n",
       "    <tr style=\"text-align: right;\">\n",
       "      <th></th>\n",
       "      <th>REOPERATION1</th>\n",
       "      <th>counts</th>\n",
       "      <th>percentage</th>\n",
       "    </tr>\n",
       "  </thead>\n",
       "  <tbody>\n",
       "    <tr>\n",
       "      <th>0</th>\n",
       "      <td>No</td>\n",
       "      <td>1</td>\n",
       "      <td>100.0</td>\n",
       "    </tr>\n",
       "  </tbody>\n",
       "</table>\n",
       "</div>"
      ],
      "text/plain": [
       "  REOPERATION1  counts  percentage\n",
       "0           No       1       100.0"
      ]
     },
     "execution_count": 158,
     "metadata": {},
     "output_type": "execute_result"
    }
   ],
   "source": [
    "df_with57425.groupby('REOPERATION1').size().reset_index(name='counts').assign(percentage=lambda x: (x['counts'] / df_with57425['REOPERATION1'].count()) * 100).round(2)"
   ]
  },
  {
   "cell_type": "code",
   "execution_count": 159,
   "id": "815305a1-7aa4-4608-b3ba-270bacf91243",
   "metadata": {},
   "outputs": [
    {
     "data": {
      "text/html": [
       "<div>\n",
       "<style scoped>\n",
       "    .dataframe tbody tr th:only-of-type {\n",
       "        vertical-align: middle;\n",
       "    }\n",
       "\n",
       "    .dataframe tbody tr th {\n",
       "        vertical-align: top;\n",
       "    }\n",
       "\n",
       "    .dataframe thead th {\n",
       "        text-align: right;\n",
       "    }\n",
       "</style>\n",
       "<table border=\"1\" class=\"dataframe\">\n",
       "  <thead>\n",
       "    <tr style=\"text-align: right;\">\n",
       "      <th></th>\n",
       "      <th>REOPERATION1</th>\n",
       "      <th>counts</th>\n",
       "      <th>percentage</th>\n",
       "    </tr>\n",
       "  </thead>\n",
       "  <tbody>\n",
       "    <tr>\n",
       "      <th>0</th>\n",
       "      <td>No</td>\n",
       "      <td>389</td>\n",
       "      <td>94.42</td>\n",
       "    </tr>\n",
       "    <tr>\n",
       "      <th>1</th>\n",
       "      <td>Yes</td>\n",
       "      <td>23</td>\n",
       "      <td>5.58</td>\n",
       "    </tr>\n",
       "  </tbody>\n",
       "</table>\n",
       "</div>"
      ],
      "text/plain": [
       "  REOPERATION1  counts  percentage\n",
       "0           No     389       94.42\n",
       "1          Yes      23        5.58"
      ]
     },
     "execution_count": 159,
     "metadata": {},
     "output_type": "execute_result"
    }
   ],
   "source": [
    "df_no57425.groupby('REOPERATION1').size().reset_index(name='counts').assign(percentage=lambda x: (x['counts'] / df_no57425['REOPERATION1'].count()) * 100).round(2)"
   ]
  },
  {
   "cell_type": "code",
   "execution_count": 162,
   "id": "6866da62-4ce2-4539-bad6-e44ca21f6495",
   "metadata": {},
   "outputs": [
    {
     "data": {
      "text/html": [
       "<div>\n",
       "<style scoped>\n",
       "    .dataframe tbody tr th:only-of-type {\n",
       "        vertical-align: middle;\n",
       "    }\n",
       "\n",
       "    .dataframe tbody tr th {\n",
       "        vertical-align: top;\n",
       "    }\n",
       "\n",
       "    .dataframe thead th {\n",
       "        text-align: right;\n",
       "    }\n",
       "</style>\n",
       "<table border=\"1\" class=\"dataframe\">\n",
       "  <thead>\n",
       "    <tr style=\"text-align: right;\">\n",
       "      <th></th>\n",
       "      <th>REOPORCPT1</th>\n",
       "      <th>counts</th>\n",
       "    </tr>\n",
       "  </thead>\n",
       "  <tbody>\n",
       "    <tr>\n",
       "      <th>0</th>\n",
       "      <td>11042.0</td>\n",
       "      <td>1</td>\n",
       "    </tr>\n",
       "    <tr>\n",
       "      <th>1</th>\n",
       "      <td>12021.0</td>\n",
       "      <td>1</td>\n",
       "    </tr>\n",
       "    <tr>\n",
       "      <th>2</th>\n",
       "      <td>13160.0</td>\n",
       "      <td>1</td>\n",
       "    </tr>\n",
       "    <tr>\n",
       "      <th>3</th>\n",
       "      <td>14040.0</td>\n",
       "      <td>1</td>\n",
       "    </tr>\n",
       "    <tr>\n",
       "      <th>4</th>\n",
       "      <td>15120.0</td>\n",
       "      <td>1</td>\n",
       "    </tr>\n",
       "    <tr>\n",
       "      <th>5</th>\n",
       "      <td>21501.0</td>\n",
       "      <td>2</td>\n",
       "    </tr>\n",
       "    <tr>\n",
       "      <th>6</th>\n",
       "      <td>44310.0</td>\n",
       "      <td>1</td>\n",
       "    </tr>\n",
       "    <tr>\n",
       "      <th>7</th>\n",
       "      <td>52005.0</td>\n",
       "      <td>1</td>\n",
       "    </tr>\n",
       "    <tr>\n",
       "      <th>8</th>\n",
       "      <td>57023.0</td>\n",
       "      <td>3</td>\n",
       "    </tr>\n",
       "    <tr>\n",
       "      <th>9</th>\n",
       "      <td>57160.0</td>\n",
       "      <td>1</td>\n",
       "    </tr>\n",
       "    <tr>\n",
       "      <th>10</th>\n",
       "      <td>57300.0</td>\n",
       "      <td>1</td>\n",
       "    </tr>\n",
       "    <tr>\n",
       "      <th>11</th>\n",
       "      <td>57335.0</td>\n",
       "      <td>3</td>\n",
       "    </tr>\n",
       "    <tr>\n",
       "      <th>12</th>\n",
       "      <td>57410.0</td>\n",
       "      <td>5</td>\n",
       "    </tr>\n",
       "  </tbody>\n",
       "</table>\n",
       "</div>"
      ],
      "text/plain": [
       "    REOPORCPT1  counts\n",
       "0      11042.0       1\n",
       "1      12021.0       1\n",
       "2      13160.0       1\n",
       "3      14040.0       1\n",
       "4      15120.0       1\n",
       "5      21501.0       2\n",
       "6      44310.0       1\n",
       "7      52005.0       1\n",
       "8      57023.0       3\n",
       "9      57160.0       1\n",
       "10     57300.0       1\n",
       "11     57335.0       3\n",
       "12     57410.0       5"
      ]
     },
     "execution_count": 162,
     "metadata": {},
     "output_type": "execute_result"
    }
   ],
   "source": [
    "df.groupby('REOPORCPT1').size().reset_index(name='counts')"
   ]
  },
  {
   "cell_type": "code",
   "execution_count": 119,
   "id": "8be10ffc-c53d-4844-a61e-af954878f804",
   "metadata": {},
   "outputs": [
    {
     "data": {
      "text/html": [
       "<div>\n",
       "<style scoped>\n",
       "    .dataframe tbody tr th:only-of-type {\n",
       "        vertical-align: middle;\n",
       "    }\n",
       "\n",
       "    .dataframe tbody tr th {\n",
       "        vertical-align: top;\n",
       "    }\n",
       "\n",
       "    .dataframe thead th {\n",
       "        text-align: right;\n",
       "    }\n",
       "</style>\n",
       "<table border=\"1\" class=\"dataframe\">\n",
       "  <thead>\n",
       "    <tr style=\"text-align: right;\">\n",
       "      <th></th>\n",
       "      <th>RETORPODAYS</th>\n",
       "      <th>counts</th>\n",
       "    </tr>\n",
       "  </thead>\n",
       "  <tbody>\n",
       "    <tr>\n",
       "      <th>0</th>\n",
       "      <td>-99</td>\n",
       "      <td>390</td>\n",
       "    </tr>\n",
       "    <tr>\n",
       "      <th>1</th>\n",
       "      <td>1</td>\n",
       "      <td>2</td>\n",
       "    </tr>\n",
       "    <tr>\n",
       "      <th>2</th>\n",
       "      <td>2</td>\n",
       "      <td>1</td>\n",
       "    </tr>\n",
       "    <tr>\n",
       "      <th>3</th>\n",
       "      <td>3</td>\n",
       "      <td>1</td>\n",
       "    </tr>\n",
       "    <tr>\n",
       "      <th>4</th>\n",
       "      <td>4</td>\n",
       "      <td>2</td>\n",
       "    </tr>\n",
       "    <tr>\n",
       "      <th>5</th>\n",
       "      <td>5</td>\n",
       "      <td>3</td>\n",
       "    </tr>\n",
       "    <tr>\n",
       "      <th>6</th>\n",
       "      <td>6</td>\n",
       "      <td>1</td>\n",
       "    </tr>\n",
       "    <tr>\n",
       "      <th>7</th>\n",
       "      <td>11</td>\n",
       "      <td>1</td>\n",
       "    </tr>\n",
       "    <tr>\n",
       "      <th>8</th>\n",
       "      <td>14</td>\n",
       "      <td>2</td>\n",
       "    </tr>\n",
       "    <tr>\n",
       "      <th>9</th>\n",
       "      <td>15</td>\n",
       "      <td>3</td>\n",
       "    </tr>\n",
       "    <tr>\n",
       "      <th>10</th>\n",
       "      <td>16</td>\n",
       "      <td>1</td>\n",
       "    </tr>\n",
       "    <tr>\n",
       "      <th>11</th>\n",
       "      <td>17</td>\n",
       "      <td>3</td>\n",
       "    </tr>\n",
       "    <tr>\n",
       "      <th>12</th>\n",
       "      <td>21</td>\n",
       "      <td>1</td>\n",
       "    </tr>\n",
       "    <tr>\n",
       "      <th>13</th>\n",
       "      <td>23</td>\n",
       "      <td>1</td>\n",
       "    </tr>\n",
       "    <tr>\n",
       "      <th>14</th>\n",
       "      <td>28</td>\n",
       "      <td>1</td>\n",
       "    </tr>\n",
       "  </tbody>\n",
       "</table>\n",
       "</div>"
      ],
      "text/plain": [
       "    RETORPODAYS  counts\n",
       "0           -99     390\n",
       "1             1       2\n",
       "2             2       1\n",
       "3             3       1\n",
       "4             4       2\n",
       "5             5       3\n",
       "6             6       1\n",
       "7            11       1\n",
       "8            14       2\n",
       "9            15       3\n",
       "10           16       1\n",
       "11           17       3\n",
       "12           21       1\n",
       "13           23       1\n",
       "14           28       1"
      ]
     },
     "execution_count": 119,
     "metadata": {},
     "output_type": "execute_result"
    }
   ],
   "source": [
    "df.groupby('RETORPODAYS').size().reset_index(name='counts')"
   ]
  },
  {
   "cell_type": "code",
   "execution_count": 163,
   "id": "971f8c68-fa8c-46fa-aadf-6582d149f16f",
   "metadata": {},
   "outputs": [
    {
     "data": {
      "text/html": [
       "<div>\n",
       "<style scoped>\n",
       "    .dataframe tbody tr th:only-of-type {\n",
       "        vertical-align: middle;\n",
       "    }\n",
       "\n",
       "    .dataframe tbody tr th {\n",
       "        vertical-align: top;\n",
       "    }\n",
       "\n",
       "    .dataframe thead th {\n",
       "        text-align: right;\n",
       "    }\n",
       "</style>\n",
       "<table border=\"1\" class=\"dataframe\">\n",
       "  <thead>\n",
       "    <tr style=\"text-align: right;\">\n",
       "      <th></th>\n",
       "      <th>RETORPODAYS</th>\n",
       "      <th>counts</th>\n",
       "    </tr>\n",
       "  </thead>\n",
       "  <tbody>\n",
       "    <tr>\n",
       "      <th>0</th>\n",
       "      <td>-99</td>\n",
       "      <td>1</td>\n",
       "    </tr>\n",
       "  </tbody>\n",
       "</table>\n",
       "</div>"
      ],
      "text/plain": [
       "   RETORPODAYS  counts\n",
       "0          -99       1"
      ]
     },
     "execution_count": 163,
     "metadata": {},
     "output_type": "execute_result"
    }
   ],
   "source": [
    "df_with57425.groupby('RETORPODAYS').size().reset_index(name='counts')"
   ]
  },
  {
   "cell_type": "code",
   "execution_count": 212,
   "id": "3b6ea3e2-8b1e-4f3b-83dd-530260dbb35b",
   "metadata": {},
   "outputs": [
    {
     "data": {
      "text/html": [
       "<div>\n",
       "<style scoped>\n",
       "    .dataframe tbody tr th:only-of-type {\n",
       "        vertical-align: middle;\n",
       "    }\n",
       "\n",
       "    .dataframe tbody tr th {\n",
       "        vertical-align: top;\n",
       "    }\n",
       "\n",
       "    .dataframe thead th {\n",
       "        text-align: right;\n",
       "    }\n",
       "</style>\n",
       "<table border=\"1\" class=\"dataframe\">\n",
       "  <thead>\n",
       "    <tr style=\"text-align: right;\">\n",
       "      <th></th>\n",
       "      <th>RETORPODAYS</th>\n",
       "      <th>counts</th>\n",
       "      <th>percentage</th>\n",
       "    </tr>\n",
       "  </thead>\n",
       "  <tbody>\n",
       "    <tr>\n",
       "      <th>0</th>\n",
       "      <td>1.0</td>\n",
       "      <td>2</td>\n",
       "      <td>8.7</td>\n",
       "    </tr>\n",
       "    <tr>\n",
       "      <th>1</th>\n",
       "      <td>2.0</td>\n",
       "      <td>1</td>\n",
       "      <td>4.3</td>\n",
       "    </tr>\n",
       "    <tr>\n",
       "      <th>2</th>\n",
       "      <td>3.0</td>\n",
       "      <td>1</td>\n",
       "      <td>4.3</td>\n",
       "    </tr>\n",
       "    <tr>\n",
       "      <th>3</th>\n",
       "      <td>4.0</td>\n",
       "      <td>2</td>\n",
       "      <td>8.7</td>\n",
       "    </tr>\n",
       "    <tr>\n",
       "      <th>4</th>\n",
       "      <td>5.0</td>\n",
       "      <td>3</td>\n",
       "      <td>13.0</td>\n",
       "    </tr>\n",
       "    <tr>\n",
       "      <th>5</th>\n",
       "      <td>6.0</td>\n",
       "      <td>1</td>\n",
       "      <td>4.3</td>\n",
       "    </tr>\n",
       "    <tr>\n",
       "      <th>6</th>\n",
       "      <td>11.0</td>\n",
       "      <td>1</td>\n",
       "      <td>4.3</td>\n",
       "    </tr>\n",
       "    <tr>\n",
       "      <th>7</th>\n",
       "      <td>14.0</td>\n",
       "      <td>2</td>\n",
       "      <td>8.7</td>\n",
       "    </tr>\n",
       "    <tr>\n",
       "      <th>8</th>\n",
       "      <td>15.0</td>\n",
       "      <td>3</td>\n",
       "      <td>13.0</td>\n",
       "    </tr>\n",
       "    <tr>\n",
       "      <th>9</th>\n",
       "      <td>16.0</td>\n",
       "      <td>1</td>\n",
       "      <td>4.3</td>\n",
       "    </tr>\n",
       "    <tr>\n",
       "      <th>10</th>\n",
       "      <td>17.0</td>\n",
       "      <td>3</td>\n",
       "      <td>13.0</td>\n",
       "    </tr>\n",
       "    <tr>\n",
       "      <th>11</th>\n",
       "      <td>21.0</td>\n",
       "      <td>1</td>\n",
       "      <td>4.3</td>\n",
       "    </tr>\n",
       "    <tr>\n",
       "      <th>12</th>\n",
       "      <td>23.0</td>\n",
       "      <td>1</td>\n",
       "      <td>4.3</td>\n",
       "    </tr>\n",
       "    <tr>\n",
       "      <th>13</th>\n",
       "      <td>28.0</td>\n",
       "      <td>1</td>\n",
       "      <td>4.3</td>\n",
       "    </tr>\n",
       "  </tbody>\n",
       "</table>\n",
       "</div>"
      ],
      "text/plain": [
       "    RETORPODAYS  counts  percentage\n",
       "0           1.0       2         8.7\n",
       "1           2.0       1         4.3\n",
       "2           3.0       1         4.3\n",
       "3           4.0       2         8.7\n",
       "4           5.0       3        13.0\n",
       "5           6.0       1         4.3\n",
       "6          11.0       1         4.3\n",
       "7          14.0       2         8.7\n",
       "8          15.0       3        13.0\n",
       "9          16.0       1         4.3\n",
       "10         17.0       3        13.0\n",
       "11         21.0       1         4.3\n",
       "12         23.0       1         4.3\n",
       "13         28.0       1         4.3"
      ]
     },
     "execution_count": 212,
     "metadata": {},
     "output_type": "execute_result"
    }
   ],
   "source": [
    "df.groupby('RETORPODAYS').size().reset_index(name='counts').assign(percentage=lambda x: (x['counts'] / df['RETORPODAYS'].count()) * 100).round(1)"
   ]
  },
  {
   "cell_type": "code",
   "execution_count": 211,
   "id": "eebb9c24-0798-4e48-a433-1dcc2d899ec8",
   "metadata": {},
   "outputs": [
    {
     "data": {
      "text/html": [
       "<div>\n",
       "<style scoped>\n",
       "    .dataframe tbody tr th:only-of-type {\n",
       "        vertical-align: middle;\n",
       "    }\n",
       "\n",
       "    .dataframe tbody tr th {\n",
       "        vertical-align: top;\n",
       "    }\n",
       "\n",
       "    .dataframe thead th {\n",
       "        text-align: right;\n",
       "    }\n",
       "</style>\n",
       "<table border=\"1\" class=\"dataframe\">\n",
       "  <thead>\n",
       "    <tr style=\"text-align: right;\">\n",
       "      <th></th>\n",
       "      <th>RETORPODAYS</th>\n",
       "      <th>counts</th>\n",
       "    </tr>\n",
       "  </thead>\n",
       "  <tbody>\n",
       "    <tr>\n",
       "      <th>0</th>\n",
       "      <td>1.0</td>\n",
       "      <td>2</td>\n",
       "    </tr>\n",
       "    <tr>\n",
       "      <th>1</th>\n",
       "      <td>2.0</td>\n",
       "      <td>1</td>\n",
       "    </tr>\n",
       "    <tr>\n",
       "      <th>2</th>\n",
       "      <td>3.0</td>\n",
       "      <td>1</td>\n",
       "    </tr>\n",
       "    <tr>\n",
       "      <th>3</th>\n",
       "      <td>4.0</td>\n",
       "      <td>2</td>\n",
       "    </tr>\n",
       "    <tr>\n",
       "      <th>4</th>\n",
       "      <td>5.0</td>\n",
       "      <td>3</td>\n",
       "    </tr>\n",
       "    <tr>\n",
       "      <th>5</th>\n",
       "      <td>6.0</td>\n",
       "      <td>1</td>\n",
       "    </tr>\n",
       "    <tr>\n",
       "      <th>6</th>\n",
       "      <td>11.0</td>\n",
       "      <td>1</td>\n",
       "    </tr>\n",
       "    <tr>\n",
       "      <th>7</th>\n",
       "      <td>14.0</td>\n",
       "      <td>2</td>\n",
       "    </tr>\n",
       "    <tr>\n",
       "      <th>8</th>\n",
       "      <td>15.0</td>\n",
       "      <td>3</td>\n",
       "    </tr>\n",
       "    <tr>\n",
       "      <th>9</th>\n",
       "      <td>16.0</td>\n",
       "      <td>1</td>\n",
       "    </tr>\n",
       "    <tr>\n",
       "      <th>10</th>\n",
       "      <td>17.0</td>\n",
       "      <td>3</td>\n",
       "    </tr>\n",
       "    <tr>\n",
       "      <th>11</th>\n",
       "      <td>21.0</td>\n",
       "      <td>1</td>\n",
       "    </tr>\n",
       "    <tr>\n",
       "      <th>12</th>\n",
       "      <td>23.0</td>\n",
       "      <td>1</td>\n",
       "    </tr>\n",
       "    <tr>\n",
       "      <th>13</th>\n",
       "      <td>28.0</td>\n",
       "      <td>1</td>\n",
       "    </tr>\n",
       "  </tbody>\n",
       "</table>\n",
       "</div>"
      ],
      "text/plain": [
       "    RETORPODAYS  counts\n",
       "0           1.0       2\n",
       "1           2.0       1\n",
       "2           3.0       1\n",
       "3           4.0       2\n",
       "4           5.0       3\n",
       "5           6.0       1\n",
       "6          11.0       1\n",
       "7          14.0       2\n",
       "8          15.0       3\n",
       "9          16.0       1\n",
       "10         17.0       3\n",
       "11         21.0       1\n",
       "12         23.0       1\n",
       "13         28.0       1"
      ]
     },
     "execution_count": 211,
     "metadata": {},
     "output_type": "execute_result"
    }
   ],
   "source": [
    "df.groupby('RETORPODAYS').size().reset_index(name='counts')"
   ]
  },
  {
   "cell_type": "code",
   "execution_count": 213,
   "id": "96ccb8d2-1b86-438c-b1d5-37af8c80886c",
   "metadata": {},
   "outputs": [
    {
     "data": {
      "text/plain": [
       "np.float64(11.26086956521739)"
      ]
     },
     "execution_count": 213,
     "metadata": {},
     "output_type": "execute_result"
    }
   ],
   "source": [
    "df['RETORPODAYS'].mean()"
   ]
  },
  {
   "cell_type": "code",
   "execution_count": 214,
   "id": "59749c82-e692-4c59-a26a-4d293bb11daa",
   "metadata": {},
   "outputs": [
    {
     "data": {
      "text/plain": [
       "np.float64(7.706062497117848)"
      ]
     },
     "execution_count": 214,
     "metadata": {},
     "output_type": "execute_result"
    }
   ],
   "source": [
    "df['RETORPODAYS'].std()"
   ]
  },
  {
   "cell_type": "code",
   "execution_count": 215,
   "id": "788938f6-909f-4d8c-8332-621f25047dd8",
   "metadata": {},
   "outputs": [
    {
     "data": {
      "text/plain": [
       "np.float64(14.0)"
      ]
     },
     "execution_count": 215,
     "metadata": {},
     "output_type": "execute_result"
    }
   ],
   "source": [
    "df['RETORPODAYS'].median()"
   ]
  },
  {
   "cell_type": "code",
   "execution_count": 166,
   "id": "4190767c-d83f-4b45-9079-bf9cc11aa572",
   "metadata": {},
   "outputs": [
    {
     "data": {
      "text/html": [
       "<div>\n",
       "<style scoped>\n",
       "    .dataframe tbody tr th:only-of-type {\n",
       "        vertical-align: middle;\n",
       "    }\n",
       "\n",
       "    .dataframe tbody tr th {\n",
       "        vertical-align: top;\n",
       "    }\n",
       "\n",
       "    .dataframe thead th {\n",
       "        text-align: right;\n",
       "    }\n",
       "</style>\n",
       "<table border=\"1\" class=\"dataframe\">\n",
       "  <thead>\n",
       "    <tr style=\"text-align: right;\">\n",
       "      <th></th>\n",
       "      <th>REOPOR1ICD101</th>\n",
       "      <th>counts</th>\n",
       "    </tr>\n",
       "  </thead>\n",
       "  <tbody>\n",
       "    <tr>\n",
       "      <th>0</th>\n",
       "      <td>F64.0</td>\n",
       "      <td>2</td>\n",
       "    </tr>\n",
       "    <tr>\n",
       "      <th>1</th>\n",
       "      <td>L76.3</td>\n",
       "      <td>1</td>\n",
       "    </tr>\n",
       "    <tr>\n",
       "      <th>2</th>\n",
       "      <td>L76.32</td>\n",
       "      <td>1</td>\n",
       "    </tr>\n",
       "    <tr>\n",
       "      <th>3</th>\n",
       "      <td>N13.8</td>\n",
       "      <td>1</td>\n",
       "    </tr>\n",
       "    <tr>\n",
       "      <th>4</th>\n",
       "      <td>N82.3</td>\n",
       "      <td>1</td>\n",
       "    </tr>\n",
       "    <tr>\n",
       "      <th>5</th>\n",
       "      <td>N82.4</td>\n",
       "      <td>1</td>\n",
       "    </tr>\n",
       "    <tr>\n",
       "      <th>6</th>\n",
       "      <td>N94.89</td>\n",
       "      <td>1</td>\n",
       "    </tr>\n",
       "    <tr>\n",
       "      <th>7</th>\n",
       "      <td>N99.820</td>\n",
       "      <td>1</td>\n",
       "    </tr>\n",
       "    <tr>\n",
       "      <th>8</th>\n",
       "      <td>N99.840</td>\n",
       "      <td>1</td>\n",
       "    </tr>\n",
       "    <tr>\n",
       "      <th>9</th>\n",
       "      <td>R58</td>\n",
       "      <td>1</td>\n",
       "    </tr>\n",
       "    <tr>\n",
       "      <th>10</th>\n",
       "      <td>S37.1</td>\n",
       "      <td>1</td>\n",
       "    </tr>\n",
       "    <tr>\n",
       "      <th>11</th>\n",
       "      <td>T81.3</td>\n",
       "      <td>1</td>\n",
       "    </tr>\n",
       "    <tr>\n",
       "      <th>12</th>\n",
       "      <td>T81.30XA</td>\n",
       "      <td>2</td>\n",
       "    </tr>\n",
       "    <tr>\n",
       "      <th>13</th>\n",
       "      <td>T81.31XA</td>\n",
       "      <td>2</td>\n",
       "    </tr>\n",
       "    <tr>\n",
       "      <th>14</th>\n",
       "      <td>T81.32XA</td>\n",
       "      <td>2</td>\n",
       "    </tr>\n",
       "    <tr>\n",
       "      <th>15</th>\n",
       "      <td>T81.89XA</td>\n",
       "      <td>1</td>\n",
       "    </tr>\n",
       "    <tr>\n",
       "      <th>16</th>\n",
       "      <td>T86.821</td>\n",
       "      <td>1</td>\n",
       "    </tr>\n",
       "    <tr>\n",
       "      <th>17</th>\n",
       "      <td>Z04.8</td>\n",
       "      <td>1</td>\n",
       "    </tr>\n",
       "  </tbody>\n",
       "</table>\n",
       "</div>"
      ],
      "text/plain": [
       "   REOPOR1ICD101  counts\n",
       "0          F64.0       2\n",
       "1          L76.3       1\n",
       "2         L76.32       1\n",
       "3          N13.8       1\n",
       "4          N82.3       1\n",
       "5          N82.4       1\n",
       "6         N94.89       1\n",
       "7        N99.820       1\n",
       "8        N99.840       1\n",
       "9            R58       1\n",
       "10         S37.1       1\n",
       "11         T81.3       1\n",
       "12      T81.30XA       2\n",
       "13      T81.31XA       2\n",
       "14      T81.32XA       2\n",
       "15      T81.89XA       1\n",
       "16       T86.821       1\n",
       "17         Z04.8       1"
      ]
     },
     "execution_count": 166,
     "metadata": {},
     "output_type": "execute_result"
    }
   ],
   "source": [
    "df.groupby('REOPOR1ICD101').size().reset_index(name='counts')"
   ]
  },
  {
   "cell_type": "code",
   "execution_count": 95,
   "id": "5465a222-43c0-4f85-9b16-dcb8b05ce867",
   "metadata": {},
   "outputs": [
    {
     "data": {
      "text/html": [
       "<div>\n",
       "<style scoped>\n",
       "    .dataframe tbody tr th:only-of-type {\n",
       "        vertical-align: middle;\n",
       "    }\n",
       "\n",
       "    .dataframe tbody tr th {\n",
       "        vertical-align: top;\n",
       "    }\n",
       "\n",
       "    .dataframe thead th {\n",
       "        text-align: right;\n",
       "    }\n",
       "</style>\n",
       "<table border=\"1\" class=\"dataframe\">\n",
       "  <thead>\n",
       "    <tr style=\"text-align: right;\">\n",
       "      <th></th>\n",
       "      <th>REOPORICD91</th>\n",
       "      <th>counts</th>\n",
       "    </tr>\n",
       "  </thead>\n",
       "  <tbody>\n",
       "  </tbody>\n",
       "</table>\n",
       "</div>"
      ],
      "text/plain": [
       "Empty DataFrame\n",
       "Columns: [REOPORICD91, counts]\n",
       "Index: []"
      ]
     },
     "execution_count": 95,
     "metadata": {},
     "output_type": "execute_result"
    }
   ],
   "source": [
    "df.groupby('REOPORICD91').size().reset_index(name='counts')"
   ]
  },
  {
   "cell_type": "code",
   "execution_count": 96,
   "id": "9180d321-9756-4392-af3c-502a804f86dd",
   "metadata": {},
   "outputs": [
    {
     "data": {
      "text/html": [
       "<div>\n",
       "<style scoped>\n",
       "    .dataframe tbody tr th:only-of-type {\n",
       "        vertical-align: middle;\n",
       "    }\n",
       "\n",
       "    .dataframe tbody tr th {\n",
       "        vertical-align: top;\n",
       "    }\n",
       "\n",
       "    .dataframe thead th {\n",
       "        text-align: right;\n",
       "    }\n",
       "</style>\n",
       "<table border=\"1\" class=\"dataframe\">\n",
       "  <thead>\n",
       "    <tr style=\"text-align: right;\">\n",
       "      <th></th>\n",
       "      <th>REOPERATION2</th>\n",
       "      <th>counts</th>\n",
       "    </tr>\n",
       "  </thead>\n",
       "  <tbody>\n",
       "    <tr>\n",
       "      <th>0</th>\n",
       "      <td>Yes</td>\n",
       "      <td>4</td>\n",
       "    </tr>\n",
       "  </tbody>\n",
       "</table>\n",
       "</div>"
      ],
      "text/plain": [
       "  REOPERATION2  counts\n",
       "0          Yes       4"
      ]
     },
     "execution_count": 96,
     "metadata": {},
     "output_type": "execute_result"
    }
   ],
   "source": [
    "df.groupby('REOPERATION2').size().reset_index(name='counts')"
   ]
  },
  {
   "cell_type": "code",
   "execution_count": 99,
   "id": "851ef631-321d-42c2-b742-0c0432211ae7",
   "metadata": {},
   "outputs": [
    {
     "data": {
      "text/html": [
       "<div>\n",
       "<style scoped>\n",
       "    .dataframe tbody tr th:only-of-type {\n",
       "        vertical-align: middle;\n",
       "    }\n",
       "\n",
       "    .dataframe tbody tr th {\n",
       "        vertical-align: top;\n",
       "    }\n",
       "\n",
       "    .dataframe thead th {\n",
       "        text-align: right;\n",
       "    }\n",
       "</style>\n",
       "<table border=\"1\" class=\"dataframe\">\n",
       "  <thead>\n",
       "    <tr style=\"text-align: right;\">\n",
       "      <th></th>\n",
       "      <th>REOPOR2CPT1</th>\n",
       "      <th>counts</th>\n",
       "    </tr>\n",
       "  </thead>\n",
       "  <tbody>\n",
       "    <tr>\n",
       "      <th>0</th>\n",
       "      <td>11042.0</td>\n",
       "      <td>1</td>\n",
       "    </tr>\n",
       "    <tr>\n",
       "      <th>1</th>\n",
       "      <td>51565.0</td>\n",
       "      <td>1</td>\n",
       "    </tr>\n",
       "    <tr>\n",
       "      <th>2</th>\n",
       "      <td>57410.0</td>\n",
       "      <td>1</td>\n",
       "    </tr>\n",
       "    <tr>\n",
       "      <th>3</th>\n",
       "      <td>57415.0</td>\n",
       "      <td>1</td>\n",
       "    </tr>\n",
       "  </tbody>\n",
       "</table>\n",
       "</div>"
      ],
      "text/plain": [
       "   REOPOR2CPT1  counts\n",
       "0      11042.0       1\n",
       "1      51565.0       1\n",
       "2      57410.0       1\n",
       "3      57415.0       1"
      ]
     },
     "execution_count": 99,
     "metadata": {},
     "output_type": "execute_result"
    }
   ],
   "source": [
    "df.groupby('REOPOR2CPT1').size().reset_index(name='counts')"
   ]
  },
  {
   "cell_type": "code",
   "execution_count": 100,
   "id": "897b617a-038a-48fa-8560-2cd9bb7066cd",
   "metadata": {},
   "outputs": [
    {
     "data": {
      "text/html": [
       "<div>\n",
       "<style scoped>\n",
       "    .dataframe tbody tr th:only-of-type {\n",
       "        vertical-align: middle;\n",
       "    }\n",
       "\n",
       "    .dataframe tbody tr th {\n",
       "        vertical-align: top;\n",
       "    }\n",
       "\n",
       "    .dataframe thead th {\n",
       "        text-align: right;\n",
       "    }\n",
       "</style>\n",
       "<table border=\"1\" class=\"dataframe\">\n",
       "  <thead>\n",
       "    <tr style=\"text-align: right;\">\n",
       "      <th></th>\n",
       "      <th>RETOR2PODAYS</th>\n",
       "      <th>counts</th>\n",
       "    </tr>\n",
       "  </thead>\n",
       "  <tbody>\n",
       "    <tr>\n",
       "      <th>0</th>\n",
       "      <td>-99</td>\n",
       "      <td>409</td>\n",
       "    </tr>\n",
       "    <tr>\n",
       "      <th>1</th>\n",
       "      <td>5</td>\n",
       "      <td>1</td>\n",
       "    </tr>\n",
       "    <tr>\n",
       "      <th>2</th>\n",
       "      <td>7</td>\n",
       "      <td>1</td>\n",
       "    </tr>\n",
       "    <tr>\n",
       "      <th>3</th>\n",
       "      <td>22</td>\n",
       "      <td>1</td>\n",
       "    </tr>\n",
       "    <tr>\n",
       "      <th>4</th>\n",
       "      <td>24</td>\n",
       "      <td>1</td>\n",
       "    </tr>\n",
       "  </tbody>\n",
       "</table>\n",
       "</div>"
      ],
      "text/plain": [
       "   RETOR2PODAYS  counts\n",
       "0           -99     409\n",
       "1             5       1\n",
       "2             7       1\n",
       "3            22       1\n",
       "4            24       1"
      ]
     },
     "execution_count": 100,
     "metadata": {},
     "output_type": "execute_result"
    }
   ],
   "source": [
    "df.groupby('RETOR2PODAYS').size().reset_index(name='counts')"
   ]
  },
  {
   "cell_type": "code",
   "execution_count": 217,
   "id": "7290b512-6e01-4e80-865b-56433345641c",
   "metadata": {},
   "outputs": [
    {
     "data": {
      "text/plain": [
       "np.float64(14.5)"
      ]
     },
     "execution_count": 217,
     "metadata": {},
     "output_type": "execute_result"
    }
   ],
   "source": [
    "df['RETOR2PODAYS'].mean()"
   ]
  },
  {
   "cell_type": "code",
   "execution_count": 218,
   "id": "32d9fd2d-ba8d-4ab5-83e7-da55868ffa47",
   "metadata": {},
   "outputs": [
    {
     "data": {
      "text/plain": [
       "np.float64(9.882644720249063)"
      ]
     },
     "execution_count": 218,
     "metadata": {},
     "output_type": "execute_result"
    }
   ],
   "source": [
    "df['RETOR2PODAYS'].std()"
   ]
  },
  {
   "cell_type": "code",
   "execution_count": 219,
   "id": "d12ab47d-9550-4a41-b5d8-1bfab787de53",
   "metadata": {},
   "outputs": [
    {
     "data": {
      "text/plain": [
       "np.float64(14.5)"
      ]
     },
     "execution_count": 219,
     "metadata": {},
     "output_type": "execute_result"
    }
   ],
   "source": [
    "df['RETOR2PODAYS'].median()"
   ]
  },
  {
   "cell_type": "code",
   "execution_count": 101,
   "id": "cd75da6e-1947-4fde-a6a1-e2cbdbed10c6",
   "metadata": {},
   "outputs": [
    {
     "data": {
      "text/html": [
       "<div>\n",
       "<style scoped>\n",
       "    .dataframe tbody tr th:only-of-type {\n",
       "        vertical-align: middle;\n",
       "    }\n",
       "\n",
       "    .dataframe tbody tr th {\n",
       "        vertical-align: top;\n",
       "    }\n",
       "\n",
       "    .dataframe thead th {\n",
       "        text-align: right;\n",
       "    }\n",
       "</style>\n",
       "<table border=\"1\" class=\"dataframe\">\n",
       "  <thead>\n",
       "    <tr style=\"text-align: right;\">\n",
       "      <th></th>\n",
       "      <th>REOPOR2ICD101</th>\n",
       "      <th>counts</th>\n",
       "    </tr>\n",
       "  </thead>\n",
       "  <tbody>\n",
       "    <tr>\n",
       "      <th>0</th>\n",
       "      <td>F64.0</td>\n",
       "      <td>1</td>\n",
       "    </tr>\n",
       "    <tr>\n",
       "      <th>1</th>\n",
       "      <td>S37.10XA</td>\n",
       "      <td>1</td>\n",
       "    </tr>\n",
       "    <tr>\n",
       "      <th>2</th>\n",
       "      <td>T81.31XA</td>\n",
       "      <td>2</td>\n",
       "    </tr>\n",
       "  </tbody>\n",
       "</table>\n",
       "</div>"
      ],
      "text/plain": [
       "  REOPOR2ICD101  counts\n",
       "0         F64.0       1\n",
       "1      S37.10XA       1\n",
       "2      T81.31XA       2"
      ]
     },
     "execution_count": 101,
     "metadata": {},
     "output_type": "execute_result"
    }
   ],
   "source": [
    "df.groupby('REOPOR2ICD101').size().reset_index(name='counts')"
   ]
  },
  {
   "cell_type": "code",
   "execution_count": 102,
   "id": "a542ff84-a012-48da-a967-cd3271927e15",
   "metadata": {},
   "outputs": [
    {
     "data": {
      "text/html": [
       "<div>\n",
       "<style scoped>\n",
       "    .dataframe tbody tr th:only-of-type {\n",
       "        vertical-align: middle;\n",
       "    }\n",
       "\n",
       "    .dataframe tbody tr th {\n",
       "        vertical-align: top;\n",
       "    }\n",
       "\n",
       "    .dataframe thead th {\n",
       "        text-align: right;\n",
       "    }\n",
       "</style>\n",
       "<table border=\"1\" class=\"dataframe\">\n",
       "  <thead>\n",
       "    <tr style=\"text-align: right;\">\n",
       "      <th></th>\n",
       "      <th>REOPOR2ICD91</th>\n",
       "      <th>counts</th>\n",
       "    </tr>\n",
       "  </thead>\n",
       "  <tbody>\n",
       "  </tbody>\n",
       "</table>\n",
       "</div>"
      ],
      "text/plain": [
       "Empty DataFrame\n",
       "Columns: [REOPOR2ICD91, counts]\n",
       "Index: []"
      ]
     },
     "execution_count": 102,
     "metadata": {},
     "output_type": "execute_result"
    }
   ],
   "source": [
    "df.groupby('REOPOR2ICD91').size().reset_index(name='counts')"
   ]
  },
  {
   "cell_type": "code",
   "execution_count": 103,
   "id": "9500850b-9244-4592-9249-bf1a4496694a",
   "metadata": {},
   "outputs": [
    {
     "data": {
      "text/html": [
       "<div>\n",
       "<style scoped>\n",
       "    .dataframe tbody tr th:only-of-type {\n",
       "        vertical-align: middle;\n",
       "    }\n",
       "\n",
       "    .dataframe tbody tr th {\n",
       "        vertical-align: top;\n",
       "    }\n",
       "\n",
       "    .dataframe thead th {\n",
       "        text-align: right;\n",
       "    }\n",
       "</style>\n",
       "<table border=\"1\" class=\"dataframe\">\n",
       "  <thead>\n",
       "    <tr style=\"text-align: right;\">\n",
       "      <th></th>\n",
       "      <th>REOPERATION3</th>\n",
       "      <th>counts</th>\n",
       "    </tr>\n",
       "  </thead>\n",
       "  <tbody>\n",
       "    <tr>\n",
       "      <th>0</th>\n",
       "      <td>Yes</td>\n",
       "      <td>1</td>\n",
       "    </tr>\n",
       "  </tbody>\n",
       "</table>\n",
       "</div>"
      ],
      "text/plain": [
       "  REOPERATION3  counts\n",
       "0          Yes       1"
      ]
     },
     "execution_count": 103,
     "metadata": {},
     "output_type": "execute_result"
    }
   ],
   "source": [
    "df.groupby('REOPERATION3').size().reset_index(name='counts')"
   ]
  },
  {
   "cell_type": "markdown",
   "id": "b469ab2c-c1a8-4e45-a221-627bc371b228",
   "metadata": {
    "jp-MarkdownHeadingCollapsed": true
   },
   "source": [
    "## Major complication"
   ]
  },
  {
   "cell_type": "code",
   "execution_count": null,
   "id": "9298f454-b3ea-45f7-b9ad-5a8d0f4761c6",
   "metadata": {},
   "outputs": [],
   "source": []
  },
  {
   "cell_type": "code",
   "execution_count": 136,
   "id": "e60ea071-1572-4b62-bfb8-61b9f3e554af",
   "metadata": {},
   "outputs": [
    {
     "data": {
      "text/plain": [
       "np.int64(6)"
      ]
     },
     "execution_count": 136,
     "metadata": {},
     "output_type": "execute_result"
    }
   ],
   "source": [
    "col2 = ['PULEMBOL', 'FAILWEAN', 'REINTUB', 'OPRENAFL', 'CDARREST', 'CDMI', \n",
    "        'CNSCVA', 'WNDINFD', 'OTHSESHOCK']\n",
    "\n",
    "# Creating a condition for col2: any value that is NOT \"No complication\" or NaN is considered a positive outcome\n",
    "col2_condition = df[col2].apply(lambda x: any(val != 'No Complication' and pd.notna(val) for val in x), axis=1)\n",
    "\n",
    "\n",
    "df['major_complications'] = col2_condition\n",
    "col2_condition.sum()"
   ]
  },
  {
   "cell_type": "code",
   "execution_count": 137,
   "id": "83f8359b-811f-4ff7-b867-6f875cce56d7",
   "metadata": {},
   "outputs": [
    {
     "name": "stderr",
     "output_type": "stream",
     "text": [
      "/var/folders/m8/kh2nk5652k94h_n7lqjvr8n00000gn/T/ipykernel_74986/3103696800.py:6: PerformanceWarning: DataFrame is highly fragmented.  This is usually the result of calling `frame.insert` many times, which has poor performance.  Consider joining all columns at once using pd.concat(axis=1) instead. To get a de-fragmented frame, use `newframe = frame.copy()`\n",
      "  df['minor_complications'] = col2_condition\n"
     ]
    },
    {
     "data": {
      "text/plain": [
       "np.int64(42)"
      ]
     },
     "execution_count": 137,
     "metadata": {},
     "output_type": "execute_result"
    }
   ],
   "source": [
    "col2 = ['SUPINFEC', 'DEHIS', 'OUPNEUMO', 'URNINFEC', 'OTHDVT', 'OTHBLEED', 'RENAINSF']\n",
    "\n",
    "# Creating a condition for col2: any value that is NOT \"No complication\" or NaN is considered a positive outcome\n",
    "col2_condition = df[col2].apply(lambda x: any(val != 'No Complication' and pd.notna(val) for val in x), axis=1)\n",
    "\n",
    "df['minor_complications'] = col2_condition\n",
    "col2_condition.sum()"
   ]
  },
  {
   "cell_type": "code",
   "execution_count": 106,
   "id": "84791a8a-03f9-46c6-ba82-cf63a8d3f0c1",
   "metadata": {},
   "outputs": [
    {
     "data": {
      "text/html": [
       "<div>\n",
       "<style scoped>\n",
       "    .dataframe tbody tr th:only-of-type {\n",
       "        vertical-align: middle;\n",
       "    }\n",
       "\n",
       "    .dataframe tbody tr th {\n",
       "        vertical-align: top;\n",
       "    }\n",
       "\n",
       "    .dataframe thead th {\n",
       "        text-align: right;\n",
       "    }\n",
       "</style>\n",
       "<table border=\"1\" class=\"dataframe\">\n",
       "  <thead>\n",
       "    <tr style=\"text-align: right;\">\n",
       "      <th></th>\n",
       "      <th>PULEMBOL</th>\n",
       "      <th>counts</th>\n",
       "      <th>percentage</th>\n",
       "    </tr>\n",
       "  </thead>\n",
       "  <tbody>\n",
       "    <tr>\n",
       "      <th>0</th>\n",
       "      <td>No Complication</td>\n",
       "      <td>412</td>\n",
       "      <td>99.8</td>\n",
       "    </tr>\n",
       "    <tr>\n",
       "      <th>1</th>\n",
       "      <td>Pulmonary Embolism</td>\n",
       "      <td>1</td>\n",
       "      <td>0.2</td>\n",
       "    </tr>\n",
       "  </tbody>\n",
       "</table>\n",
       "</div>"
      ],
      "text/plain": [
       "             PULEMBOL  counts  percentage\n",
       "0     No Complication     412        99.8\n",
       "1  Pulmonary Embolism       1         0.2"
      ]
     },
     "execution_count": 106,
     "metadata": {},
     "output_type": "execute_result"
    }
   ],
   "source": [
    "df.groupby('PULEMBOL').size().reset_index(name='counts').assign(percentage=lambda x: (x['counts'] / df['PULEMBOL'].count()) * 100).round(1)"
   ]
  },
  {
   "cell_type": "code",
   "execution_count": 29,
   "id": "1b7c06e5-49ae-4e6a-a61a-79755bd1d676",
   "metadata": {},
   "outputs": [
    {
     "data": {
      "text/html": [
       "<div>\n",
       "<style scoped>\n",
       "    .dataframe tbody tr th:only-of-type {\n",
       "        vertical-align: middle;\n",
       "    }\n",
       "\n",
       "    .dataframe tbody tr th {\n",
       "        vertical-align: top;\n",
       "    }\n",
       "\n",
       "    .dataframe thead th {\n",
       "        text-align: right;\n",
       "    }\n",
       "</style>\n",
       "<table border=\"1\" class=\"dataframe\">\n",
       "  <thead>\n",
       "    <tr style=\"text-align: right;\">\n",
       "      <th></th>\n",
       "      <th>PULEMBOL</th>\n",
       "      <th>counts</th>\n",
       "      <th>percentage</th>\n",
       "    </tr>\n",
       "  </thead>\n",
       "  <tbody>\n",
       "    <tr>\n",
       "      <th>0</th>\n",
       "      <td>No Complication</td>\n",
       "      <td>1</td>\n",
       "      <td>100.0</td>\n",
       "    </tr>\n",
       "  </tbody>\n",
       "</table>\n",
       "</div>"
      ],
      "text/plain": [
       "          PULEMBOL  counts  percentage\n",
       "0  No Complication       1       100.0"
      ]
     },
     "execution_count": 29,
     "metadata": {},
     "output_type": "execute_result"
    }
   ],
   "source": [
    "df_with57425.groupby('PULEMBOL').size().reset_index(name='counts').assign(percentage=lambda x: (x['counts'] / df_with57425['PULEMBOL'].count()) * 100).round(1)"
   ]
  },
  {
   "cell_type": "code",
   "execution_count": 107,
   "id": "16ae48a1-1a27-49dd-a140-60032a450a38",
   "metadata": {},
   "outputs": [
    {
     "data": {
      "text/html": [
       "<div>\n",
       "<style scoped>\n",
       "    .dataframe tbody tr th:only-of-type {\n",
       "        vertical-align: middle;\n",
       "    }\n",
       "\n",
       "    .dataframe tbody tr th {\n",
       "        vertical-align: top;\n",
       "    }\n",
       "\n",
       "    .dataframe thead th {\n",
       "        text-align: right;\n",
       "    }\n",
       "</style>\n",
       "<table border=\"1\" class=\"dataframe\">\n",
       "  <thead>\n",
       "    <tr style=\"text-align: right;\">\n",
       "      <th></th>\n",
       "      <th>FAILWEAN</th>\n",
       "      <th>counts</th>\n",
       "      <th>percentage</th>\n",
       "    </tr>\n",
       "  </thead>\n",
       "  <tbody>\n",
       "    <tr>\n",
       "      <th>0</th>\n",
       "      <td>No Complication</td>\n",
       "      <td>413</td>\n",
       "      <td>100.0</td>\n",
       "    </tr>\n",
       "  </tbody>\n",
       "</table>\n",
       "</div>"
      ],
      "text/plain": [
       "          FAILWEAN  counts  percentage\n",
       "0  No Complication     413       100.0"
      ]
     },
     "execution_count": 107,
     "metadata": {},
     "output_type": "execute_result"
    }
   ],
   "source": [
    "df.groupby('FAILWEAN').size().reset_index(name='counts').assign(percentage=lambda x: (x['counts'] / df['FAILWEAN'].count()) * 100).round(1)"
   ]
  },
  {
   "cell_type": "code",
   "execution_count": 108,
   "id": "75c07e64-6659-4452-8b0c-2ef9a4cf1e5b",
   "metadata": {},
   "outputs": [
    {
     "data": {
      "text/html": [
       "<div>\n",
       "<style scoped>\n",
       "    .dataframe tbody tr th:only-of-type {\n",
       "        vertical-align: middle;\n",
       "    }\n",
       "\n",
       "    .dataframe tbody tr th {\n",
       "        vertical-align: top;\n",
       "    }\n",
       "\n",
       "    .dataframe thead th {\n",
       "        text-align: right;\n",
       "    }\n",
       "</style>\n",
       "<table border=\"1\" class=\"dataframe\">\n",
       "  <thead>\n",
       "    <tr style=\"text-align: right;\">\n",
       "      <th></th>\n",
       "      <th>REINTUB</th>\n",
       "      <th>counts</th>\n",
       "      <th>percentage</th>\n",
       "    </tr>\n",
       "  </thead>\n",
       "  <tbody>\n",
       "    <tr>\n",
       "      <th>0</th>\n",
       "      <td>No Complication</td>\n",
       "      <td>412</td>\n",
       "      <td>99.8</td>\n",
       "    </tr>\n",
       "    <tr>\n",
       "      <th>1</th>\n",
       "      <td>Unplanned Intubation</td>\n",
       "      <td>1</td>\n",
       "      <td>0.2</td>\n",
       "    </tr>\n",
       "  </tbody>\n",
       "</table>\n",
       "</div>"
      ],
      "text/plain": [
       "                REINTUB  counts  percentage\n",
       "0       No Complication     412        99.8\n",
       "1  Unplanned Intubation       1         0.2"
      ]
     },
     "execution_count": 108,
     "metadata": {},
     "output_type": "execute_result"
    }
   ],
   "source": [
    "df.groupby('REINTUB').size().reset_index(name='counts').assign(percentage=lambda x: (x['counts'] / df['REINTUB'].count()) * 100).round(1)"
   ]
  },
  {
   "cell_type": "code",
   "execution_count": 109,
   "id": "33e7a281-69fb-43e1-980a-d2b602750eb1",
   "metadata": {},
   "outputs": [
    {
     "data": {
      "text/html": [
       "<div>\n",
       "<style scoped>\n",
       "    .dataframe tbody tr th:only-of-type {\n",
       "        vertical-align: middle;\n",
       "    }\n",
       "\n",
       "    .dataframe tbody tr th {\n",
       "        vertical-align: top;\n",
       "    }\n",
       "\n",
       "    .dataframe thead th {\n",
       "        text-align: right;\n",
       "    }\n",
       "</style>\n",
       "<table border=\"1\" class=\"dataframe\">\n",
       "  <thead>\n",
       "    <tr style=\"text-align: right;\">\n",
       "      <th></th>\n",
       "      <th>OPRENAFL</th>\n",
       "      <th>counts</th>\n",
       "      <th>percentage</th>\n",
       "    </tr>\n",
       "  </thead>\n",
       "  <tbody>\n",
       "    <tr>\n",
       "      <th>0</th>\n",
       "      <td>No Complication</td>\n",
       "      <td>413</td>\n",
       "      <td>100.0</td>\n",
       "    </tr>\n",
       "  </tbody>\n",
       "</table>\n",
       "</div>"
      ],
      "text/plain": [
       "          OPRENAFL  counts  percentage\n",
       "0  No Complication     413       100.0"
      ]
     },
     "execution_count": 109,
     "metadata": {},
     "output_type": "execute_result"
    }
   ],
   "source": [
    "df.groupby('OPRENAFL').size().reset_index(name='counts').assign(percentage=lambda x: (x['counts'] / df['OPRENAFL'].count()) * 100).round(1)"
   ]
  },
  {
   "cell_type": "code",
   "execution_count": 111,
   "id": "5600e518-3934-4101-b7b2-21873d4c153b",
   "metadata": {},
   "outputs": [
    {
     "data": {
      "text/html": [
       "<div>\n",
       "<style scoped>\n",
       "    .dataframe tbody tr th:only-of-type {\n",
       "        vertical-align: middle;\n",
       "    }\n",
       "\n",
       "    .dataframe tbody tr th {\n",
       "        vertical-align: top;\n",
       "    }\n",
       "\n",
       "    .dataframe thead th {\n",
       "        text-align: right;\n",
       "    }\n",
       "</style>\n",
       "<table border=\"1\" class=\"dataframe\">\n",
       "  <thead>\n",
       "    <tr style=\"text-align: right;\">\n",
       "      <th></th>\n",
       "      <th>CDARREST</th>\n",
       "      <th>counts</th>\n",
       "      <th>percentage</th>\n",
       "    </tr>\n",
       "  </thead>\n",
       "  <tbody>\n",
       "    <tr>\n",
       "      <th>0</th>\n",
       "      <td>No Complication</td>\n",
       "      <td>413</td>\n",
       "      <td>100.0</td>\n",
       "    </tr>\n",
       "  </tbody>\n",
       "</table>\n",
       "</div>"
      ],
      "text/plain": [
       "          CDARREST  counts  percentage\n",
       "0  No Complication     413       100.0"
      ]
     },
     "execution_count": 111,
     "metadata": {},
     "output_type": "execute_result"
    }
   ],
   "source": [
    "df.groupby('CDARREST').size().reset_index(name='counts').assign(percentage=lambda x: (x['counts'] / df['CDARREST'].count()) * 100).round(1)"
   ]
  },
  {
   "cell_type": "code",
   "execution_count": 112,
   "id": "07533d0e-e3ef-4150-b4a5-0b6a89c2f605",
   "metadata": {},
   "outputs": [
    {
     "data": {
      "text/html": [
       "<div>\n",
       "<style scoped>\n",
       "    .dataframe tbody tr th:only-of-type {\n",
       "        vertical-align: middle;\n",
       "    }\n",
       "\n",
       "    .dataframe tbody tr th {\n",
       "        vertical-align: top;\n",
       "    }\n",
       "\n",
       "    .dataframe thead th {\n",
       "        text-align: right;\n",
       "    }\n",
       "</style>\n",
       "<table border=\"1\" class=\"dataframe\">\n",
       "  <thead>\n",
       "    <tr style=\"text-align: right;\">\n",
       "      <th></th>\n",
       "      <th>CDMI</th>\n",
       "      <th>counts</th>\n",
       "      <th>percentage</th>\n",
       "    </tr>\n",
       "  </thead>\n",
       "  <tbody>\n",
       "    <tr>\n",
       "      <th>0</th>\n",
       "      <td>No Complication</td>\n",
       "      <td>413</td>\n",
       "      <td>100.0</td>\n",
       "    </tr>\n",
       "  </tbody>\n",
       "</table>\n",
       "</div>"
      ],
      "text/plain": [
       "              CDMI  counts  percentage\n",
       "0  No Complication     413       100.0"
      ]
     },
     "execution_count": 112,
     "metadata": {},
     "output_type": "execute_result"
    }
   ],
   "source": [
    "df.groupby('CDMI').size().reset_index(name='counts').assign(percentage=lambda x: (x['counts'] / df['CDMI'].count()) * 100).round(1)"
   ]
  },
  {
   "cell_type": "code",
   "execution_count": 113,
   "id": "bad6134e-5af8-4273-a02f-4bf52180c1f1",
   "metadata": {},
   "outputs": [
    {
     "data": {
      "text/html": [
       "<div>\n",
       "<style scoped>\n",
       "    .dataframe tbody tr th:only-of-type {\n",
       "        vertical-align: middle;\n",
       "    }\n",
       "\n",
       "    .dataframe tbody tr th {\n",
       "        vertical-align: top;\n",
       "    }\n",
       "\n",
       "    .dataframe thead th {\n",
       "        text-align: right;\n",
       "    }\n",
       "</style>\n",
       "<table border=\"1\" class=\"dataframe\">\n",
       "  <thead>\n",
       "    <tr style=\"text-align: right;\">\n",
       "      <th></th>\n",
       "      <th>CNSCVA</th>\n",
       "      <th>counts</th>\n",
       "      <th>percentage</th>\n",
       "    </tr>\n",
       "  </thead>\n",
       "  <tbody>\n",
       "    <tr>\n",
       "      <th>0</th>\n",
       "      <td>No Complication</td>\n",
       "      <td>413</td>\n",
       "      <td>100.0</td>\n",
       "    </tr>\n",
       "  </tbody>\n",
       "</table>\n",
       "</div>"
      ],
      "text/plain": [
       "            CNSCVA  counts  percentage\n",
       "0  No Complication     413       100.0"
      ]
     },
     "execution_count": 113,
     "metadata": {},
     "output_type": "execute_result"
    }
   ],
   "source": [
    "df.groupby('CNSCVA').size().reset_index(name='counts').assign(percentage=lambda x: (x['counts'] / df['CNSCVA'].count()) * 100).round(1)"
   ]
  },
  {
   "cell_type": "code",
   "execution_count": 115,
   "id": "4db81cf9-898a-4c6f-a657-6ad6cbde7cda",
   "metadata": {},
   "outputs": [
    {
     "data": {
      "text/html": [
       "<div>\n",
       "<style scoped>\n",
       "    .dataframe tbody tr th:only-of-type {\n",
       "        vertical-align: middle;\n",
       "    }\n",
       "\n",
       "    .dataframe tbody tr th {\n",
       "        vertical-align: top;\n",
       "    }\n",
       "\n",
       "    .dataframe thead th {\n",
       "        text-align: right;\n",
       "    }\n",
       "</style>\n",
       "<table border=\"1\" class=\"dataframe\">\n",
       "  <thead>\n",
       "    <tr style=\"text-align: right;\">\n",
       "      <th></th>\n",
       "      <th>WNDINFD</th>\n",
       "      <th>counts</th>\n",
       "      <th>percentage</th>\n",
       "    </tr>\n",
       "  </thead>\n",
       "  <tbody>\n",
       "    <tr>\n",
       "      <th>0</th>\n",
       "      <td>Deep Incisional SSI</td>\n",
       "      <td>3</td>\n",
       "      <td>0.7</td>\n",
       "    </tr>\n",
       "    <tr>\n",
       "      <th>1</th>\n",
       "      <td>No Complication</td>\n",
       "      <td>410</td>\n",
       "      <td>99.3</td>\n",
       "    </tr>\n",
       "  </tbody>\n",
       "</table>\n",
       "</div>"
      ],
      "text/plain": [
       "               WNDINFD  counts  percentage\n",
       "0  Deep Incisional SSI       3         0.7\n",
       "1      No Complication     410        99.3"
      ]
     },
     "execution_count": 115,
     "metadata": {},
     "output_type": "execute_result"
    }
   ],
   "source": [
    "df.groupby('WNDINFD').size().reset_index(name='counts').assign(percentage=lambda x: (x['counts'] / df['WNDINFD'].count()) * 100).round(1)"
   ]
  },
  {
   "cell_type": "code",
   "execution_count": 116,
   "id": "6e84a871-9909-4236-82df-1aa582651bab",
   "metadata": {},
   "outputs": [
    {
     "data": {
      "text/html": [
       "<div>\n",
       "<style scoped>\n",
       "    .dataframe tbody tr th:only-of-type {\n",
       "        vertical-align: middle;\n",
       "    }\n",
       "\n",
       "    .dataframe tbody tr th {\n",
       "        vertical-align: top;\n",
       "    }\n",
       "\n",
       "    .dataframe thead th {\n",
       "        text-align: right;\n",
       "    }\n",
       "</style>\n",
       "<table border=\"1\" class=\"dataframe\">\n",
       "  <thead>\n",
       "    <tr style=\"text-align: right;\">\n",
       "      <th></th>\n",
       "      <th>OTHSESHOCK</th>\n",
       "      <th>counts</th>\n",
       "      <th>percentage</th>\n",
       "    </tr>\n",
       "  </thead>\n",
       "  <tbody>\n",
       "    <tr>\n",
       "      <th>0</th>\n",
       "      <td>No Complication</td>\n",
       "      <td>412</td>\n",
       "      <td>99.8</td>\n",
       "    </tr>\n",
       "    <tr>\n",
       "      <th>1</th>\n",
       "      <td>Septic Shock</td>\n",
       "      <td>1</td>\n",
       "      <td>0.2</td>\n",
       "    </tr>\n",
       "  </tbody>\n",
       "</table>\n",
       "</div>"
      ],
      "text/plain": [
       "        OTHSESHOCK  counts  percentage\n",
       "0  No Complication     412        99.8\n",
       "1     Septic Shock       1         0.2"
      ]
     },
     "execution_count": 116,
     "metadata": {},
     "output_type": "execute_result"
    }
   ],
   "source": [
    "df.groupby('OTHSESHOCK').size().reset_index(name='counts').assign(percentage=lambda x: (x['counts'] / df['OTHSESHOCK'].count()) * 100).round(1)"
   ]
  },
  {
   "cell_type": "markdown",
   "id": "19927fae-7099-4da0-8024-83bd14a5443a",
   "metadata": {
    "jp-MarkdownHeadingCollapsed": true
   },
   "source": [
    "## Minor Complication"
   ]
  },
  {
   "cell_type": "code",
   "execution_count": 117,
   "id": "47e4bb03-a13b-416e-a439-ba352a2cd32b",
   "metadata": {},
   "outputs": [
    {
     "data": {
      "text/html": [
       "<div>\n",
       "<style scoped>\n",
       "    .dataframe tbody tr th:only-of-type {\n",
       "        vertical-align: middle;\n",
       "    }\n",
       "\n",
       "    .dataframe tbody tr th {\n",
       "        vertical-align: top;\n",
       "    }\n",
       "\n",
       "    .dataframe thead th {\n",
       "        text-align: right;\n",
       "    }\n",
       "</style>\n",
       "<table border=\"1\" class=\"dataframe\">\n",
       "  <thead>\n",
       "    <tr style=\"text-align: right;\">\n",
       "      <th></th>\n",
       "      <th>SUPINFEC</th>\n",
       "      <th>counts</th>\n",
       "      <th>percentage</th>\n",
       "    </tr>\n",
       "  </thead>\n",
       "  <tbody>\n",
       "    <tr>\n",
       "      <th>0</th>\n",
       "      <td>No Complication</td>\n",
       "      <td>406</td>\n",
       "      <td>98.3</td>\n",
       "    </tr>\n",
       "    <tr>\n",
       "      <th>1</th>\n",
       "      <td>Superficial Incisional SSI</td>\n",
       "      <td>7</td>\n",
       "      <td>1.7</td>\n",
       "    </tr>\n",
       "  </tbody>\n",
       "</table>\n",
       "</div>"
      ],
      "text/plain": [
       "                     SUPINFEC  counts  percentage\n",
       "0             No Complication     406        98.3\n",
       "1  Superficial Incisional SSI       7         1.7"
      ]
     },
     "execution_count": 117,
     "metadata": {},
     "output_type": "execute_result"
    }
   ],
   "source": [
    "df.groupby('SUPINFEC').size().reset_index(name='counts').assign(percentage=lambda x: (x['counts'] / df['SUPINFEC'].count()) * 100).round(1)"
   ]
  },
  {
   "cell_type": "code",
   "execution_count": 175,
   "id": "0ef178aa-15b7-4dba-9fbe-0362b600c5b4",
   "metadata": {},
   "outputs": [
    {
     "data": {
      "text/html": [
       "<div>\n",
       "<style scoped>\n",
       "    .dataframe tbody tr th:only-of-type {\n",
       "        vertical-align: middle;\n",
       "    }\n",
       "\n",
       "    .dataframe tbody tr th {\n",
       "        vertical-align: top;\n",
       "    }\n",
       "\n",
       "    .dataframe thead th {\n",
       "        text-align: right;\n",
       "    }\n",
       "</style>\n",
       "<table border=\"1\" class=\"dataframe\">\n",
       "  <thead>\n",
       "    <tr style=\"text-align: right;\">\n",
       "      <th></th>\n",
       "      <th>SUPINFEC</th>\n",
       "      <th>counts</th>\n",
       "      <th>percentage</th>\n",
       "    </tr>\n",
       "  </thead>\n",
       "  <tbody>\n",
       "    <tr>\n",
       "      <th>0</th>\n",
       "      <td>No Complication</td>\n",
       "      <td>1</td>\n",
       "      <td>100.0</td>\n",
       "    </tr>\n",
       "  </tbody>\n",
       "</table>\n",
       "</div>"
      ],
      "text/plain": [
       "          SUPINFEC  counts  percentage\n",
       "0  No Complication       1       100.0"
      ]
     },
     "execution_count": 175,
     "metadata": {},
     "output_type": "execute_result"
    }
   ],
   "source": [
    "df_with57425.groupby('SUPINFEC').size().reset_index(name='counts').assign(percentage=lambda x: (x['counts'] / df_with57425['SUPINFEC'].count()) * 100).round(1)"
   ]
  },
  {
   "cell_type": "code",
   "execution_count": 118,
   "id": "3deae18b-50a5-4d4a-9dd4-e782920bb72e",
   "metadata": {},
   "outputs": [
    {
     "data": {
      "text/html": [
       "<div>\n",
       "<style scoped>\n",
       "    .dataframe tbody tr th:only-of-type {\n",
       "        vertical-align: middle;\n",
       "    }\n",
       "\n",
       "    .dataframe tbody tr th {\n",
       "        vertical-align: top;\n",
       "    }\n",
       "\n",
       "    .dataframe thead th {\n",
       "        text-align: right;\n",
       "    }\n",
       "</style>\n",
       "<table border=\"1\" class=\"dataframe\">\n",
       "  <thead>\n",
       "    <tr style=\"text-align: right;\">\n",
       "      <th></th>\n",
       "      <th>DEHIS</th>\n",
       "      <th>counts</th>\n",
       "      <th>percentage</th>\n",
       "    </tr>\n",
       "  </thead>\n",
       "  <tbody>\n",
       "    <tr>\n",
       "      <th>0</th>\n",
       "      <td>No Complication</td>\n",
       "      <td>400</td>\n",
       "      <td>96.9</td>\n",
       "    </tr>\n",
       "    <tr>\n",
       "      <th>1</th>\n",
       "      <td>Wound Disruption</td>\n",
       "      <td>13</td>\n",
       "      <td>3.1</td>\n",
       "    </tr>\n",
       "  </tbody>\n",
       "</table>\n",
       "</div>"
      ],
      "text/plain": [
       "              DEHIS  counts  percentage\n",
       "0   No Complication     400        96.9\n",
       "1  Wound Disruption      13         3.1"
      ]
     },
     "execution_count": 118,
     "metadata": {},
     "output_type": "execute_result"
    }
   ],
   "source": [
    "df.groupby('DEHIS').size().reset_index(name='counts').assign(percentage=lambda x: (x['counts'] / df['DEHIS'].count()) * 100).round(1)"
   ]
  },
  {
   "cell_type": "code",
   "execution_count": 54,
   "id": "075010df-9277-41b3-a332-5ee802edb3e4",
   "metadata": {},
   "outputs": [
    {
     "data": {
      "text/html": [
       "<div>\n",
       "<style scoped>\n",
       "    .dataframe tbody tr th:only-of-type {\n",
       "        vertical-align: middle;\n",
       "    }\n",
       "\n",
       "    .dataframe tbody tr th {\n",
       "        vertical-align: top;\n",
       "    }\n",
       "\n",
       "    .dataframe thead th {\n",
       "        text-align: right;\n",
       "    }\n",
       "</style>\n",
       "<table border=\"1\" class=\"dataframe\">\n",
       "  <thead>\n",
       "    <tr style=\"text-align: right;\">\n",
       "      <th></th>\n",
       "      <th>DEHIS</th>\n",
       "      <th>counts</th>\n",
       "      <th>percentage</th>\n",
       "    </tr>\n",
       "  </thead>\n",
       "  <tbody>\n",
       "    <tr>\n",
       "      <th>0</th>\n",
       "      <td>No Complication</td>\n",
       "      <td>1</td>\n",
       "      <td>100.0</td>\n",
       "    </tr>\n",
       "  </tbody>\n",
       "</table>\n",
       "</div>"
      ],
      "text/plain": [
       "             DEHIS  counts  percentage\n",
       "0  No Complication       1       100.0"
      ]
     },
     "execution_count": 54,
     "metadata": {},
     "output_type": "execute_result"
    }
   ],
   "source": [
    "df_with57425.groupby('DEHIS').size().reset_index(name='counts').assign(percentage=lambda x: (x['counts'] / df_with57425['DEHIS'].count()) * 100).round(1)"
   ]
  },
  {
   "cell_type": "code",
   "execution_count": 119,
   "id": "aaadd92c-1dd4-4a80-a435-979206b412f1",
   "metadata": {},
   "outputs": [
    {
     "data": {
      "text/html": [
       "<div>\n",
       "<style scoped>\n",
       "    .dataframe tbody tr th:only-of-type {\n",
       "        vertical-align: middle;\n",
       "    }\n",
       "\n",
       "    .dataframe tbody tr th {\n",
       "        vertical-align: top;\n",
       "    }\n",
       "\n",
       "    .dataframe thead th {\n",
       "        text-align: right;\n",
       "    }\n",
       "</style>\n",
       "<table border=\"1\" class=\"dataframe\">\n",
       "  <thead>\n",
       "    <tr style=\"text-align: right;\">\n",
       "      <th></th>\n",
       "      <th>OUPNEUMO</th>\n",
       "      <th>counts</th>\n",
       "      <th>percentage</th>\n",
       "    </tr>\n",
       "  </thead>\n",
       "  <tbody>\n",
       "    <tr>\n",
       "      <th>0</th>\n",
       "      <td>No Complication</td>\n",
       "      <td>413</td>\n",
       "      <td>100.0</td>\n",
       "    </tr>\n",
       "  </tbody>\n",
       "</table>\n",
       "</div>"
      ],
      "text/plain": [
       "          OUPNEUMO  counts  percentage\n",
       "0  No Complication     413       100.0"
      ]
     },
     "execution_count": 119,
     "metadata": {},
     "output_type": "execute_result"
    }
   ],
   "source": [
    "df.groupby('OUPNEUMO').size().reset_index(name='counts').assign(percentage=lambda x: (x['counts'] / df['OUPNEUMO'].count()) * 100).round(1)"
   ]
  },
  {
   "cell_type": "code",
   "execution_count": 120,
   "id": "b3ef4667-62b1-4b1a-a685-0efcd1ea613a",
   "metadata": {},
   "outputs": [
    {
     "data": {
      "text/html": [
       "<div>\n",
       "<style scoped>\n",
       "    .dataframe tbody tr th:only-of-type {\n",
       "        vertical-align: middle;\n",
       "    }\n",
       "\n",
       "    .dataframe tbody tr th {\n",
       "        vertical-align: top;\n",
       "    }\n",
       "\n",
       "    .dataframe thead th {\n",
       "        text-align: right;\n",
       "    }\n",
       "</style>\n",
       "<table border=\"1\" class=\"dataframe\">\n",
       "  <thead>\n",
       "    <tr style=\"text-align: right;\">\n",
       "      <th></th>\n",
       "      <th>URNINFEC</th>\n",
       "      <th>counts</th>\n",
       "      <th>percentage</th>\n",
       "    </tr>\n",
       "  </thead>\n",
       "  <tbody>\n",
       "    <tr>\n",
       "      <th>0</th>\n",
       "      <td>No Complication</td>\n",
       "      <td>403</td>\n",
       "      <td>97.6</td>\n",
       "    </tr>\n",
       "    <tr>\n",
       "      <th>1</th>\n",
       "      <td>Urinary Tract Infection</td>\n",
       "      <td>10</td>\n",
       "      <td>2.4</td>\n",
       "    </tr>\n",
       "  </tbody>\n",
       "</table>\n",
       "</div>"
      ],
      "text/plain": [
       "                  URNINFEC  counts  percentage\n",
       "0          No Complication     403        97.6\n",
       "1  Urinary Tract Infection      10         2.4"
      ]
     },
     "execution_count": 120,
     "metadata": {},
     "output_type": "execute_result"
    }
   ],
   "source": [
    "df.groupby('URNINFEC').size().reset_index(name='counts').assign(percentage=lambda x: (x['counts'] / df['URNINFEC'].count()) * 100).round(1)"
   ]
  },
  {
   "cell_type": "code",
   "execution_count": 55,
   "id": "8b34b45f-df89-49d6-a24c-5e4fdc9d0ef9",
   "metadata": {},
   "outputs": [
    {
     "data": {
      "text/html": [
       "<div>\n",
       "<style scoped>\n",
       "    .dataframe tbody tr th:only-of-type {\n",
       "        vertical-align: middle;\n",
       "    }\n",
       "\n",
       "    .dataframe tbody tr th {\n",
       "        vertical-align: top;\n",
       "    }\n",
       "\n",
       "    .dataframe thead th {\n",
       "        text-align: right;\n",
       "    }\n",
       "</style>\n",
       "<table border=\"1\" class=\"dataframe\">\n",
       "  <thead>\n",
       "    <tr style=\"text-align: right;\">\n",
       "      <th></th>\n",
       "      <th>URNINFEC</th>\n",
       "      <th>counts</th>\n",
       "      <th>percentage</th>\n",
       "    </tr>\n",
       "  </thead>\n",
       "  <tbody>\n",
       "    <tr>\n",
       "      <th>0</th>\n",
       "      <td>Urinary Tract Infection</td>\n",
       "      <td>1</td>\n",
       "      <td>100.0</td>\n",
       "    </tr>\n",
       "  </tbody>\n",
       "</table>\n",
       "</div>"
      ],
      "text/plain": [
       "                  URNINFEC  counts  percentage\n",
       "0  Urinary Tract Infection       1       100.0"
      ]
     },
     "execution_count": 55,
     "metadata": {},
     "output_type": "execute_result"
    }
   ],
   "source": [
    "df_with57425.groupby('URNINFEC').size().reset_index(name='counts').assign(percentage=lambda x: (x['counts'] / df_with57425['URNINFEC'].count()) * 100).round(1)"
   ]
  },
  {
   "cell_type": "code",
   "execution_count": 122,
   "id": "3725fe5f-a4a1-4929-be5e-c85f6bf0ba38",
   "metadata": {},
   "outputs": [
    {
     "data": {
      "text/html": [
       "<div>\n",
       "<style scoped>\n",
       "    .dataframe tbody tr th:only-of-type {\n",
       "        vertical-align: middle;\n",
       "    }\n",
       "\n",
       "    .dataframe tbody tr th {\n",
       "        vertical-align: top;\n",
       "    }\n",
       "\n",
       "    .dataframe thead th {\n",
       "        text-align: right;\n",
       "    }\n",
       "</style>\n",
       "<table border=\"1\" class=\"dataframe\">\n",
       "  <thead>\n",
       "    <tr style=\"text-align: right;\">\n",
       "      <th></th>\n",
       "      <th>OTHDVT</th>\n",
       "      <th>counts</th>\n",
       "      <th>percentage</th>\n",
       "    </tr>\n",
       "  </thead>\n",
       "  <tbody>\n",
       "    <tr>\n",
       "      <th>0</th>\n",
       "      <td>No Complication</td>\n",
       "      <td>413</td>\n",
       "      <td>100.0</td>\n",
       "    </tr>\n",
       "  </tbody>\n",
       "</table>\n",
       "</div>"
      ],
      "text/plain": [
       "            OTHDVT  counts  percentage\n",
       "0  No Complication     413       100.0"
      ]
     },
     "execution_count": 122,
     "metadata": {},
     "output_type": "execute_result"
    }
   ],
   "source": [
    "df.groupby('OTHDVT').size().reset_index(name='counts').assign(percentage=lambda x: (x['counts'] / df['OTHDVT'].count()) * 100).round(1)"
   ]
  },
  {
   "cell_type": "code",
   "execution_count": 123,
   "id": "596a64f1-f2c7-4ae7-93ad-b4fde5c54a03",
   "metadata": {},
   "outputs": [
    {
     "data": {
      "text/html": [
       "<div>\n",
       "<style scoped>\n",
       "    .dataframe tbody tr th:only-of-type {\n",
       "        vertical-align: middle;\n",
       "    }\n",
       "\n",
       "    .dataframe tbody tr th {\n",
       "        vertical-align: top;\n",
       "    }\n",
       "\n",
       "    .dataframe thead th {\n",
       "        text-align: right;\n",
       "    }\n",
       "</style>\n",
       "<table border=\"1\" class=\"dataframe\">\n",
       "  <thead>\n",
       "    <tr style=\"text-align: right;\">\n",
       "      <th></th>\n",
       "      <th>OTHBLEED</th>\n",
       "      <th>counts</th>\n",
       "      <th>percentage</th>\n",
       "    </tr>\n",
       "  </thead>\n",
       "  <tbody>\n",
       "    <tr>\n",
       "      <th>0</th>\n",
       "      <td>Blood Transfusion</td>\n",
       "      <td>2</td>\n",
       "      <td>0.5</td>\n",
       "    </tr>\n",
       "    <tr>\n",
       "      <th>1</th>\n",
       "      <td>No Complication</td>\n",
       "      <td>397</td>\n",
       "      <td>96.1</td>\n",
       "    </tr>\n",
       "    <tr>\n",
       "      <th>2</th>\n",
       "      <td>Transfusions/Intraop/Postop</td>\n",
       "      <td>14</td>\n",
       "      <td>3.4</td>\n",
       "    </tr>\n",
       "  </tbody>\n",
       "</table>\n",
       "</div>"
      ],
      "text/plain": [
       "                      OTHBLEED  counts  percentage\n",
       "0            Blood Transfusion       2         0.5\n",
       "1              No Complication     397        96.1\n",
       "2  Transfusions/Intraop/Postop      14         3.4"
      ]
     },
     "execution_count": 123,
     "metadata": {},
     "output_type": "execute_result"
    }
   ],
   "source": [
    "df.groupby('OTHBLEED').size().reset_index(name='counts').assign(percentage=lambda x: (x['counts'] / df['OTHBLEED'].count()) * 100).round(1)"
   ]
  },
  {
   "cell_type": "code",
   "execution_count": 56,
   "id": "61f2c0ad-6d59-489d-b448-e7e5c47a79b2",
   "metadata": {},
   "outputs": [
    {
     "data": {
      "text/html": [
       "<div>\n",
       "<style scoped>\n",
       "    .dataframe tbody tr th:only-of-type {\n",
       "        vertical-align: middle;\n",
       "    }\n",
       "\n",
       "    .dataframe tbody tr th {\n",
       "        vertical-align: top;\n",
       "    }\n",
       "\n",
       "    .dataframe thead th {\n",
       "        text-align: right;\n",
       "    }\n",
       "</style>\n",
       "<table border=\"1\" class=\"dataframe\">\n",
       "  <thead>\n",
       "    <tr style=\"text-align: right;\">\n",
       "      <th></th>\n",
       "      <th>OTHBLEED</th>\n",
       "      <th>counts</th>\n",
       "      <th>percentage</th>\n",
       "    </tr>\n",
       "  </thead>\n",
       "  <tbody>\n",
       "    <tr>\n",
       "      <th>0</th>\n",
       "      <td>No Complication</td>\n",
       "      <td>1</td>\n",
       "      <td>100.0</td>\n",
       "    </tr>\n",
       "  </tbody>\n",
       "</table>\n",
       "</div>"
      ],
      "text/plain": [
       "          OTHBLEED  counts  percentage\n",
       "0  No Complication       1       100.0"
      ]
     },
     "execution_count": 56,
     "metadata": {},
     "output_type": "execute_result"
    }
   ],
   "source": [
    "df_with57425.groupby('OTHBLEED').size().reset_index(name='counts').assign(percentage=lambda x: (x['counts'] / df_with57425['OTHBLEED'].count()) * 100).round(1)"
   ]
  },
  {
   "cell_type": "code",
   "execution_count": 125,
   "id": "ae4a85be-0493-4a79-8e3d-f06a2716c162",
   "metadata": {},
   "outputs": [
    {
     "data": {
      "text/html": [
       "<div>\n",
       "<style scoped>\n",
       "    .dataframe tbody tr th:only-of-type {\n",
       "        vertical-align: middle;\n",
       "    }\n",
       "\n",
       "    .dataframe tbody tr th {\n",
       "        vertical-align: top;\n",
       "    }\n",
       "\n",
       "    .dataframe thead th {\n",
       "        text-align: right;\n",
       "    }\n",
       "</style>\n",
       "<table border=\"1\" class=\"dataframe\">\n",
       "  <thead>\n",
       "    <tr style=\"text-align: right;\">\n",
       "      <th></th>\n",
       "      <th>BLEED_UNITS_TOT</th>\n",
       "      <th>counts</th>\n",
       "      <th>percentage</th>\n",
       "    </tr>\n",
       "  </thead>\n",
       "  <tbody>\n",
       "    <tr>\n",
       "      <th>0</th>\n",
       "      <td>-99.0</td>\n",
       "      <td>309</td>\n",
       "      <td>96.0</td>\n",
       "    </tr>\n",
       "    <tr>\n",
       "      <th>1</th>\n",
       "      <td>1.0</td>\n",
       "      <td>7</td>\n",
       "      <td>2.2</td>\n",
       "    </tr>\n",
       "    <tr>\n",
       "      <th>2</th>\n",
       "      <td>2.0</td>\n",
       "      <td>6</td>\n",
       "      <td>1.9</td>\n",
       "    </tr>\n",
       "  </tbody>\n",
       "</table>\n",
       "</div>"
      ],
      "text/plain": [
       "   BLEED_UNITS_TOT  counts  percentage\n",
       "0            -99.0     309        96.0\n",
       "1              1.0       7         2.2\n",
       "2              2.0       6         1.9"
      ]
     },
     "execution_count": 125,
     "metadata": {},
     "output_type": "execute_result"
    }
   ],
   "source": [
    "df.groupby('BLEED_UNITS_TOT').size().reset_index(name='counts').assign(percentage=lambda x: (x['counts'] / df['BLEED_UNITS_TOT'].count()) * 100).round(1)"
   ]
  },
  {
   "cell_type": "code",
   "execution_count": 221,
   "id": "3fb5eb88-2356-460e-835b-3dc1f7239856",
   "metadata": {},
   "outputs": [
    {
     "data": {
      "text/html": [
       "<div>\n",
       "<style scoped>\n",
       "    .dataframe tbody tr th:only-of-type {\n",
       "        vertical-align: middle;\n",
       "    }\n",
       "\n",
       "    .dataframe tbody tr th {\n",
       "        vertical-align: top;\n",
       "    }\n",
       "\n",
       "    .dataframe thead th {\n",
       "        text-align: right;\n",
       "    }\n",
       "</style>\n",
       "<table border=\"1\" class=\"dataframe\">\n",
       "  <thead>\n",
       "    <tr style=\"text-align: right;\">\n",
       "      <th></th>\n",
       "      <th>BLEED_UNITS_TOT</th>\n",
       "      <th>counts</th>\n",
       "      <th>percentage</th>\n",
       "    </tr>\n",
       "  </thead>\n",
       "  <tbody>\n",
       "    <tr>\n",
       "      <th>0</th>\n",
       "      <td>1.0</td>\n",
       "      <td>7</td>\n",
       "      <td>53.8</td>\n",
       "    </tr>\n",
       "    <tr>\n",
       "      <th>1</th>\n",
       "      <td>2.0</td>\n",
       "      <td>6</td>\n",
       "      <td>46.2</td>\n",
       "    </tr>\n",
       "  </tbody>\n",
       "</table>\n",
       "</div>"
      ],
      "text/plain": [
       "   BLEED_UNITS_TOT  counts  percentage\n",
       "0              1.0       7        53.8\n",
       "1              2.0       6        46.2"
      ]
     },
     "execution_count": 221,
     "metadata": {},
     "output_type": "execute_result"
    }
   ],
   "source": [
    "df.groupby('BLEED_UNITS_TOT').size().reset_index(name='counts').assign(percentage=lambda x: (x['counts'] / df['BLEED_UNITS_TOT'].count()) * 100).round(1)"
   ]
  },
  {
   "cell_type": "code",
   "execution_count": 220,
   "id": "4f783a78-be88-4ca7-ae07-1c1d7a5ea3c4",
   "metadata": {},
   "outputs": [
    {
     "data": {
      "text/plain": [
       "np.float64(1.4615384615384615)"
      ]
     },
     "execution_count": 220,
     "metadata": {},
     "output_type": "execute_result"
    }
   ],
   "source": [
    "df['BLEED_UNITS_TOT'].mean()"
   ]
  },
  {
   "cell_type": "code",
   "execution_count": 222,
   "id": "a211df29-4832-4c34-8896-34b658cabfa0",
   "metadata": {},
   "outputs": [
    {
     "data": {
      "text/plain": [
       "np.float64(0.5188745216627708)"
      ]
     },
     "execution_count": 222,
     "metadata": {},
     "output_type": "execute_result"
    }
   ],
   "source": [
    "df['BLEED_UNITS_TOT'].std()"
   ]
  },
  {
   "cell_type": "code",
   "execution_count": 223,
   "id": "4625b104-6272-4a59-9a18-aa53903820a7",
   "metadata": {},
   "outputs": [
    {
     "data": {
      "text/plain": [
       "np.float64(1.0)"
      ]
     },
     "execution_count": 223,
     "metadata": {},
     "output_type": "execute_result"
    }
   ],
   "source": [
    "df['BLEED_UNITS_TOT'].median()"
   ]
  },
  {
   "cell_type": "code",
   "execution_count": 57,
   "id": "998671bf-5e56-4cb1-8f17-30e68a528538",
   "metadata": {},
   "outputs": [
    {
     "data": {
      "text/html": [
       "<div>\n",
       "<style scoped>\n",
       "    .dataframe tbody tr th:only-of-type {\n",
       "        vertical-align: middle;\n",
       "    }\n",
       "\n",
       "    .dataframe tbody tr th {\n",
       "        vertical-align: top;\n",
       "    }\n",
       "\n",
       "    .dataframe thead th {\n",
       "        text-align: right;\n",
       "    }\n",
       "</style>\n",
       "<table border=\"1\" class=\"dataframe\">\n",
       "  <thead>\n",
       "    <tr style=\"text-align: right;\">\n",
       "      <th></th>\n",
       "      <th>RENAINSF</th>\n",
       "      <th>counts</th>\n",
       "      <th>percentage</th>\n",
       "    </tr>\n",
       "  </thead>\n",
       "  <tbody>\n",
       "    <tr>\n",
       "      <th>0</th>\n",
       "      <td>No Complication</td>\n",
       "      <td>287</td>\n",
       "      <td>99.65</td>\n",
       "    </tr>\n",
       "    <tr>\n",
       "      <th>1</th>\n",
       "      <td>Postop  Renal Insufficiency</td>\n",
       "      <td>1</td>\n",
       "      <td>0.35</td>\n",
       "    </tr>\n",
       "  </tbody>\n",
       "</table>\n",
       "</div>"
      ],
      "text/plain": [
       "                      RENAINSF  counts  percentage\n",
       "0              No Complication     287       99.65\n",
       "1  Postop  Renal Insufficiency       1        0.35"
      ]
     },
     "execution_count": 57,
     "metadata": {},
     "output_type": "execute_result"
    }
   ],
   "source": [
    "df.groupby('RENAINSF').size().reset_index(name='counts').assign(percentage=lambda x: (x['counts'] / df['RENAINSF'].count()) * 100).round(2)"
   ]
  },
  {
   "cell_type": "code",
   "execution_count": 58,
   "id": "908d85fd-bbd1-43f1-9887-650e3fde681f",
   "metadata": {},
   "outputs": [
    {
     "data": {
      "text/html": [
       "<div>\n",
       "<style scoped>\n",
       "    .dataframe tbody tr th:only-of-type {\n",
       "        vertical-align: middle;\n",
       "    }\n",
       "\n",
       "    .dataframe tbody tr th {\n",
       "        vertical-align: top;\n",
       "    }\n",
       "\n",
       "    .dataframe thead th {\n",
       "        text-align: right;\n",
       "    }\n",
       "</style>\n",
       "<table border=\"1\" class=\"dataframe\">\n",
       "  <thead>\n",
       "    <tr style=\"text-align: right;\">\n",
       "      <th></th>\n",
       "      <th>RENAINSF</th>\n",
       "      <th>counts</th>\n",
       "      <th>percentage</th>\n",
       "    </tr>\n",
       "  </thead>\n",
       "  <tbody>\n",
       "    <tr>\n",
       "      <th>0</th>\n",
       "      <td>No Complication</td>\n",
       "      <td>1</td>\n",
       "      <td>100.0</td>\n",
       "    </tr>\n",
       "  </tbody>\n",
       "</table>\n",
       "</div>"
      ],
      "text/plain": [
       "          RENAINSF  counts  percentage\n",
       "0  No Complication       1       100.0"
      ]
     },
     "execution_count": 58,
     "metadata": {},
     "output_type": "execute_result"
    }
   ],
   "source": [
    "df_with57425.groupby('RENAINSF').size().reset_index(name='counts').assign(percentage=lambda x: (x['counts'] / df_with57425['RENAINSF'].count()) * 100).round(2)"
   ]
  },
  {
   "cell_type": "markdown",
   "id": "41594e2f-a828-45e7-a4a5-667d8b5b9bec",
   "metadata": {
    "jp-MarkdownHeadingCollapsed": true
   },
   "source": [
    "## Death"
   ]
  },
  {
   "cell_type": "code",
   "execution_count": 127,
   "id": "f0cfb81d-1384-4a72-b885-89c6f266b77e",
   "metadata": {
    "scrolled": true
   },
   "outputs": [
    {
     "data": {
      "text/html": [
       "<div>\n",
       "<style scoped>\n",
       "    .dataframe tbody tr th:only-of-type {\n",
       "        vertical-align: middle;\n",
       "    }\n",
       "\n",
       "    .dataframe tbody tr th {\n",
       "        vertical-align: top;\n",
       "    }\n",
       "\n",
       "    .dataframe thead th {\n",
       "        text-align: right;\n",
       "    }\n",
       "</style>\n",
       "<table border=\"1\" class=\"dataframe\">\n",
       "  <thead>\n",
       "    <tr style=\"text-align: right;\">\n",
       "      <th></th>\n",
       "      <th>YRDEATH</th>\n",
       "      <th>counts</th>\n",
       "      <th>percentage</th>\n",
       "    </tr>\n",
       "  </thead>\n",
       "  <tbody>\n",
       "    <tr>\n",
       "      <th>0</th>\n",
       "      <td>-99</td>\n",
       "      <td>413</td>\n",
       "      <td>100.0</td>\n",
       "    </tr>\n",
       "  </tbody>\n",
       "</table>\n",
       "</div>"
      ],
      "text/plain": [
       "   YRDEATH  counts  percentage\n",
       "0      -99     413       100.0"
      ]
     },
     "execution_count": 127,
     "metadata": {},
     "output_type": "execute_result"
    }
   ],
   "source": [
    "df.groupby('YRDEATH').size().reset_index(name='counts').assign(percentage=lambda x: (x['counts'] / df['YRDEATH'].count()) * 100).round(1)"
   ]
  },
  {
   "cell_type": "markdown",
   "id": "4944b2aa-a7a2-47aa-8bbc-bd908aad9636",
   "metadata": {},
   "source": [
    "# Data Preprocessing "
   ]
  },
  {
   "cell_type": "code",
   "execution_count": 2,
   "id": "be844e3e-da84-48fe-a511-581b318ce49f",
   "metadata": {},
   "outputs": [
    {
     "data": {
      "text/plain": [
       "'/Users/chuqiwang/Desktop/NSQIP'"
      ]
     },
     "execution_count": 2,
     "metadata": {},
     "output_type": "execute_result"
    }
   ],
   "source": [
    "import os\n",
    "os.getcwd()"
   ]
  },
  {
   "cell_type": "code",
   "execution_count": 3,
   "id": "e07361e1-9e6e-420b-981d-8085f90ffd0e",
   "metadata": {},
   "outputs": [
    {
     "name": "stdout",
     "output_type": "stream",
     "text": [
      "\u001b[34m2019\u001b[m\u001b[m\n",
      "\u001b[34m2020\u001b[m\u001b[m\n",
      "\u001b[34m2021\u001b[m\u001b[m\n",
      "\u001b[34m2022\u001b[m\u001b[m\n",
      "NSQIP template for 30 day outcomes for Masters Data Science students.docx\n",
      "NSQIP.docx\n",
      "NSQIP.pdf\n",
      "data_analysis.ipynb\n",
      "nsqip.csv\n"
     ]
    }
   ],
   "source": [
    "!ls"
   ]
  },
  {
   "cell_type": "code",
   "execution_count": 138,
   "id": "374b7c79-1980-4f38-a977-2483b3f19559",
   "metadata": {},
   "outputs": [
    {
     "data": {
      "text/html": [
       "<div>\n",
       "<style scoped>\n",
       "    .dataframe tbody tr th:only-of-type {\n",
       "        vertical-align: middle;\n",
       "    }\n",
       "\n",
       "    .dataframe tbody tr th {\n",
       "        vertical-align: top;\n",
       "    }\n",
       "\n",
       "    .dataframe thead th {\n",
       "        text-align: right;\n",
       "    }\n",
       "</style>\n",
       "<table border=\"1\" class=\"dataframe\">\n",
       "  <thead>\n",
       "    <tr style=\"text-align: right;\">\n",
       "      <th></th>\n",
       "      <th>PUFYEAR</th>\n",
       "      <th>CASEID</th>\n",
       "      <th>SEX</th>\n",
       "      <th>RACE_NEW</th>\n",
       "      <th>ETHNICITY_HISPANIC</th>\n",
       "      <th>PRNCPTX</th>\n",
       "      <th>CPT</th>\n",
       "      <th>WORKRVU</th>\n",
       "      <th>INOUT</th>\n",
       "      <th>TRANST</th>\n",
       "      <th>...</th>\n",
       "      <th>height_range</th>\n",
       "      <th>weight_range</th>\n",
       "      <th>BMI</th>\n",
       "      <th>BMI_range</th>\n",
       "      <th>weight_status</th>\n",
       "      <th>MORTPROB_range</th>\n",
       "      <th>major_medical_comorbidity</th>\n",
       "      <th>composite_outcome</th>\n",
       "      <th>major_complications</th>\n",
       "      <th>minor_complications</th>\n",
       "    </tr>\n",
       "  </thead>\n",
       "  <tbody>\n",
       "    <tr>\n",
       "      <th>0</th>\n",
       "      <td>2019</td>\n",
       "      <td>10180079</td>\n",
       "      <td>female</td>\n",
       "      <td>White</td>\n",
       "      <td>No</td>\n",
       "      <td>VAGINOPLASTY INTERSEX STATE</td>\n",
       "      <td>57335</td>\n",
       "      <td>20.02</td>\n",
       "      <td>Inpatient</td>\n",
       "      <td>Not transferred (admitted from home)</td>\n",
       "      <td>...</td>\n",
       "      <td>70-75</td>\n",
       "      <td>&gt;210</td>\n",
       "      <td>35.867347</td>\n",
       "      <td>[29.9, inf)</td>\n",
       "      <td>Obesity</td>\n",
       "      <td>0-0.0012</td>\n",
       "      <td>False</td>\n",
       "      <td>False</td>\n",
       "      <td>False</td>\n",
       "      <td>False</td>\n",
       "    </tr>\n",
       "    <tr>\n",
       "      <th>1</th>\n",
       "      <td>2019</td>\n",
       "      <td>9966012</td>\n",
       "      <td>female</td>\n",
       "      <td>White</td>\n",
       "      <td>No</td>\n",
       "      <td>VAGINOPLASTY INTERSEX STATE</td>\n",
       "      <td>57335</td>\n",
       "      <td>20.02</td>\n",
       "      <td>Outpatient</td>\n",
       "      <td>Not transferred (admitted from home)</td>\n",
       "      <td>...</td>\n",
       "      <td>65-70</td>\n",
       "      <td>170-190</td>\n",
       "      <td>30.449467</td>\n",
       "      <td>[29.9, inf)</td>\n",
       "      <td>Obesity</td>\n",
       "      <td>0-0.0012</td>\n",
       "      <td>False</td>\n",
       "      <td>False</td>\n",
       "      <td>False</td>\n",
       "      <td>False</td>\n",
       "    </tr>\n",
       "    <tr>\n",
       "      <th>2</th>\n",
       "      <td>2019</td>\n",
       "      <td>10077186</td>\n",
       "      <td>male</td>\n",
       "      <td>White</td>\n",
       "      <td>No</td>\n",
       "      <td>VAGINOPLASTY INTERSEX STATE</td>\n",
       "      <td>57335</td>\n",
       "      <td>20.02</td>\n",
       "      <td>Inpatient</td>\n",
       "      <td>Not transferred (admitted from home)</td>\n",
       "      <td>...</td>\n",
       "      <td>70-75</td>\n",
       "      <td>170-190</td>\n",
       "      <td>23.493243</td>\n",
       "      <td>[18.5, 24.9)</td>\n",
       "      <td>Normal weight</td>\n",
       "      <td>0-0.0012</td>\n",
       "      <td>False</td>\n",
       "      <td>False</td>\n",
       "      <td>False</td>\n",
       "      <td>False</td>\n",
       "    </tr>\n",
       "    <tr>\n",
       "      <th>3</th>\n",
       "      <td>2019</td>\n",
       "      <td>9693012</td>\n",
       "      <td>female</td>\n",
       "      <td>White</td>\n",
       "      <td>No</td>\n",
       "      <td>VAGINOPLASTY INTERSEX STATE</td>\n",
       "      <td>57335</td>\n",
       "      <td>20.02</td>\n",
       "      <td>Inpatient</td>\n",
       "      <td>Not transferred (admitted from home)</td>\n",
       "      <td>...</td>\n",
       "      <td>70-75</td>\n",
       "      <td>190-210</td>\n",
       "      <td>26.775640</td>\n",
       "      <td>[24.9, 29.9)</td>\n",
       "      <td>Overweight</td>\n",
       "      <td>0-0.0012</td>\n",
       "      <td>False</td>\n",
       "      <td>True</td>\n",
       "      <td>False</td>\n",
       "      <td>False</td>\n",
       "    </tr>\n",
       "    <tr>\n",
       "      <th>4</th>\n",
       "      <td>2019</td>\n",
       "      <td>9669598</td>\n",
       "      <td>female</td>\n",
       "      <td>White</td>\n",
       "      <td>No</td>\n",
       "      <td>VAGINOPLASTY INTERSEX STATE</td>\n",
       "      <td>57335</td>\n",
       "      <td>20.02</td>\n",
       "      <td>Outpatient</td>\n",
       "      <td>Not transferred (admitted from home)</td>\n",
       "      <td>...</td>\n",
       "      <td>65-70</td>\n",
       "      <td>&lt;150</td>\n",
       "      <td>21.262760</td>\n",
       "      <td>[18.5, 24.9)</td>\n",
       "      <td>Normal weight</td>\n",
       "      <td>0-0.0012</td>\n",
       "      <td>True</td>\n",
       "      <td>False</td>\n",
       "      <td>False</td>\n",
       "      <td>False</td>\n",
       "    </tr>\n",
       "    <tr>\n",
       "      <th>...</th>\n",
       "      <td>...</td>\n",
       "      <td>...</td>\n",
       "      <td>...</td>\n",
       "      <td>...</td>\n",
       "      <td>...</td>\n",
       "      <td>...</td>\n",
       "      <td>...</td>\n",
       "      <td>...</td>\n",
       "      <td>...</td>\n",
       "      <td>...</td>\n",
       "      <td>...</td>\n",
       "      <td>...</td>\n",
       "      <td>...</td>\n",
       "      <td>...</td>\n",
       "      <td>...</td>\n",
       "      <td>...</td>\n",
       "      <td>...</td>\n",
       "      <td>...</td>\n",
       "      <td>...</td>\n",
       "      <td>...</td>\n",
       "      <td>...</td>\n",
       "    </tr>\n",
       "    <tr>\n",
       "      <th>408</th>\n",
       "      <td>2022</td>\n",
       "      <td>13017610</td>\n",
       "      <td>female</td>\n",
       "      <td>White</td>\n",
       "      <td>No</td>\n",
       "      <td>VAGINOPLASTY INTERSEX STATE</td>\n",
       "      <td>57335</td>\n",
       "      <td>20.02</td>\n",
       "      <td>Inpatient</td>\n",
       "      <td>Home/Permanent residence</td>\n",
       "      <td>...</td>\n",
       "      <td>70-75</td>\n",
       "      <td>&lt;150</td>\n",
       "      <td>18.826622</td>\n",
       "      <td>[18.5, 24.9)</td>\n",
       "      <td>Normal weight</td>\n",
       "      <td>0-0.0012</td>\n",
       "      <td>False</td>\n",
       "      <td>False</td>\n",
       "      <td>False</td>\n",
       "      <td>False</td>\n",
       "    </tr>\n",
       "    <tr>\n",
       "      <th>409</th>\n",
       "      <td>2022</td>\n",
       "      <td>13017444</td>\n",
       "      <td>non-binary</td>\n",
       "      <td>Unknown/Not Reported</td>\n",
       "      <td>No</td>\n",
       "      <td>VAGINOPLASTY INTERSEX STATE</td>\n",
       "      <td>57335</td>\n",
       "      <td>20.02</td>\n",
       "      <td>Inpatient</td>\n",
       "      <td>Home/Permanent residence</td>\n",
       "      <td>...</td>\n",
       "      <td>70-75</td>\n",
       "      <td>150-170</td>\n",
       "      <td>22.237755</td>\n",
       "      <td>[18.5, 24.9)</td>\n",
       "      <td>Normal weight</td>\n",
       "      <td>0-0.0012</td>\n",
       "      <td>False</td>\n",
       "      <td>False</td>\n",
       "      <td>False</td>\n",
       "      <td>False</td>\n",
       "    </tr>\n",
       "    <tr>\n",
       "      <th>410</th>\n",
       "      <td>2022</td>\n",
       "      <td>13181013</td>\n",
       "      <td>non-binary</td>\n",
       "      <td>Unknown/Not Reported</td>\n",
       "      <td>No</td>\n",
       "      <td>INTERSEX SURG MALE FEMALE</td>\n",
       "      <td>55970</td>\n",
       "      <td>0.00</td>\n",
       "      <td>Inpatient</td>\n",
       "      <td>Home/Permanent residence</td>\n",
       "      <td>...</td>\n",
       "      <td>70-75</td>\n",
       "      <td>&gt;210</td>\n",
       "      <td>35.006531</td>\n",
       "      <td>[29.9, inf)</td>\n",
       "      <td>Obesity</td>\n",
       "      <td>0-0.0012</td>\n",
       "      <td>True</td>\n",
       "      <td>True</td>\n",
       "      <td>False</td>\n",
       "      <td>True</td>\n",
       "    </tr>\n",
       "    <tr>\n",
       "      <th>411</th>\n",
       "      <td>2022</td>\n",
       "      <td>13353838</td>\n",
       "      <td>male</td>\n",
       "      <td>Unknown/Not Reported</td>\n",
       "      <td>No</td>\n",
       "      <td>INTERSEX SURG MALE FEMALE</td>\n",
       "      <td>55970</td>\n",
       "      <td>0.00</td>\n",
       "      <td>Outpatient</td>\n",
       "      <td>Home/Permanent residence</td>\n",
       "      <td>...</td>\n",
       "      <td>70-75</td>\n",
       "      <td>170-190</td>\n",
       "      <td>25.107143</td>\n",
       "      <td>[24.9, 29.9)</td>\n",
       "      <td>Overweight</td>\n",
       "      <td>0-0.0012</td>\n",
       "      <td>False</td>\n",
       "      <td>False</td>\n",
       "      <td>False</td>\n",
       "      <td>False</td>\n",
       "    </tr>\n",
       "    <tr>\n",
       "      <th>412</th>\n",
       "      <td>2022</td>\n",
       "      <td>13385918</td>\n",
       "      <td>female</td>\n",
       "      <td>White</td>\n",
       "      <td>No</td>\n",
       "      <td>VAGINOPLASTY INTERSEX STATE</td>\n",
       "      <td>57335</td>\n",
       "      <td>20.02</td>\n",
       "      <td>Inpatient</td>\n",
       "      <td>Home/Permanent residence</td>\n",
       "      <td>...</td>\n",
       "      <td>60-65</td>\n",
       "      <td>150-170</td>\n",
       "      <td>28.833984</td>\n",
       "      <td>[24.9, 29.9)</td>\n",
       "      <td>Overweight</td>\n",
       "      <td>0.0012-0.0024</td>\n",
       "      <td>True</td>\n",
       "      <td>False</td>\n",
       "      <td>False</td>\n",
       "      <td>False</td>\n",
       "    </tr>\n",
       "  </tbody>\n",
       "</table>\n",
       "<p>413 rows × 305 columns</p>\n",
       "</div>"
      ],
      "text/plain": [
       "     PUFYEAR    CASEID         SEX              RACE_NEW ETHNICITY_HISPANIC  \\\n",
       "0       2019  10180079      female                 White                 No   \n",
       "1       2019   9966012      female                 White                 No   \n",
       "2       2019  10077186        male                 White                 No   \n",
       "3       2019   9693012      female                 White                 No   \n",
       "4       2019   9669598      female                 White                 No   \n",
       "..       ...       ...         ...                   ...                ...   \n",
       "408     2022  13017610      female                 White                 No   \n",
       "409     2022  13017444  non-binary  Unknown/Not Reported                 No   \n",
       "410     2022  13181013  non-binary  Unknown/Not Reported                 No   \n",
       "411     2022  13353838        male  Unknown/Not Reported                 No   \n",
       "412     2022  13385918      female                 White                 No   \n",
       "\n",
       "                         PRNCPTX    CPT  WORKRVU       INOUT  \\\n",
       "0    VAGINOPLASTY INTERSEX STATE  57335    20.02   Inpatient   \n",
       "1    VAGINOPLASTY INTERSEX STATE  57335    20.02  Outpatient   \n",
       "2    VAGINOPLASTY INTERSEX STATE  57335    20.02   Inpatient   \n",
       "3    VAGINOPLASTY INTERSEX STATE  57335    20.02   Inpatient   \n",
       "4    VAGINOPLASTY INTERSEX STATE  57335    20.02  Outpatient   \n",
       "..                           ...    ...      ...         ...   \n",
       "408  VAGINOPLASTY INTERSEX STATE  57335    20.02   Inpatient   \n",
       "409  VAGINOPLASTY INTERSEX STATE  57335    20.02   Inpatient   \n",
       "410    INTERSEX SURG MALE FEMALE  55970     0.00   Inpatient   \n",
       "411    INTERSEX SURG MALE FEMALE  55970     0.00  Outpatient   \n",
       "412  VAGINOPLASTY INTERSEX STATE  57335    20.02   Inpatient   \n",
       "\n",
       "                                   TRANST  ...  height_range  weight_range  \\\n",
       "0    Not transferred (admitted from home)  ...         70-75          >210   \n",
       "1    Not transferred (admitted from home)  ...         65-70       170-190   \n",
       "2    Not transferred (admitted from home)  ...         70-75       170-190   \n",
       "3    Not transferred (admitted from home)  ...         70-75       190-210   \n",
       "4    Not transferred (admitted from home)  ...         65-70          <150   \n",
       "..                                    ...  ...           ...           ...   \n",
       "408              Home/Permanent residence  ...         70-75          <150   \n",
       "409              Home/Permanent residence  ...         70-75       150-170   \n",
       "410              Home/Permanent residence  ...         70-75          >210   \n",
       "411              Home/Permanent residence  ...         70-75       170-190   \n",
       "412              Home/Permanent residence  ...         60-65       150-170   \n",
       "\n",
       "           BMI     BMI_range  weight_status MORTPROB_range  \\\n",
       "0    35.867347   [29.9, inf)        Obesity       0-0.0012   \n",
       "1    30.449467   [29.9, inf)        Obesity       0-0.0012   \n",
       "2    23.493243  [18.5, 24.9)  Normal weight       0-0.0012   \n",
       "3    26.775640  [24.9, 29.9)     Overweight       0-0.0012   \n",
       "4    21.262760  [18.5, 24.9)  Normal weight       0-0.0012   \n",
       "..         ...           ...            ...            ...   \n",
       "408  18.826622  [18.5, 24.9)  Normal weight       0-0.0012   \n",
       "409  22.237755  [18.5, 24.9)  Normal weight       0-0.0012   \n",
       "410  35.006531   [29.9, inf)        Obesity       0-0.0012   \n",
       "411  25.107143  [24.9, 29.9)     Overweight       0-0.0012   \n",
       "412  28.833984  [24.9, 29.9)     Overweight  0.0012-0.0024   \n",
       "\n",
       "    major_medical_comorbidity  composite_outcome  major_complications  \\\n",
       "0                       False              False                False   \n",
       "1                       False              False                False   \n",
       "2                       False              False                False   \n",
       "3                       False               True                False   \n",
       "4                        True              False                False   \n",
       "..                        ...                ...                  ...   \n",
       "408                     False              False                False   \n",
       "409                     False              False                False   \n",
       "410                      True               True                False   \n",
       "411                     False              False                False   \n",
       "412                      True              False                False   \n",
       "\n",
       "    minor_complications  \n",
       "0                 False  \n",
       "1                 False  \n",
       "2                 False  \n",
       "3                 False  \n",
       "4                 False  \n",
       "..                  ...  \n",
       "408               False  \n",
       "409               False  \n",
       "410                True  \n",
       "411               False  \n",
       "412               False  \n",
       "\n",
       "[413 rows x 305 columns]"
      ]
     },
     "execution_count": 138,
     "metadata": {},
     "output_type": "execute_result"
    }
   ],
   "source": [
    "df"
   ]
  },
  {
   "cell_type": "code",
   "execution_count": 149,
   "id": "96ad1113-cde1-4ac7-a1a7-ba2e1ee24e06",
   "metadata": {},
   "outputs": [
    {
     "data": {
      "text/plain": [
       "PUFYEAR                       int64\n",
       "CASEID                        int64\n",
       "SEX                          object\n",
       "RACE_NEW                     object\n",
       "ETHNICITY_HISPANIC           object\n",
       "                              ...  \n",
       "major_medical_comorbidity      bool\n",
       "composite_outcome              bool\n",
       "major_complications            bool\n",
       "minor_complications            bool\n",
       "Numer of Patients             int64\n",
       "Length: 306, dtype: object"
      ]
     },
     "execution_count": 149,
     "metadata": {},
     "output_type": "execute_result"
    }
   ],
   "source": [
    "df.dtypes"
   ]
  },
  {
   "cell_type": "code",
   "execution_count": 140,
   "id": "872d461f-c7af-48e2-9af9-b74f3f966a91",
   "metadata": {},
   "outputs": [
    {
     "name": "stderr",
     "output_type": "stream",
     "text": [
      "/var/folders/m8/kh2nk5652k94h_n7lqjvr8n00000gn/T/ipykernel_74986/2976992427.py:1: PerformanceWarning: DataFrame is highly fragmented.  This is usually the result of calling `frame.insert` many times, which has poor performance.  Consider joining all columns at once using pd.concat(axis=1) instead. To get a de-fragmented frame, use `newframe = frame.copy()`\n",
      "  df['Numer of Patients'] = 1\n"
     ]
    }
   ],
   "source": [
    "df['Numer of Patients'] = 1"
   ]
  },
  {
   "cell_type": "code",
   "execution_count": 206,
   "id": "b338ae53-d4fd-404d-90f9-1f2beec4efad",
   "metadata": {},
   "outputs": [],
   "source": [
    "nsqip = df[['composite_outcome', 'RACE_NEW', 'SEX', 'ETHNICITY_HISPANIC', 'INOUT', 'AGE', 'AGE_GROUP', 'OPERYR', \n",
    "            'ANESTHES', 'SURGSPEC', 'WEIGHT', 'weight_range', 'HEIGHT', 'height_range', 'BMI', 'BMI_range', 'ASACLAS', \n",
    "            'MORTPROB', 'MORTPROB_range', 'SMOKE', 'PODIAG10', 'CPT', 'CONCURR', 'HXCHF', 'ASCITES', 'HXCOPD', 'VENTILAT', 'RENAFAIL', 'DIALYSIS',\n",
    "            'STEROID', 'BLEEDDIS', 'WTLOSS', 'HYPERMED', 'DIABETES', 'DISCANCR', 'major_medical_comorbidity', \n",
    "            'major_complications', 'minor_complications', 'Numer of Patients']]"
   ]
  },
  {
   "cell_type": "code",
   "execution_count": 207,
   "id": "d99c8b05-96f9-4a48-9604-8146f480ba68",
   "metadata": {},
   "outputs": [
    {
     "data": {
      "text/html": [
       "<div>\n",
       "<style scoped>\n",
       "    .dataframe tbody tr th:only-of-type {\n",
       "        vertical-align: middle;\n",
       "    }\n",
       "\n",
       "    .dataframe tbody tr th {\n",
       "        vertical-align: top;\n",
       "    }\n",
       "\n",
       "    .dataframe thead th {\n",
       "        text-align: right;\n",
       "    }\n",
       "</style>\n",
       "<table border=\"1\" class=\"dataframe\">\n",
       "  <thead>\n",
       "    <tr style=\"text-align: right;\">\n",
       "      <th></th>\n",
       "      <th>composite_outcome</th>\n",
       "      <th>RACE_NEW</th>\n",
       "      <th>SEX</th>\n",
       "      <th>ETHNICITY_HISPANIC</th>\n",
       "      <th>INOUT</th>\n",
       "      <th>AGE</th>\n",
       "      <th>AGE_GROUP</th>\n",
       "      <th>OPERYR</th>\n",
       "      <th>ANESTHES</th>\n",
       "      <th>SURGSPEC</th>\n",
       "      <th>...</th>\n",
       "      <th>STEROID</th>\n",
       "      <th>BLEEDDIS</th>\n",
       "      <th>WTLOSS</th>\n",
       "      <th>HYPERMED</th>\n",
       "      <th>DIABETES</th>\n",
       "      <th>DISCANCR</th>\n",
       "      <th>major_medical_comorbidity</th>\n",
       "      <th>major_complications</th>\n",
       "      <th>minor_complications</th>\n",
       "      <th>Numer of Patients</th>\n",
       "    </tr>\n",
       "  </thead>\n",
       "  <tbody>\n",
       "    <tr>\n",
       "      <th>0</th>\n",
       "      <td>False</td>\n",
       "      <td>White</td>\n",
       "      <td>female</td>\n",
       "      <td>No</td>\n",
       "      <td>Inpatient</td>\n",
       "      <td>28</td>\n",
       "      <td>20-30</td>\n",
       "      <td>2019</td>\n",
       "      <td>General</td>\n",
       "      <td>Plastics</td>\n",
       "      <td>...</td>\n",
       "      <td>No</td>\n",
       "      <td>No</td>\n",
       "      <td>No</td>\n",
       "      <td>No</td>\n",
       "      <td>NO</td>\n",
       "      <td>No</td>\n",
       "      <td>False</td>\n",
       "      <td>False</td>\n",
       "      <td>False</td>\n",
       "      <td>1</td>\n",
       "    </tr>\n",
       "    <tr>\n",
       "      <th>1</th>\n",
       "      <td>False</td>\n",
       "      <td>White</td>\n",
       "      <td>female</td>\n",
       "      <td>No</td>\n",
       "      <td>Outpatient</td>\n",
       "      <td>33</td>\n",
       "      <td>30-40</td>\n",
       "      <td>2019</td>\n",
       "      <td>General</td>\n",
       "      <td>Plastics</td>\n",
       "      <td>...</td>\n",
       "      <td>No</td>\n",
       "      <td>No</td>\n",
       "      <td>No</td>\n",
       "      <td>No</td>\n",
       "      <td>NO</td>\n",
       "      <td>No</td>\n",
       "      <td>False</td>\n",
       "      <td>False</td>\n",
       "      <td>False</td>\n",
       "      <td>1</td>\n",
       "    </tr>\n",
       "    <tr>\n",
       "      <th>2</th>\n",
       "      <td>False</td>\n",
       "      <td>White</td>\n",
       "      <td>male</td>\n",
       "      <td>No</td>\n",
       "      <td>Inpatient</td>\n",
       "      <td>55</td>\n",
       "      <td>50-60</td>\n",
       "      <td>2019</td>\n",
       "      <td>General</td>\n",
       "      <td>Plastics</td>\n",
       "      <td>...</td>\n",
       "      <td>No</td>\n",
       "      <td>No</td>\n",
       "      <td>No</td>\n",
       "      <td>No</td>\n",
       "      <td>NO</td>\n",
       "      <td>No</td>\n",
       "      <td>False</td>\n",
       "      <td>False</td>\n",
       "      <td>False</td>\n",
       "      <td>1</td>\n",
       "    </tr>\n",
       "    <tr>\n",
       "      <th>3</th>\n",
       "      <td>True</td>\n",
       "      <td>White</td>\n",
       "      <td>female</td>\n",
       "      <td>No</td>\n",
       "      <td>Inpatient</td>\n",
       "      <td>47</td>\n",
       "      <td>40-50</td>\n",
       "      <td>2019</td>\n",
       "      <td>General</td>\n",
       "      <td>Plastics</td>\n",
       "      <td>...</td>\n",
       "      <td>No</td>\n",
       "      <td>No</td>\n",
       "      <td>No</td>\n",
       "      <td>No</td>\n",
       "      <td>NO</td>\n",
       "      <td>No</td>\n",
       "      <td>False</td>\n",
       "      <td>False</td>\n",
       "      <td>False</td>\n",
       "      <td>1</td>\n",
       "    </tr>\n",
       "    <tr>\n",
       "      <th>4</th>\n",
       "      <td>False</td>\n",
       "      <td>White</td>\n",
       "      <td>female</td>\n",
       "      <td>No</td>\n",
       "      <td>Outpatient</td>\n",
       "      <td>49</td>\n",
       "      <td>40-50</td>\n",
       "      <td>2019</td>\n",
       "      <td>General</td>\n",
       "      <td>Plastics</td>\n",
       "      <td>...</td>\n",
       "      <td>Yes</td>\n",
       "      <td>No</td>\n",
       "      <td>No</td>\n",
       "      <td>No</td>\n",
       "      <td>NO</td>\n",
       "      <td>No</td>\n",
       "      <td>True</td>\n",
       "      <td>False</td>\n",
       "      <td>False</td>\n",
       "      <td>1</td>\n",
       "    </tr>\n",
       "    <tr>\n",
       "      <th>...</th>\n",
       "      <td>...</td>\n",
       "      <td>...</td>\n",
       "      <td>...</td>\n",
       "      <td>...</td>\n",
       "      <td>...</td>\n",
       "      <td>...</td>\n",
       "      <td>...</td>\n",
       "      <td>...</td>\n",
       "      <td>...</td>\n",
       "      <td>...</td>\n",
       "      <td>...</td>\n",
       "      <td>...</td>\n",
       "      <td>...</td>\n",
       "      <td>...</td>\n",
       "      <td>...</td>\n",
       "      <td>...</td>\n",
       "      <td>...</td>\n",
       "      <td>...</td>\n",
       "      <td>...</td>\n",
       "      <td>...</td>\n",
       "      <td>...</td>\n",
       "    </tr>\n",
       "    <tr>\n",
       "      <th>408</th>\n",
       "      <td>False</td>\n",
       "      <td>White</td>\n",
       "      <td>female</td>\n",
       "      <td>No</td>\n",
       "      <td>Inpatient</td>\n",
       "      <td>30</td>\n",
       "      <td>30-40</td>\n",
       "      <td>2022</td>\n",
       "      <td>General</td>\n",
       "      <td>Plastics</td>\n",
       "      <td>...</td>\n",
       "      <td>No</td>\n",
       "      <td>No</td>\n",
       "      <td>NaN</td>\n",
       "      <td>No</td>\n",
       "      <td>NO</td>\n",
       "      <td>No</td>\n",
       "      <td>False</td>\n",
       "      <td>False</td>\n",
       "      <td>False</td>\n",
       "      <td>1</td>\n",
       "    </tr>\n",
       "    <tr>\n",
       "      <th>409</th>\n",
       "      <td>False</td>\n",
       "      <td>Unknown/Not Reported</td>\n",
       "      <td>non-binary</td>\n",
       "      <td>No</td>\n",
       "      <td>Inpatient</td>\n",
       "      <td>27</td>\n",
       "      <td>20-30</td>\n",
       "      <td>2022</td>\n",
       "      <td>General</td>\n",
       "      <td>Plastics</td>\n",
       "      <td>...</td>\n",
       "      <td>No</td>\n",
       "      <td>No</td>\n",
       "      <td>NaN</td>\n",
       "      <td>No</td>\n",
       "      <td>NO</td>\n",
       "      <td>No</td>\n",
       "      <td>False</td>\n",
       "      <td>False</td>\n",
       "      <td>False</td>\n",
       "      <td>1</td>\n",
       "    </tr>\n",
       "    <tr>\n",
       "      <th>410</th>\n",
       "      <td>True</td>\n",
       "      <td>Unknown/Not Reported</td>\n",
       "      <td>non-binary</td>\n",
       "      <td>No</td>\n",
       "      <td>Inpatient</td>\n",
       "      <td>44</td>\n",
       "      <td>40-50</td>\n",
       "      <td>2022</td>\n",
       "      <td>General</td>\n",
       "      <td>Plastics</td>\n",
       "      <td>...</td>\n",
       "      <td>No</td>\n",
       "      <td>No</td>\n",
       "      <td>NaN</td>\n",
       "      <td>Yes</td>\n",
       "      <td>NO</td>\n",
       "      <td>No</td>\n",
       "      <td>True</td>\n",
       "      <td>False</td>\n",
       "      <td>True</td>\n",
       "      <td>1</td>\n",
       "    </tr>\n",
       "    <tr>\n",
       "      <th>411</th>\n",
       "      <td>False</td>\n",
       "      <td>Unknown/Not Reported</td>\n",
       "      <td>male</td>\n",
       "      <td>No</td>\n",
       "      <td>Outpatient</td>\n",
       "      <td>37</td>\n",
       "      <td>30-40</td>\n",
       "      <td>2022</td>\n",
       "      <td>General</td>\n",
       "      <td>Plastics</td>\n",
       "      <td>...</td>\n",
       "      <td>No</td>\n",
       "      <td>No</td>\n",
       "      <td>NaN</td>\n",
       "      <td>No</td>\n",
       "      <td>NO</td>\n",
       "      <td>No</td>\n",
       "      <td>False</td>\n",
       "      <td>False</td>\n",
       "      <td>False</td>\n",
       "      <td>1</td>\n",
       "    </tr>\n",
       "    <tr>\n",
       "      <th>412</th>\n",
       "      <td>False</td>\n",
       "      <td>White</td>\n",
       "      <td>female</td>\n",
       "      <td>No</td>\n",
       "      <td>Inpatient</td>\n",
       "      <td>73</td>\n",
       "      <td>70-80</td>\n",
       "      <td>2022</td>\n",
       "      <td>General</td>\n",
       "      <td>Plastics</td>\n",
       "      <td>...</td>\n",
       "      <td>No</td>\n",
       "      <td>No</td>\n",
       "      <td>NaN</td>\n",
       "      <td>Yes</td>\n",
       "      <td>NO</td>\n",
       "      <td>No</td>\n",
       "      <td>True</td>\n",
       "      <td>False</td>\n",
       "      <td>False</td>\n",
       "      <td>1</td>\n",
       "    </tr>\n",
       "  </tbody>\n",
       "</table>\n",
       "<p>413 rows × 39 columns</p>\n",
       "</div>"
      ],
      "text/plain": [
       "     composite_outcome              RACE_NEW         SEX ETHNICITY_HISPANIC  \\\n",
       "0                False                 White      female                 No   \n",
       "1                False                 White      female                 No   \n",
       "2                False                 White        male                 No   \n",
       "3                 True                 White      female                 No   \n",
       "4                False                 White      female                 No   \n",
       "..                 ...                   ...         ...                ...   \n",
       "408              False                 White      female                 No   \n",
       "409              False  Unknown/Not Reported  non-binary                 No   \n",
       "410               True  Unknown/Not Reported  non-binary                 No   \n",
       "411              False  Unknown/Not Reported        male                 No   \n",
       "412              False                 White      female                 No   \n",
       "\n",
       "          INOUT  AGE AGE_GROUP  OPERYR ANESTHES  SURGSPEC  ...  STEROID  \\\n",
       "0     Inpatient   28     20-30    2019  General  Plastics  ...       No   \n",
       "1    Outpatient   33     30-40    2019  General  Plastics  ...       No   \n",
       "2     Inpatient   55     50-60    2019  General  Plastics  ...       No   \n",
       "3     Inpatient   47     40-50    2019  General  Plastics  ...       No   \n",
       "4    Outpatient   49     40-50    2019  General  Plastics  ...      Yes   \n",
       "..          ...  ...       ...     ...      ...       ...  ...      ...   \n",
       "408   Inpatient   30     30-40    2022  General  Plastics  ...       No   \n",
       "409   Inpatient   27     20-30    2022  General  Plastics  ...       No   \n",
       "410   Inpatient   44     40-50    2022  General  Plastics  ...       No   \n",
       "411  Outpatient   37     30-40    2022  General  Plastics  ...       No   \n",
       "412   Inpatient   73     70-80    2022  General  Plastics  ...       No   \n",
       "\n",
       "    BLEEDDIS  WTLOSS HYPERMED  DIABETES DISCANCR major_medical_comorbidity  \\\n",
       "0         No      No       No        NO       No                     False   \n",
       "1         No      No       No        NO       No                     False   \n",
       "2         No      No       No        NO       No                     False   \n",
       "3         No      No       No        NO       No                     False   \n",
       "4         No      No       No        NO       No                      True   \n",
       "..       ...     ...      ...       ...      ...                       ...   \n",
       "408       No     NaN       No        NO       No                     False   \n",
       "409       No     NaN       No        NO       No                     False   \n",
       "410       No     NaN      Yes        NO       No                      True   \n",
       "411       No     NaN       No        NO       No                     False   \n",
       "412       No     NaN      Yes        NO       No                      True   \n",
       "\n",
       "     major_complications minor_complications Numer of Patients  \n",
       "0                  False               False                 1  \n",
       "1                  False               False                 1  \n",
       "2                  False               False                 1  \n",
       "3                  False               False                 1  \n",
       "4                  False               False                 1  \n",
       "..                   ...                 ...               ...  \n",
       "408                False               False                 1  \n",
       "409                False               False                 1  \n",
       "410                False                True                 1  \n",
       "411                False               False                 1  \n",
       "412                False               False                 1  \n",
       "\n",
       "[413 rows x 39 columns]"
      ]
     },
     "execution_count": 207,
     "metadata": {},
     "output_type": "execute_result"
    }
   ],
   "source": [
    "nsqip"
   ]
  },
  {
   "cell_type": "code",
   "execution_count": 208,
   "id": "b3e11fa1-c267-4d25-9524-20133bf8d83a",
   "metadata": {},
   "outputs": [],
   "source": [
    "nsqip.to_csv('nsqip_cleaned.csv')"
   ]
  },
  {
   "cell_type": "code",
   "execution_count": 183,
   "id": "cb136ab4-012d-4d5a-8ead-db3f4ab416c6",
   "metadata": {},
   "outputs": [],
   "source": [
    "df.to_csv('nsqip.csv')"
   ]
  },
  {
   "cell_type": "code",
   "execution_count": 209,
   "id": "ac5b627f-7b60-43ce-9b0a-a5f1bc41b6de",
   "metadata": {},
   "outputs": [
    {
     "data": {
      "text/html": [
       "<div>\n",
       "<style scoped>\n",
       "    .dataframe tbody tr th:only-of-type {\n",
       "        vertical-align: middle;\n",
       "    }\n",
       "\n",
       "    .dataframe tbody tr th {\n",
       "        vertical-align: top;\n",
       "    }\n",
       "\n",
       "    .dataframe thead th {\n",
       "        text-align: right;\n",
       "    }\n",
       "</style>\n",
       "<table border=\"1\" class=\"dataframe\">\n",
       "  <thead>\n",
       "    <tr style=\"text-align: right;\">\n",
       "      <th></th>\n",
       "      <th>composite_outcome</th>\n",
       "      <th>AGE</th>\n",
       "      <th>OPERYR</th>\n",
       "      <th>WEIGHT</th>\n",
       "      <th>HEIGHT</th>\n",
       "      <th>BMI</th>\n",
       "      <th>MORTPROB</th>\n",
       "      <th>CPT</th>\n",
       "      <th>CONCURR</th>\n",
       "      <th>major_medical_comorbidity</th>\n",
       "      <th>...</th>\n",
       "      <th>MORTPROB_range_0.0048-0.006</th>\n",
       "      <th>SMOKE_Yes</th>\n",
       "      <th>PODIAG10_F64.1</th>\n",
       "      <th>PODIAG10_F64.9</th>\n",
       "      <th>PODIAG10_Z87.890</th>\n",
       "      <th>STEROID_Yes</th>\n",
       "      <th>BLEEDDIS_Yes</th>\n",
       "      <th>HYPERMED_Yes</th>\n",
       "      <th>DIABETES_NO</th>\n",
       "      <th>DIABETES_NON-INSULIN</th>\n",
       "    </tr>\n",
       "  </thead>\n",
       "  <tbody>\n",
       "    <tr>\n",
       "      <th>0</th>\n",
       "      <td>False</td>\n",
       "      <td>28</td>\n",
       "      <td>2019</td>\n",
       "      <td>250.0</td>\n",
       "      <td>70.0</td>\n",
       "      <td>35.867347</td>\n",
       "      <td>0.000247</td>\n",
       "      <td>57335</td>\n",
       "      <td>False</td>\n",
       "      <td>False</td>\n",
       "      <td>...</td>\n",
       "      <td>False</td>\n",
       "      <td>False</td>\n",
       "      <td>False</td>\n",
       "      <td>False</td>\n",
       "      <td>False</td>\n",
       "      <td>False</td>\n",
       "      <td>False</td>\n",
       "      <td>False</td>\n",
       "      <td>True</td>\n",
       "      <td>False</td>\n",
       "    </tr>\n",
       "    <tr>\n",
       "      <th>1</th>\n",
       "      <td>False</td>\n",
       "      <td>33</td>\n",
       "      <td>2019</td>\n",
       "      <td>183.0</td>\n",
       "      <td>65.0</td>\n",
       "      <td>30.449467</td>\n",
       "      <td>0.000424</td>\n",
       "      <td>57335</td>\n",
       "      <td>False</td>\n",
       "      <td>False</td>\n",
       "      <td>...</td>\n",
       "      <td>False</td>\n",
       "      <td>False</td>\n",
       "      <td>True</td>\n",
       "      <td>False</td>\n",
       "      <td>False</td>\n",
       "      <td>False</td>\n",
       "      <td>False</td>\n",
       "      <td>False</td>\n",
       "      <td>True</td>\n",
       "      <td>False</td>\n",
       "    </tr>\n",
       "    <tr>\n",
       "      <th>2</th>\n",
       "      <td>False</td>\n",
       "      <td>55</td>\n",
       "      <td>2019</td>\n",
       "      <td>183.0</td>\n",
       "      <td>74.0</td>\n",
       "      <td>23.493243</td>\n",
       "      <td>0.001034</td>\n",
       "      <td>57335</td>\n",
       "      <td>False</td>\n",
       "      <td>False</td>\n",
       "      <td>...</td>\n",
       "      <td>False</td>\n",
       "      <td>False</td>\n",
       "      <td>False</td>\n",
       "      <td>False</td>\n",
       "      <td>False</td>\n",
       "      <td>False</td>\n",
       "      <td>False</td>\n",
       "      <td>False</td>\n",
       "      <td>True</td>\n",
       "      <td>False</td>\n",
       "    </tr>\n",
       "    <tr>\n",
       "      <th>3</th>\n",
       "      <td>True</td>\n",
       "      <td>47</td>\n",
       "      <td>2019</td>\n",
       "      <td>192.0</td>\n",
       "      <td>71.0</td>\n",
       "      <td>26.775640</td>\n",
       "      <td>0.000532</td>\n",
       "      <td>57335</td>\n",
       "      <td>False</td>\n",
       "      <td>False</td>\n",
       "      <td>...</td>\n",
       "      <td>False</td>\n",
       "      <td>False</td>\n",
       "      <td>False</td>\n",
       "      <td>False</td>\n",
       "      <td>False</td>\n",
       "      <td>False</td>\n",
       "      <td>False</td>\n",
       "      <td>False</td>\n",
       "      <td>True</td>\n",
       "      <td>False</td>\n",
       "    </tr>\n",
       "    <tr>\n",
       "      <th>4</th>\n",
       "      <td>False</td>\n",
       "      <td>49</td>\n",
       "      <td>2019</td>\n",
       "      <td>144.0</td>\n",
       "      <td>69.0</td>\n",
       "      <td>21.262760</td>\n",
       "      <td>0.001096</td>\n",
       "      <td>57335</td>\n",
       "      <td>False</td>\n",
       "      <td>True</td>\n",
       "      <td>...</td>\n",
       "      <td>False</td>\n",
       "      <td>False</td>\n",
       "      <td>False</td>\n",
       "      <td>False</td>\n",
       "      <td>False</td>\n",
       "      <td>True</td>\n",
       "      <td>False</td>\n",
       "      <td>False</td>\n",
       "      <td>True</td>\n",
       "      <td>False</td>\n",
       "    </tr>\n",
       "    <tr>\n",
       "      <th>...</th>\n",
       "      <td>...</td>\n",
       "      <td>...</td>\n",
       "      <td>...</td>\n",
       "      <td>...</td>\n",
       "      <td>...</td>\n",
       "      <td>...</td>\n",
       "      <td>...</td>\n",
       "      <td>...</td>\n",
       "      <td>...</td>\n",
       "      <td>...</td>\n",
       "      <td>...</td>\n",
       "      <td>...</td>\n",
       "      <td>...</td>\n",
       "      <td>...</td>\n",
       "      <td>...</td>\n",
       "      <td>...</td>\n",
       "      <td>...</td>\n",
       "      <td>...</td>\n",
       "      <td>...</td>\n",
       "      <td>...</td>\n",
       "      <td>...</td>\n",
       "    </tr>\n",
       "    <tr>\n",
       "      <th>408</th>\n",
       "      <td>False</td>\n",
       "      <td>30</td>\n",
       "      <td>2022</td>\n",
       "      <td>135.0</td>\n",
       "      <td>71.0</td>\n",
       "      <td>18.826622</td>\n",
       "      <td>0.000140</td>\n",
       "      <td>57335</td>\n",
       "      <td>False</td>\n",
       "      <td>False</td>\n",
       "      <td>...</td>\n",
       "      <td>False</td>\n",
       "      <td>False</td>\n",
       "      <td>False</td>\n",
       "      <td>False</td>\n",
       "      <td>False</td>\n",
       "      <td>False</td>\n",
       "      <td>False</td>\n",
       "      <td>False</td>\n",
       "      <td>True</td>\n",
       "      <td>False</td>\n",
       "    </tr>\n",
       "    <tr>\n",
       "      <th>409</th>\n",
       "      <td>False</td>\n",
       "      <td>27</td>\n",
       "      <td>2022</td>\n",
       "      <td>155.0</td>\n",
       "      <td>70.0</td>\n",
       "      <td>22.237755</td>\n",
       "      <td>0.000117</td>\n",
       "      <td>57335</td>\n",
       "      <td>False</td>\n",
       "      <td>False</td>\n",
       "      <td>...</td>\n",
       "      <td>False</td>\n",
       "      <td>False</td>\n",
       "      <td>False</td>\n",
       "      <td>False</td>\n",
       "      <td>False</td>\n",
       "      <td>False</td>\n",
       "      <td>False</td>\n",
       "      <td>False</td>\n",
       "      <td>True</td>\n",
       "      <td>False</td>\n",
       "    </tr>\n",
       "    <tr>\n",
       "      <th>410</th>\n",
       "      <td>True</td>\n",
       "      <td>44</td>\n",
       "      <td>2022</td>\n",
       "      <td>244.0</td>\n",
       "      <td>70.0</td>\n",
       "      <td>35.006531</td>\n",
       "      <td>0.000129</td>\n",
       "      <td>55970</td>\n",
       "      <td>False</td>\n",
       "      <td>True</td>\n",
       "      <td>...</td>\n",
       "      <td>False</td>\n",
       "      <td>False</td>\n",
       "      <td>False</td>\n",
       "      <td>False</td>\n",
       "      <td>False</td>\n",
       "      <td>False</td>\n",
       "      <td>False</td>\n",
       "      <td>True</td>\n",
       "      <td>True</td>\n",
       "      <td>False</td>\n",
       "    </tr>\n",
       "    <tr>\n",
       "      <th>411</th>\n",
       "      <td>False</td>\n",
       "      <td>37</td>\n",
       "      <td>2022</td>\n",
       "      <td>175.0</td>\n",
       "      <td>70.0</td>\n",
       "      <td>25.107143</td>\n",
       "      <td>0.000067</td>\n",
       "      <td>55970</td>\n",
       "      <td>False</td>\n",
       "      <td>False</td>\n",
       "      <td>...</td>\n",
       "      <td>False</td>\n",
       "      <td>False</td>\n",
       "      <td>False</td>\n",
       "      <td>True</td>\n",
       "      <td>False</td>\n",
       "      <td>False</td>\n",
       "      <td>False</td>\n",
       "      <td>False</td>\n",
       "      <td>True</td>\n",
       "      <td>False</td>\n",
       "    </tr>\n",
       "    <tr>\n",
       "      <th>412</th>\n",
       "      <td>False</td>\n",
       "      <td>73</td>\n",
       "      <td>2022</td>\n",
       "      <td>168.0</td>\n",
       "      <td>64.0</td>\n",
       "      <td>28.833984</td>\n",
       "      <td>0.001397</td>\n",
       "      <td>57335</td>\n",
       "      <td>False</td>\n",
       "      <td>True</td>\n",
       "      <td>...</td>\n",
       "      <td>False</td>\n",
       "      <td>False</td>\n",
       "      <td>False</td>\n",
       "      <td>False</td>\n",
       "      <td>False</td>\n",
       "      <td>False</td>\n",
       "      <td>False</td>\n",
       "      <td>True</td>\n",
       "      <td>True</td>\n",
       "      <td>False</td>\n",
       "    </tr>\n",
       "  </tbody>\n",
       "</table>\n",
       "<p>413 rows × 59 columns</p>\n",
       "</div>"
      ],
      "text/plain": [
       "     composite_outcome  AGE  OPERYR  WEIGHT  HEIGHT        BMI  MORTPROB  \\\n",
       "0                False   28    2019   250.0    70.0  35.867347  0.000247   \n",
       "1                False   33    2019   183.0    65.0  30.449467  0.000424   \n",
       "2                False   55    2019   183.0    74.0  23.493243  0.001034   \n",
       "3                 True   47    2019   192.0    71.0  26.775640  0.000532   \n",
       "4                False   49    2019   144.0    69.0  21.262760  0.001096   \n",
       "..                 ...  ...     ...     ...     ...        ...       ...   \n",
       "408              False   30    2022   135.0    71.0  18.826622  0.000140   \n",
       "409              False   27    2022   155.0    70.0  22.237755  0.000117   \n",
       "410               True   44    2022   244.0    70.0  35.006531  0.000129   \n",
       "411              False   37    2022   175.0    70.0  25.107143  0.000067   \n",
       "412              False   73    2022   168.0    64.0  28.833984  0.001397   \n",
       "\n",
       "       CPT  CONCURR  major_medical_comorbidity  ...  \\\n",
       "0    57335    False                      False  ...   \n",
       "1    57335    False                      False  ...   \n",
       "2    57335    False                      False  ...   \n",
       "3    57335    False                      False  ...   \n",
       "4    57335    False                       True  ...   \n",
       "..     ...      ...                        ...  ...   \n",
       "408  57335    False                      False  ...   \n",
       "409  57335    False                      False  ...   \n",
       "410  55970    False                       True  ...   \n",
       "411  55970    False                      False  ...   \n",
       "412  57335    False                       True  ...   \n",
       "\n",
       "     MORTPROB_range_0.0048-0.006  SMOKE_Yes  PODIAG10_F64.1  PODIAG10_F64.9  \\\n",
       "0                          False      False           False           False   \n",
       "1                          False      False            True           False   \n",
       "2                          False      False           False           False   \n",
       "3                          False      False           False           False   \n",
       "4                          False      False           False           False   \n",
       "..                           ...        ...             ...             ...   \n",
       "408                        False      False           False           False   \n",
       "409                        False      False           False           False   \n",
       "410                        False      False           False           False   \n",
       "411                        False      False           False            True   \n",
       "412                        False      False           False           False   \n",
       "\n",
       "     PODIAG10_Z87.890  STEROID_Yes  BLEEDDIS_Yes  HYPERMED_Yes  DIABETES_NO  \\\n",
       "0               False        False         False         False         True   \n",
       "1               False        False         False         False         True   \n",
       "2               False        False         False         False         True   \n",
       "3               False        False         False         False         True   \n",
       "4               False         True         False         False         True   \n",
       "..                ...          ...           ...           ...          ...   \n",
       "408             False        False         False         False         True   \n",
       "409             False        False         False         False         True   \n",
       "410             False        False         False          True         True   \n",
       "411             False        False         False         False         True   \n",
       "412             False        False         False          True         True   \n",
       "\n",
       "     DIABETES_NON-INSULIN  \n",
       "0                   False  \n",
       "1                   False  \n",
       "2                   False  \n",
       "3                   False  \n",
       "4                   False  \n",
       "..                    ...  \n",
       "408                 False  \n",
       "409                 False  \n",
       "410                 False  \n",
       "411                 False  \n",
       "412                 False  \n",
       "\n",
       "[413 rows x 59 columns]"
      ]
     },
     "execution_count": 209,
     "metadata": {},
     "output_type": "execute_result"
    }
   ],
   "source": [
    "pd.get_dummies(nsqip, drop_first=True)"
   ]
  },
  {
   "cell_type": "code",
   "execution_count": 210,
   "id": "b3ef0930-4680-4882-84c6-c3175ea1a5d4",
   "metadata": {},
   "outputs": [
    {
     "data": {
      "text/plain": [
       "composite_outcome              0\n",
       "RACE_NEW                       0\n",
       "SEX                            0\n",
       "ETHNICITY_HISPANIC             0\n",
       "INOUT                          0\n",
       "AGE                            0\n",
       "AGE_GROUP                      0\n",
       "OPERYR                         0\n",
       "ANESTHES                       0\n",
       "SURGSPEC                       0\n",
       "WEIGHT                         1\n",
       "weight_range                   1\n",
       "HEIGHT                         2\n",
       "height_range                   2\n",
       "BMI                            2\n",
       "BMI_range                      2\n",
       "ASACLAS                        0\n",
       "MORTPROB                       0\n",
       "MORTPROB_range                 0\n",
       "SMOKE                          0\n",
       "PODIAG10                       0\n",
       "CPT                            0\n",
       "CONCURR                        0\n",
       "HXCHF                          0\n",
       "ASCITES                        0\n",
       "HXCOPD                         0\n",
       "VENTILAT                       0\n",
       "RENAFAIL                     125\n",
       "DIALYSIS                       0\n",
       "STEROID                        0\n",
       "BLEEDDIS                       0\n",
       "WTLOSS                       259\n",
       "HYPERMED                       0\n",
       "DIABETES                       0\n",
       "DISCANCR                       0\n",
       "major_medical_comorbidity      0\n",
       "major_complications            0\n",
       "minor_complications            0\n",
       "Numer of Patients              0\n",
       "dtype: int64"
      ]
     },
     "execution_count": 210,
     "metadata": {},
     "output_type": "execute_result"
    }
   ],
   "source": [
    "nsqip.isna().sum()"
   ]
  },
  {
   "cell_type": "code",
   "execution_count": 211,
   "id": "f69789a1-c014-43b5-84ca-bab66e445baa",
   "metadata": {},
   "outputs": [
    {
     "name": "stderr",
     "output_type": "stream",
     "text": [
      "/var/folders/m8/kh2nk5652k94h_n7lqjvr8n00000gn/T/ipykernel_74986/1736969715.py:1: SettingWithCopyWarning: \n",
      "A value is trying to be set on a copy of a slice from a DataFrame.\n",
      "Try using .loc[row_indexer,col_indexer] = value instead\n",
      "\n",
      "See the caveats in the documentation: https://pandas.pydata.org/pandas-docs/stable/user_guide/indexing.html#returning-a-view-versus-a-copy\n",
      "  nsqip['composite_outcome'] = nsqip['composite_outcome'].astype(int)\n"
     ]
    }
   ],
   "source": [
    "nsqip['composite_outcome'] = nsqip['composite_outcome'].astype(int)"
   ]
  },
  {
   "cell_type": "code",
   "execution_count": 212,
   "id": "23bdc5e8-7924-48e7-94f4-dd69e51723b8",
   "metadata": {},
   "outputs": [
    {
     "name": "stderr",
     "output_type": "stream",
     "text": [
      "/var/folders/m8/kh2nk5652k94h_n7lqjvr8n00000gn/T/ipykernel_74986/1783068934.py:4: FutureWarning: Downcasting behavior in `replace` is deprecated and will be removed in a future version. To retain the old behavior, explicitly call `result.infer_objects(copy=False)`. To opt-in to the future behavior, set `pd.set_option('future.no_silent_downcasting', True)`\n",
      "  nsqip[binary_columns] = nsqip[binary_columns].replace({'Yes': 1, 'No': 0, 'NO': 0})\n",
      "/var/folders/m8/kh2nk5652k94h_n7lqjvr8n00000gn/T/ipykernel_74986/1783068934.py:4: SettingWithCopyWarning: \n",
      "A value is trying to be set on a copy of a slice from a DataFrame.\n",
      "Try using .loc[row_indexer,col_indexer] = value instead\n",
      "\n",
      "See the caveats in the documentation: https://pandas.pydata.org/pandas-docs/stable/user_guide/indexing.html#returning-a-view-versus-a-copy\n",
      "  nsqip[binary_columns] = nsqip[binary_columns].replace({'Yes': 1, 'No': 0, 'NO': 0})\n"
     ]
    }
   ],
   "source": [
    "binary_columns = ['HXCOPD', 'VENTILAT', 'RENAFAIL', 'DIALYSIS', 'STEROID', \n",
    "                  'BLEEDDIS', 'WTLOSS', 'HYPERMED', 'DIABETES', 'DISCANCR']\n",
    "\n",
    "nsqip[binary_columns] = nsqip[binary_columns].replace({'Yes': 1, 'No': 0, 'NO': 0}) "
   ]
  },
  {
   "cell_type": "code",
   "execution_count": 213,
   "id": "e8e17460-b704-4d75-87f9-cdf81db368d2",
   "metadata": {},
   "outputs": [
    {
     "data": {
      "text/html": [
       "<div>\n",
       "<style scoped>\n",
       "    .dataframe tbody tr th:only-of-type {\n",
       "        vertical-align: middle;\n",
       "    }\n",
       "\n",
       "    .dataframe tbody tr th {\n",
       "        vertical-align: top;\n",
       "    }\n",
       "\n",
       "    .dataframe thead th {\n",
       "        text-align: right;\n",
       "    }\n",
       "</style>\n",
       "<table border=\"1\" class=\"dataframe\">\n",
       "  <thead>\n",
       "    <tr style=\"text-align: right;\">\n",
       "      <th></th>\n",
       "      <th>composite_outcome</th>\n",
       "      <th>RACE_NEW</th>\n",
       "      <th>SEX</th>\n",
       "      <th>ETHNICITY_HISPANIC</th>\n",
       "      <th>INOUT</th>\n",
       "      <th>AGE</th>\n",
       "      <th>AGE_GROUP</th>\n",
       "      <th>OPERYR</th>\n",
       "      <th>ANESTHES</th>\n",
       "      <th>SURGSPEC</th>\n",
       "      <th>...</th>\n",
       "      <th>STEROID</th>\n",
       "      <th>BLEEDDIS</th>\n",
       "      <th>WTLOSS</th>\n",
       "      <th>HYPERMED</th>\n",
       "      <th>DIABETES</th>\n",
       "      <th>DISCANCR</th>\n",
       "      <th>major_medical_comorbidity</th>\n",
       "      <th>major_complications</th>\n",
       "      <th>minor_complications</th>\n",
       "      <th>Numer of Patients</th>\n",
       "    </tr>\n",
       "  </thead>\n",
       "  <tbody>\n",
       "    <tr>\n",
       "      <th>0</th>\n",
       "      <td>0</td>\n",
       "      <td>White</td>\n",
       "      <td>female</td>\n",
       "      <td>No</td>\n",
       "      <td>Inpatient</td>\n",
       "      <td>28</td>\n",
       "      <td>20-30</td>\n",
       "      <td>2019</td>\n",
       "      <td>General</td>\n",
       "      <td>Plastics</td>\n",
       "      <td>...</td>\n",
       "      <td>0</td>\n",
       "      <td>0</td>\n",
       "      <td>0.0</td>\n",
       "      <td>0</td>\n",
       "      <td>0</td>\n",
       "      <td>0</td>\n",
       "      <td>False</td>\n",
       "      <td>False</td>\n",
       "      <td>False</td>\n",
       "      <td>1</td>\n",
       "    </tr>\n",
       "    <tr>\n",
       "      <th>1</th>\n",
       "      <td>0</td>\n",
       "      <td>White</td>\n",
       "      <td>female</td>\n",
       "      <td>No</td>\n",
       "      <td>Outpatient</td>\n",
       "      <td>33</td>\n",
       "      <td>30-40</td>\n",
       "      <td>2019</td>\n",
       "      <td>General</td>\n",
       "      <td>Plastics</td>\n",
       "      <td>...</td>\n",
       "      <td>0</td>\n",
       "      <td>0</td>\n",
       "      <td>0.0</td>\n",
       "      <td>0</td>\n",
       "      <td>0</td>\n",
       "      <td>0</td>\n",
       "      <td>False</td>\n",
       "      <td>False</td>\n",
       "      <td>False</td>\n",
       "      <td>1</td>\n",
       "    </tr>\n",
       "    <tr>\n",
       "      <th>2</th>\n",
       "      <td>0</td>\n",
       "      <td>White</td>\n",
       "      <td>male</td>\n",
       "      <td>No</td>\n",
       "      <td>Inpatient</td>\n",
       "      <td>55</td>\n",
       "      <td>50-60</td>\n",
       "      <td>2019</td>\n",
       "      <td>General</td>\n",
       "      <td>Plastics</td>\n",
       "      <td>...</td>\n",
       "      <td>0</td>\n",
       "      <td>0</td>\n",
       "      <td>0.0</td>\n",
       "      <td>0</td>\n",
       "      <td>0</td>\n",
       "      <td>0</td>\n",
       "      <td>False</td>\n",
       "      <td>False</td>\n",
       "      <td>False</td>\n",
       "      <td>1</td>\n",
       "    </tr>\n",
       "    <tr>\n",
       "      <th>3</th>\n",
       "      <td>1</td>\n",
       "      <td>White</td>\n",
       "      <td>female</td>\n",
       "      <td>No</td>\n",
       "      <td>Inpatient</td>\n",
       "      <td>47</td>\n",
       "      <td>40-50</td>\n",
       "      <td>2019</td>\n",
       "      <td>General</td>\n",
       "      <td>Plastics</td>\n",
       "      <td>...</td>\n",
       "      <td>0</td>\n",
       "      <td>0</td>\n",
       "      <td>0.0</td>\n",
       "      <td>0</td>\n",
       "      <td>0</td>\n",
       "      <td>0</td>\n",
       "      <td>False</td>\n",
       "      <td>False</td>\n",
       "      <td>False</td>\n",
       "      <td>1</td>\n",
       "    </tr>\n",
       "    <tr>\n",
       "      <th>4</th>\n",
       "      <td>0</td>\n",
       "      <td>White</td>\n",
       "      <td>female</td>\n",
       "      <td>No</td>\n",
       "      <td>Outpatient</td>\n",
       "      <td>49</td>\n",
       "      <td>40-50</td>\n",
       "      <td>2019</td>\n",
       "      <td>General</td>\n",
       "      <td>Plastics</td>\n",
       "      <td>...</td>\n",
       "      <td>1</td>\n",
       "      <td>0</td>\n",
       "      <td>0.0</td>\n",
       "      <td>0</td>\n",
       "      <td>0</td>\n",
       "      <td>0</td>\n",
       "      <td>True</td>\n",
       "      <td>False</td>\n",
       "      <td>False</td>\n",
       "      <td>1</td>\n",
       "    </tr>\n",
       "    <tr>\n",
       "      <th>...</th>\n",
       "      <td>...</td>\n",
       "      <td>...</td>\n",
       "      <td>...</td>\n",
       "      <td>...</td>\n",
       "      <td>...</td>\n",
       "      <td>...</td>\n",
       "      <td>...</td>\n",
       "      <td>...</td>\n",
       "      <td>...</td>\n",
       "      <td>...</td>\n",
       "      <td>...</td>\n",
       "      <td>...</td>\n",
       "      <td>...</td>\n",
       "      <td>...</td>\n",
       "      <td>...</td>\n",
       "      <td>...</td>\n",
       "      <td>...</td>\n",
       "      <td>...</td>\n",
       "      <td>...</td>\n",
       "      <td>...</td>\n",
       "      <td>...</td>\n",
       "    </tr>\n",
       "    <tr>\n",
       "      <th>408</th>\n",
       "      <td>0</td>\n",
       "      <td>White</td>\n",
       "      <td>female</td>\n",
       "      <td>No</td>\n",
       "      <td>Inpatient</td>\n",
       "      <td>30</td>\n",
       "      <td>30-40</td>\n",
       "      <td>2022</td>\n",
       "      <td>General</td>\n",
       "      <td>Plastics</td>\n",
       "      <td>...</td>\n",
       "      <td>0</td>\n",
       "      <td>0</td>\n",
       "      <td>NaN</td>\n",
       "      <td>0</td>\n",
       "      <td>0</td>\n",
       "      <td>0</td>\n",
       "      <td>False</td>\n",
       "      <td>False</td>\n",
       "      <td>False</td>\n",
       "      <td>1</td>\n",
       "    </tr>\n",
       "    <tr>\n",
       "      <th>409</th>\n",
       "      <td>0</td>\n",
       "      <td>Unknown/Not Reported</td>\n",
       "      <td>non-binary</td>\n",
       "      <td>No</td>\n",
       "      <td>Inpatient</td>\n",
       "      <td>27</td>\n",
       "      <td>20-30</td>\n",
       "      <td>2022</td>\n",
       "      <td>General</td>\n",
       "      <td>Plastics</td>\n",
       "      <td>...</td>\n",
       "      <td>0</td>\n",
       "      <td>0</td>\n",
       "      <td>NaN</td>\n",
       "      <td>0</td>\n",
       "      <td>0</td>\n",
       "      <td>0</td>\n",
       "      <td>False</td>\n",
       "      <td>False</td>\n",
       "      <td>False</td>\n",
       "      <td>1</td>\n",
       "    </tr>\n",
       "    <tr>\n",
       "      <th>410</th>\n",
       "      <td>1</td>\n",
       "      <td>Unknown/Not Reported</td>\n",
       "      <td>non-binary</td>\n",
       "      <td>No</td>\n",
       "      <td>Inpatient</td>\n",
       "      <td>44</td>\n",
       "      <td>40-50</td>\n",
       "      <td>2022</td>\n",
       "      <td>General</td>\n",
       "      <td>Plastics</td>\n",
       "      <td>...</td>\n",
       "      <td>0</td>\n",
       "      <td>0</td>\n",
       "      <td>NaN</td>\n",
       "      <td>1</td>\n",
       "      <td>0</td>\n",
       "      <td>0</td>\n",
       "      <td>True</td>\n",
       "      <td>False</td>\n",
       "      <td>True</td>\n",
       "      <td>1</td>\n",
       "    </tr>\n",
       "    <tr>\n",
       "      <th>411</th>\n",
       "      <td>0</td>\n",
       "      <td>Unknown/Not Reported</td>\n",
       "      <td>male</td>\n",
       "      <td>No</td>\n",
       "      <td>Outpatient</td>\n",
       "      <td>37</td>\n",
       "      <td>30-40</td>\n",
       "      <td>2022</td>\n",
       "      <td>General</td>\n",
       "      <td>Plastics</td>\n",
       "      <td>...</td>\n",
       "      <td>0</td>\n",
       "      <td>0</td>\n",
       "      <td>NaN</td>\n",
       "      <td>0</td>\n",
       "      <td>0</td>\n",
       "      <td>0</td>\n",
       "      <td>False</td>\n",
       "      <td>False</td>\n",
       "      <td>False</td>\n",
       "      <td>1</td>\n",
       "    </tr>\n",
       "    <tr>\n",
       "      <th>412</th>\n",
       "      <td>0</td>\n",
       "      <td>White</td>\n",
       "      <td>female</td>\n",
       "      <td>No</td>\n",
       "      <td>Inpatient</td>\n",
       "      <td>73</td>\n",
       "      <td>70-80</td>\n",
       "      <td>2022</td>\n",
       "      <td>General</td>\n",
       "      <td>Plastics</td>\n",
       "      <td>...</td>\n",
       "      <td>0</td>\n",
       "      <td>0</td>\n",
       "      <td>NaN</td>\n",
       "      <td>1</td>\n",
       "      <td>0</td>\n",
       "      <td>0</td>\n",
       "      <td>True</td>\n",
       "      <td>False</td>\n",
       "      <td>False</td>\n",
       "      <td>1</td>\n",
       "    </tr>\n",
       "  </tbody>\n",
       "</table>\n",
       "<p>413 rows × 39 columns</p>\n",
       "</div>"
      ],
      "text/plain": [
       "     composite_outcome              RACE_NEW         SEX ETHNICITY_HISPANIC  \\\n",
       "0                    0                 White      female                 No   \n",
       "1                    0                 White      female                 No   \n",
       "2                    0                 White        male                 No   \n",
       "3                    1                 White      female                 No   \n",
       "4                    0                 White      female                 No   \n",
       "..                 ...                   ...         ...                ...   \n",
       "408                  0                 White      female                 No   \n",
       "409                  0  Unknown/Not Reported  non-binary                 No   \n",
       "410                  1  Unknown/Not Reported  non-binary                 No   \n",
       "411                  0  Unknown/Not Reported        male                 No   \n",
       "412                  0                 White      female                 No   \n",
       "\n",
       "          INOUT  AGE AGE_GROUP  OPERYR ANESTHES  SURGSPEC  ...  STEROID  \\\n",
       "0     Inpatient   28     20-30    2019  General  Plastics  ...        0   \n",
       "1    Outpatient   33     30-40    2019  General  Plastics  ...        0   \n",
       "2     Inpatient   55     50-60    2019  General  Plastics  ...        0   \n",
       "3     Inpatient   47     40-50    2019  General  Plastics  ...        0   \n",
       "4    Outpatient   49     40-50    2019  General  Plastics  ...        1   \n",
       "..          ...  ...       ...     ...      ...       ...  ...      ...   \n",
       "408   Inpatient   30     30-40    2022  General  Plastics  ...        0   \n",
       "409   Inpatient   27     20-30    2022  General  Plastics  ...        0   \n",
       "410   Inpatient   44     40-50    2022  General  Plastics  ...        0   \n",
       "411  Outpatient   37     30-40    2022  General  Plastics  ...        0   \n",
       "412   Inpatient   73     70-80    2022  General  Plastics  ...        0   \n",
       "\n",
       "    BLEEDDIS  WTLOSS HYPERMED  DIABETES DISCANCR major_medical_comorbidity  \\\n",
       "0          0     0.0        0         0        0                     False   \n",
       "1          0     0.0        0         0        0                     False   \n",
       "2          0     0.0        0         0        0                     False   \n",
       "3          0     0.0        0         0        0                     False   \n",
       "4          0     0.0        0         0        0                      True   \n",
       "..       ...     ...      ...       ...      ...                       ...   \n",
       "408        0     NaN        0         0        0                     False   \n",
       "409        0     NaN        0         0        0                     False   \n",
       "410        0     NaN        1         0        0                      True   \n",
       "411        0     NaN        0         0        0                     False   \n",
       "412        0     NaN        1         0        0                      True   \n",
       "\n",
       "     major_complications minor_complications Numer of Patients  \n",
       "0                  False               False                 1  \n",
       "1                  False               False                 1  \n",
       "2                  False               False                 1  \n",
       "3                  False               False                 1  \n",
       "4                  False               False                 1  \n",
       "..                   ...                 ...               ...  \n",
       "408                False               False                 1  \n",
       "409                False               False                 1  \n",
       "410                False                True                 1  \n",
       "411                False               False                 1  \n",
       "412                False               False                 1  \n",
       "\n",
       "[413 rows x 39 columns]"
      ]
     },
     "execution_count": 213,
     "metadata": {},
     "output_type": "execute_result"
    }
   ],
   "source": [
    "nsqip"
   ]
  },
  {
   "cell_type": "code",
   "execution_count": 214,
   "id": "0dd0504b-565a-4508-87dc-f1d5bbe1d1f1",
   "metadata": {},
   "outputs": [
    {
     "data": {
      "text/plain": [
       "Index(['composite_outcome', 'RACE_NEW', 'SEX', 'ETHNICITY_HISPANIC', 'INOUT',\n",
       "       'AGE', 'AGE_GROUP', 'OPERYR', 'ANESTHES', 'SURGSPEC', 'WEIGHT',\n",
       "       'weight_range', 'HEIGHT', 'height_range', 'BMI', 'BMI_range', 'ASACLAS',\n",
       "       'MORTPROB', 'MORTPROB_range', 'SMOKE', 'PODIAG10', 'CPT', 'CONCURR',\n",
       "       'HXCHF', 'ASCITES', 'HXCOPD', 'VENTILAT', 'RENAFAIL', 'DIALYSIS',\n",
       "       'STEROID', 'BLEEDDIS', 'WTLOSS', 'HYPERMED', 'DIABETES', 'DISCANCR',\n",
       "       'major_medical_comorbidity', 'major_complications',\n",
       "       'minor_complications', 'Numer of Patients'],\n",
       "      dtype='object')"
      ]
     },
     "execution_count": 214,
     "metadata": {},
     "output_type": "execute_result"
    }
   ],
   "source": [
    "nsqip.columns"
   ]
  },
  {
   "cell_type": "code",
   "execution_count": 215,
   "id": "e4e9ab85-efed-44c5-80ee-931cfb5b8ccc",
   "metadata": {},
   "outputs": [],
   "source": [
    "nsqip = nsqip.drop(['RENAFAIL', 'WTLOSS', 'RACE_NEW', 'ETHNICITY_HISPANIC', 'INOUT', 'AGE_GROUP', 'weight_range', 'height_range', \n",
    "                    'BMI_range', 'MORTPROB', 'MORTPROB_range', 'Numer of Patients'], axis=1)"
   ]
  },
  {
   "cell_type": "code",
   "execution_count": 216,
   "id": "49a473f9-3a2b-43e8-ba7d-8e851fb09ccf",
   "metadata": {},
   "outputs": [],
   "source": [
    "nsqip = nsqip.dropna()"
   ]
  },
  {
   "cell_type": "code",
   "execution_count": 217,
   "id": "2fddbb37-a60c-4e5c-b3de-4bdc4d63df85",
   "metadata": {},
   "outputs": [
    {
     "data": {
      "text/html": [
       "<div>\n",
       "<style scoped>\n",
       "    .dataframe tbody tr th:only-of-type {\n",
       "        vertical-align: middle;\n",
       "    }\n",
       "\n",
       "    .dataframe tbody tr th {\n",
       "        vertical-align: top;\n",
       "    }\n",
       "\n",
       "    .dataframe thead th {\n",
       "        text-align: right;\n",
       "    }\n",
       "</style>\n",
       "<table border=\"1\" class=\"dataframe\">\n",
       "  <thead>\n",
       "    <tr style=\"text-align: right;\">\n",
       "      <th></th>\n",
       "      <th>composite_outcome</th>\n",
       "      <th>AGE</th>\n",
       "      <th>OPERYR</th>\n",
       "      <th>WEIGHT</th>\n",
       "      <th>HEIGHT</th>\n",
       "      <th>BMI</th>\n",
       "      <th>CPT</th>\n",
       "      <th>CONCURR</th>\n",
       "      <th>HXCOPD</th>\n",
       "      <th>VENTILAT</th>\n",
       "      <th>...</th>\n",
       "      <th>SURGSPEC_Plastics</th>\n",
       "      <th>SURGSPEC_Urology</th>\n",
       "      <th>ASACLAS_2-Mild Disturb</th>\n",
       "      <th>ASACLAS_3-Severe Disturb</th>\n",
       "      <th>SMOKE_Yes</th>\n",
       "      <th>PODIAG10_F64.1</th>\n",
       "      <th>PODIAG10_F64.9</th>\n",
       "      <th>PODIAG10_Z87.890</th>\n",
       "      <th>DIABETES_INSULIN</th>\n",
       "      <th>DIABETES_NON-INSULIN</th>\n",
       "    </tr>\n",
       "  </thead>\n",
       "  <tbody>\n",
       "    <tr>\n",
       "      <th>0</th>\n",
       "      <td>0</td>\n",
       "      <td>28</td>\n",
       "      <td>2019</td>\n",
       "      <td>250</td>\n",
       "      <td>70</td>\n",
       "      <td>35</td>\n",
       "      <td>57335</td>\n",
       "      <td>0</td>\n",
       "      <td>0</td>\n",
       "      <td>0</td>\n",
       "      <td>...</td>\n",
       "      <td>1</td>\n",
       "      <td>0</td>\n",
       "      <td>1</td>\n",
       "      <td>0</td>\n",
       "      <td>0</td>\n",
       "      <td>0</td>\n",
       "      <td>0</td>\n",
       "      <td>0</td>\n",
       "      <td>0</td>\n",
       "      <td>0</td>\n",
       "    </tr>\n",
       "    <tr>\n",
       "      <th>1</th>\n",
       "      <td>0</td>\n",
       "      <td>33</td>\n",
       "      <td>2019</td>\n",
       "      <td>183</td>\n",
       "      <td>65</td>\n",
       "      <td>30</td>\n",
       "      <td>57335</td>\n",
       "      <td>0</td>\n",
       "      <td>0</td>\n",
       "      <td>0</td>\n",
       "      <td>...</td>\n",
       "      <td>1</td>\n",
       "      <td>0</td>\n",
       "      <td>0</td>\n",
       "      <td>1</td>\n",
       "      <td>0</td>\n",
       "      <td>1</td>\n",
       "      <td>0</td>\n",
       "      <td>0</td>\n",
       "      <td>0</td>\n",
       "      <td>0</td>\n",
       "    </tr>\n",
       "    <tr>\n",
       "      <th>2</th>\n",
       "      <td>0</td>\n",
       "      <td>55</td>\n",
       "      <td>2019</td>\n",
       "      <td>183</td>\n",
       "      <td>74</td>\n",
       "      <td>23</td>\n",
       "      <td>57335</td>\n",
       "      <td>0</td>\n",
       "      <td>0</td>\n",
       "      <td>0</td>\n",
       "      <td>...</td>\n",
       "      <td>1</td>\n",
       "      <td>0</td>\n",
       "      <td>1</td>\n",
       "      <td>0</td>\n",
       "      <td>0</td>\n",
       "      <td>0</td>\n",
       "      <td>0</td>\n",
       "      <td>0</td>\n",
       "      <td>0</td>\n",
       "      <td>0</td>\n",
       "    </tr>\n",
       "    <tr>\n",
       "      <th>3</th>\n",
       "      <td>1</td>\n",
       "      <td>47</td>\n",
       "      <td>2019</td>\n",
       "      <td>192</td>\n",
       "      <td>71</td>\n",
       "      <td>26</td>\n",
       "      <td>57335</td>\n",
       "      <td>0</td>\n",
       "      <td>0</td>\n",
       "      <td>0</td>\n",
       "      <td>...</td>\n",
       "      <td>1</td>\n",
       "      <td>0</td>\n",
       "      <td>1</td>\n",
       "      <td>0</td>\n",
       "      <td>0</td>\n",
       "      <td>0</td>\n",
       "      <td>0</td>\n",
       "      <td>0</td>\n",
       "      <td>0</td>\n",
       "      <td>0</td>\n",
       "    </tr>\n",
       "    <tr>\n",
       "      <th>4</th>\n",
       "      <td>0</td>\n",
       "      <td>49</td>\n",
       "      <td>2019</td>\n",
       "      <td>144</td>\n",
       "      <td>69</td>\n",
       "      <td>21</td>\n",
       "      <td>57335</td>\n",
       "      <td>0</td>\n",
       "      <td>0</td>\n",
       "      <td>0</td>\n",
       "      <td>...</td>\n",
       "      <td>1</td>\n",
       "      <td>0</td>\n",
       "      <td>0</td>\n",
       "      <td>1</td>\n",
       "      <td>0</td>\n",
       "      <td>0</td>\n",
       "      <td>0</td>\n",
       "      <td>0</td>\n",
       "      <td>0</td>\n",
       "      <td>0</td>\n",
       "    </tr>\n",
       "    <tr>\n",
       "      <th>...</th>\n",
       "      <td>...</td>\n",
       "      <td>...</td>\n",
       "      <td>...</td>\n",
       "      <td>...</td>\n",
       "      <td>...</td>\n",
       "      <td>...</td>\n",
       "      <td>...</td>\n",
       "      <td>...</td>\n",
       "      <td>...</td>\n",
       "      <td>...</td>\n",
       "      <td>...</td>\n",
       "      <td>...</td>\n",
       "      <td>...</td>\n",
       "      <td>...</td>\n",
       "      <td>...</td>\n",
       "      <td>...</td>\n",
       "      <td>...</td>\n",
       "      <td>...</td>\n",
       "      <td>...</td>\n",
       "      <td>...</td>\n",
       "      <td>...</td>\n",
       "    </tr>\n",
       "    <tr>\n",
       "      <th>408</th>\n",
       "      <td>0</td>\n",
       "      <td>30</td>\n",
       "      <td>2022</td>\n",
       "      <td>135</td>\n",
       "      <td>71</td>\n",
       "      <td>18</td>\n",
       "      <td>57335</td>\n",
       "      <td>0</td>\n",
       "      <td>0</td>\n",
       "      <td>0</td>\n",
       "      <td>...</td>\n",
       "      <td>1</td>\n",
       "      <td>0</td>\n",
       "      <td>1</td>\n",
       "      <td>0</td>\n",
       "      <td>0</td>\n",
       "      <td>0</td>\n",
       "      <td>0</td>\n",
       "      <td>0</td>\n",
       "      <td>0</td>\n",
       "      <td>0</td>\n",
       "    </tr>\n",
       "    <tr>\n",
       "      <th>409</th>\n",
       "      <td>0</td>\n",
       "      <td>27</td>\n",
       "      <td>2022</td>\n",
       "      <td>155</td>\n",
       "      <td>70</td>\n",
       "      <td>22</td>\n",
       "      <td>57335</td>\n",
       "      <td>0</td>\n",
       "      <td>0</td>\n",
       "      <td>0</td>\n",
       "      <td>...</td>\n",
       "      <td>1</td>\n",
       "      <td>0</td>\n",
       "      <td>1</td>\n",
       "      <td>0</td>\n",
       "      <td>0</td>\n",
       "      <td>0</td>\n",
       "      <td>0</td>\n",
       "      <td>0</td>\n",
       "      <td>0</td>\n",
       "      <td>0</td>\n",
       "    </tr>\n",
       "    <tr>\n",
       "      <th>410</th>\n",
       "      <td>1</td>\n",
       "      <td>44</td>\n",
       "      <td>2022</td>\n",
       "      <td>244</td>\n",
       "      <td>70</td>\n",
       "      <td>35</td>\n",
       "      <td>55970</td>\n",
       "      <td>0</td>\n",
       "      <td>0</td>\n",
       "      <td>0</td>\n",
       "      <td>...</td>\n",
       "      <td>1</td>\n",
       "      <td>0</td>\n",
       "      <td>1</td>\n",
       "      <td>0</td>\n",
       "      <td>0</td>\n",
       "      <td>0</td>\n",
       "      <td>0</td>\n",
       "      <td>0</td>\n",
       "      <td>0</td>\n",
       "      <td>0</td>\n",
       "    </tr>\n",
       "    <tr>\n",
       "      <th>411</th>\n",
       "      <td>0</td>\n",
       "      <td>37</td>\n",
       "      <td>2022</td>\n",
       "      <td>175</td>\n",
       "      <td>70</td>\n",
       "      <td>25</td>\n",
       "      <td>55970</td>\n",
       "      <td>0</td>\n",
       "      <td>0</td>\n",
       "      <td>0</td>\n",
       "      <td>...</td>\n",
       "      <td>1</td>\n",
       "      <td>0</td>\n",
       "      <td>1</td>\n",
       "      <td>0</td>\n",
       "      <td>0</td>\n",
       "      <td>0</td>\n",
       "      <td>1</td>\n",
       "      <td>0</td>\n",
       "      <td>0</td>\n",
       "      <td>0</td>\n",
       "    </tr>\n",
       "    <tr>\n",
       "      <th>412</th>\n",
       "      <td>0</td>\n",
       "      <td>73</td>\n",
       "      <td>2022</td>\n",
       "      <td>168</td>\n",
       "      <td>64</td>\n",
       "      <td>28</td>\n",
       "      <td>57335</td>\n",
       "      <td>0</td>\n",
       "      <td>0</td>\n",
       "      <td>0</td>\n",
       "      <td>...</td>\n",
       "      <td>1</td>\n",
       "      <td>0</td>\n",
       "      <td>0</td>\n",
       "      <td>1</td>\n",
       "      <td>0</td>\n",
       "      <td>0</td>\n",
       "      <td>0</td>\n",
       "      <td>0</td>\n",
       "      <td>0</td>\n",
       "      <td>0</td>\n",
       "    </tr>\n",
       "  </tbody>\n",
       "</table>\n",
       "<p>411 rows × 30 columns</p>\n",
       "</div>"
      ],
      "text/plain": [
       "     composite_outcome  AGE  OPERYR  WEIGHT  HEIGHT  BMI    CPT  CONCURR  \\\n",
       "0                    0   28    2019     250      70   35  57335        0   \n",
       "1                    0   33    2019     183      65   30  57335        0   \n",
       "2                    0   55    2019     183      74   23  57335        0   \n",
       "3                    1   47    2019     192      71   26  57335        0   \n",
       "4                    0   49    2019     144      69   21  57335        0   \n",
       "..                 ...  ...     ...     ...     ...  ...    ...      ...   \n",
       "408                  0   30    2022     135      71   18  57335        0   \n",
       "409                  0   27    2022     155      70   22  57335        0   \n",
       "410                  1   44    2022     244      70   35  55970        0   \n",
       "411                  0   37    2022     175      70   25  55970        0   \n",
       "412                  0   73    2022     168      64   28  57335        0   \n",
       "\n",
       "     HXCOPD  VENTILAT  ...  SURGSPEC_Plastics  SURGSPEC_Urology  \\\n",
       "0         0         0  ...                  1                 0   \n",
       "1         0         0  ...                  1                 0   \n",
       "2         0         0  ...                  1                 0   \n",
       "3         0         0  ...                  1                 0   \n",
       "4         0         0  ...                  1                 0   \n",
       "..      ...       ...  ...                ...               ...   \n",
       "408       0         0  ...                  1                 0   \n",
       "409       0         0  ...                  1                 0   \n",
       "410       0         0  ...                  1                 0   \n",
       "411       0         0  ...                  1                 0   \n",
       "412       0         0  ...                  1                 0   \n",
       "\n",
       "     ASACLAS_2-Mild Disturb  ASACLAS_3-Severe Disturb  SMOKE_Yes  \\\n",
       "0                         1                         0          0   \n",
       "1                         0                         1          0   \n",
       "2                         1                         0          0   \n",
       "3                         1                         0          0   \n",
       "4                         0                         1          0   \n",
       "..                      ...                       ...        ...   \n",
       "408                       1                         0          0   \n",
       "409                       1                         0          0   \n",
       "410                       1                         0          0   \n",
       "411                       1                         0          0   \n",
       "412                       0                         1          0   \n",
       "\n",
       "     PODIAG10_F64.1  PODIAG10_F64.9  PODIAG10_Z87.890  DIABETES_INSULIN  \\\n",
       "0                 0               0                 0                 0   \n",
       "1                 1               0                 0                 0   \n",
       "2                 0               0                 0                 0   \n",
       "3                 0               0                 0                 0   \n",
       "4                 0               0                 0                 0   \n",
       "..              ...             ...               ...               ...   \n",
       "408               0               0                 0                 0   \n",
       "409               0               0                 0                 0   \n",
       "410               0               0                 0                 0   \n",
       "411               0               1                 0                 0   \n",
       "412               0               0                 0                 0   \n",
       "\n",
       "     DIABETES_NON-INSULIN  \n",
       "0                       0  \n",
       "1                       0  \n",
       "2                       0  \n",
       "3                       0  \n",
       "4                       0  \n",
       "..                    ...  \n",
       "408                     0  \n",
       "409                     0  \n",
       "410                     0  \n",
       "411                     0  \n",
       "412                     0  \n",
       "\n",
       "[411 rows x 30 columns]"
      ]
     },
     "execution_count": 217,
     "metadata": {},
     "output_type": "execute_result"
    }
   ],
   "source": [
    "pd.get_dummies(nsqip, drop_first=True).astype(int)"
   ]
  },
  {
   "cell_type": "code",
   "execution_count": 218,
   "id": "bb85143a-fe02-49fd-9451-f55dbf92e441",
   "metadata": {},
   "outputs": [],
   "source": [
    "nsqip = pd.get_dummies(nsqip, drop_first=True).astype(int)"
   ]
  },
  {
   "cell_type": "code",
   "execution_count": 219,
   "id": "9a8c6323-79b6-47d7-8af0-297a11d11c18",
   "metadata": {},
   "outputs": [
    {
     "data": {
      "text/html": [
       "<div>\n",
       "<style scoped>\n",
       "    .dataframe tbody tr th:only-of-type {\n",
       "        vertical-align: middle;\n",
       "    }\n",
       "\n",
       "    .dataframe tbody tr th {\n",
       "        vertical-align: top;\n",
       "    }\n",
       "\n",
       "    .dataframe thead th {\n",
       "        text-align: right;\n",
       "    }\n",
       "</style>\n",
       "<table border=\"1\" class=\"dataframe\">\n",
       "  <thead>\n",
       "    <tr style=\"text-align: right;\">\n",
       "      <th></th>\n",
       "      <th>composite_outcome</th>\n",
       "      <th>AGE</th>\n",
       "      <th>OPERYR</th>\n",
       "      <th>WEIGHT</th>\n",
       "      <th>HEIGHT</th>\n",
       "      <th>BMI</th>\n",
       "      <th>CPT</th>\n",
       "      <th>CONCURR</th>\n",
       "      <th>HXCOPD</th>\n",
       "      <th>VENTILAT</th>\n",
       "      <th>...</th>\n",
       "      <th>SURGSPEC_Plastics</th>\n",
       "      <th>SURGSPEC_Urology</th>\n",
       "      <th>ASACLAS_2-Mild Disturb</th>\n",
       "      <th>ASACLAS_3-Severe Disturb</th>\n",
       "      <th>SMOKE_Yes</th>\n",
       "      <th>PODIAG10_F64.1</th>\n",
       "      <th>PODIAG10_F64.9</th>\n",
       "      <th>PODIAG10_Z87.890</th>\n",
       "      <th>DIABETES_INSULIN</th>\n",
       "      <th>DIABETES_NON-INSULIN</th>\n",
       "    </tr>\n",
       "  </thead>\n",
       "  <tbody>\n",
       "    <tr>\n",
       "      <th>0</th>\n",
       "      <td>0</td>\n",
       "      <td>28</td>\n",
       "      <td>2019</td>\n",
       "      <td>250</td>\n",
       "      <td>70</td>\n",
       "      <td>35</td>\n",
       "      <td>57335</td>\n",
       "      <td>0</td>\n",
       "      <td>0</td>\n",
       "      <td>0</td>\n",
       "      <td>...</td>\n",
       "      <td>1</td>\n",
       "      <td>0</td>\n",
       "      <td>1</td>\n",
       "      <td>0</td>\n",
       "      <td>0</td>\n",
       "      <td>0</td>\n",
       "      <td>0</td>\n",
       "      <td>0</td>\n",
       "      <td>0</td>\n",
       "      <td>0</td>\n",
       "    </tr>\n",
       "    <tr>\n",
       "      <th>1</th>\n",
       "      <td>0</td>\n",
       "      <td>33</td>\n",
       "      <td>2019</td>\n",
       "      <td>183</td>\n",
       "      <td>65</td>\n",
       "      <td>30</td>\n",
       "      <td>57335</td>\n",
       "      <td>0</td>\n",
       "      <td>0</td>\n",
       "      <td>0</td>\n",
       "      <td>...</td>\n",
       "      <td>1</td>\n",
       "      <td>0</td>\n",
       "      <td>0</td>\n",
       "      <td>1</td>\n",
       "      <td>0</td>\n",
       "      <td>1</td>\n",
       "      <td>0</td>\n",
       "      <td>0</td>\n",
       "      <td>0</td>\n",
       "      <td>0</td>\n",
       "    </tr>\n",
       "    <tr>\n",
       "      <th>2</th>\n",
       "      <td>0</td>\n",
       "      <td>55</td>\n",
       "      <td>2019</td>\n",
       "      <td>183</td>\n",
       "      <td>74</td>\n",
       "      <td>23</td>\n",
       "      <td>57335</td>\n",
       "      <td>0</td>\n",
       "      <td>0</td>\n",
       "      <td>0</td>\n",
       "      <td>...</td>\n",
       "      <td>1</td>\n",
       "      <td>0</td>\n",
       "      <td>1</td>\n",
       "      <td>0</td>\n",
       "      <td>0</td>\n",
       "      <td>0</td>\n",
       "      <td>0</td>\n",
       "      <td>0</td>\n",
       "      <td>0</td>\n",
       "      <td>0</td>\n",
       "    </tr>\n",
       "    <tr>\n",
       "      <th>3</th>\n",
       "      <td>1</td>\n",
       "      <td>47</td>\n",
       "      <td>2019</td>\n",
       "      <td>192</td>\n",
       "      <td>71</td>\n",
       "      <td>26</td>\n",
       "      <td>57335</td>\n",
       "      <td>0</td>\n",
       "      <td>0</td>\n",
       "      <td>0</td>\n",
       "      <td>...</td>\n",
       "      <td>1</td>\n",
       "      <td>0</td>\n",
       "      <td>1</td>\n",
       "      <td>0</td>\n",
       "      <td>0</td>\n",
       "      <td>0</td>\n",
       "      <td>0</td>\n",
       "      <td>0</td>\n",
       "      <td>0</td>\n",
       "      <td>0</td>\n",
       "    </tr>\n",
       "    <tr>\n",
       "      <th>4</th>\n",
       "      <td>0</td>\n",
       "      <td>49</td>\n",
       "      <td>2019</td>\n",
       "      <td>144</td>\n",
       "      <td>69</td>\n",
       "      <td>21</td>\n",
       "      <td>57335</td>\n",
       "      <td>0</td>\n",
       "      <td>0</td>\n",
       "      <td>0</td>\n",
       "      <td>...</td>\n",
       "      <td>1</td>\n",
       "      <td>0</td>\n",
       "      <td>0</td>\n",
       "      <td>1</td>\n",
       "      <td>0</td>\n",
       "      <td>0</td>\n",
       "      <td>0</td>\n",
       "      <td>0</td>\n",
       "      <td>0</td>\n",
       "      <td>0</td>\n",
       "    </tr>\n",
       "    <tr>\n",
       "      <th>...</th>\n",
       "      <td>...</td>\n",
       "      <td>...</td>\n",
       "      <td>...</td>\n",
       "      <td>...</td>\n",
       "      <td>...</td>\n",
       "      <td>...</td>\n",
       "      <td>...</td>\n",
       "      <td>...</td>\n",
       "      <td>...</td>\n",
       "      <td>...</td>\n",
       "      <td>...</td>\n",
       "      <td>...</td>\n",
       "      <td>...</td>\n",
       "      <td>...</td>\n",
       "      <td>...</td>\n",
       "      <td>...</td>\n",
       "      <td>...</td>\n",
       "      <td>...</td>\n",
       "      <td>...</td>\n",
       "      <td>...</td>\n",
       "      <td>...</td>\n",
       "    </tr>\n",
       "    <tr>\n",
       "      <th>408</th>\n",
       "      <td>0</td>\n",
       "      <td>30</td>\n",
       "      <td>2022</td>\n",
       "      <td>135</td>\n",
       "      <td>71</td>\n",
       "      <td>18</td>\n",
       "      <td>57335</td>\n",
       "      <td>0</td>\n",
       "      <td>0</td>\n",
       "      <td>0</td>\n",
       "      <td>...</td>\n",
       "      <td>1</td>\n",
       "      <td>0</td>\n",
       "      <td>1</td>\n",
       "      <td>0</td>\n",
       "      <td>0</td>\n",
       "      <td>0</td>\n",
       "      <td>0</td>\n",
       "      <td>0</td>\n",
       "      <td>0</td>\n",
       "      <td>0</td>\n",
       "    </tr>\n",
       "    <tr>\n",
       "      <th>409</th>\n",
       "      <td>0</td>\n",
       "      <td>27</td>\n",
       "      <td>2022</td>\n",
       "      <td>155</td>\n",
       "      <td>70</td>\n",
       "      <td>22</td>\n",
       "      <td>57335</td>\n",
       "      <td>0</td>\n",
       "      <td>0</td>\n",
       "      <td>0</td>\n",
       "      <td>...</td>\n",
       "      <td>1</td>\n",
       "      <td>0</td>\n",
       "      <td>1</td>\n",
       "      <td>0</td>\n",
       "      <td>0</td>\n",
       "      <td>0</td>\n",
       "      <td>0</td>\n",
       "      <td>0</td>\n",
       "      <td>0</td>\n",
       "      <td>0</td>\n",
       "    </tr>\n",
       "    <tr>\n",
       "      <th>410</th>\n",
       "      <td>1</td>\n",
       "      <td>44</td>\n",
       "      <td>2022</td>\n",
       "      <td>244</td>\n",
       "      <td>70</td>\n",
       "      <td>35</td>\n",
       "      <td>55970</td>\n",
       "      <td>0</td>\n",
       "      <td>0</td>\n",
       "      <td>0</td>\n",
       "      <td>...</td>\n",
       "      <td>1</td>\n",
       "      <td>0</td>\n",
       "      <td>1</td>\n",
       "      <td>0</td>\n",
       "      <td>0</td>\n",
       "      <td>0</td>\n",
       "      <td>0</td>\n",
       "      <td>0</td>\n",
       "      <td>0</td>\n",
       "      <td>0</td>\n",
       "    </tr>\n",
       "    <tr>\n",
       "      <th>411</th>\n",
       "      <td>0</td>\n",
       "      <td>37</td>\n",
       "      <td>2022</td>\n",
       "      <td>175</td>\n",
       "      <td>70</td>\n",
       "      <td>25</td>\n",
       "      <td>55970</td>\n",
       "      <td>0</td>\n",
       "      <td>0</td>\n",
       "      <td>0</td>\n",
       "      <td>...</td>\n",
       "      <td>1</td>\n",
       "      <td>0</td>\n",
       "      <td>1</td>\n",
       "      <td>0</td>\n",
       "      <td>0</td>\n",
       "      <td>0</td>\n",
       "      <td>1</td>\n",
       "      <td>0</td>\n",
       "      <td>0</td>\n",
       "      <td>0</td>\n",
       "    </tr>\n",
       "    <tr>\n",
       "      <th>412</th>\n",
       "      <td>0</td>\n",
       "      <td>73</td>\n",
       "      <td>2022</td>\n",
       "      <td>168</td>\n",
       "      <td>64</td>\n",
       "      <td>28</td>\n",
       "      <td>57335</td>\n",
       "      <td>0</td>\n",
       "      <td>0</td>\n",
       "      <td>0</td>\n",
       "      <td>...</td>\n",
       "      <td>1</td>\n",
       "      <td>0</td>\n",
       "      <td>0</td>\n",
       "      <td>1</td>\n",
       "      <td>0</td>\n",
       "      <td>0</td>\n",
       "      <td>0</td>\n",
       "      <td>0</td>\n",
       "      <td>0</td>\n",
       "      <td>0</td>\n",
       "    </tr>\n",
       "  </tbody>\n",
       "</table>\n",
       "<p>411 rows × 30 columns</p>\n",
       "</div>"
      ],
      "text/plain": [
       "     composite_outcome  AGE  OPERYR  WEIGHT  HEIGHT  BMI    CPT  CONCURR  \\\n",
       "0                    0   28    2019     250      70   35  57335        0   \n",
       "1                    0   33    2019     183      65   30  57335        0   \n",
       "2                    0   55    2019     183      74   23  57335        0   \n",
       "3                    1   47    2019     192      71   26  57335        0   \n",
       "4                    0   49    2019     144      69   21  57335        0   \n",
       "..                 ...  ...     ...     ...     ...  ...    ...      ...   \n",
       "408                  0   30    2022     135      71   18  57335        0   \n",
       "409                  0   27    2022     155      70   22  57335        0   \n",
       "410                  1   44    2022     244      70   35  55970        0   \n",
       "411                  0   37    2022     175      70   25  55970        0   \n",
       "412                  0   73    2022     168      64   28  57335        0   \n",
       "\n",
       "     HXCOPD  VENTILAT  ...  SURGSPEC_Plastics  SURGSPEC_Urology  \\\n",
       "0         0         0  ...                  1                 0   \n",
       "1         0         0  ...                  1                 0   \n",
       "2         0         0  ...                  1                 0   \n",
       "3         0         0  ...                  1                 0   \n",
       "4         0         0  ...                  1                 0   \n",
       "..      ...       ...  ...                ...               ...   \n",
       "408       0         0  ...                  1                 0   \n",
       "409       0         0  ...                  1                 0   \n",
       "410       0         0  ...                  1                 0   \n",
       "411       0         0  ...                  1                 0   \n",
       "412       0         0  ...                  1                 0   \n",
       "\n",
       "     ASACLAS_2-Mild Disturb  ASACLAS_3-Severe Disturb  SMOKE_Yes  \\\n",
       "0                         1                         0          0   \n",
       "1                         0                         1          0   \n",
       "2                         1                         0          0   \n",
       "3                         1                         0          0   \n",
       "4                         0                         1          0   \n",
       "..                      ...                       ...        ...   \n",
       "408                       1                         0          0   \n",
       "409                       1                         0          0   \n",
       "410                       1                         0          0   \n",
       "411                       1                         0          0   \n",
       "412                       0                         1          0   \n",
       "\n",
       "     PODIAG10_F64.1  PODIAG10_F64.9  PODIAG10_Z87.890  DIABETES_INSULIN  \\\n",
       "0                 0               0                 0                 0   \n",
       "1                 1               0                 0                 0   \n",
       "2                 0               0                 0                 0   \n",
       "3                 0               0                 0                 0   \n",
       "4                 0               0                 0                 0   \n",
       "..              ...             ...               ...               ...   \n",
       "408               0               0                 0                 0   \n",
       "409               0               0                 0                 0   \n",
       "410               0               0                 0                 0   \n",
       "411               0               1                 0                 0   \n",
       "412               0               0                 0                 0   \n",
       "\n",
       "     DIABETES_NON-INSULIN  \n",
       "0                       0  \n",
       "1                       0  \n",
       "2                       0  \n",
       "3                       0  \n",
       "4                       0  \n",
       "..                    ...  \n",
       "408                     0  \n",
       "409                     0  \n",
       "410                     0  \n",
       "411                     0  \n",
       "412                     0  \n",
       "\n",
       "[411 rows x 30 columns]"
      ]
     },
     "execution_count": 219,
     "metadata": {},
     "output_type": "execute_result"
    }
   ],
   "source": [
    "nsqip"
   ]
  },
  {
   "cell_type": "code",
   "execution_count": 220,
   "id": "215455db-0301-47be-b6ed-1933e2dec7e8",
   "metadata": {},
   "outputs": [],
   "source": [
    "nsqip.to_csv('nsqip_logistic.csv')"
   ]
  },
  {
   "cell_type": "code",
   "execution_count": null,
   "id": "14ce4993-012c-4550-a497-d82c866d79af",
   "metadata": {},
   "outputs": [],
   "source": []
  }
 ],
 "metadata": {
  "kernelspec": {
   "display_name": "Python 3 (ipykernel)",
   "language": "python",
   "name": "python3"
  },
  "language_info": {
   "codemirror_mode": {
    "name": "ipython",
    "version": 3
   },
   "file_extension": ".py",
   "mimetype": "text/x-python",
   "name": "python",
   "nbconvert_exporter": "python",
   "pygments_lexer": "ipython3",
   "version": "3.11.9"
  }
 },
 "nbformat": 4,
 "nbformat_minor": 5
}
